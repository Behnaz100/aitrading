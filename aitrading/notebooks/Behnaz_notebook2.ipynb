{
 "cells": [
  {
   "cell_type": "code",
   "execution_count": 1,
   "metadata": {},
   "outputs": [
    {
     "name": "stderr",
     "output_type": "stream",
     "text": [
      "2024-03-16 15:06:11.201280: I tensorflow/core/platform/cpu_feature_guard.cc:193] This TensorFlow binary is optimized with oneAPI Deep Neural Network Library (oneDNN) to use the following CPU instructions in performance-critical operations:  AVX2 FMA\n",
      "To enable them in other operations, rebuild TensorFlow with the appropriate compiler flags.\n",
      "2024-03-16 15:06:11.390049: W tensorflow/stream_executor/platform/default/dso_loader.cc:64] Could not load dynamic library 'libcudart.so.11.0'; dlerror: libcudart.so.11.0: cannot open shared object file: No such file or directory\n",
      "2024-03-16 15:06:11.390066: I tensorflow/stream_executor/cuda/cudart_stub.cc:29] Ignore above cudart dlerror if you do not have a GPU set up on your machine.\n",
      "2024-03-16 15:06:11.424665: E tensorflow/stream_executor/cuda/cuda_blas.cc:2981] Unable to register cuBLAS factory: Attempting to register factory for plugin cuBLAS when one has already been registered\n",
      "2024-03-16 15:06:12.361455: W tensorflow/stream_executor/platform/default/dso_loader.cc:64] Could not load dynamic library 'libnvinfer.so.7'; dlerror: libnvinfer.so.7: cannot open shared object file: No such file or directory\n",
      "2024-03-16 15:06:12.361581: W tensorflow/stream_executor/platform/default/dso_loader.cc:64] Could not load dynamic library 'libnvinfer_plugin.so.7'; dlerror: libnvinfer_plugin.so.7: cannot open shared object file: No such file or directory\n",
      "2024-03-16 15:06:12.361591: W tensorflow/compiler/tf2tensorrt/utils/py_utils.cc:38] TF-TRT Warning: Cannot dlopen some TensorRT libraries. If you would like to use Nvidia GPU with TensorRT, please make sure the missing libraries mentioned above are installed properly.\n"
     ]
    }
   ],
   "source": [
    "import tensorflow as tf\n",
    "from tensorflow import keras"
   ]
  },
  {
   "cell_type": "code",
   "execution_count": 2,
   "metadata": {},
   "outputs": [],
   "source": [
    "from tensorflow.keras.layers import Input, LSTM, GRU, SimpleRNN, Dense, GlobalMaxPool1D\n",
    "from tensorflow.keras.models import Model\n",
    "from tensorflow.keras.optimizers import SGD, Adam\n",
    "import numpy as np\n",
    "import pandas as pd\n",
    "import matplotlib.pyplot as plt\n",
    "from sklearn.preprocessing import StandardScaler\n",
    "from tensorflow.keras.utils import to_categorical\n",
    "from tensorflow.keras.callbacks import EarlyStopping"
   ]
  },
  {
   "cell_type": "code",
   "execution_count": 3,
   "metadata": {},
   "outputs": [
    {
     "data": {
      "text/html": [
       "<div>\n",
       "<style scoped>\n",
       "    .dataframe tbody tr th:only-of-type {\n",
       "        vertical-align: middle;\n",
       "    }\n",
       "\n",
       "    .dataframe tbody tr th {\n",
       "        vertical-align: top;\n",
       "    }\n",
       "\n",
       "    .dataframe thead th {\n",
       "        text-align: right;\n",
       "    }\n",
       "</style>\n",
       "<table border=\"1\" class=\"dataframe\">\n",
       "  <thead>\n",
       "    <tr style=\"text-align: right;\">\n",
       "      <th></th>\n",
       "      <th>date</th>\n",
       "      <th>time</th>\n",
       "      <th>open</th>\n",
       "      <th>high</th>\n",
       "      <th>low</th>\n",
       "      <th>close</th>\n",
       "      <th>volume</th>\n",
       "    </tr>\n",
       "  </thead>\n",
       "  <tbody>\n",
       "    <tr>\n",
       "      <th>0</th>\n",
       "      <td>21/10/2002</td>\n",
       "      <td>01:05:00</td>\n",
       "      <td>0.97320</td>\n",
       "      <td>0.97325</td>\n",
       "      <td>0.97280</td>\n",
       "      <td>0.97285</td>\n",
       "      <td>0</td>\n",
       "    </tr>\n",
       "    <tr>\n",
       "      <th>1</th>\n",
       "      <td>21/10/2002</td>\n",
       "      <td>01:10:00</td>\n",
       "      <td>0.97300</td>\n",
       "      <td>0.97320</td>\n",
       "      <td>0.97300</td>\n",
       "      <td>0.97320</td>\n",
       "      <td>0</td>\n",
       "    </tr>\n",
       "    <tr>\n",
       "      <th>2</th>\n",
       "      <td>21/10/2002</td>\n",
       "      <td>01:15:00</td>\n",
       "      <td>0.97320</td>\n",
       "      <td>0.97320</td>\n",
       "      <td>0.97295</td>\n",
       "      <td>0.97310</td>\n",
       "      <td>0</td>\n",
       "    </tr>\n",
       "    <tr>\n",
       "      <th>3</th>\n",
       "      <td>21/10/2002</td>\n",
       "      <td>01:20:00</td>\n",
       "      <td>0.97315</td>\n",
       "      <td>0.97340</td>\n",
       "      <td>0.97270</td>\n",
       "      <td>0.97270</td>\n",
       "      <td>0</td>\n",
       "    </tr>\n",
       "    <tr>\n",
       "      <th>4</th>\n",
       "      <td>21/10/2002</td>\n",
       "      <td>01:25:00</td>\n",
       "      <td>0.97280</td>\n",
       "      <td>0.97295</td>\n",
       "      <td>0.97260</td>\n",
       "      <td>0.97260</td>\n",
       "      <td>0</td>\n",
       "    </tr>\n",
       "  </tbody>\n",
       "</table>\n",
       "</div>"
      ],
      "text/plain": [
       "         date      time     open     high      low    close  volume\n",
       "0  21/10/2002  01:05:00  0.97320  0.97325  0.97280  0.97285       0\n",
       "1  21/10/2002  01:10:00  0.97300  0.97320  0.97300  0.97320       0\n",
       "2  21/10/2002  01:15:00  0.97320  0.97320  0.97295  0.97310       0\n",
       "3  21/10/2002  01:20:00  0.97315  0.97340  0.97270  0.97270       0\n",
       "4  21/10/2002  01:25:00  0.97280  0.97295  0.97260  0.97260       0"
      ]
     },
     "execution_count": 3,
     "metadata": {},
     "output_type": "execute_result"
    }
   ],
   "source": [
    "import pandas as pd\n",
    "import os\n",
    "\n",
    "df=pd.read_csv(os.path.join(os.getcwd(), \"..\", \"data\",'eurousd.csv'))\n",
    "df.head()"
   ]
  },
  {
   "cell_type": "code",
   "execution_count": 4,
   "metadata": {},
   "outputs": [
    {
     "name": "stderr",
     "output_type": "stream",
     "text": [
      "/tmp/ipykernel_251225/2811347094.py:1: UserWarning: Parsing dates in DD/MM/YYYY format when dayfirst=False (the default) was specified. This may lead to inconsistently parsed dates! Specify a format to ensure consistent parsing.\n",
      "  df['date']=pd.to_datetime(df['date'])\n"
     ]
    },
    {
     "data": {
      "text/html": [
       "<div>\n",
       "<style scoped>\n",
       "    .dataframe tbody tr th:only-of-type {\n",
       "        vertical-align: middle;\n",
       "    }\n",
       "\n",
       "    .dataframe tbody tr th {\n",
       "        vertical-align: top;\n",
       "    }\n",
       "\n",
       "    .dataframe thead th {\n",
       "        text-align: right;\n",
       "    }\n",
       "</style>\n",
       "<table border=\"1\" class=\"dataframe\">\n",
       "  <thead>\n",
       "    <tr style=\"text-align: right;\">\n",
       "      <th></th>\n",
       "      <th>date</th>\n",
       "      <th>time</th>\n",
       "      <th>open</th>\n",
       "      <th>high</th>\n",
       "      <th>low</th>\n",
       "      <th>close</th>\n",
       "      <th>volume</th>\n",
       "    </tr>\n",
       "  </thead>\n",
       "  <tbody>\n",
       "    <tr>\n",
       "      <th>1530509</th>\n",
       "      <td>2023-01-01</td>\n",
       "      <td>18:00:00</td>\n",
       "      <td>1.07037</td>\n",
       "      <td>1.07042</td>\n",
       "      <td>1.07037</td>\n",
       "      <td>1.07042</td>\n",
       "      <td>5</td>\n",
       "    </tr>\n",
       "    <tr>\n",
       "      <th>1530510</th>\n",
       "      <td>2023-01-01</td>\n",
       "      <td>18:05:00</td>\n",
       "      <td>1.07043</td>\n",
       "      <td>1.07046</td>\n",
       "      <td>1.07043</td>\n",
       "      <td>1.07046</td>\n",
       "      <td>4</td>\n",
       "    </tr>\n",
       "    <tr>\n",
       "      <th>1530511</th>\n",
       "      <td>2023-01-01</td>\n",
       "      <td>18:10:00</td>\n",
       "      <td>1.07047</td>\n",
       "      <td>1.07053</td>\n",
       "      <td>1.07047</td>\n",
       "      <td>1.07052</td>\n",
       "      <td>6</td>\n",
       "    </tr>\n",
       "    <tr>\n",
       "      <th>1530512</th>\n",
       "      <td>2023-01-01</td>\n",
       "      <td>18:15:00</td>\n",
       "      <td>1.07048</td>\n",
       "      <td>1.07048</td>\n",
       "      <td>1.07028</td>\n",
       "      <td>1.07028</td>\n",
       "      <td>7</td>\n",
       "    </tr>\n",
       "    <tr>\n",
       "      <th>1530513</th>\n",
       "      <td>2023-01-01</td>\n",
       "      <td>18:20:00</td>\n",
       "      <td>1.07025</td>\n",
       "      <td>1.07025</td>\n",
       "      <td>1.07007</td>\n",
       "      <td>1.07007</td>\n",
       "      <td>10</td>\n",
       "    </tr>\n",
       "  </tbody>\n",
       "</table>\n",
       "</div>"
      ],
      "text/plain": [
       "              date      time     open     high      low    close  volume\n",
       "1530509 2023-01-01  18:00:00  1.07037  1.07042  1.07037  1.07042       5\n",
       "1530510 2023-01-01  18:05:00  1.07043  1.07046  1.07043  1.07046       4\n",
       "1530511 2023-01-01  18:10:00  1.07047  1.07053  1.07047  1.07052       6\n",
       "1530512 2023-01-01  18:15:00  1.07048  1.07048  1.07028  1.07028       7\n",
       "1530513 2023-01-01  18:20:00  1.07025  1.07025  1.07007  1.07007      10"
      ]
     },
     "execution_count": 4,
     "metadata": {},
     "output_type": "execute_result"
    }
   ],
   "source": [
    "df['date']=pd.to_datetime(df['date'])\n",
    "df=df[df['date'].dt.year>2022]\n",
    "df.head()"
   ]
  },
  {
   "cell_type": "code",
   "execution_count": 5,
   "metadata": {},
   "outputs": [
    {
     "data": {
      "text/html": [
       "<div>\n",
       "<style scoped>\n",
       "    .dataframe tbody tr th:only-of-type {\n",
       "        vertical-align: middle;\n",
       "    }\n",
       "\n",
       "    .dataframe tbody tr th {\n",
       "        vertical-align: top;\n",
       "    }\n",
       "\n",
       "    .dataframe thead th {\n",
       "        text-align: right;\n",
       "    }\n",
       "</style>\n",
       "<table border=\"1\" class=\"dataframe\">\n",
       "  <thead>\n",
       "    <tr style=\"text-align: right;\">\n",
       "      <th></th>\n",
       "      <th>date</th>\n",
       "      <th>time</th>\n",
       "      <th>open</th>\n",
       "      <th>high</th>\n",
       "      <th>low</th>\n",
       "      <th>close</th>\n",
       "      <th>volume</th>\n",
       "      <th>PrevClose</th>\n",
       "    </tr>\n",
       "  </thead>\n",
       "  <tbody>\n",
       "    <tr>\n",
       "      <th>1530509</th>\n",
       "      <td>2023-01-01</td>\n",
       "      <td>18:00:00</td>\n",
       "      <td>1.07037</td>\n",
       "      <td>1.07042</td>\n",
       "      <td>1.07037</td>\n",
       "      <td>1.07042</td>\n",
       "      <td>5</td>\n",
       "      <td>NaN</td>\n",
       "    </tr>\n",
       "    <tr>\n",
       "      <th>1530510</th>\n",
       "      <td>2023-01-01</td>\n",
       "      <td>18:05:00</td>\n",
       "      <td>1.07043</td>\n",
       "      <td>1.07046</td>\n",
       "      <td>1.07043</td>\n",
       "      <td>1.07046</td>\n",
       "      <td>4</td>\n",
       "      <td>1.07042</td>\n",
       "    </tr>\n",
       "    <tr>\n",
       "      <th>1530511</th>\n",
       "      <td>2023-01-01</td>\n",
       "      <td>18:10:00</td>\n",
       "      <td>1.07047</td>\n",
       "      <td>1.07053</td>\n",
       "      <td>1.07047</td>\n",
       "      <td>1.07052</td>\n",
       "      <td>6</td>\n",
       "      <td>1.07046</td>\n",
       "    </tr>\n",
       "    <tr>\n",
       "      <th>1530512</th>\n",
       "      <td>2023-01-01</td>\n",
       "      <td>18:15:00</td>\n",
       "      <td>1.07048</td>\n",
       "      <td>1.07048</td>\n",
       "      <td>1.07028</td>\n",
       "      <td>1.07028</td>\n",
       "      <td>7</td>\n",
       "      <td>1.07052</td>\n",
       "    </tr>\n",
       "    <tr>\n",
       "      <th>1530513</th>\n",
       "      <td>2023-01-01</td>\n",
       "      <td>18:20:00</td>\n",
       "      <td>1.07025</td>\n",
       "      <td>1.07025</td>\n",
       "      <td>1.07007</td>\n",
       "      <td>1.07007</td>\n",
       "      <td>10</td>\n",
       "      <td>1.07028</td>\n",
       "    </tr>\n",
       "  </tbody>\n",
       "</table>\n",
       "</div>"
      ],
      "text/plain": [
       "              date      time     open     high      low    close  volume  \\\n",
       "1530509 2023-01-01  18:00:00  1.07037  1.07042  1.07037  1.07042       5   \n",
       "1530510 2023-01-01  18:05:00  1.07043  1.07046  1.07043  1.07046       4   \n",
       "1530511 2023-01-01  18:10:00  1.07047  1.07053  1.07047  1.07052       6   \n",
       "1530512 2023-01-01  18:15:00  1.07048  1.07048  1.07028  1.07028       7   \n",
       "1530513 2023-01-01  18:20:00  1.07025  1.07025  1.07007  1.07007      10   \n",
       "\n",
       "         PrevClose  \n",
       "1530509        NaN  \n",
       "1530510    1.07042  \n",
       "1530511    1.07046  \n",
       "1530512    1.07052  \n",
       "1530513    1.07028  "
      ]
     },
     "execution_count": 5,
     "metadata": {},
     "output_type": "execute_result"
    }
   ],
   "source": [
    "df['PrevClose'] = df['close'].shift(1)\n",
    "df.head()"
   ]
  },
  {
   "cell_type": "code",
   "execution_count": 6,
   "metadata": {},
   "outputs": [
    {
     "data": {
      "text/html": [
       "<div>\n",
       "<style scoped>\n",
       "    .dataframe tbody tr th:only-of-type {\n",
       "        vertical-align: middle;\n",
       "    }\n",
       "\n",
       "    .dataframe tbody tr th {\n",
       "        vertical-align: top;\n",
       "    }\n",
       "\n",
       "    .dataframe thead th {\n",
       "        text-align: right;\n",
       "    }\n",
       "</style>\n",
       "<table border=\"1\" class=\"dataframe\">\n",
       "  <thead>\n",
       "    <tr style=\"text-align: right;\">\n",
       "      <th></th>\n",
       "      <th>date</th>\n",
       "      <th>time</th>\n",
       "      <th>open</th>\n",
       "      <th>high</th>\n",
       "      <th>low</th>\n",
       "      <th>close</th>\n",
       "      <th>volume</th>\n",
       "      <th>PrevClose</th>\n",
       "      <th>Return</th>\n",
       "      <th>mom</th>\n",
       "    </tr>\n",
       "  </thead>\n",
       "  <tbody>\n",
       "    <tr>\n",
       "      <th>1530509</th>\n",
       "      <td>2023-01-01</td>\n",
       "      <td>18:00:00</td>\n",
       "      <td>1.07037</td>\n",
       "      <td>1.07042</td>\n",
       "      <td>1.07037</td>\n",
       "      <td>1.07042</td>\n",
       "      <td>5</td>\n",
       "      <td>NaN</td>\n",
       "      <td>NaN</td>\n",
       "      <td>NaN</td>\n",
       "    </tr>\n",
       "    <tr>\n",
       "      <th>1530510</th>\n",
       "      <td>2023-01-01</td>\n",
       "      <td>18:05:00</td>\n",
       "      <td>1.07043</td>\n",
       "      <td>1.07046</td>\n",
       "      <td>1.07043</td>\n",
       "      <td>1.07046</td>\n",
       "      <td>4</td>\n",
       "      <td>1.07042</td>\n",
       "      <td>0.000037</td>\n",
       "      <td>NaN</td>\n",
       "    </tr>\n",
       "    <tr>\n",
       "      <th>1530511</th>\n",
       "      <td>2023-01-01</td>\n",
       "      <td>18:10:00</td>\n",
       "      <td>1.07047</td>\n",
       "      <td>1.07053</td>\n",
       "      <td>1.07047</td>\n",
       "      <td>1.07052</td>\n",
       "      <td>6</td>\n",
       "      <td>1.07046</td>\n",
       "      <td>0.000056</td>\n",
       "      <td>1.070467</td>\n",
       "    </tr>\n",
       "    <tr>\n",
       "      <th>1530512</th>\n",
       "      <td>2023-01-01</td>\n",
       "      <td>18:15:00</td>\n",
       "      <td>1.07048</td>\n",
       "      <td>1.07048</td>\n",
       "      <td>1.07028</td>\n",
       "      <td>1.07028</td>\n",
       "      <td>7</td>\n",
       "      <td>1.07052</td>\n",
       "      <td>-0.000224</td>\n",
       "      <td>1.070420</td>\n",
       "    </tr>\n",
       "    <tr>\n",
       "      <th>1530513</th>\n",
       "      <td>2023-01-01</td>\n",
       "      <td>18:20:00</td>\n",
       "      <td>1.07025</td>\n",
       "      <td>1.07025</td>\n",
       "      <td>1.07007</td>\n",
       "      <td>1.07007</td>\n",
       "      <td>10</td>\n",
       "      <td>1.07028</td>\n",
       "      <td>-0.000196</td>\n",
       "      <td>1.070290</td>\n",
       "    </tr>\n",
       "  </tbody>\n",
       "</table>\n",
       "</div>"
      ],
      "text/plain": [
       "              date      time     open     high      low    close  volume  \\\n",
       "1530509 2023-01-01  18:00:00  1.07037  1.07042  1.07037  1.07042       5   \n",
       "1530510 2023-01-01  18:05:00  1.07043  1.07046  1.07043  1.07046       4   \n",
       "1530511 2023-01-01  18:10:00  1.07047  1.07053  1.07047  1.07052       6   \n",
       "1530512 2023-01-01  18:15:00  1.07048  1.07048  1.07028  1.07028       7   \n",
       "1530513 2023-01-01  18:20:00  1.07025  1.07025  1.07007  1.07007      10   \n",
       "\n",
       "         PrevClose    Return       mom  \n",
       "1530509        NaN       NaN       NaN  \n",
       "1530510    1.07042  0.000037       NaN  \n",
       "1530511    1.07046  0.000056  1.070467  \n",
       "1530512    1.07052 -0.000224  1.070420  \n",
       "1530513    1.07028 -0.000196  1.070290  "
      ]
     },
     "execution_count": 6,
     "metadata": {},
     "output_type": "execute_result"
    }
   ],
   "source": [
    "df['Return'] = (df['close'] - df['PrevClose']) / df['PrevClose']\n",
    "df['mom']=df['close'].rolling(3).mean()\n",
    "df.head()"
   ]
  },
  {
   "cell_type": "code",
   "execution_count": 7,
   "metadata": {},
   "outputs": [],
   "source": [
    "input_data = df[['close', 'mom']][2:]\n",
    "targets = df['Return'].values"
   ]
  },
  {
   "cell_type": "code",
   "execution_count": 8,
   "metadata": {},
   "outputs": [
    {
     "name": "stdout",
     "output_type": "stream",
     "text": [
      "2\n"
     ]
    }
   ],
   "source": [
    "T = 10\n",
    "D = input_data.shape[1]\n",
    "N = len(input_data) - T\n",
    "print(D)"
   ]
  },
  {
   "cell_type": "code",
   "execution_count": 9,
   "metadata": {},
   "outputs": [],
   "source": [
    "Ntrain=int(len(input_data)*0.8)\n",
    "scaler = StandardScaler()\n",
    "scaler.fit(input_data[:Ntrain + T - 1])\n",
    "input_data = scaler.transform(input_data)"
   ]
  },
  {
   "cell_type": "code",
   "execution_count": 10,
   "metadata": {},
   "outputs": [],
   "source": [
    "X_train = np.zeros((Ntrain, T, D))\n",
    "Y_train = np.zeros(Ntrain)\n",
    "\n",
    "for t in range(Ntrain):\n",
    "  X_train[t, :, :] = input_data[t:t+T]\n",
    "  Y_train[t] = (targets[t+T]>0)"
   ]
  },
  {
   "cell_type": "code",
   "execution_count": 11,
   "metadata": {},
   "outputs": [],
   "source": [
    "X_test = np.zeros((N - Ntrain, T, D))\n",
    "Y_test = np.zeros(N - Ntrain)\n",
    "\n",
    "for u in range(N - Ntrain):\n",
    "  t = u + Ntrain\n",
    "  X_test[u, :, :] = input_data[t:t+T]\n",
    "  Y_test[u] = (targets[t+T]>0 )"
   ]
  },
  {
   "cell_type": "code",
   "execution_count": 12,
   "metadata": {},
   "outputs": [
    {
     "name": "stderr",
     "output_type": "stream",
     "text": [
      "2024-03-16 15:06:16.890034: I tensorflow/stream_executor/cuda/cuda_gpu_executor.cc:966] could not open file to read NUMA node: /sys/bus/pci/devices/0000:01:00.0/numa_node\n",
      "Your kernel may have been built without NUMA support.\n",
      "2024-03-16 15:06:16.890163: W tensorflow/stream_executor/platform/default/dso_loader.cc:64] Could not load dynamic library 'libcudart.so.11.0'; dlerror: libcudart.so.11.0: cannot open shared object file: No such file or directory\n",
      "2024-03-16 15:06:16.890223: W tensorflow/stream_executor/platform/default/dso_loader.cc:64] Could not load dynamic library 'libcublas.so.11'; dlerror: libcublas.so.11: cannot open shared object file: No such file or directory\n",
      "2024-03-16 15:06:16.890281: W tensorflow/stream_executor/platform/default/dso_loader.cc:64] Could not load dynamic library 'libcublasLt.so.11'; dlerror: libcublasLt.so.11: cannot open shared object file: No such file or directory\n",
      "2024-03-16 15:06:16.890337: W tensorflow/stream_executor/platform/default/dso_loader.cc:64] Could not load dynamic library 'libcufft.so.10'; dlerror: libcufft.so.10: cannot open shared object file: No such file or directory\n",
      "2024-03-16 15:06:16.890393: W tensorflow/stream_executor/platform/default/dso_loader.cc:64] Could not load dynamic library 'libcurand.so.10'; dlerror: libcurand.so.10: cannot open shared object file: No such file or directory\n",
      "2024-03-16 15:06:16.890449: W tensorflow/stream_executor/platform/default/dso_loader.cc:64] Could not load dynamic library 'libcusolver.so.11'; dlerror: libcusolver.so.11: cannot open shared object file: No such file or directory\n",
      "2024-03-16 15:06:16.890506: W tensorflow/stream_executor/platform/default/dso_loader.cc:64] Could not load dynamic library 'libcusparse.so.11'; dlerror: libcusparse.so.11: cannot open shared object file: No such file or directory\n",
      "2024-03-16 15:06:16.890561: W tensorflow/stream_executor/platform/default/dso_loader.cc:64] Could not load dynamic library 'libcudnn.so.8'; dlerror: libcudnn.so.8: cannot open shared object file: No such file or directory\n",
      "2024-03-16 15:06:16.890571: W tensorflow/core/common_runtime/gpu/gpu_device.cc:1934] Cannot dlopen some GPU libraries. Please make sure the missing libraries mentioned above are installed properly if you would like to use GPU. Follow the guide at https://www.tensorflow.org/install/gpu for how to download and setup the required libraries for your platform.\n",
      "Skipping registering GPU devices...\n",
      "2024-03-16 15:06:16.891189: I tensorflow/core/platform/cpu_feature_guard.cc:193] This TensorFlow binary is optimized with oneAPI Deep Neural Network Library (oneDNN) to use the following CPU instructions in performance-critical operations:  AVX2 FMA\n",
      "To enable them in other operations, rebuild TensorFlow with the appropriate compiler flags.\n"
     ]
    }
   ],
   "source": [
    "i = Input(shape=(T, D))\n",
    "x = LSTM(50, dropout=0.2)(i)\n",
    "x=keras.layers.Dropout(0.3)(x)\n",
    "#x= Dense(10, activation='relu')(x)\n",
    "#x=keras.layers.Dropout(0.3)(x)\n",
    "x = Dense(1, activation='sigmoid')(x)\n",
    "\n",
    "model = Model(i, x)\n",
    "model.compile(\n",
    "  loss='binary_crossentropy',\n",
    "  optimizer=Adam(learning_rate=0.001),\n",
    "  metrics=['accuracy'],\n",
    ")"
   ]
  },
  {
   "cell_type": "code",
   "execution_count": 13,
   "metadata": {},
   "outputs": [
    {
     "name": "stdout",
     "output_type": "stream",
     "text": [
      "Epoch 1/40\n",
      "1805/1805 [==============================] - 25s 13ms/step - loss: 0.6943 - accuracy: 0.5072 - val_loss: 0.6927 - val_accuracy: 0.5080\n",
      "Epoch 2/40\n",
      "1805/1805 [==============================] - 22s 12ms/step - loss: 0.6932 - accuracy: 0.5102 - val_loss: 0.6932 - val_accuracy: 0.5062\n",
      "Epoch 3/40\n",
      "1805/1805 [==============================] - 22s 12ms/step - loss: 0.6931 - accuracy: 0.5108 - val_loss: 0.6927 - val_accuracy: 0.5062\n",
      "Epoch 4/40\n",
      "1805/1805 [==============================] - 22s 12ms/step - loss: 0.6931 - accuracy: 0.5084 - val_loss: 0.6928 - val_accuracy: 0.5172\n",
      "Epoch 5/40\n",
      "1805/1805 [==============================] - 22s 12ms/step - loss: 0.6929 - accuracy: 0.5103 - val_loss: 0.6928 - val_accuracy: 0.5062\n",
      "Epoch 6/40\n",
      "1805/1805 [==============================] - 22s 12ms/step - loss: 0.6929 - accuracy: 0.5112 - val_loss: 0.6927 - val_accuracy: 0.5133\n",
      "Epoch 7/40\n",
      "1805/1805 [==============================] - 22s 12ms/step - loss: 0.6928 - accuracy: 0.5113 - val_loss: 0.6926 - val_accuracy: 0.5088\n",
      "Epoch 8/40\n",
      "1805/1805 [==============================] - 22s 12ms/step - loss: 0.6927 - accuracy: 0.5133 - val_loss: 0.6925 - val_accuracy: 0.5119\n",
      "Epoch 9/40\n",
      "1805/1805 [==============================] - 22s 12ms/step - loss: 0.6927 - accuracy: 0.5132 - val_loss: 0.6924 - val_accuracy: 0.5616\n",
      "Epoch 10/40\n",
      "1805/1805 [==============================] - 23s 12ms/step - loss: 0.6927 - accuracy: 0.5127 - val_loss: 0.6928 - val_accuracy: 0.5081\n",
      "Epoch 11/40\n",
      "1805/1805 [==============================] - 22s 12ms/step - loss: 0.6926 - accuracy: 0.5125 - val_loss: 0.6926 - val_accuracy: 0.5127\n",
      "Epoch 12/40\n",
      "1805/1805 [==============================] - 22s 12ms/step - loss: 0.6928 - accuracy: 0.5114 - val_loss: 0.6924 - val_accuracy: 0.5110\n",
      "Epoch 13/40\n",
      "1805/1805 [==============================] - 23s 12ms/step - loss: 0.6924 - accuracy: 0.5165 - val_loss: 0.6923 - val_accuracy: 0.5272\n",
      "Epoch 14/40\n",
      "1805/1805 [==============================] - 22s 12ms/step - loss: 0.6924 - accuracy: 0.5133 - val_loss: 0.6918 - val_accuracy: 0.5378\n",
      "Epoch 15/40\n",
      "1805/1805 [==============================] - 22s 12ms/step - loss: 0.6922 - accuracy: 0.5177 - val_loss: 0.6918 - val_accuracy: 0.5068\n",
      "Epoch 16/40\n",
      "1805/1805 [==============================] - 22s 12ms/step - loss: 0.6920 - accuracy: 0.5189 - val_loss: 0.6911 - val_accuracy: 0.5223\n",
      "Epoch 17/40\n",
      "1805/1805 [==============================] - 22s 12ms/step - loss: 0.6918 - accuracy: 0.5209 - val_loss: 0.6906 - val_accuracy: 0.5155\n",
      "Epoch 18/40\n",
      "1805/1805 [==============================] - 22s 12ms/step - loss: 0.6907 - accuracy: 0.5245 - val_loss: 0.6894 - val_accuracy: 0.5151\n",
      "Epoch 19/40\n",
      "1805/1805 [==============================] - 22s 12ms/step - loss: 0.6902 - accuracy: 0.5265 - val_loss: 0.6878 - val_accuracy: 0.5467\n",
      "Epoch 20/40\n",
      "1805/1805 [==============================] - 22s 12ms/step - loss: 0.6898 - accuracy: 0.5324 - val_loss: 0.6878 - val_accuracy: 0.5753\n",
      "Epoch 21/40\n",
      "1805/1805 [==============================] - 23s 13ms/step - loss: 0.6885 - accuracy: 0.5375 - val_loss: 0.6844 - val_accuracy: 0.5459\n",
      "Epoch 22/40\n",
      "1805/1805 [==============================] - 23s 13ms/step - loss: 0.6866 - accuracy: 0.5465 - val_loss: 0.6782 - val_accuracy: 0.6176\n",
      "Epoch 23/40\n",
      "1805/1805 [==============================] - 23s 13ms/step - loss: 0.6666 - accuracy: 0.5776 - val_loss: 0.6410 - val_accuracy: 0.6178\n",
      "Epoch 24/40\n",
      "1805/1805 [==============================] - 23s 13ms/step - loss: 0.6372 - accuracy: 0.6014 - val_loss: 0.6044 - val_accuracy: 0.6402\n",
      "Epoch 25/40\n",
      "1805/1805 [==============================] - 23s 13ms/step - loss: 0.6064 - accuracy: 0.6255 - val_loss: 0.5840 - val_accuracy: 0.6314\n",
      "Epoch 26/40\n",
      "1805/1805 [==============================] - 22s 12ms/step - loss: 0.5864 - accuracy: 0.6349 - val_loss: 0.5706 - val_accuracy: 0.6333\n",
      "Epoch 27/40\n",
      "1805/1805 [==============================] - 23s 13ms/step - loss: 0.5747 - accuracy: 0.6403 - val_loss: 0.5480 - val_accuracy: 0.6681\n",
      "Epoch 28/40\n",
      "1805/1805 [==============================] - 23s 13ms/step - loss: 0.5628 - accuracy: 0.6502 - val_loss: 0.5444 - val_accuracy: 0.6392\n",
      "Epoch 29/40\n",
      "1805/1805 [==============================] - 22s 12ms/step - loss: 0.5587 - accuracy: 0.6483 - val_loss: 0.5535 - val_accuracy: 0.6322\n",
      "Epoch 30/40\n",
      "1805/1805 [==============================] - 22s 12ms/step - loss: 0.5518 - accuracy: 0.6562 - val_loss: 0.5274 - val_accuracy: 0.6712\n",
      "Epoch 31/40\n",
      "1805/1805 [==============================] - 23s 13ms/step - loss: 0.5457 - accuracy: 0.6569 - val_loss: 0.5255 - val_accuracy: 0.6728\n",
      "Epoch 32/40\n",
      "1805/1805 [==============================] - 22s 12ms/step - loss: 0.5404 - accuracy: 0.6607 - val_loss: 0.5130 - val_accuracy: 0.6702\n",
      "Epoch 33/40\n",
      "1805/1805 [==============================] - 22s 12ms/step - loss: 0.5357 - accuracy: 0.6634 - val_loss: 0.5239 - val_accuracy: 0.6673\n",
      "Epoch 34/40\n",
      "1805/1805 [==============================] - 23s 13ms/step - loss: 0.5313 - accuracy: 0.6645 - val_loss: 0.5169 - val_accuracy: 0.6548\n",
      "Epoch 35/40\n",
      "1805/1805 [==============================] - 22s 12ms/step - loss: 0.5297 - accuracy: 0.6686 - val_loss: 0.5371 - val_accuracy: 0.6444\n",
      "Epoch 36/40\n",
      "1805/1805 [==============================] - 22s 12ms/step - loss: 0.5268 - accuracy: 0.6695 - val_loss: 0.5151 - val_accuracy: 0.6668\n",
      "Epoch 37/40\n",
      "1805/1805 [==============================] - 22s 12ms/step - loss: 0.5251 - accuracy: 0.6710 - val_loss: 0.5088 - val_accuracy: 0.6827\n",
      "Epoch 38/40\n",
      "1805/1805 [==============================] - 22s 12ms/step - loss: 0.5226 - accuracy: 0.6734 - val_loss: 0.5286 - val_accuracy: 0.6517\n",
      "Epoch 39/40\n",
      "1805/1805 [==============================] - 22s 12ms/step - loss: 0.5189 - accuracy: 0.6738 - val_loss: 0.5296 - val_accuracy: 0.6354\n",
      "Epoch 40/40\n",
      "1805/1805 [==============================] - 22s 12ms/step - loss: 0.5165 - accuracy: 0.6762 - val_loss: 0.5044 - val_accuracy: 0.6722\n"
     ]
    }
   ],
   "source": [
    "#es = EarlyStopping(patience=20, restore_best_weights=True)\n",
    "#callbacks=[es],\n",
    "history = model.fit(X_train, Y_train,\n",
    "          validation_split=0.2,\n",
    "          batch_size=32,\n",
    "          epochs=40,\n",
    "\n",
    "          verbose=1)"
   ]
  },
  {
   "cell_type": "code",
   "execution_count": 14,
   "metadata": {},
   "outputs": [
    {
     "data": {
      "image/png": "[encoded data removed]",
      "text/plain": [
       "<Figure size 640x480 with 1 Axes>"
      ]
     },
     "metadata": {},
     "output_type": "display_data"
    }
   ],
   "source": [
    "plt.plot(history.history['loss'], label='loss')\n",
    "plt.plot(history.history['val_loss'], label='val_loss')\n",
    "plt.legend()\n",
    "plt.show()"
   ]
  },
  {
   "cell_type": "code",
   "execution_count": 15,
   "metadata": {},
   "outputs": [
    {
     "data": {
      "image/png": "[encoded data removed]",
      "text/plain": [
       "<Figure size 640x480 with 1 Axes>"
      ]
     },
     "metadata": {},
     "output_type": "display_data"
    }
   ],
   "source": [
    "plt.plot(history.history['accuracy'], label='accuracy')\n",
    "plt.plot(history.history['val_accuracy'], label='val_accuracy')\n",
    "plt.legend()\n",
    "plt.show()"
   ]
  },
  {
   "cell_type": "code",
   "execution_count": 16,
   "metadata": {},
   "outputs": [
    {
     "name": "stdout",
     "output_type": "stream",
     "text": [
      "564/564 [==============================] - 3s 4ms/step\n"
     ]
    }
   ],
   "source": [
    "pred=model.predict(X_test)\n"
   ]
  },
  {
   "cell_type": "code",
   "execution_count": 17,
   "metadata": {},
   "outputs": [
    {
     "name": "stdout",
     "output_type": "stream",
     "text": [
      "564/564 [==============================] - 2s 4ms/step - loss: 0.2985 - accuracy: 0.8457\n"
     ]
    }
   ],
   "source": [
    "lstm2=model.evaluate(X_test, Y_test)"
   ]
  },
  {
   "cell_type": "markdown",
   "metadata": {},
   "source": []
  },
  {
   "cell_type": "code",
   "execution_count": 18,
   "metadata": {},
   "outputs": [
    {
     "data": {
      "text/plain": [
       "(array([2599.,  493.,  346.,  253.,  217.,  209.,  185.,  182.,  146.,\n",
       "         146.,  137.,  145.,  188.,  131.,  149.,  175.,  149.,  169.,\n",
       "         134.,  148.,  168.,  178.,  476., 2460.,  906.,  179.,  149.,\n",
       "         138.,  147.,  139.,  149.,  152.,  140.,  127.,  158.,  154.,\n",
       "         160.,  190.,  156.,  154.,  170.,  192.,  195.,  230.,  233.,\n",
       "         253.,  243.,  372.,  564., 2805.]),\n",
       " array([5.10605502e-10, 2.00000014e-02, 3.99999991e-02, 5.99999987e-02,\n",
       "        7.99999982e-02, 1.00000001e-01, 1.19999997e-01, 1.40000001e-01,\n",
       "        1.59999996e-01, 1.80000007e-01, 2.00000003e-01, 2.19999999e-01,\n",
       "        2.39999995e-01, 2.59999990e-01, 2.80000001e-01, 3.00000012e-01,\n",
       "        3.19999993e-01, 3.40000004e-01, 3.60000014e-01, 3.79999995e-01,\n",
       "        4.00000006e-01, 4.19999987e-01, 4.39999998e-01, 4.60000008e-01,\n",
       "        4.79999989e-01, 5.00000000e-01, 5.19999981e-01, 5.40000021e-01,\n",
       "        5.60000002e-01, 5.79999983e-01, 6.00000024e-01, 6.20000005e-01,\n",
       "        6.39999986e-01, 6.60000026e-01, 6.80000007e-01, 6.99999988e-01,\n",
       "        7.20000029e-01, 7.40000010e-01, 7.59999990e-01, 7.79999971e-01,\n",
       "        8.00000012e-01, 8.19999993e-01, 8.39999974e-01, 8.60000014e-01,\n",
       "        8.79999995e-01, 8.99999976e-01, 9.20000017e-01, 9.39999998e-01,\n",
       "        9.59999979e-01, 9.80000019e-01, 1.00000000e+00]),\n",
       " <BarContainer object of 50 artists>)"
      ]
     },
     "execution_count": 18,
     "metadata": {},
     "output_type": "execute_result"
    },
    {
     "data": {
      "image/png": "[encoded data removed]",
      "text/plain": [
       "<Figure size 640x480 with 1 Axes>"
      ]
     },
     "metadata": {},
     "output_type": "display_data"
    }
   ],
   "source": [
    "plt.hist(pred , bins=50)"
   ]
  },
  {
   "cell_type": "code",
   "execution_count": null,
   "metadata": {},
   "outputs": [],
   "source": []
  }
 ],
 "metadata": {
  "kernelspec": {
   "display_name": "aitradingenv",
   "language": "python",
   "name": "python3"
  },
  "language_info": {
   "codemirror_mode": {
    "name": "ipython",
    "version": 3
   },
   "file_extension": ".py",
   "mimetype": "text/x-python",
   "name": "python",
   "nbconvert_exporter": "python",
   "pygments_lexer": "ipython3",
   "version": "3.10.5"
  }
 },
 "nbformat": 4,
 "nbformat_minor": 2
}
