{
 "cells": [
  {
   "cell_type": "code",
   "execution_count": 24,
   "metadata": {},
   "outputs": [],
   "source": [
    "import tensorflow as tf"
   ]
  },
  {
   "cell_type": "code",
   "execution_count": 25,
   "metadata": {},
   "outputs": [],
   "source": [
    "from tensorflow.keras.layers import Input, LSTM, GRU, SimpleRNN, Dense, GlobalMaxPool1D\n",
    "from tensorflow.keras.models import Model\n",
    "from tensorflow.keras.optimizers import SGD, Adam\n",
    "import numpy as np\n",
    "import pandas as pd\n",
    "import matplotlib.pyplot as plt\n",
    "from sklearn.preprocessing import StandardScaler\n",
    "from tensorflow.keras.utils import to_categorical\n",
    "from tensorflow.keras.callbacks import EarlyStopping"
   ]
  },
  {
   "cell_type": "code",
   "execution_count": 45,
   "metadata": {},
   "outputs": [
    {
     "data": {
      "text/html": [
       "<div>\n",
       "<style scoped>\n",
       "    .dataframe tbody tr th:only-of-type {\n",
       "        vertical-align: middle;\n",
       "    }\n",
       "\n",
       "    .dataframe tbody tr th {\n",
       "        vertical-align: top;\n",
       "    }\n",
       "\n",
       "    .dataframe thead th {\n",
       "        text-align: right;\n",
       "    }\n",
       "</style>\n",
       "<table border=\"1\" class=\"dataframe\">\n",
       "  <thead>\n",
       "    <tr style=\"text-align: right;\">\n",
       "      <th></th>\n",
       "      <th>date</th>\n",
       "      <th>time</th>\n",
       "      <th>open</th>\n",
       "      <th>high</th>\n",
       "      <th>low</th>\n",
       "      <th>close</th>\n",
       "      <th>volume</th>\n",
       "    </tr>\n",
       "  </thead>\n",
       "  <tbody>\n",
       "    <tr>\n",
       "      <th>0</th>\n",
       "      <td>21/10/2002</td>\n",
       "      <td>01:05:00</td>\n",
       "      <td>0.97320</td>\n",
       "      <td>0.97325</td>\n",
       "      <td>0.97280</td>\n",
       "      <td>0.97285</td>\n",
       "      <td>0</td>\n",
       "    </tr>\n",
       "    <tr>\n",
       "      <th>1</th>\n",
       "      <td>21/10/2002</td>\n",
       "      <td>01:10:00</td>\n",
       "      <td>0.97300</td>\n",
       "      <td>0.97320</td>\n",
       "      <td>0.97300</td>\n",
       "      <td>0.97320</td>\n",
       "      <td>0</td>\n",
       "    </tr>\n",
       "    <tr>\n",
       "      <th>2</th>\n",
       "      <td>21/10/2002</td>\n",
       "      <td>01:15:00</td>\n",
       "      <td>0.97320</td>\n",
       "      <td>0.97320</td>\n",
       "      <td>0.97295</td>\n",
       "      <td>0.97310</td>\n",
       "      <td>0</td>\n",
       "    </tr>\n",
       "    <tr>\n",
       "      <th>3</th>\n",
       "      <td>21/10/2002</td>\n",
       "      <td>01:20:00</td>\n",
       "      <td>0.97315</td>\n",
       "      <td>0.97340</td>\n",
       "      <td>0.97270</td>\n",
       "      <td>0.97270</td>\n",
       "      <td>0</td>\n",
       "    </tr>\n",
       "    <tr>\n",
       "      <th>4</th>\n",
       "      <td>21/10/2002</td>\n",
       "      <td>01:25:00</td>\n",
       "      <td>0.97280</td>\n",
       "      <td>0.97295</td>\n",
       "      <td>0.97260</td>\n",
       "      <td>0.97260</td>\n",
       "      <td>0</td>\n",
       "    </tr>\n",
       "  </tbody>\n",
       "</table>\n",
       "</div>"
      ],
      "text/plain": [
       "         date      time     open     high      low    close  volume\n",
       "0  21/10/2002  01:05:00  0.97320  0.97325  0.97280  0.97285       0\n",
       "1  21/10/2002  01:10:00  0.97300  0.97320  0.97300  0.97320       0\n",
       "2  21/10/2002  01:15:00  0.97320  0.97320  0.97295  0.97310       0\n",
       "3  21/10/2002  01:20:00  0.97315  0.97340  0.97270  0.97270       0\n",
       "4  21/10/2002  01:25:00  0.97280  0.97295  0.97260  0.97260       0"
      ]
     },
     "execution_count": 45,
     "metadata": {},
     "output_type": "execute_result"
    }
   ],
   "source": [
    "import pandas as pd\n",
    "import os\n",
    "\n",
    "df=pd.read_csv(os.path.join(os.getcwd(), 'eurousd.csv'))\n",
    "df.head()"
   ]
  },
  {
   "cell_type": "code",
   "execution_count": 27,
   "metadata": {},
   "outputs": [
    {
     "data": {
      "text/html": [
       "<div>\n",
       "<style scoped>\n",
       "    .dataframe tbody tr th:only-of-type {\n",
       "        vertical-align: middle;\n",
       "    }\n",
       "\n",
       "    .dataframe tbody tr th {\n",
       "        vertical-align: top;\n",
       "    }\n",
       "\n",
       "    .dataframe thead th {\n",
       "        text-align: right;\n",
       "    }\n",
       "</style>\n",
       "<table border=\"1\" class=\"dataframe\">\n",
       "  <thead>\n",
       "    <tr style=\"text-align: right;\">\n",
       "      <th></th>\n",
       "      <th>time</th>\n",
       "      <th>price</th>\n",
       "      <th>PrevClose</th>\n",
       "    </tr>\n",
       "  </thead>\n",
       "  <tbody>\n",
       "    <tr>\n",
       "      <th>0</th>\n",
       "      <td>2019-01-01 22:00:00+00:00</td>\n",
       "      <td>1.14658</td>\n",
       "      <td>NaN</td>\n",
       "    </tr>\n",
       "    <tr>\n",
       "      <th>1</th>\n",
       "      <td>2019-01-01 22:05:00+00:00</td>\n",
       "      <td>1.14635</td>\n",
       "      <td>1.14658</td>\n",
       "    </tr>\n",
       "    <tr>\n",
       "      <th>2</th>\n",
       "      <td>2019-01-01 22:10:00+00:00</td>\n",
       "      <td>1.14632</td>\n",
       "      <td>1.14635</td>\n",
       "    </tr>\n",
       "    <tr>\n",
       "      <th>3</th>\n",
       "      <td>2019-01-01 22:15:00+00:00</td>\n",
       "      <td>1.14632</td>\n",
       "      <td>1.14632</td>\n",
       "    </tr>\n",
       "    <tr>\n",
       "      <th>4</th>\n",
       "      <td>2019-01-01 22:20:00+00:00</td>\n",
       "      <td>1.14653</td>\n",
       "      <td>1.14632</td>\n",
       "    </tr>\n",
       "  </tbody>\n",
       "</table>\n",
       "</div>"
      ],
      "text/plain": [
       "                        time    price  PrevClose\n",
       "0  2019-01-01 22:00:00+00:00  1.14658        NaN\n",
       "1  2019-01-01 22:05:00+00:00  1.14635    1.14658\n",
       "2  2019-01-01 22:10:00+00:00  1.14632    1.14635\n",
       "3  2019-01-01 22:15:00+00:00  1.14632    1.14632\n",
       "4  2019-01-01 22:20:00+00:00  1.14653    1.14632"
      ]
     },
     "execution_count": 27,
     "metadata": {},
     "output_type": "execute_result"
    }
   ],
   "source": [
    "df['PrevClose'] = df['close'].shift(1)\n",
    "df.head()"
   ]
  },
  {
   "cell_type": "code",
   "execution_count": 28,
   "metadata": {},
   "outputs": [
    {
     "data": {
      "text/html": [
       "<div>\n",
       "<style scoped>\n",
       "    .dataframe tbody tr th:only-of-type {\n",
       "        vertical-align: middle;\n",
       "    }\n",
       "\n",
       "    .dataframe tbody tr th {\n",
       "        vertical-align: top;\n",
       "    }\n",
       "\n",
       "    .dataframe thead th {\n",
       "        text-align: right;\n",
       "    }\n",
       "</style>\n",
       "<table border=\"1\" class=\"dataframe\">\n",
       "  <thead>\n",
       "    <tr style=\"text-align: right;\">\n",
       "      <th></th>\n",
       "      <th>time</th>\n",
       "      <th>price</th>\n",
       "      <th>PrevClose</th>\n",
       "      <th>Return</th>\n",
       "      <th>mom</th>\n",
       "    </tr>\n",
       "  </thead>\n",
       "  <tbody>\n",
       "    <tr>\n",
       "      <th>0</th>\n",
       "      <td>2019-01-01 22:00:00+00:00</td>\n",
       "      <td>1.14658</td>\n",
       "      <td>NaN</td>\n",
       "      <td>NaN</td>\n",
       "      <td>NaN</td>\n",
       "    </tr>\n",
       "    <tr>\n",
       "      <th>1</th>\n",
       "      <td>2019-01-01 22:05:00+00:00</td>\n",
       "      <td>1.14635</td>\n",
       "      <td>1.14658</td>\n",
       "      <td>-0.000201</td>\n",
       "      <td>NaN</td>\n",
       "    </tr>\n",
       "    <tr>\n",
       "      <th>2</th>\n",
       "      <td>2019-01-01 22:10:00+00:00</td>\n",
       "      <td>1.14632</td>\n",
       "      <td>1.14635</td>\n",
       "      <td>-0.000026</td>\n",
       "      <td>1.146417</td>\n",
       "    </tr>\n",
       "    <tr>\n",
       "      <th>3</th>\n",
       "      <td>2019-01-01 22:15:00+00:00</td>\n",
       "      <td>1.14632</td>\n",
       "      <td>1.14632</td>\n",
       "      <td>0.000000</td>\n",
       "      <td>1.146330</td>\n",
       "    </tr>\n",
       "    <tr>\n",
       "      <th>4</th>\n",
       "      <td>2019-01-01 22:20:00+00:00</td>\n",
       "      <td>1.14653</td>\n",
       "      <td>1.14632</td>\n",
       "      <td>0.000183</td>\n",
       "      <td>1.146390</td>\n",
       "    </tr>\n",
       "  </tbody>\n",
       "</table>\n",
       "</div>"
      ],
      "text/plain": [
       "                        time    price  PrevClose    Return       mom\n",
       "0  2019-01-01 22:00:00+00:00  1.14658        NaN       NaN       NaN\n",
       "1  2019-01-01 22:05:00+00:00  1.14635    1.14658 -0.000201       NaN\n",
       "2  2019-01-01 22:10:00+00:00  1.14632    1.14635 -0.000026  1.146417\n",
       "3  2019-01-01 22:15:00+00:00  1.14632    1.14632  0.000000  1.146330\n",
       "4  2019-01-01 22:20:00+00:00  1.14653    1.14632  0.000183  1.146390"
      ]
     },
     "execution_count": 28,
     "metadata": {},
     "output_type": "execute_result"
    }
   ],
   "source": [
    "df['Return'] = (df['close'] - df['PrevClose']) / df['PrevClose']\n",
    "df['mom']=df['close'].rolling(3).mean()\n",
    "df.head()"
   ]
  },
  {
   "cell_type": "code",
   "execution_count": 29,
   "metadata": {},
   "outputs": [],
   "source": [
    "input_data = df[['close', 'mom']][2:]\n",
    "targets = df['Return'].values"
   ]
  },
  {
   "cell_type": "code",
   "execution_count": 30,
   "metadata": {},
   "outputs": [
    {
     "name": "stdout",
     "output_type": "stream",
     "text": [
      "2\n"
     ]
    }
   ],
   "source": [
    "T = 10\n",
    "D = input_data.shape[1]\n",
    "N = len(input_data) - T\n",
    "print(D)"
   ]
  },
  {
   "cell_type": "code",
   "execution_count": 31,
   "metadata": {},
   "outputs": [],
   "source": [
    "Ntrain=int(len(input_data)*0.8)\n",
    "scaler = StandardScaler()\n",
    "scaler.fit(input_data[:Ntrain + T - 1])\n",
    "input_data = scaler.transform(input_data)"
   ]
  },
  {
   "cell_type": "code",
   "execution_count": 32,
   "metadata": {},
   "outputs": [],
   "source": [
    "X_train = np.zeros((Ntrain, T, D))\n",
    "Y_train = np.zeros(Ntrain)\n",
    "\n",
    "for t in range(Ntrain):\n",
    "  X_train[t, :, :] = input_data[t:t+T]\n",
    "  Y_train[t] = (targets[t+T]>0)"
   ]
  },
  {
   "cell_type": "code",
   "execution_count": 33,
   "metadata": {},
   "outputs": [],
   "source": [
    "X_test = np.zeros((N - Ntrain, T, D))\n",
    "Y_test = np.zeros(N - Ntrain)\n",
    "\n",
    "for u in range(N - Ntrain):\n",
    "  t = u + Ntrain\n",
    "  X_test[u, :, :] = input_data[t:t+T]\n",
    "  Y_test[u] = (targets[t+T]>0 )"
   ]
  },
  {
   "cell_type": "code",
   "execution_count": 34,
   "metadata": {},
   "outputs": [],
   "source": [
    "i = Input(shape=(T, D))\n",
    "x = LSTM(50)(i)\n",
    "x = Dense(1, activation='sigmoid')(x)\n",
    "model = Model(i, x)\n",
    "model.compile(\n",
    "  loss='binary_crossentropy',\n",
    "  optimizer=Adam(learning_rate=0.001),\n",
    "  metrics=['accuracy'],\n",
    ")"
   ]
  },
  {
   "cell_type": "code",
   "execution_count": 35,
   "metadata": {},
   "outputs": [
    {
     "name": "stdout",
     "output_type": "stream",
     "text": [
      "Epoch 1/50\n",
      "1475/1475 [==============================] - 21s 13ms/step - loss: 0.6933 - accuracy: 0.5051 - val_loss: 0.6922 - val_accuracy: 0.5111\n",
      "Epoch 2/50\n",
      "1475/1475 [==============================] - 19s 13ms/step - loss: 0.6902 - accuracy: 0.5360 - val_loss: 0.6887 - val_accuracy: 0.5673\n",
      "Epoch 3/50\n",
      "1475/1475 [==============================] - 19s 13ms/step - loss: 0.6138 - accuracy: 0.6713 - val_loss: 1.9689 - val_accuracy: 0.5434\n",
      "Epoch 4/50\n",
      "1475/1475 [==============================] - 19s 13ms/step - loss: 0.3552 - accuracy: 0.8640 - val_loss: 4.1426 - val_accuracy: 0.6437\n",
      "Epoch 5/50\n",
      "1475/1475 [==============================] - 18s 12ms/step - loss: 0.2517 - accuracy: 0.9033 - val_loss: 5.0026 - val_accuracy: 0.6688\n",
      "Epoch 6/50\n",
      "1475/1475 [==============================] - 18s 13ms/step - loss: 0.2068 - accuracy: 0.9207 - val_loss: 5.6703 - val_accuracy: 0.6638\n",
      "Epoch 7/50\n",
      "1475/1475 [==============================] - 18s 12ms/step - loss: 0.1794 - accuracy: 0.9309 - val_loss: 6.2954 - val_accuracy: 0.6974\n",
      "Epoch 8/50\n",
      "1475/1475 [==============================] - 19s 13ms/step - loss: 0.1661 - accuracy: 0.9338 - val_loss: 5.8170 - val_accuracy: 0.6877\n",
      "Epoch 9/50\n",
      "1475/1475 [==============================] - 18s 12ms/step - loss: 0.1548 - accuracy: 0.9380 - val_loss: 6.5824 - val_accuracy: 0.6778\n",
      "Epoch 10/50\n",
      "1475/1475 [==============================] - 18s 12ms/step - loss: 0.1438 - accuracy: 0.9424 - val_loss: 6.2580 - val_accuracy: 0.6848\n",
      "Epoch 11/50\n",
      "1475/1475 [==============================] - 18s 12ms/step - loss: 0.1355 - accuracy: 0.9457 - val_loss: 5.5954 - val_accuracy: 0.6978\n",
      "Epoch 12/50\n",
      "1475/1475 [==============================] - 19s 13ms/step - loss: 0.1284 - accuracy: 0.9483 - val_loss: 5.4481 - val_accuracy: 0.6422\n",
      "Epoch 13/50\n",
      "1475/1475 [==============================] - 18s 12ms/step - loss: 0.1254 - accuracy: 0.9495 - val_loss: 5.5497 - val_accuracy: 0.7071\n",
      "Epoch 14/50\n",
      "1475/1475 [==============================] - 20s 13ms/step - loss: 0.1148 - accuracy: 0.9542 - val_loss: 5.5394 - val_accuracy: 0.6688\n",
      "Epoch 15/50\n",
      "1475/1475 [==============================] - 19s 13ms/step - loss: 0.1142 - accuracy: 0.9540 - val_loss: 4.9190 - val_accuracy: 0.7252\n",
      "Epoch 16/50\n",
      "1475/1475 [==============================] - 18s 12ms/step - loss: 0.1057 - accuracy: 0.9574 - val_loss: 5.6618 - val_accuracy: 0.7138\n",
      "Epoch 17/50\n",
      "1475/1475 [==============================] - 18s 12ms/step - loss: 0.1046 - accuracy: 0.9581 - val_loss: 5.0137 - val_accuracy: 0.7318\n",
      "Epoch 18/50\n",
      "1475/1475 [==============================] - 19s 13ms/step - loss: 0.1010 - accuracy: 0.9592 - val_loss: 5.4252 - val_accuracy: 0.7278\n",
      "Epoch 19/50\n",
      "1475/1475 [==============================] - 19s 13ms/step - loss: 0.1019 - accuracy: 0.9573 - val_loss: 5.7242 - val_accuracy: 0.6682\n",
      "Epoch 20/50\n",
      "1475/1475 [==============================] - 20s 13ms/step - loss: 0.0961 - accuracy: 0.9608 - val_loss: 4.9690 - val_accuracy: 0.7362\n",
      "Epoch 21/50\n",
      "1475/1475 [==============================] - 21s 14ms/step - loss: 0.0920 - accuracy: 0.9627 - val_loss: 4.4236 - val_accuracy: 0.7530\n",
      "Epoch 22/50\n",
      "1475/1475 [==============================] - 19s 13ms/step - loss: 0.0927 - accuracy: 0.9637 - val_loss: 4.8567 - val_accuracy: 0.7110\n",
      "Epoch 23/50\n",
      "1475/1475 [==============================] - 19s 13ms/step - loss: 0.0894 - accuracy: 0.9636 - val_loss: 5.0025 - val_accuracy: 0.6968\n",
      "Epoch 24/50\n",
      "1475/1475 [==============================] - 18s 12ms/step - loss: 0.0854 - accuracy: 0.9660 - val_loss: 4.8114 - val_accuracy: 0.7282\n",
      "Epoch 25/50\n",
      "1475/1475 [==============================] - 19s 13ms/step - loss: 0.0865 - accuracy: 0.9651 - val_loss: 4.4649 - val_accuracy: 0.7527\n",
      "Epoch 26/50\n",
      "1475/1475 [==============================] - 19s 13ms/step - loss: 0.0794 - accuracy: 0.9681 - val_loss: 4.6692 - val_accuracy: 0.7531\n",
      "Epoch 27/50\n",
      "1475/1475 [==============================] - 19s 13ms/step - loss: 0.0789 - accuracy: 0.9674 - val_loss: 4.5958 - val_accuracy: 0.7546\n",
      "Epoch 28/50\n",
      "1475/1475 [==============================] - 19s 13ms/step - loss: 0.0795 - accuracy: 0.9683 - val_loss: 4.9980 - val_accuracy: 0.7322\n",
      "Epoch 29/50\n",
      "1475/1475 [==============================] - 19s 13ms/step - loss: 0.0772 - accuracy: 0.9693 - val_loss: 4.5831 - val_accuracy: 0.7669\n",
      "Epoch 30/50\n",
      "1475/1475 [==============================] - 19s 13ms/step - loss: 0.0766 - accuracy: 0.9696 - val_loss: 4.5155 - val_accuracy: 0.7625\n",
      "Epoch 31/50\n",
      "1475/1475 [==============================] - 18s 12ms/step - loss: 0.0736 - accuracy: 0.9704 - val_loss: 5.2267 - val_accuracy: 0.7474\n",
      "Epoch 32/50\n",
      "1475/1475 [==============================] - 19s 13ms/step - loss: 0.0765 - accuracy: 0.9695 - val_loss: 4.8277 - val_accuracy: 0.7681\n",
      "Epoch 33/50\n",
      "1475/1475 [==============================] - 18s 12ms/step - loss: 0.0711 - accuracy: 0.9715 - val_loss: 5.4606 - val_accuracy: 0.7441\n",
      "Epoch 34/50\n",
      "1475/1475 [==============================] - 18s 12ms/step - loss: 0.0718 - accuracy: 0.9703 - val_loss: 5.4819 - val_accuracy: 0.7425\n",
      "Epoch 35/50\n",
      "1475/1475 [==============================] - 18s 12ms/step - loss: 0.0683 - accuracy: 0.9719 - val_loss: 5.2682 - val_accuracy: 0.7628\n",
      "Epoch 36/50\n",
      "1475/1475 [==============================] - 18s 12ms/step - loss: 0.0696 - accuracy: 0.9722 - val_loss: 5.7665 - val_accuracy: 0.7630\n",
      "Epoch 37/50\n",
      "1475/1475 [==============================] - 18s 12ms/step - loss: 0.0686 - accuracy: 0.9728 - val_loss: 4.6625 - val_accuracy: 0.7971\n",
      "Epoch 38/50\n",
      "1475/1475 [==============================] - 18s 12ms/step - loss: 0.0658 - accuracy: 0.9733 - val_loss: 4.9903 - val_accuracy: 0.7735\n",
      "Epoch 39/50\n",
      "1475/1475 [==============================] - 18s 12ms/step - loss: 0.0643 - accuracy: 0.9733 - val_loss: 4.5968 - val_accuracy: 0.7579\n",
      "Epoch 40/50\n",
      "1475/1475 [==============================] - 19s 13ms/step - loss: 0.0668 - accuracy: 0.9735 - val_loss: 4.7766 - val_accuracy: 0.7808\n",
      "Epoch 41/50\n",
      "1475/1475 [==============================] - 18s 12ms/step - loss: 0.0643 - accuracy: 0.9734 - val_loss: 5.2514 - val_accuracy: 0.7807\n",
      "Epoch 42/50\n",
      "1475/1475 [==============================] - 19s 13ms/step - loss: 0.0629 - accuracy: 0.9741 - val_loss: 4.6155 - val_accuracy: 0.7844\n",
      "Epoch 43/50\n",
      "1475/1475 [==============================] - 18s 12ms/step - loss: 0.0610 - accuracy: 0.9763 - val_loss: 4.8937 - val_accuracy: 0.7602\n",
      "Epoch 44/50\n",
      "1475/1475 [==============================] - 18s 12ms/step - loss: 0.0608 - accuracy: 0.9756 - val_loss: 6.2043 - val_accuracy: 0.7373\n",
      "Epoch 45/50\n",
      "1475/1475 [==============================] - 18s 12ms/step - loss: 0.0624 - accuracy: 0.9749 - val_loss: 4.7963 - val_accuracy: 0.7557\n",
      "Epoch 46/50\n",
      "1475/1475 [==============================] - 18s 12ms/step - loss: 0.0609 - accuracy: 0.9757 - val_loss: 5.3353 - val_accuracy: 0.7451\n",
      "Epoch 47/50\n",
      "1475/1475 [==============================] - 18s 12ms/step - loss: 0.0564 - accuracy: 0.9769 - val_loss: 5.4213 - val_accuracy: 0.7737\n",
      "Epoch 48/50\n",
      "1475/1475 [==============================] - 18s 12ms/step - loss: 0.0594 - accuracy: 0.9758 - val_loss: 4.4815 - val_accuracy: 0.7641\n",
      "Epoch 49/50\n",
      "1475/1475 [==============================] - 18s 12ms/step - loss: 0.0585 - accuracy: 0.9755 - val_loss: 5.0961 - val_accuracy: 0.7508\n",
      "Epoch 50/50\n",
      "1475/1475 [==============================] - 18s 12ms/step - loss: 0.0542 - accuracy: 0.9781 - val_loss: 4.9770 - val_accuracy: 0.7641\n"
     ]
    }
   ],
   "source": [
    "#es = EarlyStopping(patience=20, restore_best_weights=True)\n",
    "#callbacks=[es],\n",
    "history = model.fit(X_train, Y_train,\n",
    "          validation_split=0.2,\n",
    "          batch_size=32,\n",
    "          epochs=40,\n",
    "\n",
    "          verbose=1)"
   ]
  },
  {
   "cell_type": "code",
   "execution_count": 36,
   "metadata": {},
   "outputs": [
    {
     "data": {
      "image/png": "[encoded data removed]",
      "text/plain": [
       "<Figure size 640x480 with 1 Axes>"
      ]
     },
     "metadata": {},
     "output_type": "display_data"
    }
   ],
   "source": [
    "plt.plot(history.history['loss'], label='loss')\n",
    "plt.plot(history.history['val_loss'], label='val_loss')\n",
    "plt.legend()\n",
    "plt.show()"
   ]
  },
  {
   "cell_type": "code",
   "execution_count": 37,
   "metadata": {},
   "outputs": [
    {
     "data": {
      "image/png": "[encoded data removed]",
      "text/plain": [
       "<Figure size 640x480 with 1 Axes>"
      ]
     },
     "metadata": {},
     "output_type": "display_data"
    }
   ],
   "source": [
    "plt.plot(history.history['accuracy'], label='accuracy')\n",
    "plt.plot(history.history['val_accuracy'], label='val_accuracy')\n",
    "plt.legend()\n",
    "plt.show()"
   ]
  },
  {
   "cell_type": "code",
   "execution_count": 38,
   "metadata": {},
   "outputs": [
    {
     "name": "stdout",
     "output_type": "stream",
     "text": [
      "461/461 [==============================] - 2s 4ms/step\n"
     ]
    }
   ],
   "source": [
    "pred=model.predict(X_test)\n"
   ]
  },
  {
   "cell_type": "code",
   "execution_count": 39,
   "metadata": {},
   "outputs": [
    {
     "name": "stdout",
     "output_type": "stream",
     "text": [
      "461/461 [==============================] - 2s 5ms/step - loss: 0.2117 - accuracy: 0.9279\n"
     ]
    }
   ],
   "source": [
    "lstm2=model.evaluate(X_test, Y_test)"
   ]
  },
  {
   "cell_type": "markdown",
   "metadata": {},
   "source": []
  },
  {
   "cell_type": "code",
   "execution_count": 40,
   "metadata": {},
   "outputs": [
    {
     "data": {
      "text/plain": [
       "(array([6748.,  324.,  149.,  149.,  141.,   96.,   95.,  123.,  118.,\n",
       "          85.,   65.,   49.,   58.,   59.,   44.,   46.,   43.,   24.,\n",
       "          38.,   33.,   32.,   30.,   25.,   27.,   39.,   22.,   24.,\n",
       "          21.,   23.,   34.,   29.,   32.,   30.,   32.,   33.,   33.,\n",
       "          33.,   42.,   42.,   50.,   64.,   69.,   62.,   88.,   73.,\n",
       "          90.,  124.,  138.,  195., 4711.]),\n",
       " array([6.51287059e-28, 1.99999996e-02, 3.99999991e-02, 5.99999987e-02,\n",
       "        7.99999982e-02, 1.00000001e-01, 1.19999997e-01, 1.40000001e-01,\n",
       "        1.59999996e-01, 1.80000007e-01, 2.00000003e-01, 2.19999999e-01,\n",
       "        2.39999995e-01, 2.59999990e-01, 2.80000001e-01, 3.00000012e-01,\n",
       "        3.19999993e-01, 3.40000004e-01, 3.60000014e-01, 3.79999995e-01,\n",
       "        4.00000006e-01, 4.19999987e-01, 4.39999998e-01, 4.60000008e-01,\n",
       "        4.79999989e-01, 5.00000000e-01, 5.19999981e-01, 5.40000021e-01,\n",
       "        5.60000002e-01, 5.79999983e-01, 6.00000024e-01, 6.20000005e-01,\n",
       "        6.39999986e-01, 6.60000026e-01, 6.80000007e-01, 6.99999988e-01,\n",
       "        7.20000029e-01, 7.40000010e-01, 7.59999990e-01, 7.79999971e-01,\n",
       "        8.00000012e-01, 8.19999993e-01, 8.39999974e-01, 8.60000014e-01,\n",
       "        8.79999995e-01, 8.99999976e-01, 9.20000017e-01, 9.39999998e-01,\n",
       "        9.59999979e-01, 9.80000019e-01, 1.00000000e+00]),\n",
       " <BarContainer object of 50 artists>)"
      ]
     },
     "execution_count": 40,
     "metadata": {},
     "output_type": "execute_result"
    },
    {
     "data": {
      "image/png": "[encoded data removed]",
      "text/plain": [
       "<Figure size 640x480 with 1 Axes>"
      ]
     },
     "metadata": {},
     "output_type": "display_data"
    }
   ],
   "source": [
    "plt.hist(pred , bins=50)"
   ]
  },
  {
   "cell_type": "code",
   "execution_count": null,
   "metadata": {},
   "outputs": [],
   "source": []
  }
 ],
 "metadata": {
  "kernelspec": {
   "display_name": "aitradingenv",
   "language": "python",
   "name": "python3"
  },
  "language_info": {
   "codemirror_mode": {
    "name": "ipython",
    "version": 3
   },
   "file_extension": ".py",
   "mimetype": "text/x-python",
   "name": "python",
   "nbconvert_exporter": "python",
   "pygments_lexer": "ipython3",
   "version": "3.10.5"
  }
 },
 "nbformat": 4,
 "nbformat_minor": 2
}
