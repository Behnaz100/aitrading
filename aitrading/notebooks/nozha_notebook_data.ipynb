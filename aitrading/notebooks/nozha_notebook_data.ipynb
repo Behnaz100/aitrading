{
 "cells": [
  {
   "cell_type": "code",
   "execution_count": 1,
   "id": "43308e40-a8e2-4989-8b7e-96cffdf84d63",
   "metadata": {},
   "outputs": [
    {
     "name": "stderr",
     "output_type": "stream",
     "text": [
      "/Users/Nozha/.pyenv/versions/3.10.6/envs/lewagon/lib/python3.10/site-packages/scipy/__init__.py:146: UserWarning: A NumPy version >=1.17.3 and <1.25.0 is required for this version of SciPy (detected version 1.26.4\n",
      "  warnings.warn(f\"A NumPy version >={np_minversion} and <{np_maxversion}\"\n",
      "2024-03-16 10:06:23.226473: I tensorflow/core/platform/cpu_feature_guard.cc:210] This TensorFlow binary is optimized to use available CPU instructions in performance-critical operations.\n",
      "To enable the following instructions: AVX2 FMA, in other operations, rebuild TensorFlow with the appropriate compiler flags.\n"
     ]
    }
   ],
   "source": [
    "import numpy as np\n",
    "import pandas as pd\n",
    "from sklearn.preprocessing import StandardScaler\n",
    "import tensorflow as tf\n",
    "from tensorflow.keras.models import Sequential, Model\n",
    "from tensorflow.keras.layers import LSTM, Dense, Input, Layer\n",
    "from sklearn.preprocessing import StandardScaler"
   ]
  },
  {
   "cell_type": "code",
   "execution_count": 47,
   "id": "e96b7bba-ab77-4ae9-9ec3-f8e69b28f1c6",
   "metadata": {},
   "outputs": [
    {
     "data": {
      "text/html": [
       "<div>\n",
       "<style scoped>\n",
       "    .dataframe tbody tr th:only-of-type {\n",
       "        vertical-align: middle;\n",
       "    }\n",
       "\n",
       "    .dataframe tbody tr th {\n",
       "        vertical-align: top;\n",
       "    }\n",
       "\n",
       "    .dataframe thead th {\n",
       "        text-align: right;\n",
       "    }\n",
       "</style>\n",
       "<table border=\"1\" class=\"dataframe\">\n",
       "  <thead>\n",
       "    <tr style=\"text-align: right;\">\n",
       "      <th></th>\n",
       "      <th>date</th>\n",
       "      <th>time</th>\n",
       "      <th>open</th>\n",
       "      <th>high</th>\n",
       "      <th>low</th>\n",
       "      <th>close</th>\n",
       "      <th>volume</th>\n",
       "    </tr>\n",
       "  </thead>\n",
       "  <tbody>\n",
       "    <tr>\n",
       "      <th>0</th>\n",
       "      <td>21/10/2002</td>\n",
       "      <td>01:05:00</td>\n",
       "      <td>0.97320</td>\n",
       "      <td>0.97325</td>\n",
       "      <td>0.97280</td>\n",
       "      <td>0.97285</td>\n",
       "      <td>0</td>\n",
       "    </tr>\n",
       "    <tr>\n",
       "      <th>1</th>\n",
       "      <td>21/10/2002</td>\n",
       "      <td>01:10:00</td>\n",
       "      <td>0.97300</td>\n",
       "      <td>0.97320</td>\n",
       "      <td>0.97300</td>\n",
       "      <td>0.97320</td>\n",
       "      <td>0</td>\n",
       "    </tr>\n",
       "    <tr>\n",
       "      <th>2</th>\n",
       "      <td>21/10/2002</td>\n",
       "      <td>01:15:00</td>\n",
       "      <td>0.97320</td>\n",
       "      <td>0.97320</td>\n",
       "      <td>0.97295</td>\n",
       "      <td>0.97310</td>\n",
       "      <td>0</td>\n",
       "    </tr>\n",
       "    <tr>\n",
       "      <th>3</th>\n",
       "      <td>21/10/2002</td>\n",
       "      <td>01:20:00</td>\n",
       "      <td>0.97315</td>\n",
       "      <td>0.97340</td>\n",
       "      <td>0.97270</td>\n",
       "      <td>0.97270</td>\n",
       "      <td>0</td>\n",
       "    </tr>\n",
       "    <tr>\n",
       "      <th>4</th>\n",
       "      <td>21/10/2002</td>\n",
       "      <td>01:25:00</td>\n",
       "      <td>0.97280</td>\n",
       "      <td>0.97295</td>\n",
       "      <td>0.97260</td>\n",
       "      <td>0.97260</td>\n",
       "      <td>0</td>\n",
       "    </tr>\n",
       "  </tbody>\n",
       "</table>\n",
       "</div>"
      ],
      "text/plain": [
       "         date      time     open     high      low    close  volume\n",
       "0  21/10/2002  01:05:00  0.97320  0.97325  0.97280  0.97285       0\n",
       "1  21/10/2002  01:10:00  0.97300  0.97320  0.97300  0.97320       0\n",
       "2  21/10/2002  01:15:00  0.97320  0.97320  0.97295  0.97310       0\n",
       "3  21/10/2002  01:20:00  0.97315  0.97340  0.97270  0.97270       0\n",
       "4  21/10/2002  01:25:00  0.97280  0.97295  0.97260  0.97260       0"
      ]
     },
     "execution_count": 47,
     "metadata": {},
     "output_type": "execute_result"
    }
   ],
   "source": [
    "import pandas as pd\n",
    "df = pd.read_csv('eurusd.csv', sep = ';',names=['date', 'time', 'open','high','low','close','volume'])\n",
    "df.head()"
   ]
  },
  {
   "cell_type": "code",
   "execution_count": 48,
   "id": "8f620e70",
   "metadata": {},
   "outputs": [
    {
     "data": {
      "text/plain": [
       "(1620750, 7)"
      ]
     },
     "execution_count": 48,
     "metadata": {},
     "output_type": "execute_result"
    }
   ],
   "source": [
    "df.shape"
   ]
  },
  {
   "cell_type": "code",
   "execution_count": 62,
   "id": "bd785867",
   "metadata": {},
   "outputs": [
    {
     "data": {
      "text/html": [
       "<div>\n",
       "<style scoped>\n",
       "    .dataframe tbody tr th:only-of-type {\n",
       "        vertical-align: middle;\n",
       "    }\n",
       "\n",
       "    .dataframe tbody tr th {\n",
       "        vertical-align: top;\n",
       "    }\n",
       "\n",
       "    .dataframe thead th {\n",
       "        text-align: right;\n",
       "    }\n",
       "</style>\n",
       "<table border=\"1\" class=\"dataframe\">\n",
       "  <thead>\n",
       "    <tr style=\"text-align: right;\">\n",
       "      <th></th>\n",
       "      <th>date</th>\n",
       "      <th>time</th>\n",
       "      <th>open</th>\n",
       "      <th>high</th>\n",
       "      <th>low</th>\n",
       "      <th>close</th>\n",
       "      <th>volume</th>\n",
       "    </tr>\n",
       "  </thead>\n",
       "  <tbody>\n",
       "    <tr>\n",
       "      <th>1612705</th>\n",
       "      <td>06/02/2024</td>\n",
       "      <td>00:00:00</td>\n",
       "      <td>1.07535</td>\n",
       "      <td>1.07535</td>\n",
       "      <td>1.07505</td>\n",
       "      <td>1.07509</td>\n",
       "      <td>503</td>\n",
       "    </tr>\n",
       "    <tr>\n",
       "      <th>1612706</th>\n",
       "      <td>06/02/2024</td>\n",
       "      <td>00:05:00</td>\n",
       "      <td>1.07508</td>\n",
       "      <td>1.07515</td>\n",
       "      <td>1.07495</td>\n",
       "      <td>1.07503</td>\n",
       "      <td>509</td>\n",
       "    </tr>\n",
       "    <tr>\n",
       "      <th>1612707</th>\n",
       "      <td>06/02/2024</td>\n",
       "      <td>00:10:00</td>\n",
       "      <td>1.07503</td>\n",
       "      <td>1.07522</td>\n",
       "      <td>1.07503</td>\n",
       "      <td>1.07511</td>\n",
       "      <td>528</td>\n",
       "    </tr>\n",
       "    <tr>\n",
       "      <th>1612708</th>\n",
       "      <td>06/02/2024</td>\n",
       "      <td>00:15:00</td>\n",
       "      <td>1.07510</td>\n",
       "      <td>1.07512</td>\n",
       "      <td>1.07499</td>\n",
       "      <td>1.07505</td>\n",
       "      <td>513</td>\n",
       "    </tr>\n",
       "    <tr>\n",
       "      <th>1612709</th>\n",
       "      <td>06/02/2024</td>\n",
       "      <td>00:20:00</td>\n",
       "      <td>1.07504</td>\n",
       "      <td>1.07512</td>\n",
       "      <td>1.07499</td>\n",
       "      <td>1.07509</td>\n",
       "      <td>483</td>\n",
       "    </tr>\n",
       "    <tr>\n",
       "      <th>...</th>\n",
       "      <td>...</td>\n",
       "      <td>...</td>\n",
       "      <td>...</td>\n",
       "      <td>...</td>\n",
       "      <td>...</td>\n",
       "      <td>...</td>\n",
       "      <td>...</td>\n",
       "    </tr>\n",
       "    <tr>\n",
       "      <th>1612988</th>\n",
       "      <td>06/02/2024</td>\n",
       "      <td>23:35:00</td>\n",
       "      <td>1.07626</td>\n",
       "      <td>1.07626</td>\n",
       "      <td>1.07607</td>\n",
       "      <td>1.07611</td>\n",
       "      <td>491</td>\n",
       "    </tr>\n",
       "    <tr>\n",
       "      <th>1612989</th>\n",
       "      <td>06/02/2024</td>\n",
       "      <td>23:40:00</td>\n",
       "      <td>1.07610</td>\n",
       "      <td>1.07622</td>\n",
       "      <td>1.07602</td>\n",
       "      <td>1.07622</td>\n",
       "      <td>421</td>\n",
       "    </tr>\n",
       "    <tr>\n",
       "      <th>1612990</th>\n",
       "      <td>06/02/2024</td>\n",
       "      <td>23:45:00</td>\n",
       "      <td>1.07622</td>\n",
       "      <td>1.07640</td>\n",
       "      <td>1.07619</td>\n",
       "      <td>1.07639</td>\n",
       "      <td>410</td>\n",
       "    </tr>\n",
       "    <tr>\n",
       "      <th>1612991</th>\n",
       "      <td>06/02/2024</td>\n",
       "      <td>23:50:00</td>\n",
       "      <td>1.07639</td>\n",
       "      <td>1.07646</td>\n",
       "      <td>1.07634</td>\n",
       "      <td>1.07637</td>\n",
       "      <td>487</td>\n",
       "    </tr>\n",
       "    <tr>\n",
       "      <th>1612992</th>\n",
       "      <td>06/02/2024</td>\n",
       "      <td>23:55:00</td>\n",
       "      <td>1.07636</td>\n",
       "      <td>1.07638</td>\n",
       "      <td>1.07626</td>\n",
       "      <td>1.07628</td>\n",
       "      <td>560</td>\n",
       "    </tr>\n",
       "  </tbody>\n",
       "</table>\n",
       "<p>288 rows × 7 columns</p>\n",
       "</div>"
      ],
      "text/plain": [
       "               date      time     open     high      low    close  volume\n",
       "1612705  06/02/2024  00:00:00  1.07535  1.07535  1.07505  1.07509     503\n",
       "1612706  06/02/2024  00:05:00  1.07508  1.07515  1.07495  1.07503     509\n",
       "1612707  06/02/2024  00:10:00  1.07503  1.07522  1.07503  1.07511     528\n",
       "1612708  06/02/2024  00:15:00  1.07510  1.07512  1.07499  1.07505     513\n",
       "1612709  06/02/2024  00:20:00  1.07504  1.07512  1.07499  1.07509     483\n",
       "...             ...       ...      ...      ...      ...      ...     ...\n",
       "1612988  06/02/2024  23:35:00  1.07626  1.07626  1.07607  1.07611     491\n",
       "1612989  06/02/2024  23:40:00  1.07610  1.07622  1.07602  1.07622     421\n",
       "1612990  06/02/2024  23:45:00  1.07622  1.07640  1.07619  1.07639     410\n",
       "1612991  06/02/2024  23:50:00  1.07639  1.07646  1.07634  1.07637     487\n",
       "1612992  06/02/2024  23:55:00  1.07636  1.07638  1.07626  1.07628     560\n",
       "\n",
       "[288 rows x 7 columns]"
      ]
     },
     "execution_count": 62,
     "metadata": {},
     "output_type": "execute_result"
    }
   ],
   "source": [
    "df[df.date=='06/02/2024']"
   ]
  },
  {
   "cell_type": "code",
   "execution_count": 55,
   "id": "5ae0d918",
   "metadata": {},
   "outputs": [
    {
     "data": {
      "text/plain": [
       "[<matplotlib.lines.Line2D at 0x14886f310>]"
      ]
     },
     "execution_count": 55,
     "metadata": {},
     "output_type": "execute_result"
    },
    {
     "data": {
      "image/png": "[encoded data removed]",
      "text/plain": [
       "<Figure size 640x480 with 1 Axes>"
      ]
     },
     "metadata": {},
     "output_type": "display_data"
    }
   ],
   "source": [
    "import matplotlib.pyplot as plt\n",
    "plt.plot(df.volume)"
   ]
  },
  {
   "cell_type": "code",
   "execution_count": 57,
   "id": "c0cb4b6a",
   "metadata": {},
   "outputs": [
    {
     "data": {
      "text/plain": [
       "0"
      ]
     },
     "execution_count": 57,
     "metadata": {},
     "output_type": "execute_result"
    }
   ],
   "source": [
    "df.volume.min()"
   ]
  },
  {
   "cell_type": "code",
   "execution_count": 58,
   "id": "f76fc0c5",
   "metadata": {},
   "outputs": [
    {
     "data": {
      "text/plain": [
       "14306"
      ]
     },
     "execution_count": 58,
     "metadata": {},
     "output_type": "execute_result"
    }
   ],
   "source": [
    "df.volume.max()"
   ]
  },
  {
   "cell_type": "code",
   "execution_count": 63,
   "id": "21d18a5e-13f3-4ce0-b849-c69da6b747b4",
   "metadata": {},
   "outputs": [],
   "source": [
    "df.to_csv('eurusd_5m.csv', index=False) "
   ]
  }
 ],
 "metadata": {
  "kernelspec": {
   "display_name": "Python 3 (ipykernel)",
   "language": "python",
   "name": "python3"
  },
  "language_info": {
   "codemirror_mode": {
    "name": "ipython",
    "version": 3
   },
   "file_extension": ".py",
   "mimetype": "text/x-python",
   "name": "python",
   "nbconvert_exporter": "python",
   "pygments_lexer": "ipython3",
   "version": "3.10.6"
  },
  "toc": {
   "base_numbering": 1,
   "nav_menu": {},
   "number_sections": true,
   "sideBar": true,
   "skip_h1_title": false,
   "title_cell": "Table of Contents",
   "title_sidebar": "Contents",
   "toc_cell": false,
   "toc_position": {},
   "toc_section_display": true,
   "toc_window_display": false
  }
 },
 "nbformat": 4,
 "nbformat_minor": 5
}
