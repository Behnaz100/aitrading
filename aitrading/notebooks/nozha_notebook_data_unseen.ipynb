{
 "cells": [
  {
   "cell_type": "code",
   "execution_count": 1,
   "metadata": {},
   "outputs": [],
   "source": [
    "import pandas as pd\n",
    "import os\n",
    "\n",
    "df=pd.read_csv(os.path.join(os.getcwd(), \"..\", \"data\",'FX_EURUSD_unseen.csv'))\n",
    "df.head()\n",
    "\n",
    "df=df.rename(columns={\"Volume\": \"volume\"})"
   ]
  },
  {
   "cell_type": "code",
   "execution_count": 2,
   "metadata": {},
   "outputs": [
    {
     "name": "stderr",
     "output_type": "stream",
     "text": [
      "/var/folders/dk/w9782s892tj0nd0v2724j3qr0000gr/T/ipykernel_64811/3457609482.py:1: UserWarning: The argument 'infer_datetime_format' is deprecated and will be removed in a future version. A strict version of it is now the default, see https://pandas.pydata.org/pdeps/0004-consistent-to-datetime-parsing.html. You can safely remove this argument.\n",
      "  df['time']=pd.to_datetime(df['time'],infer_datetime_format=True)\n"
     ]
    }
   ],
   "source": [
    "df['time']=pd.to_datetime(df['time'],infer_datetime_format=True)"
   ]
  },
  {
   "cell_type": "code",
   "execution_count": 3,
   "metadata": {},
   "outputs": [
    {
     "data": {
      "text/html": [
       "<div>\n",
       "<style scoped>\n",
       "    .dataframe tbody tr th:only-of-type {\n",
       "        vertical-align: middle;\n",
       "    }\n",
       "\n",
       "    .dataframe tbody tr th {\n",
       "        vertical-align: top;\n",
       "    }\n",
       "\n",
       "    .dataframe thead th {\n",
       "        text-align: right;\n",
       "    }\n",
       "</style>\n",
       "<table border=\"1\" class=\"dataframe\">\n",
       "  <thead>\n",
       "    <tr style=\"text-align: right;\">\n",
       "      <th></th>\n",
       "      <th>time</th>\n",
       "      <th>open</th>\n",
       "      <th>high</th>\n",
       "      <th>low</th>\n",
       "      <th>close</th>\n",
       "      <th>volume</th>\n",
       "    </tr>\n",
       "  </thead>\n",
       "  <tbody>\n",
       "    <tr>\n",
       "      <th>0</th>\n",
       "      <td>2024-03-15 00:00:00+00:00</td>\n",
       "      <td>1.08827</td>\n",
       "      <td>1.08845</td>\n",
       "      <td>1.08814</td>\n",
       "      <td>1.08819</td>\n",
       "      <td>718</td>\n",
       "    </tr>\n",
       "    <tr>\n",
       "      <th>1</th>\n",
       "      <td>2024-03-15 00:05:00+00:00</td>\n",
       "      <td>1.08819</td>\n",
       "      <td>1.08822</td>\n",
       "      <td>1.08789</td>\n",
       "      <td>1.08794</td>\n",
       "      <td>613</td>\n",
       "    </tr>\n",
       "    <tr>\n",
       "      <th>2</th>\n",
       "      <td>2024-03-15 00:10:00+00:00</td>\n",
       "      <td>1.08794</td>\n",
       "      <td>1.08800</td>\n",
       "      <td>1.08782</td>\n",
       "      <td>1.08782</td>\n",
       "      <td>409</td>\n",
       "    </tr>\n",
       "    <tr>\n",
       "      <th>3</th>\n",
       "      <td>2024-03-15 00:15:00+00:00</td>\n",
       "      <td>1.08782</td>\n",
       "      <td>1.08800</td>\n",
       "      <td>1.08782</td>\n",
       "      <td>1.08796</td>\n",
       "      <td>431</td>\n",
       "    </tr>\n",
       "    <tr>\n",
       "      <th>4</th>\n",
       "      <td>2024-03-15 00:20:00+00:00</td>\n",
       "      <td>1.08796</td>\n",
       "      <td>1.08798</td>\n",
       "      <td>1.08783</td>\n",
       "      <td>1.08785</td>\n",
       "      <td>464</td>\n",
       "    </tr>\n",
       "  </tbody>\n",
       "</table>\n",
       "</div>"
      ],
      "text/plain": [
       "                       time     open     high      low    close  volume\n",
       "0 2024-03-15 00:00:00+00:00  1.08827  1.08845  1.08814  1.08819     718\n",
       "1 2024-03-15 00:05:00+00:00  1.08819  1.08822  1.08789  1.08794     613\n",
       "2 2024-03-15 00:10:00+00:00  1.08794  1.08800  1.08782  1.08782     409\n",
       "3 2024-03-15 00:15:00+00:00  1.08782  1.08800  1.08782  1.08796     431\n",
       "4 2024-03-15 00:20:00+00:00  1.08796  1.08798  1.08783  1.08785     464"
      ]
     },
     "execution_count": 3,
     "metadata": {},
     "output_type": "execute_result"
    }
   ],
   "source": [
    "df.head()"
   ]
  },
  {
   "cell_type": "code",
   "execution_count": 4,
   "metadata": {},
   "outputs": [],
   "source": [
    "df.to_csv('eurusd_unseen_data.csv', index=False) "
   ]
  }
 ],
 "metadata": {
  "kernelspec": {
   "display_name": "Python 3 (ipykernel)",
   "language": "python",
   "name": "python3"
  },
  "language_info": {
   "codemirror_mode": {
    "name": "ipython",
    "version": 3
   },
   "file_extension": ".py",
   "mimetype": "text/x-python",
   "name": "python",
   "nbconvert_exporter": "python",
   "pygments_lexer": "ipython3",
   "version": "3.10.6"
  },
  "toc": {
   "base_numbering": 1,
   "nav_menu": {},
   "number_sections": true,
   "sideBar": true,
   "skip_h1_title": false,
   "title_cell": "Table of Contents",
   "title_sidebar": "Contents",
   "toc_cell": false,
   "toc_position": {},
   "toc_section_display": true,
   "toc_window_display": false
  }
 },
 "nbformat": 4,
 "nbformat_minor": 2
}
