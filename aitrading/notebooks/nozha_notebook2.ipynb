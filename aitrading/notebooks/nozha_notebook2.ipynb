{
 "cells": [
  {
   "cell_type": "code",
   "execution_count": 1,
   "metadata": {},
   "outputs": [
    {
     "name": "stderr",
     "output_type": "stream",
     "text": [
      "2024-03-21 17:40:49.018397: I tensorflow/core/platform/cpu_feature_guard.cc:210] This TensorFlow binary is optimized to use available CPU instructions in performance-critical operations.\n",
      "To enable the following instructions: AVX2 FMA, in other operations, rebuild TensorFlow with the appropriate compiler flags.\n",
      "/Users/Nozha/.pyenv/versions/3.10.6/envs/lewagon/lib/python3.10/site-packages/scipy/__init__.py:146: UserWarning: A NumPy version >=1.17.3 and <1.25.0 is required for this version of SciPy (detected version 1.26.4\n",
      "  warnings.warn(f\"A NumPy version >={np_minversion} and <{np_maxversion}\"\n"
     ]
    }
   ],
   "source": [
    "import tensorflow as tf\n",
    "from tensorflow import keras"
   ]
  },
  {
   "cell_type": "code",
   "execution_count": 2,
   "metadata": {},
   "outputs": [],
   "source": [
    "from tensorflow.keras.layers import Input, LSTM, GRU, SimpleRNN, Dense, GlobalMaxPool1D\n",
    "from tensorflow.keras.models import Model\n",
    "from tensorflow.keras.optimizers import SGD, Adam\n",
    "import numpy as np\n",
    "import pandas as pd\n",
    "import matplotlib.pyplot as plt\n",
    "from sklearn.preprocessing import StandardScaler\n",
    "from tensorflow.keras.utils import to_categorical\n",
    "from tensorflow.keras.callbacks import EarlyStopping\n",
    "# imports"
   ]
  },
  {
   "cell_type": "code",
   "execution_count": 3,
   "metadata": {},
   "outputs": [
    {
     "data": {
      "text/html": [
       "<div>\n",
       "<style scoped>\n",
       "    .dataframe tbody tr th:only-of-type {\n",
       "        vertical-align: middle;\n",
       "    }\n",
       "\n",
       "    .dataframe tbody tr th {\n",
       "        vertical-align: top;\n",
       "    }\n",
       "\n",
       "    .dataframe thead th {\n",
       "        text-align: right;\n",
       "    }\n",
       "</style>\n",
       "<table border=\"1\" class=\"dataframe\">\n",
       "  <thead>\n",
       "    <tr style=\"text-align: right;\">\n",
       "      <th></th>\n",
       "      <th>date</th>\n",
       "      <th>time</th>\n",
       "      <th>open</th>\n",
       "      <th>high</th>\n",
       "      <th>low</th>\n",
       "      <th>close</th>\n",
       "      <th>volume</th>\n",
       "    </tr>\n",
       "  </thead>\n",
       "  <tbody>\n",
       "    <tr>\n",
       "      <th>0</th>\n",
       "      <td>21/10/2002</td>\n",
       "      <td>01:05:00</td>\n",
       "      <td>0.97320</td>\n",
       "      <td>0.97325</td>\n",
       "      <td>0.97280</td>\n",
       "      <td>0.97285</td>\n",
       "      <td>0</td>\n",
       "    </tr>\n",
       "    <tr>\n",
       "      <th>1</th>\n",
       "      <td>21/10/2002</td>\n",
       "      <td>01:10:00</td>\n",
       "      <td>0.97300</td>\n",
       "      <td>0.97320</td>\n",
       "      <td>0.97300</td>\n",
       "      <td>0.97320</td>\n",
       "      <td>0</td>\n",
       "    </tr>\n",
       "    <tr>\n",
       "      <th>2</th>\n",
       "      <td>21/10/2002</td>\n",
       "      <td>01:15:00</td>\n",
       "      <td>0.97320</td>\n",
       "      <td>0.97320</td>\n",
       "      <td>0.97295</td>\n",
       "      <td>0.97310</td>\n",
       "      <td>0</td>\n",
       "    </tr>\n",
       "    <tr>\n",
       "      <th>3</th>\n",
       "      <td>21/10/2002</td>\n",
       "      <td>01:20:00</td>\n",
       "      <td>0.97315</td>\n",
       "      <td>0.97340</td>\n",
       "      <td>0.97270</td>\n",
       "      <td>0.97270</td>\n",
       "      <td>0</td>\n",
       "    </tr>\n",
       "    <tr>\n",
       "      <th>4</th>\n",
       "      <td>21/10/2002</td>\n",
       "      <td>01:25:00</td>\n",
       "      <td>0.97280</td>\n",
       "      <td>0.97295</td>\n",
       "      <td>0.97260</td>\n",
       "      <td>0.97260</td>\n",
       "      <td>0</td>\n",
       "    </tr>\n",
       "  </tbody>\n",
       "</table>\n",
       "</div>"
      ],
      "text/plain": [
       "         date      time     open     high      low    close  volume\n",
       "0  21/10/2002  01:05:00  0.97320  0.97325  0.97280  0.97285       0\n",
       "1  21/10/2002  01:10:00  0.97300  0.97320  0.97300  0.97320       0\n",
       "2  21/10/2002  01:15:00  0.97320  0.97320  0.97295  0.97310       0\n",
       "3  21/10/2002  01:20:00  0.97315  0.97340  0.97270  0.97270       0\n",
       "4  21/10/2002  01:25:00  0.97280  0.97295  0.97260  0.97260       0"
      ]
     },
     "execution_count": 3,
     "metadata": {},
     "output_type": "execute_result"
    }
   ],
   "source": [
    "import pandas as pd\n",
    "import os\n",
    "\n",
    "df=pd.read_csv(os.path.join(os.getcwd(), \"..\", \"data\",'eurousd.csv'))\n",
    "df.head()"
   ]
  },
  {
   "cell_type": "code",
   "execution_count": 4,
   "metadata": {},
   "outputs": [],
   "source": [
    "df['date']=pd.to_datetime(df['date'],infer_datetime_format=True)\n",
    "\n",
    "df=df[df['date'].dt.year>2019]\n"
   ]
  },
  {
   "cell_type": "code",
   "execution_count": 5,
   "metadata": {},
   "outputs": [
    {
     "data": {
      "text/html": [
       "<div>\n",
       "<style scoped>\n",
       "    .dataframe tbody tr th:only-of-type {\n",
       "        vertical-align: middle;\n",
       "    }\n",
       "\n",
       "    .dataframe tbody tr th {\n",
       "        vertical-align: top;\n",
       "    }\n",
       "\n",
       "    .dataframe thead th {\n",
       "        text-align: right;\n",
       "    }\n",
       "</style>\n",
       "<table border=\"1\" class=\"dataframe\">\n",
       "  <thead>\n",
       "    <tr style=\"text-align: right;\">\n",
       "      <th></th>\n",
       "      <th>date</th>\n",
       "      <th>time</th>\n",
       "      <th>open</th>\n",
       "      <th>high</th>\n",
       "      <th>low</th>\n",
       "      <th>close</th>\n",
       "      <th>volume</th>\n",
       "    </tr>\n",
       "  </thead>\n",
       "  <tbody>\n",
       "    <tr>\n",
       "      <th>1303828</th>\n",
       "      <td>2020-01-01</td>\n",
       "      <td>00:05:00</td>\n",
       "      <td>1.11628</td>\n",
       "      <td>1.11628</td>\n",
       "      <td>1.11628</td>\n",
       "      <td>1.11628</td>\n",
       "      <td>1</td>\n",
       "    </tr>\n",
       "    <tr>\n",
       "      <th>1303829</th>\n",
       "      <td>2020-01-01</td>\n",
       "      <td>00:10:00</td>\n",
       "      <td>1.11629</td>\n",
       "      <td>1.11709</td>\n",
       "      <td>1.11629</td>\n",
       "      <td>1.11709</td>\n",
       "      <td>26</td>\n",
       "    </tr>\n",
       "    <tr>\n",
       "      <th>1303830</th>\n",
       "      <td>2020-01-01</td>\n",
       "      <td>00:15:00</td>\n",
       "      <td>1.11712</td>\n",
       "      <td>1.11719</td>\n",
       "      <td>1.11703</td>\n",
       "      <td>1.11715</td>\n",
       "      <td>26</td>\n",
       "    </tr>\n",
       "    <tr>\n",
       "      <th>1303831</th>\n",
       "      <td>2020-01-01</td>\n",
       "      <td>00:20:00</td>\n",
       "      <td>1.11713</td>\n",
       "      <td>1.11732</td>\n",
       "      <td>1.11713</td>\n",
       "      <td>1.11732</td>\n",
       "      <td>23</td>\n",
       "    </tr>\n",
       "    <tr>\n",
       "      <th>1303832</th>\n",
       "      <td>2020-01-01</td>\n",
       "      <td>00:25:00</td>\n",
       "      <td>1.11734</td>\n",
       "      <td>1.11760</td>\n",
       "      <td>1.11734</td>\n",
       "      <td>1.11760</td>\n",
       "      <td>10</td>\n",
       "    </tr>\n",
       "  </tbody>\n",
       "</table>\n",
       "</div>"
      ],
      "text/plain": [
       "              date      time     open     high      low    close  volume\n",
       "1303828 2020-01-01  00:05:00  1.11628  1.11628  1.11628  1.11628       1\n",
       "1303829 2020-01-01  00:10:00  1.11629  1.11709  1.11629  1.11709      26\n",
       "1303830 2020-01-01  00:15:00  1.11712  1.11719  1.11703  1.11715      26\n",
       "1303831 2020-01-01  00:20:00  1.11713  1.11732  1.11713  1.11732      23\n",
       "1303832 2020-01-01  00:25:00  1.11734  1.11760  1.11734  1.11760      10"
      ]
     },
     "execution_count": 5,
     "metadata": {},
     "output_type": "execute_result"
    }
   ],
   "source": [
    "df.head()"
   ]
  },
  {
   "cell_type": "code",
   "execution_count": 6,
   "metadata": {},
   "outputs": [
    {
     "data": {
      "text/html": [
       "<div>\n",
       "<style scoped>\n",
       "    .dataframe tbody tr th:only-of-type {\n",
       "        vertical-align: middle;\n",
       "    }\n",
       "\n",
       "    .dataframe tbody tr th {\n",
       "        vertical-align: top;\n",
       "    }\n",
       "\n",
       "    .dataframe thead th {\n",
       "        text-align: right;\n",
       "    }\n",
       "</style>\n",
       "<table border=\"1\" class=\"dataframe\">\n",
       "  <thead>\n",
       "    <tr style=\"text-align: right;\">\n",
       "      <th></th>\n",
       "      <th>date</th>\n",
       "      <th>time</th>\n",
       "      <th>open</th>\n",
       "      <th>high</th>\n",
       "      <th>low</th>\n",
       "      <th>close</th>\n",
       "      <th>volume</th>\n",
       "      <th>PrevClose</th>\n",
       "    </tr>\n",
       "  </thead>\n",
       "  <tbody>\n",
       "    <tr>\n",
       "      <th>1303828</th>\n",
       "      <td>2020-01-01</td>\n",
       "      <td>00:05:00</td>\n",
       "      <td>1.11628</td>\n",
       "      <td>1.11628</td>\n",
       "      <td>1.11628</td>\n",
       "      <td>1.11628</td>\n",
       "      <td>1</td>\n",
       "      <td>NaN</td>\n",
       "    </tr>\n",
       "    <tr>\n",
       "      <th>1303829</th>\n",
       "      <td>2020-01-01</td>\n",
       "      <td>00:10:00</td>\n",
       "      <td>1.11629</td>\n",
       "      <td>1.11709</td>\n",
       "      <td>1.11629</td>\n",
       "      <td>1.11709</td>\n",
       "      <td>26</td>\n",
       "      <td>1.11628</td>\n",
       "    </tr>\n",
       "    <tr>\n",
       "      <th>1303830</th>\n",
       "      <td>2020-01-01</td>\n",
       "      <td>00:15:00</td>\n",
       "      <td>1.11712</td>\n",
       "      <td>1.11719</td>\n",
       "      <td>1.11703</td>\n",
       "      <td>1.11715</td>\n",
       "      <td>26</td>\n",
       "      <td>1.11709</td>\n",
       "    </tr>\n",
       "    <tr>\n",
       "      <th>1303831</th>\n",
       "      <td>2020-01-01</td>\n",
       "      <td>00:20:00</td>\n",
       "      <td>1.11713</td>\n",
       "      <td>1.11732</td>\n",
       "      <td>1.11713</td>\n",
       "      <td>1.11732</td>\n",
       "      <td>23</td>\n",
       "      <td>1.11715</td>\n",
       "    </tr>\n",
       "    <tr>\n",
       "      <th>1303832</th>\n",
       "      <td>2020-01-01</td>\n",
       "      <td>00:25:00</td>\n",
       "      <td>1.11734</td>\n",
       "      <td>1.11760</td>\n",
       "      <td>1.11734</td>\n",
       "      <td>1.11760</td>\n",
       "      <td>10</td>\n",
       "      <td>1.11732</td>\n",
       "    </tr>\n",
       "  </tbody>\n",
       "</table>\n",
       "</div>"
      ],
      "text/plain": [
       "              date      time     open     high      low    close  volume  \\\n",
       "1303828 2020-01-01  00:05:00  1.11628  1.11628  1.11628  1.11628       1   \n",
       "1303829 2020-01-01  00:10:00  1.11629  1.11709  1.11629  1.11709      26   \n",
       "1303830 2020-01-01  00:15:00  1.11712  1.11719  1.11703  1.11715      26   \n",
       "1303831 2020-01-01  00:20:00  1.11713  1.11732  1.11713  1.11732      23   \n",
       "1303832 2020-01-01  00:25:00  1.11734  1.11760  1.11734  1.11760      10   \n",
       "\n",
       "         PrevClose  \n",
       "1303828        NaN  \n",
       "1303829    1.11628  \n",
       "1303830    1.11709  \n",
       "1303831    1.11715  \n",
       "1303832    1.11732  "
      ]
     },
     "execution_count": 6,
     "metadata": {},
     "output_type": "execute_result"
    }
   ],
   "source": [
    "df['PrevClose'] = df['close'].shift(1)\n",
    "df.head()"
   ]
  },
  {
   "cell_type": "code",
   "execution_count": 7,
   "metadata": {},
   "outputs": [
    {
     "data": {
      "text/html": [
       "<div>\n",
       "<style scoped>\n",
       "    .dataframe tbody tr th:only-of-type {\n",
       "        vertical-align: middle;\n",
       "    }\n",
       "\n",
       "    .dataframe tbody tr th {\n",
       "        vertical-align: top;\n",
       "    }\n",
       "\n",
       "    .dataframe thead th {\n",
       "        text-align: right;\n",
       "    }\n",
       "</style>\n",
       "<table border=\"1\" class=\"dataframe\">\n",
       "  <thead>\n",
       "    <tr style=\"text-align: right;\">\n",
       "      <th></th>\n",
       "      <th>date</th>\n",
       "      <th>time</th>\n",
       "      <th>open</th>\n",
       "      <th>high</th>\n",
       "      <th>low</th>\n",
       "      <th>close</th>\n",
       "      <th>volume</th>\n",
       "      <th>PrevClose</th>\n",
       "      <th>return</th>\n",
       "      <th>mom</th>\n",
       "    </tr>\n",
       "  </thead>\n",
       "  <tbody>\n",
       "    <tr>\n",
       "      <th>1303828</th>\n",
       "      <td>2020-01-01</td>\n",
       "      <td>00:05:00</td>\n",
       "      <td>1.11628</td>\n",
       "      <td>1.11628</td>\n",
       "      <td>1.11628</td>\n",
       "      <td>1.11628</td>\n",
       "      <td>1</td>\n",
       "      <td>NaN</td>\n",
       "      <td>NaN</td>\n",
       "      <td>NaN</td>\n",
       "    </tr>\n",
       "    <tr>\n",
       "      <th>1303829</th>\n",
       "      <td>2020-01-01</td>\n",
       "      <td>00:10:00</td>\n",
       "      <td>1.11629</td>\n",
       "      <td>1.11709</td>\n",
       "      <td>1.11629</td>\n",
       "      <td>1.11709</td>\n",
       "      <td>26</td>\n",
       "      <td>1.11628</td>\n",
       "      <td>0.000725</td>\n",
       "      <td>NaN</td>\n",
       "    </tr>\n",
       "    <tr>\n",
       "      <th>1303830</th>\n",
       "      <td>2020-01-01</td>\n",
       "      <td>00:15:00</td>\n",
       "      <td>1.11712</td>\n",
       "      <td>1.11719</td>\n",
       "      <td>1.11703</td>\n",
       "      <td>1.11715</td>\n",
       "      <td>26</td>\n",
       "      <td>1.11709</td>\n",
       "      <td>0.000054</td>\n",
       "      <td>1.116840</td>\n",
       "    </tr>\n",
       "    <tr>\n",
       "      <th>1303831</th>\n",
       "      <td>2020-01-01</td>\n",
       "      <td>00:20:00</td>\n",
       "      <td>1.11713</td>\n",
       "      <td>1.11732</td>\n",
       "      <td>1.11713</td>\n",
       "      <td>1.11732</td>\n",
       "      <td>23</td>\n",
       "      <td>1.11715</td>\n",
       "      <td>0.000152</td>\n",
       "      <td>1.117187</td>\n",
       "    </tr>\n",
       "    <tr>\n",
       "      <th>1303832</th>\n",
       "      <td>2020-01-01</td>\n",
       "      <td>00:25:00</td>\n",
       "      <td>1.11734</td>\n",
       "      <td>1.11760</td>\n",
       "      <td>1.11734</td>\n",
       "      <td>1.11760</td>\n",
       "      <td>10</td>\n",
       "      <td>1.11732</td>\n",
       "      <td>0.000251</td>\n",
       "      <td>1.117357</td>\n",
       "    </tr>\n",
       "  </tbody>\n",
       "</table>\n",
       "</div>"
      ],
      "text/plain": [
       "              date      time     open     high      low    close  volume  \\\n",
       "1303828 2020-01-01  00:05:00  1.11628  1.11628  1.11628  1.11628       1   \n",
       "1303829 2020-01-01  00:10:00  1.11629  1.11709  1.11629  1.11709      26   \n",
       "1303830 2020-01-01  00:15:00  1.11712  1.11719  1.11703  1.11715      26   \n",
       "1303831 2020-01-01  00:20:00  1.11713  1.11732  1.11713  1.11732      23   \n",
       "1303832 2020-01-01  00:25:00  1.11734  1.11760  1.11734  1.11760      10   \n",
       "\n",
       "         PrevClose    return       mom  \n",
       "1303828        NaN       NaN       NaN  \n",
       "1303829    1.11628  0.000725       NaN  \n",
       "1303830    1.11709  0.000054  1.116840  \n",
       "1303831    1.11715  0.000152  1.117187  \n",
       "1303832    1.11732  0.000251  1.117357  "
      ]
     },
     "execution_count": 7,
     "metadata": {},
     "output_type": "execute_result"
    }
   ],
   "source": [
    "df['return'] = (df['close'] - df['PrevClose']) / df['close']\n",
    "# formula changed: (St - St-1) / St\n",
    "\n",
    "df['mom']=df['close'].rolling(3).mean()\n",
    "df.head()"
   ]
  },
  {
   "cell_type": "code",
   "execution_count": 8,
   "metadata": {},
   "outputs": [
    {
     "data": {
      "text/plain": [
       "(array([  444.,   598.,   731.,   971.,  1339.,  1726.,  2441.,  3469.,\n",
       "         4973.,  6956., 10190., 15311., 22623., 34282., 45779., 54429.,\n",
       "        34679., 22858., 15526., 10318.,  7124.,  4870.,  3404.,  2383.,\n",
       "         1828.,  1250.,   934.,   715.,   508.,   421.]),\n",
       " array([-1.00000000e-03, -9.33333333e-04, -8.66666667e-04, -8.00000000e-04,\n",
       "        -7.33333333e-04, -6.66666667e-04, -6.00000000e-04, -5.33333333e-04,\n",
       "        -4.66666667e-04, -4.00000000e-04, -3.33333333e-04, -2.66666667e-04,\n",
       "        -2.00000000e-04, -1.33333333e-04, -6.66666667e-05,  0.00000000e+00,\n",
       "         6.66666667e-05,  1.33333333e-04,  2.00000000e-04,  2.66666667e-04,\n",
       "         3.33333333e-04,  4.00000000e-04,  4.66666667e-04,  5.33333333e-04,\n",
       "         6.00000000e-04,  6.66666667e-04,  7.33333333e-04,  8.00000000e-04,\n",
       "         8.66666667e-04,  9.33333333e-04,  1.00000000e-03]),\n",
       " <BarContainer object of 30 artists>)"
      ]
     },
     "execution_count": 8,
     "metadata": {},
     "output_type": "execute_result"
    },
    {
     "data": {
      "image/png": "[encoded data removed]",
      "text/plain": [
       "<Figure size 640x480 with 1 Axes>"
      ]
     },
     "metadata": {},
     "output_type": "display_data"
    }
   ],
   "source": [
    "plt.hist(df['return'] , bins=30,range=(-0.001,0.001))"
   ]
  },
  {
   "cell_type": "code",
   "execution_count": 9,
   "metadata": {},
   "outputs": [],
   "source": [
    "# input_data = df[['close', 'mom','volume']][2:]\n",
    "input_data = df[['close','volume','mom']][2:]\n",
    "# targets = df['return'].values\n",
    "targets = df[['return']][2:].values"
   ]
  },
  {
   "cell_type": "code",
   "execution_count": 10,
   "metadata": {},
   "outputs": [
    {
     "data": {
      "text/html": [
       "<div>\n",
       "<style scoped>\n",
       "    .dataframe tbody tr th:only-of-type {\n",
       "        vertical-align: middle;\n",
       "    }\n",
       "\n",
       "    .dataframe tbody tr th {\n",
       "        vertical-align: top;\n",
       "    }\n",
       "\n",
       "    .dataframe thead th {\n",
       "        text-align: right;\n",
       "    }\n",
       "</style>\n",
       "<table border=\"1\" class=\"dataframe\">\n",
       "  <thead>\n",
       "    <tr style=\"text-align: right;\">\n",
       "      <th></th>\n",
       "      <th>close</th>\n",
       "      <th>volume</th>\n",
       "      <th>mom</th>\n",
       "    </tr>\n",
       "  </thead>\n",
       "  <tbody>\n",
       "    <tr>\n",
       "      <th>1303830</th>\n",
       "      <td>1.11715</td>\n",
       "      <td>26</td>\n",
       "      <td>1.116840</td>\n",
       "    </tr>\n",
       "    <tr>\n",
       "      <th>1303831</th>\n",
       "      <td>1.11732</td>\n",
       "      <td>23</td>\n",
       "      <td>1.117187</td>\n",
       "    </tr>\n",
       "    <tr>\n",
       "      <th>1303832</th>\n",
       "      <td>1.11760</td>\n",
       "      <td>10</td>\n",
       "      <td>1.117357</td>\n",
       "    </tr>\n",
       "    <tr>\n",
       "      <th>1303833</th>\n",
       "      <td>1.11762</td>\n",
       "      <td>1</td>\n",
       "      <td>1.117513</td>\n",
       "    </tr>\n",
       "    <tr>\n",
       "      <th>1303834</th>\n",
       "      <td>1.11763</td>\n",
       "      <td>5</td>\n",
       "      <td>1.117617</td>\n",
       "    </tr>\n",
       "    <tr>\n",
       "      <th>...</th>\n",
       "      <td>...</td>\n",
       "      <td>...</td>\n",
       "      <td>...</td>\n",
       "    </tr>\n",
       "    <tr>\n",
       "      <th>1620745</th>\n",
       "      <td>1.08773</td>\n",
       "      <td>391</td>\n",
       "      <td>1.087737</td>\n",
       "    </tr>\n",
       "    <tr>\n",
       "      <th>1620746</th>\n",
       "      <td>1.08782</td>\n",
       "      <td>382</td>\n",
       "      <td>1.087737</td>\n",
       "    </tr>\n",
       "    <tr>\n",
       "      <th>1620747</th>\n",
       "      <td>1.08774</td>\n",
       "      <td>394</td>\n",
       "      <td>1.087763</td>\n",
       "    </tr>\n",
       "    <tr>\n",
       "      <th>1620748</th>\n",
       "      <td>1.08781</td>\n",
       "      <td>444</td>\n",
       "      <td>1.087790</td>\n",
       "    </tr>\n",
       "    <tr>\n",
       "      <th>1620749</th>\n",
       "      <td>1.08789</td>\n",
       "      <td>373</td>\n",
       "      <td>1.087813</td>\n",
       "    </tr>\n",
       "  </tbody>\n",
       "</table>\n",
       "<p>316920 rows × 3 columns</p>\n",
       "</div>"
      ],
      "text/plain": [
       "           close  volume       mom\n",
       "1303830  1.11715      26  1.116840\n",
       "1303831  1.11732      23  1.117187\n",
       "1303832  1.11760      10  1.117357\n",
       "1303833  1.11762       1  1.117513\n",
       "1303834  1.11763       5  1.117617\n",
       "...          ...     ...       ...\n",
       "1620745  1.08773     391  1.087737\n",
       "1620746  1.08782     382  1.087737\n",
       "1620747  1.08774     394  1.087763\n",
       "1620748  1.08781     444  1.087790\n",
       "1620749  1.08789     373  1.087813\n",
       "\n",
       "[316920 rows x 3 columns]"
      ]
     },
     "execution_count": 10,
     "metadata": {},
     "output_type": "execute_result"
    }
   ],
   "source": [
    "input_data"
   ]
  },
  {
   "cell_type": "code",
   "execution_count": 11,
   "metadata": {},
   "outputs": [
    {
     "data": {
      "text/plain": [
       "array([[ 5.37080965e-05],\n",
       "       [ 1.52149787e-04],\n",
       "       [ 2.50536865e-04],\n",
       "       ...,\n",
       "       [-7.35469873e-05],\n",
       "       [ 6.43494728e-05],\n",
       "       [ 7.35368466e-05]])"
      ]
     },
     "execution_count": 11,
     "metadata": {},
     "output_type": "execute_result"
    }
   ],
   "source": [
    "targets"
   ]
  },
  {
   "cell_type": "code",
   "execution_count": 12,
   "metadata": {},
   "outputs": [
    {
     "name": "stdout",
     "output_type": "stream",
     "text": [
      "3\n"
     ]
    }
   ],
   "source": [
    "T = 10\n",
    "D = input_data.shape[1]\n",
    "N = len(input_data) - T\n",
    "print(D)"
   ]
  },
  {
   "cell_type": "code",
   "execution_count": 13,
   "metadata": {},
   "outputs": [],
   "source": [
    "Ntrain=int(len(input_data)*0.8)\n",
    "scaler = StandardScaler()\n",
    "scaler.fit(input_data[:Ntrain + T - 1])\n",
    "input_data = scaler.transform(input_data)"
   ]
  },
  {
   "cell_type": "code",
   "execution_count": 14,
   "metadata": {},
   "outputs": [
    {
     "name": "stderr",
     "output_type": "stream",
     "text": [
      "/var/folders/dk/w9782s892tj0nd0v2724j3qr0000gr/T/ipykernel_33670/2205433053.py:6: DeprecationWarning: Conversion of an array with ndim > 0 to a scalar is deprecated, and will error in future. Ensure you extract a single element from your array before performing this operation. (Deprecated NumPy 1.25.)\n",
      "  Y_train[t] = (targets[t+T]>0)\n"
     ]
    }
   ],
   "source": [
    "X_train = np.zeros((Ntrain, T, D))\n",
    "Y_train = np.zeros(Ntrain)\n",
    "\n",
    "for t in range(Ntrain):\n",
    "    X_train[t, :, :] = input_data[t:t+T]\n",
    "    Y_train[t] = (targets[t+T]>0)"
   ]
  },
  {
   "cell_type": "code",
   "execution_count": 15,
   "metadata": {},
   "outputs": [
    {
     "data": {
      "text/plain": [
       "array([[[-0.06131757, -1.33045878, -0.06599964],\n",
       "        [-0.05875085, -1.33575745, -0.06076551],\n",
       "        [-0.05452332, -1.35871837, -0.05819878],\n",
       "        [-0.05422135, -1.3746144 , -0.05583335],\n",
       "        [-0.05407037, -1.3675495 , -0.05427318],\n",
       "        [-0.05407037, -1.37284817, -0.0541222 ]],\n",
       "\n",
       "       [[-0.05875085, -1.33575745, -0.06076551],\n",
       "        [-0.05452332, -1.35871837, -0.05819878],\n",
       "        [-0.05422135, -1.3746144 , -0.05583335],\n",
       "        [-0.05407037, -1.3675495 , -0.05427318],\n",
       "        [-0.05407037, -1.37284817, -0.0541222 ],\n",
       "        [-0.03685824, -1.3534197 , -0.04833446]],\n",
       "\n",
       "       [[-0.05452332, -1.35871837, -0.05819878],\n",
       "        [-0.05422135, -1.3746144 , -0.05583335],\n",
       "        [-0.05407037, -1.3675495 , -0.05427318],\n",
       "        [-0.05407037, -1.37284817, -0.0541222 ],\n",
       "        [-0.03685824, -1.3534197 , -0.04833446],\n",
       "        [-0.03383857, -1.37284817, -0.04159048]],\n",
       "\n",
       "       ...,\n",
       "\n",
       "       [[-0.36932398,  0.27680563, -0.36379136],\n",
       "        [-0.37264561,  0.35805196, -0.36806925],\n",
       "        [-0.36721021,  0.40397381, -0.36973008],\n",
       "        [-0.37249463,  0.05602755, -0.37078697],\n",
       "        [-0.36615332,  0.33685727, -0.36862286],\n",
       "        [-0.36554939,  0.00657326, -0.36806925]],\n",
       "\n",
       "       [[-0.37264561,  0.35805196, -0.36806925],\n",
       "        [-0.36721021,  0.40397381, -0.36973008],\n",
       "        [-0.37249463,  0.05602755, -0.37078697],\n",
       "        [-0.36615332,  0.33685727, -0.36862286],\n",
       "        [-0.36554939,  0.00657326, -0.36806925],\n",
       "        [-0.3608689 ,  0.22911757, -0.36419398]],\n",
       "\n",
       "       [[-0.36721021,  0.40397381, -0.36973008],\n",
       "        [-0.37249463,  0.05602755, -0.37078697],\n",
       "        [-0.36615332,  0.33685727, -0.36862286],\n",
       "        [-0.36554939,  0.00657326, -0.36806925],\n",
       "        [-0.3608689 ,  0.22911757, -0.36419398],\n",
       "        [-0.3617748 , -0.1417896 , -0.36273447]]])"
      ]
     },
     "execution_count": 15,
     "metadata": {},
     "output_type": "execute_result"
    }
   ],
   "source": [
    "X_train"
   ]
  },
  {
   "cell_type": "code",
   "execution_count": 16,
   "metadata": {},
   "outputs": [
    {
     "data": {
      "text/plain": [
       "(253536, 6, 3)"
      ]
     },
     "execution_count": 16,
     "metadata": {},
     "output_type": "execute_result"
    }
   ],
   "source": [
    "X_train.shape"
   ]
  },
  {
   "cell_type": "code",
   "execution_count": 17,
   "metadata": {},
   "outputs": [
    {
     "data": {
      "text/plain": [
       "array([1., 1., 1., ..., 1., 0., 1.])"
      ]
     },
     "execution_count": 17,
     "metadata": {},
     "output_type": "execute_result"
    }
   ],
   "source": [
    "Y_train"
   ]
  },
  {
   "cell_type": "code",
   "execution_count": 18,
   "metadata": {},
   "outputs": [
    {
     "name": "stderr",
     "output_type": "stream",
     "text": [
      "/var/folders/dk/w9782s892tj0nd0v2724j3qr0000gr/T/ipykernel_33670/229010567.py:7: DeprecationWarning: Conversion of an array with ndim > 0 to a scalar is deprecated, and will error in future. Ensure you extract a single element from your array before performing this operation. (Deprecated NumPy 1.25.)\n",
      "  Y_test[u] = (targets[t+T]>0 )\n"
     ]
    }
   ],
   "source": [
    "X_test = np.zeros((N - Ntrain, T, D))\n",
    "Y_test = np.zeros(N - Ntrain)\n",
    "\n",
    "for u in range(N - Ntrain):\n",
    "    t = u + Ntrain\n",
    "    X_test[u, :, :] = input_data[t:t+T]\n",
    "    Y_test[u] = (targets[t+T]>0 )"
   ]
  },
  {
   "cell_type": "code",
   "execution_count": 19,
   "metadata": {},
   "outputs": [],
   "source": [
    "\n",
    "i = Input(shape=(T, D))\n",
    "x = LSTM(30, dropout=0.2)(i)\n",
    "# x = LSTM(50, dropout=0.2)(i)\n",
    "\n",
    "# x=keras.layers.Dropout(0.3)(x)\n",
    "\n",
    "#x= Dense(10, activation='relu')(x)\n",
    "#x=keras.layers.Dropout(0.3)(x)\n",
    "\n",
    "x = Dense(1, activation='sigmoid')(x)\n",
    "\n",
    "model = Model(i, x)\n",
    "model.compile(\n",
    "  loss='binary_crossentropy',\n",
    "  optimizer=Adam(learning_rate=0.005),\n",
    "# instead of learning_rate=0.001\n",
    "  metrics=['accuracy'],\n",
    ")"
   ]
  },
  {
   "cell_type": "code",
   "execution_count": 20,
   "metadata": {},
   "outputs": [
    {
     "name": "stdout",
     "output_type": "stream",
     "text": [
      "Epoch 1/30\n",
      "\u001b[1m6339/6339\u001b[0m \u001b[32m━━━━━━━━━━━━━━━━━━━━\u001b[0m\u001b[37m\u001b[0m \u001b[1m28s\u001b[0m 4ms/step - accuracy: 0.5091 - loss: 0.6936 - val_accuracy: 0.4948 - val_loss: 0.6936\n",
      "Epoch 2/30\n",
      "\u001b[1m6339/6339\u001b[0m \u001b[32m━━━━━━━━━━━━━━━━━━━━\u001b[0m\u001b[37m\u001b[0m \u001b[1m24s\u001b[0m 4ms/step - accuracy: 0.5080 - loss: 0.6931 - val_accuracy: 0.5050 - val_loss: 0.6934\n",
      "Epoch 3/30\n",
      "\u001b[1m6339/6339\u001b[0m \u001b[32m━━━━━━━━━━━━━━━━━━━━\u001b[0m\u001b[37m\u001b[0m \u001b[1m25s\u001b[0m 4ms/step - accuracy: 0.5101 - loss: 0.6930 - val_accuracy: 0.5050 - val_loss: 0.6937\n",
      "Epoch 4/30\n",
      "\u001b[1m6339/6339\u001b[0m \u001b[32m━━━━━━━━━━━━━━━━━━━━\u001b[0m\u001b[37m\u001b[0m \u001b[1m24s\u001b[0m 4ms/step - accuracy: 0.5083 - loss: 0.6930 - val_accuracy: 0.4990 - val_loss: 0.6932\n",
      "Epoch 5/30\n",
      "\u001b[1m6339/6339\u001b[0m \u001b[32m━━━━━━━━━━━━━━━━━━━━\u001b[0m\u001b[37m\u001b[0m \u001b[1m24s\u001b[0m 4ms/step - accuracy: 0.5065 - loss: 0.6931 - val_accuracy: 0.5052 - val_loss: 0.6931\n",
      "Epoch 6/30\n",
      "\u001b[1m6339/6339\u001b[0m \u001b[32m━━━━━━━━━━━━━━━━━━━━\u001b[0m\u001b[37m\u001b[0m \u001b[1m25s\u001b[0m 4ms/step - accuracy: 0.5110 - loss: 0.6929 - val_accuracy: 0.4979 - val_loss: 0.6936\n",
      "Epoch 7/30\n",
      "\u001b[1m6339/6339\u001b[0m \u001b[32m━━━━━━━━━━━━━━━━━━━━\u001b[0m\u001b[37m\u001b[0m \u001b[1m25s\u001b[0m 4ms/step - accuracy: 0.5104 - loss: 0.6930 - val_accuracy: 0.5052 - val_loss: 0.6932\n",
      "Epoch 8/30\n",
      "\u001b[1m6339/6339\u001b[0m \u001b[32m━━━━━━━━━━━━━━━━━━━━\u001b[0m\u001b[37m\u001b[0m \u001b[1m34s\u001b[0m 5ms/step - accuracy: 0.5098 - loss: 0.6930 - val_accuracy: 0.5053 - val_loss: 0.6931\n",
      "Epoch 9/30\n",
      "\u001b[1m6339/6339\u001b[0m \u001b[32m━━━━━━━━━━━━━━━━━━━━\u001b[0m\u001b[37m\u001b[0m \u001b[1m35s\u001b[0m 5ms/step - accuracy: 0.5051 - loss: 0.6931 - val_accuracy: 0.5052 - val_loss: 0.6932\n",
      "Epoch 10/30\n",
      "\u001b[1m6339/6339\u001b[0m \u001b[32m━━━━━━━━━━━━━━━━━━━━\u001b[0m\u001b[37m\u001b[0m \u001b[1m35s\u001b[0m 6ms/step - accuracy: 0.5094 - loss: 0.6930 - val_accuracy: 0.5037 - val_loss: 0.6931\n",
      "Epoch 11/30\n",
      "\u001b[1m6339/6339\u001b[0m \u001b[32m━━━━━━━━━━━━━━━━━━━━\u001b[0m\u001b[37m\u001b[0m \u001b[1m40s\u001b[0m 6ms/step - accuracy: 0.5095 - loss: 0.6929 - val_accuracy: 0.5054 - val_loss: 0.6932\n",
      "Epoch 12/30\n",
      "\u001b[1m6339/6339\u001b[0m \u001b[32m━━━━━━━━━━━━━━━━━━━━\u001b[0m\u001b[37m\u001b[0m \u001b[1m45s\u001b[0m 7ms/step - accuracy: 0.5100 - loss: 0.6929 - val_accuracy: 0.5047 - val_loss: 0.6931\n",
      "Epoch 13/30\n",
      "\u001b[1m6339/6339\u001b[0m \u001b[32m━━━━━━━━━━━━━━━━━━━━\u001b[0m\u001b[37m\u001b[0m \u001b[1m38s\u001b[0m 6ms/step - accuracy: 0.5094 - loss: 0.6930 - val_accuracy: 0.5047 - val_loss: 0.6931\n",
      "Epoch 14/30\n",
      "\u001b[1m6339/6339\u001b[0m \u001b[32m━━━━━━━━━━━━━━━━━━━━\u001b[0m\u001b[37m\u001b[0m \u001b[1m37s\u001b[0m 6ms/step - accuracy: 0.5087 - loss: 0.6929 - val_accuracy: 0.5050 - val_loss: 0.6931\n",
      "Epoch 15/30\n",
      "\u001b[1m6339/6339\u001b[0m \u001b[32m━━━━━━━━━━━━━━━━━━━━\u001b[0m\u001b[37m\u001b[0m \u001b[1m37s\u001b[0m 6ms/step - accuracy: 0.5072 - loss: 0.6930 - val_accuracy: 0.5007 - val_loss: 0.6931\n",
      "Epoch 16/30\n",
      "\u001b[1m6339/6339\u001b[0m \u001b[32m━━━━━━━━━━━━━━━━━━━━\u001b[0m\u001b[37m\u001b[0m \u001b[1m36s\u001b[0m 6ms/step - accuracy: 0.5100 - loss: 0.6929 - val_accuracy: 0.5054 - val_loss: 0.6932\n",
      "Epoch 17/30\n",
      "\u001b[1m6339/6339\u001b[0m \u001b[32m━━━━━━━━━━━━━━━━━━━━\u001b[0m\u001b[37m\u001b[0m \u001b[1m36s\u001b[0m 6ms/step - accuracy: 0.5074 - loss: 0.6930 - val_accuracy: 0.5041 - val_loss: 0.6934\n",
      "Epoch 18/30\n",
      "\u001b[1m6339/6339\u001b[0m \u001b[32m━━━━━━━━━━━━━━━━━━━━\u001b[0m\u001b[37m\u001b[0m \u001b[1m40s\u001b[0m 6ms/step - accuracy: 0.5105 - loss: 0.6930 - val_accuracy: 0.5004 - val_loss: 0.6932\n",
      "Epoch 19/30\n",
      "\u001b[1m6339/6339\u001b[0m \u001b[32m━━━━━━━━━━━━━━━━━━━━\u001b[0m\u001b[37m\u001b[0m \u001b[1m43s\u001b[0m 7ms/step - accuracy: 0.5058 - loss: 0.6930 - val_accuracy: 0.5047 - val_loss: 0.6934\n",
      "Epoch 20/30\n",
      "\u001b[1m6339/6339\u001b[0m \u001b[32m━━━━━━━━━━━━━━━━━━━━\u001b[0m\u001b[37m\u001b[0m \u001b[1m38s\u001b[0m 6ms/step - accuracy: 0.5080 - loss: 0.6930 - val_accuracy: 0.5041 - val_loss: 0.6931\n",
      "Epoch 21/30\n",
      "\u001b[1m6339/6339\u001b[0m \u001b[32m━━━━━━━━━━━━━━━━━━━━\u001b[0m\u001b[37m\u001b[0m \u001b[1m38s\u001b[0m 6ms/step - accuracy: 0.5083 - loss: 0.6930 - val_accuracy: 0.5053 - val_loss: 0.6938\n",
      "Epoch 22/30\n",
      "\u001b[1m6339/6339\u001b[0m \u001b[32m━━━━━━━━━━━━━━━━━━━━\u001b[0m\u001b[37m\u001b[0m \u001b[1m35s\u001b[0m 6ms/step - accuracy: 0.5090 - loss: 0.6931 - val_accuracy: 0.5052 - val_loss: 0.6939\n",
      "Epoch 23/30\n",
      "\u001b[1m6339/6339\u001b[0m \u001b[32m━━━━━━━━━━━━━━━━━━━━\u001b[0m\u001b[37m\u001b[0m \u001b[1m36s\u001b[0m 6ms/step - accuracy: 0.5087 - loss: 0.6929 - val_accuracy: 0.5019 - val_loss: 0.6932\n",
      "Epoch 24/30\n",
      "\u001b[1m6339/6339\u001b[0m \u001b[32m━━━━━━━━━━━━━━━━━━━━\u001b[0m\u001b[37m\u001b[0m \u001b[1m36s\u001b[0m 6ms/step - accuracy: 0.5074 - loss: 0.6930 - val_accuracy: 0.5029 - val_loss: 0.6932\n",
      "Epoch 25/30\n",
      "\u001b[1m6339/6339\u001b[0m \u001b[32m━━━━━━━━━━━━━━━━━━━━\u001b[0m\u001b[37m\u001b[0m \u001b[1m35s\u001b[0m 5ms/step - accuracy: 0.5082 - loss: 0.6930 - val_accuracy: 0.5050 - val_loss: 0.6932\n",
      "Epoch 26/30\n",
      "\u001b[1m6339/6339\u001b[0m \u001b[32m━━━━━━━━━━━━━━━━━━━━\u001b[0m\u001b[37m\u001b[0m \u001b[1m32s\u001b[0m 5ms/step - accuracy: 0.5073 - loss: 0.6930 - val_accuracy: 0.5054 - val_loss: 0.6931\n",
      "Epoch 27/30\n",
      "\u001b[1m6339/6339\u001b[0m \u001b[32m━━━━━━━━━━━━━━━━━━━━\u001b[0m\u001b[37m\u001b[0m \u001b[1m34s\u001b[0m 5ms/step - accuracy: 0.5122 - loss: 0.6928 - val_accuracy: 0.5034 - val_loss: 0.6931\n",
      "Epoch 28/30\n",
      "\u001b[1m6339/6339\u001b[0m \u001b[32m━━━━━━━━━━━━━━━━━━━━\u001b[0m\u001b[37m\u001b[0m \u001b[1m35s\u001b[0m 5ms/step - accuracy: 0.5093 - loss: 0.6929 - val_accuracy: 0.5052 - val_loss: 0.6939\n",
      "Epoch 29/30\n",
      "\u001b[1m6339/6339\u001b[0m \u001b[32m━━━━━━━━━━━━━━━━━━━━\u001b[0m\u001b[37m\u001b[0m \u001b[1m40s\u001b[0m 5ms/step - accuracy: 0.5097 - loss: 0.6930 - val_accuracy: 0.5047 - val_loss: 0.6933\n",
      "Epoch 30/30\n",
      "\u001b[1m6339/6339\u001b[0m \u001b[32m━━━━━━━━━━━━━━━━━━━━\u001b[0m\u001b[37m\u001b[0m \u001b[1m33s\u001b[0m 5ms/step - accuracy: 0.5111 - loss: 0.6929 - val_accuracy: 0.5053 - val_loss: 0.6932\n"
     ]
    }
   ],
   "source": [
    "#es = EarlyStopping(patience=20, restore_best_weights=True)\n",
    "#callbacks=[es],\n",
    "history = model.fit(X_train, Y_train,\n",
    "          validation_split=0.2,\n",
    "          batch_size=32,\n",
    "          epochs=30,\n",
    "          verbose=1)"
   ]
  },
  {
   "cell_type": "code",
   "execution_count": 21,
   "metadata": {},
   "outputs": [
    {
     "data": {
      "image/png": "[encoded data removed]",
      "text/plain": [
       "<Figure size 640x480 with 1 Axes>"
      ]
     },
     "metadata": {},
     "output_type": "display_data"
    }
   ],
   "source": [
    "plt.plot(history.history['loss'], label='train_loss')\n",
    "plt.plot(history.history['val_loss'], label='val_loss')\n",
    "plt.legend()\n",
    "plt.show()"
   ]
  },
  {
   "cell_type": "code",
   "execution_count": 22,
   "metadata": {},
   "outputs": [
    {
     "data": {
      "image/png": "[encoded data removed]",
      "text/plain": [
       "<Figure size 640x480 with 1 Axes>"
      ]
     },
     "metadata": {},
     "output_type": "display_data"
    }
   ],
   "source": [
    "plt.plot(history.history['accuracy'], label='train_accuracy')\n",
    "plt.plot(history.history['val_accuracy'], label='val_accuracy')\n",
    "plt.legend()\n",
    "plt.show()"
   ]
  },
  {
   "cell_type": "code",
   "execution_count": 23,
   "metadata": {},
   "outputs": [
    {
     "name": "stdout",
     "output_type": "stream",
     "text": [
      "\u001b[1m1981/1981\u001b[0m \u001b[32m━━━━━━━━━━━━━━━━━━━━\u001b[0m\u001b[37m\u001b[0m \u001b[1m4s\u001b[0m 2ms/step\n"
     ]
    }
   ],
   "source": [
    "pred=model.predict(X_test)\n"
   ]
  },
  {
   "cell_type": "code",
   "execution_count": 24,
   "metadata": {},
   "outputs": [
    {
     "data": {
      "text/plain": [
       "array([[0.48626044],\n",
       "       [0.48499113],\n",
       "       [0.48691443],\n",
       "       ...,\n",
       "       [0.48320854],\n",
       "       [0.48341635],\n",
       "       [0.48404002]], dtype=float32)"
      ]
     },
     "execution_count": 24,
     "metadata": {},
     "output_type": "execute_result"
    }
   ],
   "source": [
    "pred"
   ]
  },
  {
   "cell_type": "code",
   "execution_count": 25,
   "metadata": {},
   "outputs": [
    {
     "name": "stdout",
     "output_type": "stream",
     "text": [
      "\u001b[1m1981/1981\u001b[0m \u001b[32m━━━━━━━━━━━━━━━━━━━━\u001b[0m\u001b[37m\u001b[0m \u001b[1m5s\u001b[0m 2ms/step - accuracy: 0.5131 - loss: 0.6926\n"
     ]
    }
   ],
   "source": [
    "lstm2=model.evaluate(X_test, Y_test)"
   ]
  },
  {
   "cell_type": "markdown",
   "metadata": {},
   "source": []
  },
  {
   "cell_type": "code",
   "execution_count": 28,
   "metadata": {},
   "outputs": [
    {
     "data": {
      "text/plain": [
       "(array([1.0000e+00, 3.0000e+00, 3.0000e+00, 8.0000e+00, 1.5000e+01,\n",
       "        1.6000e+01, 2.6000e+01, 3.9000e+01, 6.8000e+01, 7.3000e+01,\n",
       "        8.7000e+01, 1.1400e+02, 1.5100e+02, 3.4100e+02, 7.1900e+02,\n",
       "        1.2330e+03, 1.5280e+03, 2.2470e+03, 4.5120e+03, 2.2351e+04,\n",
       "        1.4401e+04, 8.3860e+03, 4.0940e+03, 1.3410e+03, 8.0100e+02,\n",
       "        3.9400e+02, 1.6700e+02, 7.7000e+01, 4.9000e+01, 3.5000e+01,\n",
       "        2.5000e+01, 1.9000e+01, 1.2000e+01, 5.0000e+00, 9.0000e+00,\n",
       "        5.0000e+00, 9.0000e+00, 2.0000e+00, 0.0000e+00, 4.0000e+00,\n",
       "        0.0000e+00, 3.0000e+00, 2.0000e+00, 0.0000e+00, 0.0000e+00,\n",
       "        0.0000e+00, 0.0000e+00, 1.0000e+00, 0.0000e+00, 2.0000e+00]),\n",
       " array([0.4284097 , 0.43127707, 0.43414444, 0.4370118 , 0.43987915,\n",
       "        0.44274652, 0.4456139 , 0.44848126, 0.45134863, 0.454216  ,\n",
       "        0.45708334, 0.45995072, 0.4628181 , 0.46568546, 0.46855283,\n",
       "        0.4714202 , 0.47428754, 0.4771549 , 0.48002228, 0.48288965,\n",
       "        0.48575702, 0.4886244 , 0.49149173, 0.4943591 , 0.49722648,\n",
       "        0.5000938 , 0.5029612 , 0.50582856, 0.50869596, 0.5115633 ,\n",
       "        0.5144307 , 0.51729804, 0.5201654 , 0.5230328 , 0.5259001 ,\n",
       "        0.5287675 , 0.53163487, 0.53450227, 0.5373696 , 0.54023695,\n",
       "        0.54310435, 0.5459717 , 0.5488391 , 0.55170643, 0.5545738 ,\n",
       "        0.5574412 , 0.5603085 , 0.5631759 , 0.56604326, 0.56891066,\n",
       "        0.571778  ], dtype=float32),\n",
       " <BarContainer object of 50 artists>)"
      ]
     },
     "execution_count": 28,
     "metadata": {},
     "output_type": "execute_result"
    },
    {
     "data": {
      "image/png": "[encoded data removed]",
      "text/plain": [
       "<Figure size 640x480 with 1 Axes>"
      ]
     },
     "metadata": {},
     "output_type": "display_data"
    }
   ],
   "source": [
    "plt.hist(pred, bins=50)\n"
   ]
  },
  {
   "cell_type": "code",
   "execution_count": 29,
   "metadata": {},
   "outputs": [
    {
     "data": {
      "text/plain": [
       "(array([32472.,     0.,     0.,     0.,     0.,     0.,     0.,     0.,\n",
       "            0.,     0.,     0.,     0.,     0.,     0.,     0.,     0.,\n",
       "            0.,     0.,     0.,     0.,     0.,     0.,     0.,     0.,\n",
       "            0.,     0.,     0.,     0.,     0.,     0.,     0.,     0.,\n",
       "            0.,     0.,     0.,     0.,     0.,     0.,     0.,     0.,\n",
       "            0.,     0.,     0.,     0.,     0.,     0.,     0.,     0.,\n",
       "            0., 30906.]),\n",
       " array([0.  , 0.02, 0.04, 0.06, 0.08, 0.1 , 0.12, 0.14, 0.16, 0.18, 0.2 ,\n",
       "        0.22, 0.24, 0.26, 0.28, 0.3 , 0.32, 0.34, 0.36, 0.38, 0.4 , 0.42,\n",
       "        0.44, 0.46, 0.48, 0.5 , 0.52, 0.54, 0.56, 0.58, 0.6 , 0.62, 0.64,\n",
       "        0.66, 0.68, 0.7 , 0.72, 0.74, 0.76, 0.78, 0.8 , 0.82, 0.84, 0.86,\n",
       "        0.88, 0.9 , 0.92, 0.94, 0.96, 0.98, 1.  ]),\n",
       " <BarContainer object of 50 artists>)"
      ]
     },
     "execution_count": 29,
     "metadata": {},
     "output_type": "execute_result"
    },
    {
     "data": {
      "image/png": "[encoded data removed]",
      "text/plain": [
       "<Figure size 640x480 with 1 Axes>"
      ]
     },
     "metadata": {},
     "output_type": "display_data"
    }
   ],
   "source": [
    "plt.hist(Y_test, bins=50)"
   ]
  },
  {
   "cell_type": "code",
   "execution_count": 27,
   "metadata": {},
   "outputs": [
    {
     "name": "stderr",
     "output_type": "stream",
     "text": [
      "WARNING:absl:You are saving your model as an HDF5 file via `model.save()` or `keras.saving.save_model(model)`. This file format is considered legacy. We recommend using instead the native Keras format, e.g. `model.save('my_model.keras')` or `keras.saving.save_model(model, 'my_model.keras')`. \n"
     ]
    }
   ],
   "source": [
    "model.save(\"model1.h5\")"
   ]
  }
 ],
 "metadata": {
  "kernelspec": {
   "display_name": "Python 3 (ipykernel)",
   "language": "python",
   "name": "python3"
  },
  "language_info": {
   "codemirror_mode": {
    "name": "ipython",
    "version": 3
   },
   "file_extension": ".py",
   "mimetype": "text/x-python",
   "name": "python",
   "nbconvert_exporter": "python",
   "pygments_lexer": "ipython3",
   "version": "3.10.6"
  },
  "toc": {
   "base_numbering": 1,
   "nav_menu": {},
   "number_sections": true,
   "sideBar": true,
   "skip_h1_title": false,
   "title_cell": "Table of Contents",
   "title_sidebar": "Contents",
   "toc_cell": false,
   "toc_position": {},
   "toc_section_display": true,
   "toc_window_display": false
  }
 },
 "nbformat": 4,
 "nbformat_minor": 2
}
