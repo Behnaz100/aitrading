{
 "cells": [
  {
   "cell_type": "code",
   "execution_count": 1,
   "metadata": {},
   "outputs": [
    {
     "name": "stderr",
     "output_type": "stream",
     "text": [
      "2024-03-19 00:51:32.232713: I tensorflow/core/platform/cpu_feature_guard.cc:193] This TensorFlow binary is optimized with oneAPI Deep Neural Network Library (oneDNN) to use the following CPU instructions in performance-critical operations:  AVX2 FMA\n",
      "To enable them in other operations, rebuild TensorFlow with the appropriate compiler flags.\n",
      "2024-03-19 00:51:32.474244: W tensorflow/stream_executor/platform/default/dso_loader.cc:64] Could not load dynamic library 'libcudart.so.11.0'; dlerror: libcudart.so.11.0: cannot open shared object file: No such file or directory\n",
      "2024-03-19 00:51:32.474271: I tensorflow/stream_executor/cuda/cudart_stub.cc:29] Ignore above cudart dlerror if you do not have a GPU set up on your machine.\n",
      "2024-03-19 00:51:32.531429: E tensorflow/stream_executor/cuda/cuda_blas.cc:2981] Unable to register cuBLAS factory: Attempting to register factory for plugin cuBLAS when one has already been registered\n",
      "2024-03-19 00:51:34.206129: W tensorflow/stream_executor/platform/default/dso_loader.cc:64] Could not load dynamic library 'libnvinfer.so.7'; dlerror: libnvinfer.so.7: cannot open shared object file: No such file or directory\n",
      "2024-03-19 00:51:34.206309: W tensorflow/stream_executor/platform/default/dso_loader.cc:64] Could not load dynamic library 'libnvinfer_plugin.so.7'; dlerror: libnvinfer_plugin.so.7: cannot open shared object file: No such file or directory\n",
      "2024-03-19 00:51:34.206324: W tensorflow/compiler/tf2tensorrt/utils/py_utils.cc:38] TF-TRT Warning: Cannot dlopen some TensorRT libraries. If you would like to use Nvidia GPU with TensorRT, please make sure the missing libraries mentioned above are installed properly.\n"
     ]
    }
   ],
   "source": [
    "import tensorflow as tf\n",
    "from tensorflow import keras"
   ]
  },
  {
   "cell_type": "code",
   "execution_count": 2,
   "metadata": {},
   "outputs": [],
   "source": [
    "from tensorflow.keras.layers import Input, LSTM, GRU, SimpleRNN, Dense, GlobalMaxPool1D\n",
    "from tensorflow.keras.models import Model\n",
    "from tensorflow.keras.optimizers import SGD, Adam\n",
    "import numpy as np\n",
    "import pandas as pd\n",
    "import matplotlib.pyplot as plt\n",
    "from sklearn.preprocessing import StandardScaler\n",
    "from tensorflow.keras.utils import to_categorical\n",
    "from tensorflow.keras.callbacks import EarlyStopping\n",
    "import pandas as pd\n",
    "import os\n"
   ]
  },
  {
   "cell_type": "code",
   "execution_count": 3,
   "metadata": {},
   "outputs": [
    {
     "data": {
      "text/html": [
       "<div>\n",
       "<style scoped>\n",
       "    .dataframe tbody tr th:only-of-type {\n",
       "        vertical-align: middle;\n",
       "    }\n",
       "\n",
       "    .dataframe tbody tr th {\n",
       "        vertical-align: top;\n",
       "    }\n",
       "\n",
       "    .dataframe thead th {\n",
       "        text-align: right;\n",
       "    }\n",
       "</style>\n",
       "<table border=\"1\" class=\"dataframe\">\n",
       "  <thead>\n",
       "    <tr style=\"text-align: right;\">\n",
       "      <th></th>\n",
       "      <th>date</th>\n",
       "      <th>time</th>\n",
       "      <th>open</th>\n",
       "      <th>high</th>\n",
       "      <th>low</th>\n",
       "      <th>close</th>\n",
       "      <th>volume</th>\n",
       "    </tr>\n",
       "  </thead>\n",
       "  <tbody>\n",
       "    <tr>\n",
       "      <th>0</th>\n",
       "      <td>21/10/2002</td>\n",
       "      <td>01:05:00</td>\n",
       "      <td>0.97320</td>\n",
       "      <td>0.97325</td>\n",
       "      <td>0.97280</td>\n",
       "      <td>0.97285</td>\n",
       "      <td>0</td>\n",
       "    </tr>\n",
       "    <tr>\n",
       "      <th>1</th>\n",
       "      <td>21/10/2002</td>\n",
       "      <td>01:10:00</td>\n",
       "      <td>0.97300</td>\n",
       "      <td>0.97320</td>\n",
       "      <td>0.97300</td>\n",
       "      <td>0.97320</td>\n",
       "      <td>0</td>\n",
       "    </tr>\n",
       "    <tr>\n",
       "      <th>2</th>\n",
       "      <td>21/10/2002</td>\n",
       "      <td>01:15:00</td>\n",
       "      <td>0.97320</td>\n",
       "      <td>0.97320</td>\n",
       "      <td>0.97295</td>\n",
       "      <td>0.97310</td>\n",
       "      <td>0</td>\n",
       "    </tr>\n",
       "    <tr>\n",
       "      <th>3</th>\n",
       "      <td>21/10/2002</td>\n",
       "      <td>01:20:00</td>\n",
       "      <td>0.97315</td>\n",
       "      <td>0.97340</td>\n",
       "      <td>0.97270</td>\n",
       "      <td>0.97270</td>\n",
       "      <td>0</td>\n",
       "    </tr>\n",
       "    <tr>\n",
       "      <th>4</th>\n",
       "      <td>21/10/2002</td>\n",
       "      <td>01:25:00</td>\n",
       "      <td>0.97280</td>\n",
       "      <td>0.97295</td>\n",
       "      <td>0.97260</td>\n",
       "      <td>0.97260</td>\n",
       "      <td>0</td>\n",
       "    </tr>\n",
       "  </tbody>\n",
       "</table>\n",
       "</div>"
      ],
      "text/plain": [
       "         date      time     open     high      low    close  volume\n",
       "0  21/10/2002  01:05:00  0.97320  0.97325  0.97280  0.97285       0\n",
       "1  21/10/2002  01:10:00  0.97300  0.97320  0.97300  0.97320       0\n",
       "2  21/10/2002  01:15:00  0.97320  0.97320  0.97295  0.97310       0\n",
       "3  21/10/2002  01:20:00  0.97315  0.97340  0.97270  0.97270       0\n",
       "4  21/10/2002  01:25:00  0.97280  0.97295  0.97260  0.97260       0"
      ]
     },
     "execution_count": 3,
     "metadata": {},
     "output_type": "execute_result"
    }
   ],
   "source": [
    "df=pd.read_csv(os.path.join(os.getcwd(), \"..\", \"data\",'eurousd.csv'))\n",
    "df.head()"
   ]
  },
  {
   "cell_type": "code",
   "execution_count": 4,
   "metadata": {},
   "outputs": [
    {
     "name": "stderr",
     "output_type": "stream",
     "text": [
      "/tmp/ipykernel_327753/433233849.py:1: UserWarning: Parsing dates in DD/MM/YYYY format when dayfirst=False (the default) was specified. This may lead to inconsistently parsed dates! Specify a format to ensure consistent parsing.\n",
      "  df['date']=pd.to_datetime(df['date'])\n"
     ]
    },
    {
     "data": {
      "text/html": [
       "<div>\n",
       "<style scoped>\n",
       "    .dataframe tbody tr th:only-of-type {\n",
       "        vertical-align: middle;\n",
       "    }\n",
       "\n",
       "    .dataframe tbody tr th {\n",
       "        vertical-align: top;\n",
       "    }\n",
       "\n",
       "    .dataframe thead th {\n",
       "        text-align: right;\n",
       "    }\n",
       "</style>\n",
       "<table border=\"1\" class=\"dataframe\">\n",
       "  <thead>\n",
       "    <tr style=\"text-align: right;\">\n",
       "      <th></th>\n",
       "      <th>date</th>\n",
       "      <th>time</th>\n",
       "      <th>open</th>\n",
       "      <th>high</th>\n",
       "      <th>low</th>\n",
       "      <th>close</th>\n",
       "      <th>volume</th>\n",
       "    </tr>\n",
       "  </thead>\n",
       "  <tbody>\n",
       "    <tr>\n",
       "      <th>1530509</th>\n",
       "      <td>2023-01-01</td>\n",
       "      <td>18:00:00</td>\n",
       "      <td>1.07037</td>\n",
       "      <td>1.07042</td>\n",
       "      <td>1.07037</td>\n",
       "      <td>1.07042</td>\n",
       "      <td>5</td>\n",
       "    </tr>\n",
       "    <tr>\n",
       "      <th>1530510</th>\n",
       "      <td>2023-01-01</td>\n",
       "      <td>18:05:00</td>\n",
       "      <td>1.07043</td>\n",
       "      <td>1.07046</td>\n",
       "      <td>1.07043</td>\n",
       "      <td>1.07046</td>\n",
       "      <td>4</td>\n",
       "    </tr>\n",
       "    <tr>\n",
       "      <th>1530511</th>\n",
       "      <td>2023-01-01</td>\n",
       "      <td>18:10:00</td>\n",
       "      <td>1.07047</td>\n",
       "      <td>1.07053</td>\n",
       "      <td>1.07047</td>\n",
       "      <td>1.07052</td>\n",
       "      <td>6</td>\n",
       "    </tr>\n",
       "    <tr>\n",
       "      <th>1530512</th>\n",
       "      <td>2023-01-01</td>\n",
       "      <td>18:15:00</td>\n",
       "      <td>1.07048</td>\n",
       "      <td>1.07048</td>\n",
       "      <td>1.07028</td>\n",
       "      <td>1.07028</td>\n",
       "      <td>7</td>\n",
       "    </tr>\n",
       "    <tr>\n",
       "      <th>1530513</th>\n",
       "      <td>2023-01-01</td>\n",
       "      <td>18:20:00</td>\n",
       "      <td>1.07025</td>\n",
       "      <td>1.07025</td>\n",
       "      <td>1.07007</td>\n",
       "      <td>1.07007</td>\n",
       "      <td>10</td>\n",
       "    </tr>\n",
       "  </tbody>\n",
       "</table>\n",
       "</div>"
      ],
      "text/plain": [
       "              date      time     open     high      low    close  volume\n",
       "1530509 2023-01-01  18:00:00  1.07037  1.07042  1.07037  1.07042       5\n",
       "1530510 2023-01-01  18:05:00  1.07043  1.07046  1.07043  1.07046       4\n",
       "1530511 2023-01-01  18:10:00  1.07047  1.07053  1.07047  1.07052       6\n",
       "1530512 2023-01-01  18:15:00  1.07048  1.07048  1.07028  1.07028       7\n",
       "1530513 2023-01-01  18:20:00  1.07025  1.07025  1.07007  1.07007      10"
      ]
     },
     "execution_count": 4,
     "metadata": {},
     "output_type": "execute_result"
    }
   ],
   "source": [
    "df['date']=pd.to_datetime(df['date'])\n",
    "df=df[df['date'].dt.year>2022]\n",
    "df.set_index(['date'])\n",
    "df.head()"
   ]
  },
  {
   "cell_type": "code",
   "execution_count": 27,
   "metadata": {},
   "outputs": [
    {
     "ename": "NameError",
     "evalue": "name 'X' is not defined",
     "output_type": "error",
     "traceback": [
      "\u001b[0;31m---------------------------------------------------------------------------\u001b[0m",
      "\u001b[0;31mNameError\u001b[0m                                 Traceback (most recent call last)",
      "Cell \u001b[0;32mIn[27], line 13\u001b[0m\n\u001b[1;32m     10\u001b[0m     y\u001b[38;5;241m.\u001b[39mappend(data[\u001b[38;5;124m'\u001b[39m\u001b[38;5;124mclose\u001b[39m\u001b[38;5;124m'\u001b[39m]\u001b[38;5;241m.\u001b[39miloc[i])\n\u001b[1;32m     11\u001b[0m   \u001b[38;5;28;01mreturn\u001b[39;00m np\u001b[38;5;241m.\u001b[39marray(X), np\u001b[38;5;241m.\u001b[39marray(y)\n\u001b[0;32m---> 13\u001b[0m np\u001b[38;5;241m.\u001b[39marray(\u001b[43mX\u001b[49m)\n",
      "\u001b[0;31mNameError\u001b[0m: name 'X' is not defined"
     ]
    }
   ],
   "source": [
    "import numpy as np\n",
    "from tensorflow.keras.models import Sequential\n",
    "from tensorflow.keras.layers import LSTM, Dense\n",
    "from datetime import datetime\n",
    "\n",
    "def create_dataset(data, T, D):\n",
    "  X, y = [], []\n",
    "  for i in range(T, len(data)):\n",
    "    X.append(data[ 'close'].iloc[i-T:i].to_numpy())\n",
    "    y.append(data['close'].iloc[i])\n",
    "  return np.array(X), np.array(y)\n",
    "\n"
   ]
  },
  {
   "cell_type": "code",
   "execution_count": null,
   "metadata": {},
   "outputs": [],
   "source": []
  },
  {
   "cell_type": "code",
   "execution_count": 6,
   "metadata": {},
   "outputs": [],
   "source": [
    "data=df\n",
    "T = 10\n",
    "D = 1\n",
    "\n",
    "\n",
    "split1 = int(len(data) * 0.8)\n",
    "split2 = int(len(data) * 0.9)\n",
    "\n",
    "data_train = data[:split1]\n",
    "data_val = data[split1:split2]\n",
    "data_test = data[split2:]"
   ]
  },
  {
   "cell_type": "code",
   "execution_count": 7,
   "metadata": {},
   "outputs": [],
   "source": [
    "X_train, y_train = create_dataset(data_train, T, D)\n",
    "X_val, y_val = create_dataset(data_val, T, D)\n",
    "X_test, y_test = create_dataset(data_test, T, D)"
   ]
  },
  {
   "cell_type": "code",
   "execution_count": 8,
   "metadata": {},
   "outputs": [
    {
     "name": "stderr",
     "output_type": "stream",
     "text": [
      "2024-03-19 00:51:48.988196: I tensorflow/stream_executor/cuda/cuda_gpu_executor.cc:966] could not open file to read NUMA node: /sys/bus/pci/devices/0000:01:00.0/numa_node\n",
      "Your kernel may have been built without NUMA support.\n",
      "2024-03-19 00:51:48.988407: W tensorflow/stream_executor/platform/default/dso_loader.cc:64] Could not load dynamic library 'libcudart.so.11.0'; dlerror: libcudart.so.11.0: cannot open shared object file: No such file or directory\n",
      "2024-03-19 00:51:48.988520: W tensorflow/stream_executor/platform/default/dso_loader.cc:64] Could not load dynamic library 'libcublas.so.11'; dlerror: libcublas.so.11: cannot open shared object file: No such file or directory\n",
      "2024-03-19 00:51:48.988624: W tensorflow/stream_executor/platform/default/dso_loader.cc:64] Could not load dynamic library 'libcublasLt.so.11'; dlerror: libcublasLt.so.11: cannot open shared object file: No such file or directory\n",
      "2024-03-19 00:51:48.988727: W tensorflow/stream_executor/platform/default/dso_loader.cc:64] Could not load dynamic library 'libcufft.so.10'; dlerror: libcufft.so.10: cannot open shared object file: No such file or directory\n",
      "2024-03-19 00:51:48.988829: W tensorflow/stream_executor/platform/default/dso_loader.cc:64] Could not load dynamic library 'libcurand.so.10'; dlerror: libcurand.so.10: cannot open shared object file: No such file or directory\n",
      "2024-03-19 00:51:48.988930: W tensorflow/stream_executor/platform/default/dso_loader.cc:64] Could not load dynamic library 'libcusolver.so.11'; dlerror: libcusolver.so.11: cannot open shared object file: No such file or directory\n",
      "2024-03-19 00:51:48.989032: W tensorflow/stream_executor/platform/default/dso_loader.cc:64] Could not load dynamic library 'libcusparse.so.11'; dlerror: libcusparse.so.11: cannot open shared object file: No such file or directory\n",
      "2024-03-19 00:51:48.989135: W tensorflow/stream_executor/platform/default/dso_loader.cc:64] Could not load dynamic library 'libcudnn.so.8'; dlerror: libcudnn.so.8: cannot open shared object file: No such file or directory\n",
      "2024-03-19 00:51:48.989151: W tensorflow/core/common_runtime/gpu/gpu_device.cc:1934] Cannot dlopen some GPU libraries. Please make sure the missing libraries mentioned above are installed properly if you would like to use GPU. Follow the guide at https://www.tensorflow.org/install/gpu for how to download and setup the required libraries for your platform.\n",
      "Skipping registering GPU devices...\n",
      "2024-03-19 00:51:48.990552: I tensorflow/core/platform/cpu_feature_guard.cc:193] This TensorFlow binary is optimized with oneAPI Deep Neural Network Library (oneDNN) to use the following CPU instructions in performance-critical operations:  AVX2 FMA\n",
      "To enable them in other operations, rebuild TensorFlow with the appropriate compiler flags.\n"
     ]
    }
   ],
   "source": [
    "model = Sequential()\n",
    "model.add(LSTM(units=50, return_sequences=False, input_shape=(T, D), dropout=0.2))\n",
    "model.add(keras.layers.Dropout(0.2))\n",
    "model.add(Dense(1))\n",
    "# Compile the model\n",
    "model.compile(loss='mse', optimizer='adam',  metrics=['mean_squared_error'])"
   ]
  },
  {
   "cell_type": "code",
   "execution_count": 9,
   "metadata": {},
   "outputs": [
    {
     "name": "stdout",
     "output_type": "stream",
     "text": [
      "Epoch 1/20\n",
      "2256/2256 [==============================] - 41s 17ms/step - loss: 0.0116 - mean_squared_error: 0.0116 - val_loss: 1.3275e-04 - val_mean_squared_error: 1.3275e-04\n",
      "Epoch 2/20\n",
      "2256/2256 [==============================] - 45s 20ms/step - loss: 0.0030 - mean_squared_error: 0.0030 - val_loss: 1.0320e-04 - val_mean_squared_error: 1.0320e-04\n",
      "Epoch 3/20\n",
      "2256/2256 [==============================] - 39s 17ms/step - loss: 0.0010 - mean_squared_error: 0.0010 - val_loss: 3.5147e-04 - val_mean_squared_error: 3.5147e-04\n",
      "Epoch 4/20\n",
      "2256/2256 [==============================] - 37s 17ms/step - loss: 3.5829e-04 - mean_squared_error: 3.5829e-04 - val_loss: 3.7298e-04 - val_mean_squared_error: 3.7298e-04\n",
      "Epoch 5/20\n",
      "2256/2256 [==============================] - 40s 18ms/step - loss: 2.7295e-04 - mean_squared_error: 2.7295e-04 - val_loss: 2.6260e-04 - val_mean_squared_error: 2.6260e-04\n",
      "Epoch 6/20\n",
      "2256/2256 [==============================] - 39s 17ms/step - loss: 1.7364e-04 - mean_squared_error: 1.7364e-04 - val_loss: 0.0418 - val_mean_squared_error: 0.0418\n",
      "Epoch 7/20\n",
      "2256/2256 [==============================] - 38s 17ms/step - loss: 2.5225e-05 - mean_squared_error: 2.5225e-05 - val_loss: 0.0582 - val_mean_squared_error: 0.0582\n",
      "Epoch 8/20\n",
      "2256/2256 [==============================] - 38s 17ms/step - loss: 1.7011e-05 - mean_squared_error: 1.7011e-05 - val_loss: 0.0785 - val_mean_squared_error: 0.0785\n",
      "Epoch 9/20\n",
      "2256/2256 [==============================] - 37s 16ms/step - loss: 1.1864e-05 - mean_squared_error: 1.1864e-05 - val_loss: 0.0995 - val_mean_squared_error: 0.0995\n",
      "Epoch 10/20\n",
      "2256/2256 [==============================] - 41s 18ms/step - loss: 1.0586e-05 - mean_squared_error: 1.0586e-05 - val_loss: 0.0805 - val_mean_squared_error: 0.0805\n",
      "Epoch 11/20\n",
      "2256/2256 [==============================] - 43s 19ms/step - loss: 9.0606e-06 - mean_squared_error: 9.0606e-06 - val_loss: 0.0636 - val_mean_squared_error: 0.0636\n",
      "Epoch 12/20\n",
      "2256/2256 [==============================] - 41s 18ms/step - loss: 8.2047e-06 - mean_squared_error: 8.2047e-06 - val_loss: 0.0566 - val_mean_squared_error: 0.0566\n",
      "Epoch 13/20\n",
      "2256/2256 [==============================] - 38s 17ms/step - loss: 9.0201e-06 - mean_squared_error: 9.0201e-06 - val_loss: 0.0494 - val_mean_squared_error: 0.0494\n",
      "Epoch 14/20\n",
      "2256/2256 [==============================] - 36s 16ms/step - loss: 8.3301e-06 - mean_squared_error: 8.3301e-06 - val_loss: 0.0368 - val_mean_squared_error: 0.0368\n",
      "Epoch 15/20\n",
      "2256/2256 [==============================] - 35s 15ms/step - loss: 7.2717e-06 - mean_squared_error: 7.2717e-06 - val_loss: 0.0400 - val_mean_squared_error: 0.0400\n",
      "Epoch 16/20\n",
      "2256/2256 [==============================] - 49s 22ms/step - loss: 7.2351e-06 - mean_squared_error: 7.2351e-06 - val_loss: 0.0441 - val_mean_squared_error: 0.0441\n",
      "Epoch 17/20\n",
      "2256/2256 [==============================] - 40s 18ms/step - loss: 7.0936e-06 - mean_squared_error: 7.0936e-06 - val_loss: 0.0466 - val_mean_squared_error: 0.0466\n",
      "Epoch 18/20\n",
      "2256/2256 [==============================] - 38s 17ms/step - loss: 7.4428e-06 - mean_squared_error: 7.4428e-06 - val_loss: 0.0457 - val_mean_squared_error: 0.0457\n",
      "Epoch 19/20\n",
      "2256/2256 [==============================] - 38s 17ms/step - loss: 6.9134e-06 - mean_squared_error: 6.9134e-06 - val_loss: 0.0401 - val_mean_squared_error: 0.0401\n",
      "Epoch 20/20\n",
      "2256/2256 [==============================] - 39s 17ms/step - loss: 6.7774e-06 - mean_squared_error: 6.7774e-06 - val_loss: 0.0425 - val_mean_squared_error: 0.0425\n"
     ]
    }
   ],
   "source": [
    "history= model.fit(X_train, y_train, epochs=20\n",
    "                   , batch_size=32, validation_data=(X_val, y_val), verbose=1)"
   ]
  },
  {
   "cell_type": "code",
   "execution_count": 10,
   "metadata": {},
   "outputs": [
    {
     "name": "stdout",
     "output_type": "stream",
     "text": [
      "282/282 [==============================] - 3s 8ms/step\n"
     ]
    }
   ],
   "source": [
    "predictions = model.predict(X_test)"
   ]
  },
  {
   "cell_type": "code",
   "execution_count": 11,
   "metadata": {},
   "outputs": [
    {
     "name": "stdout",
     "output_type": "stream",
     "text": [
      "Predictions: [[0.8786457 ]\n",
      " [0.87870276]\n",
      " [0.87882215]\n",
      " ...\n",
      " [0.8833015 ]\n",
      " [0.8833195 ]\n",
      " [0.8832699 ]]\n"
     ]
    }
   ],
   "source": [
    "print(\"Predictions:\", predictions)"
   ]
  },
  {
   "cell_type": "code",
   "execution_count": 12,
   "metadata": {},
   "outputs": [],
   "source": [
    "import matplotlib.pyplot as plt"
   ]
  },
  {
   "cell_type": "code",
   "execution_count": 13,
   "metadata": {},
   "outputs": [
    {
     "data": {
      "text/html": [
       "<div>\n",
       "<style scoped>\n",
       "    .dataframe tbody tr th:only-of-type {\n",
       "        vertical-align: middle;\n",
       "    }\n",
       "\n",
       "    .dataframe tbody tr th {\n",
       "        vertical-align: top;\n",
       "    }\n",
       "\n",
       "    .dataframe thead th {\n",
       "        text-align: right;\n",
       "    }\n",
       "</style>\n",
       "<table border=\"1\" class=\"dataframe\">\n",
       "  <thead>\n",
       "    <tr style=\"text-align: right;\">\n",
       "      <th></th>\n",
       "      <th>0</th>\n",
       "    </tr>\n",
       "  </thead>\n",
       "  <tbody>\n",
       "    <tr>\n",
       "      <th>1.08179</th>\n",
       "      <td>0.878646</td>\n",
       "    </tr>\n",
       "    <tr>\n",
       "      <th>1.08173</th>\n",
       "      <td>0.878703</td>\n",
       "    </tr>\n",
       "    <tr>\n",
       "      <th>1.08178</th>\n",
       "      <td>0.878822</td>\n",
       "    </tr>\n",
       "    <tr>\n",
       "      <th>1.08190</th>\n",
       "      <td>0.878862</td>\n",
       "    </tr>\n",
       "    <tr>\n",
       "      <th>1.08194</th>\n",
       "      <td>0.878882</td>\n",
       "    </tr>\n",
       "    <tr>\n",
       "      <th>...</th>\n",
       "      <td>...</td>\n",
       "    </tr>\n",
       "    <tr>\n",
       "      <th>1.08773</th>\n",
       "      <td>0.883308</td>\n",
       "    </tr>\n",
       "    <tr>\n",
       "      <th>1.08782</th>\n",
       "      <td>0.883301</td>\n",
       "    </tr>\n",
       "    <tr>\n",
       "      <th>1.08774</th>\n",
       "      <td>0.883301</td>\n",
       "    </tr>\n",
       "    <tr>\n",
       "      <th>1.08781</th>\n",
       "      <td>0.883319</td>\n",
       "    </tr>\n",
       "    <tr>\n",
       "      <th>1.08789</th>\n",
       "      <td>0.883270</td>\n",
       "    </tr>\n",
       "  </tbody>\n",
       "</table>\n",
       "<p>9015 rows × 1 columns</p>\n",
       "</div>"
      ],
      "text/plain": [
       "                0\n",
       "1.08179  0.878646\n",
       "1.08173  0.878703\n",
       "1.08178  0.878822\n",
       "1.08190  0.878862\n",
       "1.08194  0.878882\n",
       "...           ...\n",
       "1.08773  0.883308\n",
       "1.08782  0.883301\n",
       "1.08774  0.883301\n",
       "1.08781  0.883319\n",
       "1.08789  0.883270\n",
       "\n",
       "[9015 rows x 1 columns]"
      ]
     },
     "execution_count": 13,
     "metadata": {},
     "output_type": "execute_result"
    }
   ],
   "source": [
    "df2=pd.DataFrame(predictions, y_test)\n",
    "df2"
   ]
  },
  {
   "cell_type": "code",
   "execution_count": 14,
   "metadata": {},
   "outputs": [
    {
     "data": {
      "image/png": "[encoded data removed]",
      "text/plain": [
       "<Figure size 640x480 with 1 Axes>"
      ]
     },
     "metadata": {},
     "output_type": "display_data"
    }
   ],
   "source": [
    "plt.plot(history.history['loss'], label='loss')\n",
    "plt.plot(history.history['val_loss'], label='val_loss')\n",
    "plt.legend()\n",
    "plt.show()"
   ]
  },
  {
   "cell_type": "code",
   "execution_count": 15,
   "metadata": {},
   "outputs": [
    {
     "name": "stdout",
     "output_type": "stream",
     "text": [
      "282/282 [==============================] - 3s 9ms/step - loss: 0.0412 - mean_squared_error: 0.0412\n"
     ]
    },
    {
     "data": {
      "text/plain": [
       "[0.04119233787059784, 0.04119233787059784]"
      ]
     },
     "execution_count": 15,
     "metadata": {},
     "output_type": "execute_result"
    }
   ],
   "source": [
    "model.evaluate(X_test, y_test)"
   ]
  },
  {
   "cell_type": "code",
   "execution_count": 16,
   "metadata": {},
   "outputs": [],
   "source": [
    "import matplotlib.pyplot as plt\n"
   ]
  },
  {
   "cell_type": "code",
   "execution_count": 17,
   "metadata": {},
   "outputs": [
    {
     "data": {
      "text/html": [
       "<div>\n",
       "<style scoped>\n",
       "    .dataframe tbody tr th:only-of-type {\n",
       "        vertical-align: middle;\n",
       "    }\n",
       "\n",
       "    .dataframe tbody tr th {\n",
       "        vertical-align: top;\n",
       "    }\n",
       "\n",
       "    .dataframe thead th {\n",
       "        text-align: right;\n",
       "    }\n",
       "</style>\n",
       "<table border=\"1\" class=\"dataframe\">\n",
       "  <thead>\n",
       "    <tr style=\"text-align: right;\">\n",
       "      <th></th>\n",
       "      <th>date</th>\n",
       "      <th>time</th>\n",
       "      <th>open</th>\n",
       "      <th>high</th>\n",
       "      <th>low</th>\n",
       "      <th>close</th>\n",
       "      <th>volume</th>\n",
       "    </tr>\n",
       "  </thead>\n",
       "  <tbody>\n",
       "    <tr>\n",
       "      <th>1530509</th>\n",
       "      <td>2023-01-01</td>\n",
       "      <td>18:00:00</td>\n",
       "      <td>1.07037</td>\n",
       "      <td>1.07042</td>\n",
       "      <td>1.07037</td>\n",
       "      <td>1.07042</td>\n",
       "      <td>5</td>\n",
       "    </tr>\n",
       "    <tr>\n",
       "      <th>1530510</th>\n",
       "      <td>2023-01-01</td>\n",
       "      <td>18:05:00</td>\n",
       "      <td>1.07043</td>\n",
       "      <td>1.07046</td>\n",
       "      <td>1.07043</td>\n",
       "      <td>1.07046</td>\n",
       "      <td>4</td>\n",
       "    </tr>\n",
       "    <tr>\n",
       "      <th>1530511</th>\n",
       "      <td>2023-01-01</td>\n",
       "      <td>18:10:00</td>\n",
       "      <td>1.07047</td>\n",
       "      <td>1.07053</td>\n",
       "      <td>1.07047</td>\n",
       "      <td>1.07052</td>\n",
       "      <td>6</td>\n",
       "    </tr>\n",
       "    <tr>\n",
       "      <th>1530512</th>\n",
       "      <td>2023-01-01</td>\n",
       "      <td>18:15:00</td>\n",
       "      <td>1.07048</td>\n",
       "      <td>1.07048</td>\n",
       "      <td>1.07028</td>\n",
       "      <td>1.07028</td>\n",
       "      <td>7</td>\n",
       "    </tr>\n",
       "    <tr>\n",
       "      <th>1530513</th>\n",
       "      <td>2023-01-01</td>\n",
       "      <td>18:20:00</td>\n",
       "      <td>1.07025</td>\n",
       "      <td>1.07025</td>\n",
       "      <td>1.07007</td>\n",
       "      <td>1.07007</td>\n",
       "      <td>10</td>\n",
       "    </tr>\n",
       "    <tr>\n",
       "      <th>...</th>\n",
       "      <td>...</td>\n",
       "      <td>...</td>\n",
       "      <td>...</td>\n",
       "      <td>...</td>\n",
       "      <td>...</td>\n",
       "      <td>...</td>\n",
       "      <td>...</td>\n",
       "    </tr>\n",
       "    <tr>\n",
       "      <th>1620745</th>\n",
       "      <td>2024-03-14</td>\n",
       "      <td>20:25:00</td>\n",
       "      <td>1.08767</td>\n",
       "      <td>1.08781</td>\n",
       "      <td>1.08767</td>\n",
       "      <td>1.08773</td>\n",
       "      <td>391</td>\n",
       "    </tr>\n",
       "    <tr>\n",
       "      <th>1620746</th>\n",
       "      <td>2024-03-14</td>\n",
       "      <td>20:30:00</td>\n",
       "      <td>1.08773</td>\n",
       "      <td>1.08784</td>\n",
       "      <td>1.08773</td>\n",
       "      <td>1.08782</td>\n",
       "      <td>382</td>\n",
       "    </tr>\n",
       "    <tr>\n",
       "      <th>1620747</th>\n",
       "      <td>2024-03-14</td>\n",
       "      <td>20:35:00</td>\n",
       "      <td>1.08781</td>\n",
       "      <td>1.08782</td>\n",
       "      <td>1.08768</td>\n",
       "      <td>1.08774</td>\n",
       "      <td>394</td>\n",
       "    </tr>\n",
       "    <tr>\n",
       "      <th>1620748</th>\n",
       "      <td>2024-03-14</td>\n",
       "      <td>20:40:00</td>\n",
       "      <td>1.08774</td>\n",
       "      <td>1.08782</td>\n",
       "      <td>1.08761</td>\n",
       "      <td>1.08781</td>\n",
       "      <td>444</td>\n",
       "    </tr>\n",
       "    <tr>\n",
       "      <th>1620749</th>\n",
       "      <td>2024-03-14</td>\n",
       "      <td>20:45:00</td>\n",
       "      <td>1.08781</td>\n",
       "      <td>1.08790</td>\n",
       "      <td>1.08774</td>\n",
       "      <td>1.08789</td>\n",
       "      <td>373</td>\n",
       "    </tr>\n",
       "  </tbody>\n",
       "</table>\n",
       "<p>90241 rows × 7 columns</p>\n",
       "</div>"
      ],
      "text/plain": [
       "              date      time     open     high      low    close  volume\n",
       "1530509 2023-01-01  18:00:00  1.07037  1.07042  1.07037  1.07042       5\n",
       "1530510 2023-01-01  18:05:00  1.07043  1.07046  1.07043  1.07046       4\n",
       "1530511 2023-01-01  18:10:00  1.07047  1.07053  1.07047  1.07052       6\n",
       "1530512 2023-01-01  18:15:00  1.07048  1.07048  1.07028  1.07028       7\n",
       "1530513 2023-01-01  18:20:00  1.07025  1.07025  1.07007  1.07007      10\n",
       "...            ...       ...      ...      ...      ...      ...     ...\n",
       "1620745 2024-03-14  20:25:00  1.08767  1.08781  1.08767  1.08773     391\n",
       "1620746 2024-03-14  20:30:00  1.08773  1.08784  1.08773  1.08782     382\n",
       "1620747 2024-03-14  20:35:00  1.08781  1.08782  1.08768  1.08774     394\n",
       "1620748 2024-03-14  20:40:00  1.08774  1.08782  1.08761  1.08781     444\n",
       "1620749 2024-03-14  20:45:00  1.08781  1.08790  1.08774  1.08789     373\n",
       "\n",
       "[90241 rows x 7 columns]"
      ]
     },
     "execution_count": 17,
     "metadata": {},
     "output_type": "execute_result"
    }
   ],
   "source": [
    "#df=df.set_index('date')\n",
    "df\n"
   ]
  },
  {
   "cell_type": "code",
   "execution_count": 24,
   "metadata": {},
   "outputs": [
    {
     "data": {
      "text/plain": [
       "[<matplotlib.lines.Line2D at 0x7f1d047f85b0>]"
      ]
     },
     "execution_count": 24,
     "metadata": {},
     "output_type": "execute_result"
    },
    {
     "data": {
      "image/png": "[encoded data removed]",
      "text/plain": [
       "<Figure size 640x480 with 1 Axes>"
      ]
     },
     "metadata": {},
     "output_type": "display_data"
    }
   ],
   "source": [
    "\n",
    "plt.plot(df.indexy_train)\n"
   ]
  },
  {
   "cell_type": "code",
   "execution_count": 34,
   "metadata": {},
   "outputs": [
    {
     "data": {
      "image/png": "[encoded data removed]",
      "text/plain": [
       "<Figure size 640x480 with 1 Axes>"
      ]
     },
     "metadata": {},
     "output_type": "display_data"
    }
   ],
   "source": [
    "date_index = pd.to_datetime(data_test.index)\n",
    "\n",
    "plt.plot(data_train.index[T:], y_train, marker='o', label='Training Data')\n",
    "plt.plot(data_val.index[T:], y_val, marker='o', label='Validation Data')\n",
    "\n",
    "plt.plot(data_test.index[T:], y_test, marker='o', label='Test Data')\n",
    "\n",
    "\n",
    "plt.plot(data_test.index[T:], predictions, marker='x', label='Predictions')\n",
    "\n",
    "plt.xlabel('date')\n",
    "plt.ylabel('Closing Price')\n",
    "plt.title('Price Prediction (LSTM)')\n",
    "plt.legend()\n",
    "plt.show()"
   ]
  },
  {
   "cell_type": "code",
   "execution_count": 35,
   "metadata": {},
   "outputs": [
    {
     "name": "stdout",
     "output_type": "stream",
     "text": [
      "282/282 [==============================] - 1s 5ms/step - loss: 0.0412 - mean_squared_error: 0.0412\n"
     ]
    }
   ],
   "source": [
    "lstm2=model.evaluate(X_test, y_test)"
   ]
  },
  {
   "cell_type": "code",
   "execution_count": null,
   "metadata": {},
   "outputs": [],
   "source": []
  }
 ],
 "metadata": {
  "kernelspec": {
   "display_name": "aitradingenv",
   "language": "python",
   "name": "python3"
  },
  "language_info": {
   "codemirror_mode": {
    "name": "ipython",
    "version": 3
   },
   "file_extension": ".py",
   "mimetype": "text/x-python",
   "name": "python",
   "nbconvert_exporter": "python",
   "pygments_lexer": "ipython3",
   "version": "3.10.5"
  }
 },
 "nbformat": 4,
 "nbformat_minor": 2
}
