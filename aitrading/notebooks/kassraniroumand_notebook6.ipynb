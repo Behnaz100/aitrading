{
 "cells": [
  {
   "cell_type": "code",
   "execution_count": 53,
   "outputs": [
    {
     "name": "stdout",
     "output_type": "stream",
     "text": [
      "The autoreload extension is already loaded. To reload it, use:\n",
      "  %reload_ext autoreload\n"
     ]
    }
   ],
   "source": [
    "# autoroald\n",
    "%load_ext autoreload\n",
    "%autoreload 2\n",
    "from aitrading.ml_logic2 import data_engineering, feature_engineering, features_preprocessing, model_engineering,utility, repository"
   ],
   "metadata": {
    "collapsed": false,
    "ExecuteTime": {
     "end_time": "2024-04-02T17:53:52.967385Z",
     "start_time": "2024-04-02T17:53:52.919126Z"
    }
   },
   "id": "7344cbc0d4d92ad1"
  },
  {
   "cell_type": "code",
   "execution_count": 54,
   "outputs": [],
   "source": [
    "df = utility.load_data_source(\"/Users/kassraniroumand/code/aitrading/aitrading/data/eurousd_df_clean_2.csv\")"
   ],
   "metadata": {
    "collapsed": false,
    "ExecuteTime": {
     "end_time": "2024-04-02T17:53:53.561930Z",
     "start_time": "2024-04-02T17:53:53.442724Z"
    }
   },
   "id": "59050019074c9e27"
  },
  {
   "cell_type": "code",
   "execution_count": 55,
   "outputs": [],
   "source": [
    "df = feature_engineering.enrich_dataframe(df)"
   ],
   "metadata": {
    "collapsed": false,
    "ExecuteTime": {
     "end_time": "2024-04-02T17:53:54.147133Z",
     "start_time": "2024-04-02T17:53:54.014727Z"
    }
   },
   "id": "2e3cf7249020fb0a"
  },
  {
   "cell_type": "code",
   "execution_count": 56,
   "outputs": [],
   "source": [
    "X_train, y_train, X_val, y_val, X_test, y_test = data_engineering.split_data(df)"
   ],
   "metadata": {
    "collapsed": false,
    "ExecuteTime": {
     "end_time": "2024-04-02T17:53:54.532625Z",
     "start_time": "2024-04-02T17:53:54.503848Z"
    }
   },
   "id": "b89c28116d419aaa"
  },
  {
   "cell_type": "code",
   "execution_count": 57,
   "outputs": [
    {
     "name": "stdout",
     "output_type": "stream",
     "text": [
      "Training set size: 125775\n",
      "Validation set size: 26951\n",
      "Test set size: 26953\n"
     ]
    },
    {
     "name": "stderr",
     "output_type": "stream",
     "text": [
      "/Users/kassraniroumand/.pyenv/versions/3.10.6/envs/lewagon/lib/python3.10/site-packages/sklearn/preprocessing/_encoders.py:975: FutureWarning: `sparse` was renamed to `sparse_output` in version 1.2 and will be removed in 1.4. `sparse_output` is ignored unless you leave `sparse` to its default value.\n",
      "  warnings.warn(\n"
     ]
    }
   ],
   "source": [
    "X_train_reshaped, y_train_categorical, X_val_reshaped, y_val_categorical, X_test_reshaped, y_test_categorical = features_preprocessing.preprocess_features_and_target(X_train, y_train, X_val, y_val, X_test, y_test)"
   ],
   "metadata": {
    "collapsed": false,
    "ExecuteTime": {
     "end_time": "2024-04-02T17:53:54.987897Z",
     "start_time": "2024-04-02T17:53:54.947412Z"
    }
   },
   "id": "564e2e8daddca11a"
  },
  {
   "cell_type": "code",
   "execution_count": 58,
   "outputs": [
    {
     "name": "stderr",
     "output_type": "stream",
     "text": [
      "/Users/kassraniroumand/.pyenv/versions/3.10.6/envs/lewagon/lib/python3.10/site-packages/keras/src/layers/rnn/rnn.py:205: UserWarning: Do not pass an `input_shape`/`input_dim` argument to a layer. When using Sequential models, prefer using an `Input(shape)` object as the first layer in the model instead.\n",
      "  super().__init__(**kwargs)\n"
     ]
    }
   ],
   "source": [
    "input_shape = (X_train_reshaped.shape[1], X_train_reshaped.shape[2])\n",
    "model = model_engineering.create_compile_model(input_shape)"
   ],
   "metadata": {
    "collapsed": false,
    "ExecuteTime": {
     "end_time": "2024-04-02T17:53:55.881224Z",
     "start_time": "2024-04-02T17:53:55.833385Z"
    }
   },
   "id": "14ccc858977d0aac"
  },
  {
   "cell_type": "code",
   "execution_count": 59,
   "outputs": [
    {
     "name": "stdout",
     "output_type": "stream",
     "text": [
      "\u001B[1m3931/3931\u001B[0m \u001B[32m━━━━━━━━━━━━━━━━━━━━\u001B[0m\u001B[37m\u001B[0m \u001B[1m31s\u001B[0m 7ms/step - accuracy: 0.5094 - loss: 0.7242 - val_accuracy: 0.5114 - val_loss: 0.6929\n"
     ]
    }
   ],
   "source": [
    "history = model_engineering.train_model(model, X_train_reshaped, y_train_categorical, X_val_reshaped, y_val_categorical)"
   ],
   "metadata": {
    "collapsed": false,
    "ExecuteTime": {
     "end_time": "2024-04-02T17:54:27.648859Z",
     "start_time": "2024-04-02T17:53:56.644107Z"
    }
   },
   "id": "d67abd08291722c1"
  },
  {
   "cell_type": "code",
   "execution_count": 60,
   "outputs": [
    {
     "name": "stdout",
     "output_type": "stream",
     "text": [
      "✅ Saving model...\n",
      "✅ Model saved at: /Users/kassraniroumand/code/aitrading/aitrading/models/model_2024-04-02-19-09-29.keras\n"
     ]
    }
   ],
   "source": [
    "repository.save_model_default_path(model)"
   ],
   "metadata": {
    "collapsed": false,
    "ExecuteTime": {
     "end_time": "2024-04-02T18:09:29.751168Z",
     "start_time": "2024-04-02T18:09:29.651143Z"
    }
   },
   "id": "d60cdb513df31170"
  },
  {
   "cell_type": "code",
   "execution_count": 61,
   "outputs": [
    {
     "name": "stdout",
     "output_type": "stream",
     "text": [
      "✅ Loading latest model: /Users/kassraniroumand/code/aitrading/aitrading/models/model_2024-04-02-19-09-29.keras\n"
     ]
    },
    {
     "name": "stderr",
     "output_type": "stream",
     "text": [
      "/Users/kassraniroumand/.pyenv/versions/3.10.6/envs/lewagon/lib/python3.10/site-packages/keras/src/saving/saving_lib.py:396: UserWarning: Skipping variable loading for optimizer 'adam', because it has 34 variables whereas the saved optimizer has 28 variables. \n",
      "  trackable.load_own_variables(weights_store.get(inner_path))\n"
     ]
    },
    {
     "ename": "ValueError",
     "evalue": "A total of 1 objects could not be loaded. Example error message for object <LSTMCell name=lstm_cell, built=True>:\n\nLayer 'lstm_cell' expected 3 variables, but received 0 variables during loading. Expected: ['kernel', 'recurrent_kernel', 'bias']\n\nList of objects that could not be loaded:\n[<LSTMCell name=lstm_cell, built=True>]",
     "output_type": "error",
     "traceback": [
      "\u001B[0;31m---------------------------------------------------------------------------\u001B[0m",
      "\u001B[0;31mValueError\u001B[0m                                Traceback (most recent call last)",
      "Cell \u001B[0;32mIn [61], line 1\u001B[0m\n\u001B[0;32m----> 1\u001B[0m model \u001B[38;5;241m=\u001B[39m \u001B[43mrepository\u001B[49m\u001B[38;5;241;43m.\u001B[39;49m\u001B[43mload_latest_model\u001B[49m\u001B[43m(\u001B[49m\u001B[43m)\u001B[49m\n",
      "File \u001B[0;32m~/code/aitrading/aitrading/ml_logic2/repository.py:64\u001B[0m, in \u001B[0;36mload_latest_model\u001B[0;34m(base_path)\u001B[0m\n\u001B[1;32m     61\u001B[0m latest_model_file \u001B[38;5;241m=\u001B[39m \u001B[38;5;28mmax\u001B[39m(model_files, key\u001B[38;5;241m=\u001B[39mos\u001B[38;5;241m.\u001B[39mpath\u001B[38;5;241m.\u001B[39mgetmtime)\n\u001B[1;32m     62\u001B[0m \u001B[38;5;28mprint\u001B[39m(\u001B[38;5;124mf\u001B[39m\u001B[38;5;124m\"\u001B[39m\u001B[38;5;124m✅ Loading latest model: \u001B[39m\u001B[38;5;132;01m{\u001B[39;00mlatest_model_file\u001B[38;5;132;01m}\u001B[39;00m\u001B[38;5;124m\"\u001B[39m)\n\u001B[0;32m---> 64\u001B[0m \u001B[38;5;28;01mreturn\u001B[39;00m \u001B[43mload_model\u001B[49m\u001B[43m(\u001B[49m\u001B[43mlatest_model_file\u001B[49m\u001B[43m)\u001B[49m\n",
      "File \u001B[0;32m~/.pyenv/versions/3.10.6/envs/lewagon/lib/python3.10/site-packages/keras/src/saving/saving_api.py:176\u001B[0m, in \u001B[0;36mload_model\u001B[0;34m(filepath, custom_objects, compile, safe_mode)\u001B[0m\n\u001B[1;32m    173\u001B[0m         is_keras_zip \u001B[38;5;241m=\u001B[39m \u001B[38;5;28;01mTrue\u001B[39;00m\n\u001B[1;32m    175\u001B[0m \u001B[38;5;28;01mif\u001B[39;00m is_keras_zip:\n\u001B[0;32m--> 176\u001B[0m     \u001B[38;5;28;01mreturn\u001B[39;00m \u001B[43msaving_lib\u001B[49m\u001B[38;5;241;43m.\u001B[39;49m\u001B[43mload_model\u001B[49m\u001B[43m(\u001B[49m\n\u001B[1;32m    177\u001B[0m \u001B[43m        \u001B[49m\u001B[43mfilepath\u001B[49m\u001B[43m,\u001B[49m\n\u001B[1;32m    178\u001B[0m \u001B[43m        \u001B[49m\u001B[43mcustom_objects\u001B[49m\u001B[38;5;241;43m=\u001B[39;49m\u001B[43mcustom_objects\u001B[49m\u001B[43m,\u001B[49m\n\u001B[1;32m    179\u001B[0m \u001B[43m        \u001B[49m\u001B[38;5;28;43mcompile\u001B[39;49m\u001B[38;5;241;43m=\u001B[39;49m\u001B[38;5;28;43mcompile\u001B[39;49m\u001B[43m,\u001B[49m\n\u001B[1;32m    180\u001B[0m \u001B[43m        \u001B[49m\u001B[43msafe_mode\u001B[49m\u001B[38;5;241;43m=\u001B[39;49m\u001B[43msafe_mode\u001B[49m\u001B[43m,\u001B[49m\n\u001B[1;32m    181\u001B[0m \u001B[43m    \u001B[49m\u001B[43m)\u001B[49m\n\u001B[1;32m    182\u001B[0m \u001B[38;5;28;01mif\u001B[39;00m \u001B[38;5;28mstr\u001B[39m(filepath)\u001B[38;5;241m.\u001B[39mendswith((\u001B[38;5;124m\"\u001B[39m\u001B[38;5;124m.h5\u001B[39m\u001B[38;5;124m\"\u001B[39m, \u001B[38;5;124m\"\u001B[39m\u001B[38;5;124m.hdf5\u001B[39m\u001B[38;5;124m\"\u001B[39m)):\n\u001B[1;32m    183\u001B[0m     \u001B[38;5;28;01mreturn\u001B[39;00m legacy_h5_format\u001B[38;5;241m.\u001B[39mload_model_from_hdf5(filepath)\n",
      "File \u001B[0;32m~/.pyenv/versions/3.10.6/envs/lewagon/lib/python3.10/site-packages/keras/src/saving/saving_lib.py:192\u001B[0m, in \u001B[0;36mload_model\u001B[0;34m(filepath, custom_objects, compile, safe_mode)\u001B[0m\n\u001B[1;32m    189\u001B[0m         asset_store\u001B[38;5;241m.\u001B[39mclose()\n\u001B[1;32m    191\u001B[0m     \u001B[38;5;28;01mif\u001B[39;00m failed_trackables:\n\u001B[0;32m--> 192\u001B[0m         \u001B[43m_raise_loading_failure\u001B[49m\u001B[43m(\u001B[49m\u001B[43merror_msgs\u001B[49m\u001B[43m)\u001B[49m\n\u001B[1;32m    193\u001B[0m \u001B[38;5;28;01mreturn\u001B[39;00m model\n",
      "File \u001B[0;32m~/.pyenv/versions/3.10.6/envs/lewagon/lib/python3.10/site-packages/keras/src/saving/saving_lib.py:273\u001B[0m, in \u001B[0;36m_raise_loading_failure\u001B[0;34m(error_msgs, warn_only)\u001B[0m\n\u001B[1;32m    271\u001B[0m     warnings\u001B[38;5;241m.\u001B[39mwarn(msg)\n\u001B[1;32m    272\u001B[0m \u001B[38;5;28;01melse\u001B[39;00m:\n\u001B[0;32m--> 273\u001B[0m     \u001B[38;5;28;01mraise\u001B[39;00m \u001B[38;5;167;01mValueError\u001B[39;00m(msg)\n",
      "\u001B[0;31mValueError\u001B[0m: A total of 1 objects could not be loaded. Example error message for object <LSTMCell name=lstm_cell, built=True>:\n\nLayer 'lstm_cell' expected 3 variables, but received 0 variables during loading. Expected: ['kernel', 'recurrent_kernel', 'bias']\n\nList of objects that could not be loaded:\n[<LSTMCell name=lstm_cell, built=True>]"
     ]
    }
   ],
   "source": [
    "model = repository.load_latest_model()"
   ],
   "metadata": {
    "collapsed": false,
    "ExecuteTime": {
     "end_time": "2024-04-02T18:09:40.716502Z",
     "start_time": "2024-04-02T18:09:40.548951Z"
    }
   },
   "id": "15f20515bbdbdcbf"
  },
  {
   "cell_type": "code",
   "execution_count": null,
   "outputs": [],
   "source": [],
   "metadata": {
    "collapsed": false
   },
   "id": "a8323062ba63d653"
  },
  {
   "cell_type": "code",
   "execution_count": 43,
   "outputs": [
    {
     "name": "stdout",
     "output_type": "stream",
     "text": [
      "(125775, 1, 11)\n",
      "(125775,)\n",
      "(26951, 1, 11)\n",
      "(26951,)\n",
      "(26953, 1, 11)\n",
      "(26953,)\n"
     ]
    }
   ],
   "source": [
    "print(X_train_reshaped.shape)\n",
    "print(y_train_categorical.shape)\n",
    "print(X_val_reshaped.shape)\n",
    "print(y_val_categorical.shape)\n",
    "print(X_test_reshaped.shape)\n",
    "print(y_test_categorical.shape)"
   ],
   "metadata": {
    "collapsed": false,
    "ExecuteTime": {
     "end_time": "2024-04-02T17:47:33.924966Z",
     "start_time": "2024-04-02T17:47:33.896690Z"
    }
   },
   "id": "1311e79f81273335"
  },
  {
   "cell_type": "code",
   "execution_count": 68,
   "outputs": [],
   "source": [],
   "metadata": {
    "collapsed": false,
    "ExecuteTime": {
     "end_time": "2024-04-02T18:17:04.413634Z",
     "start_time": "2024-04-02T18:17:04.411272Z"
    }
   },
   "id": "a3ed55f85e7b5d09"
  },
  {
   "cell_type": "code",
   "execution_count": null,
   "outputs": [],
   "source": [
    "model.evaluate(X_test_reshaped, y_test_categorical)"
   ],
   "metadata": {
    "collapsed": false,
    "ExecuteTime": {
     "start_time": "2024-04-02T16:52:00.628809Z"
    }
   },
   "id": "36f81dfb7250019b"
  },
  {
   "cell_type": "code",
   "execution_count": 66,
   "outputs": [
    {
     "name": "stdout",
     "output_type": "stream",
     "text": [
      "start 2024-04-02-17:16, now 2024-04-02-18:16\n"
     ]
    },
    {
     "data": {
      "text/plain": "      close                 date     high      low     open  \\\n11  1.07668  2024-04-02 18:11:00  1.07685  1.07664  1.07684   \n12  1.07668  2024-04-02 18:16:00  1.07669  1.07666  1.07669   \n\n             timestamp  target  hour  day_of_week   sin_day  cos_day  \\\n11 2024-04-02 18:11:00       0    18            1  0.781831  0.62349   \n12 2024-04-02 18:16:00       0    18            1  0.781831  0.62349   \n\n    price_change_5_intervals  rolling_avg_price_10_intervals  \\\n11                   0.00005                        1.076750   \n12                   0.00008                        1.076766   \n\n    rolling_avg_price_10_close_intervals    ma_30m     ma_1h  ema_30min  \\\n11                              1.076660  1.076750  1.076640   1.076722   \n12                              1.076676  1.076766  1.076647   1.076710   \n\n      ema_1h        rsi  \n11  1.076603  55.555556  \n12  1.076604  59.523810  ",
      "text/html": "<div>\n<style scoped>\n    .dataframe tbody tr th:only-of-type {\n        vertical-align: middle;\n    }\n\n    .dataframe tbody tr th {\n        vertical-align: top;\n    }\n\n    .dataframe thead th {\n        text-align: right;\n    }\n</style>\n<table border=\"1\" class=\"dataframe\">\n  <thead>\n    <tr style=\"text-align: right;\">\n      <th></th>\n      <th>close</th>\n      <th>date</th>\n      <th>high</th>\n      <th>low</th>\n      <th>open</th>\n      <th>timestamp</th>\n      <th>target</th>\n      <th>hour</th>\n      <th>day_of_week</th>\n      <th>sin_day</th>\n      <th>cos_day</th>\n      <th>price_change_5_intervals</th>\n      <th>rolling_avg_price_10_intervals</th>\n      <th>rolling_avg_price_10_close_intervals</th>\n      <th>ma_30m</th>\n      <th>ma_1h</th>\n      <th>ema_30min</th>\n      <th>ema_1h</th>\n      <th>rsi</th>\n    </tr>\n  </thead>\n  <tbody>\n    <tr>\n      <th>11</th>\n      <td>1.07668</td>\n      <td>2024-04-02 18:11:00</td>\n      <td>1.07685</td>\n      <td>1.07664</td>\n      <td>1.07684</td>\n      <td>2024-04-02 18:11:00</td>\n      <td>0</td>\n      <td>18</td>\n      <td>1</td>\n      <td>0.781831</td>\n      <td>0.62349</td>\n      <td>0.00005</td>\n      <td>1.076750</td>\n      <td>1.076660</td>\n      <td>1.076750</td>\n      <td>1.076640</td>\n      <td>1.076722</td>\n      <td>1.076603</td>\n      <td>55.555556</td>\n    </tr>\n    <tr>\n      <th>12</th>\n      <td>1.07668</td>\n      <td>2024-04-02 18:16:00</td>\n      <td>1.07669</td>\n      <td>1.07666</td>\n      <td>1.07669</td>\n      <td>2024-04-02 18:16:00</td>\n      <td>0</td>\n      <td>18</td>\n      <td>1</td>\n      <td>0.781831</td>\n      <td>0.62349</td>\n      <td>0.00008</td>\n      <td>1.076766</td>\n      <td>1.076676</td>\n      <td>1.076766</td>\n      <td>1.076647</td>\n      <td>1.076710</td>\n      <td>1.076604</td>\n      <td>59.523810</td>\n    </tr>\n  </tbody>\n</table>\n</div>"
     },
     "execution_count": 66,
     "metadata": {},
     "output_type": "execute_result"
    }
   ],
   "source": [
    "quote = utility.data_tradermade_source()\n",
    "one_hour_df_for_prediction = feature_engineering.enrich_dataframe(quote, 'date')\n",
    "# df_for_prediction = one_hour_df_for_prediction.iloc[-1]\n",
    "one_hour_df_for_prediction"
   ],
   "metadata": {
    "collapsed": false,
    "ExecuteTime": {
     "end_time": "2024-04-02T18:16:40.930584Z",
     "start_time": "2024-04-02T18:16:40.823051Z"
    }
   },
   "id": "c36d593f83b378ef"
  },
  {
   "cell_type": "code",
   "execution_count": 65,
   "outputs": [
    {
     "ename": "ValueError",
     "evalue": "Failed to convert a NumPy array to a Tensor (Unsupported object type numpy.float64).",
     "output_type": "error",
     "traceback": [
      "\u001B[0;31m---------------------------------------------------------------------------\u001B[0m",
      "\u001B[0;31mValueError\u001B[0m                                Traceback (most recent call last)",
      "Cell \u001B[0;32mIn [65], line 3\u001B[0m\n\u001B[1;32m      1\u001B[0m \u001B[38;5;28;01mimport\u001B[39;00m \u001B[38;5;21;01mpandas\u001B[39;00m \u001B[38;5;28;01mas\u001B[39;00m \u001B[38;5;21;01mpd\u001B[39;00m\n\u001B[0;32m----> 3\u001B[0m \u001B[43mmodel\u001B[49m\u001B[38;5;241;43m.\u001B[39;49m\u001B[43mpredict\u001B[49m\u001B[43m(\u001B[49m\u001B[43mpd\u001B[49m\u001B[38;5;241;43m.\u001B[39;49m\u001B[43mDataFrame\u001B[49m\u001B[43m(\u001B[49m\u001B[43mone_hour_df_for_prediction\u001B[49m\u001B[38;5;241;43m.\u001B[39;49m\u001B[43miloc\u001B[49m\u001B[43m[\u001B[49m\u001B[38;5;241;43m-\u001B[39;49m\u001B[38;5;241;43m1\u001B[39;49m\u001B[43m]\u001B[49m\u001B[43m)\u001B[49m\u001B[38;5;241;43m.\u001B[39;49m\u001B[43mT\u001B[49m\u001B[43m)\u001B[49m\n",
      "File \u001B[0;32m~/.pyenv/versions/3.10.6/envs/lewagon/lib/python3.10/site-packages/keras/src/utils/traceback_utils.py:123\u001B[0m, in \u001B[0;36mfilter_traceback.<locals>.error_handler\u001B[0;34m(*args, **kwargs)\u001B[0m\n\u001B[1;32m    120\u001B[0m     filtered_tb \u001B[38;5;241m=\u001B[39m _process_traceback_frames(e\u001B[38;5;241m.\u001B[39m__traceback__)\n\u001B[1;32m    121\u001B[0m     \u001B[38;5;66;03m# To get the full stack trace, call:\u001B[39;00m\n\u001B[1;32m    122\u001B[0m     \u001B[38;5;66;03m# `keras.config.disable_traceback_filtering()`\u001B[39;00m\n\u001B[0;32m--> 123\u001B[0m     \u001B[38;5;28;01mraise\u001B[39;00m e\u001B[38;5;241m.\u001B[39mwith_traceback(filtered_tb) \u001B[38;5;28;01mfrom\u001B[39;00m \u001B[38;5;28mNone\u001B[39m\n\u001B[1;32m    124\u001B[0m \u001B[38;5;28;01mfinally\u001B[39;00m:\n\u001B[1;32m    125\u001B[0m     \u001B[38;5;28;01mdel\u001B[39;00m filtered_tb\n",
      "File \u001B[0;32m~/.pyenv/versions/3.10.6/envs/lewagon/lib/python3.10/site-packages/tensorflow/python/framework/constant_op.py:108\u001B[0m, in \u001B[0;36mconvert_to_eager_tensor\u001B[0;34m(value, ctx, dtype)\u001B[0m\n\u001B[1;32m    106\u001B[0m     dtype \u001B[38;5;241m=\u001B[39m dtypes\u001B[38;5;241m.\u001B[39mas_dtype(dtype)\u001B[38;5;241m.\u001B[39mas_datatype_enum\n\u001B[1;32m    107\u001B[0m ctx\u001B[38;5;241m.\u001B[39mensure_initialized()\n\u001B[0;32m--> 108\u001B[0m \u001B[38;5;28;01mreturn\u001B[39;00m \u001B[43mops\u001B[49m\u001B[38;5;241;43m.\u001B[39;49m\u001B[43mEagerTensor\u001B[49m\u001B[43m(\u001B[49m\u001B[43mvalue\u001B[49m\u001B[43m,\u001B[49m\u001B[43m \u001B[49m\u001B[43mctx\u001B[49m\u001B[38;5;241;43m.\u001B[39;49m\u001B[43mdevice_name\u001B[49m\u001B[43m,\u001B[49m\u001B[43m \u001B[49m\u001B[43mdtype\u001B[49m\u001B[43m)\u001B[49m\n",
      "\u001B[0;31mValueError\u001B[0m: Failed to convert a NumPy array to a Tensor (Unsupported object type numpy.float64)."
     ]
    }
   ],
   "source": [
    "import pandas as pd\n",
    "\n",
    "model.predict(pd.DataFrame(one_hour_df_for_prediction.iloc[-1]).T)"
   ],
   "metadata": {
    "collapsed": false,
    "ExecuteTime": {
     "end_time": "2024-04-02T18:16:31.746181Z",
     "start_time": "2024-04-02T18:16:31.685171Z"
    }
   },
   "id": "e7e2ac8ec2286bf4"
  },
  {
   "cell_type": "code",
   "execution_count": null,
   "outputs": [],
   "source": [],
   "metadata": {
    "collapsed": false
   },
   "id": "f6f74cbfd849ffa1"
  }
 ],
 "metadata": {
  "kernelspec": {
   "display_name": "Python 3",
   "language": "python",
   "name": "python3"
  },
  "language_info": {
   "codemirror_mode": {
    "name": "ipython",
    "version": 2
   },
   "file_extension": ".py",
   "mimetype": "text/x-python",
   "name": "python",
   "nbconvert_exporter": "python",
   "pygments_lexer": "ipython2",
   "version": "2.7.6"
  }
 },
 "nbformat": 4,
 "nbformat_minor": 5
}
