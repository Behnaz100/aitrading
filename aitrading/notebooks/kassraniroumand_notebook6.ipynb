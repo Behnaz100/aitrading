{
 "cells": [
  {
   "cell_type": "code",
   "execution_count": 2,
   "outputs": [],
   "source": [
    "# autoroald\n",
    "%load_ext autoreload\n",
    "%autoreload 2\n",
    "from aitrading.ml_logic2 import data_engineering, feature_engineering, features_preprocessing, model_engineering,utility, repository"
   ],
   "metadata": {
    "collapsed": false,
    "ExecuteTime": {
     "end_time": "2024-04-04T17:31:39.562125Z",
     "start_time": "2024-04-04T17:31:34.720033Z"
    }
   },
   "id": "7344cbc0d4d92ad1"
  },
  {
   "cell_type": "code",
   "execution_count": 3,
   "outputs": [],
   "source": [
    "df = utility.load_data_source(\"/Users/kassraniroumand/code/aitrading/aitrading/data/eurousd_df_clean_2.csv\")"
   ],
   "metadata": {
    "collapsed": false,
    "ExecuteTime": {
     "end_time": "2024-04-04T17:31:40.195221Z",
     "start_time": "2024-04-04T17:31:40.091119Z"
    }
   },
   "id": "59050019074c9e27"
  },
  {
   "cell_type": "code",
   "execution_count": 4,
   "outputs": [],
   "source": [
    "df = feature_engineering.enrich_dataframe(df)"
   ],
   "metadata": {
    "collapsed": false,
    "ExecuteTime": {
     "end_time": "2024-04-04T17:31:40.573084Z",
     "start_time": "2024-04-04T17:31:40.458443Z"
    }
   },
   "id": "2e3cf7249020fb0a"
  },
  {
   "cell_type": "code",
   "execution_count": 5,
   "outputs": [],
   "source": [
    "X_train, y_train, X_val, y_val, X_test, y_test = data_engineering.split_data(df)"
   ],
   "metadata": {
    "collapsed": false,
    "ExecuteTime": {
     "end_time": "2024-04-04T17:31:40.821467Z",
     "start_time": "2024-04-04T17:31:40.795686Z"
    }
   },
   "id": "b89c28116d419aaa"
  },
  {
   "cell_type": "code",
   "execution_count": 6,
   "outputs": [
    {
     "name": "stdout",
     "output_type": "stream",
     "text": [
      "✅ Saving StandardScaler \n",
      "✅ scaler saved at: /Users/kassraniroumand/code/aitrading/aitrading/models/scaler/scaler_2024-04-04-18-31-41\n",
      "✅ Saving OneHotEncoder \n",
      "✅ scaler saved at: /Users/kassraniroumand/code/aitrading/aitrading/models/encoder/encoder_2024-04-04-18-31-41\n",
      "Training set size: 125775\n",
      "Validation set size: 26951\n",
      "Test set size: 26953\n"
     ]
    },
    {
     "name": "stderr",
     "output_type": "stream",
     "text": [
      "/Users/kassraniroumand/.pyenv/versions/3.10.6/envs/lewagon/lib/python3.10/site-packages/sklearn/preprocessing/_encoders.py:975: FutureWarning: `sparse` was renamed to `sparse_output` in version 1.2 and will be removed in 1.4. `sparse_output` is ignored unless you leave `sparse` to its default value.\n",
      "  warnings.warn(\n"
     ]
    }
   ],
   "source": [
    "X_train_reshaped, y_train_categorical, X_val_reshaped, y_val_categorical, X_test_reshaped, y_test_categorical = features_preprocessing.preprocess_features_and_target(X_train, y_train, X_val, y_val, X_test, y_test)"
   ],
   "metadata": {
    "collapsed": false,
    "ExecuteTime": {
     "end_time": "2024-04-04T17:31:41.364768Z",
     "start_time": "2024-04-04T17:31:41.332013Z"
    }
   },
   "id": "564e2e8daddca11a"
  },
  {
   "cell_type": "code",
   "execution_count": 7,
   "outputs": [
    {
     "name": "stdout",
     "output_type": "stream",
     "text": [
      "Epoch 1/100\n",
      "\u001B[1m3931/3931\u001B[0m \u001B[32m━━━━━━━━━━━━━━━━━━━━\u001B[0m\u001B[37m\u001B[0m \u001B[1m8s\u001B[0m 1ms/step - accuracy: 0.5142 - loss: 0.7030 - val_accuracy: 0.5086 - val_loss: 0.6929 - learning_rate: 0.0010\n",
      "Epoch 2/100\n",
      "\u001B[1m3931/3931\u001B[0m \u001B[32m━━━━━━━━━━━━━━━━━━━━\u001B[0m\u001B[37m\u001B[0m \u001B[1m6s\u001B[0m 1ms/step - accuracy: 0.5164 - loss: 0.6927 - val_accuracy: 0.5093 - val_loss: 0.6929 - learning_rate: 0.0010\n",
      "Epoch 3/100\n",
      "\u001B[1m3931/3931\u001B[0m \u001B[32m━━━━━━━━━━━━━━━━━━━━\u001B[0m\u001B[37m\u001B[0m \u001B[1m6s\u001B[0m 1ms/step - accuracy: 0.5140 - loss: 0.6928 - val_accuracy: 0.5077 - val_loss: 0.6929 - learning_rate: 0.0010\n",
      "Epoch 4/100\n",
      "\u001B[1m3931/3931\u001B[0m \u001B[32m━━━━━━━━━━━━━━━━━━━━\u001B[0m\u001B[37m\u001B[0m \u001B[1m6s\u001B[0m 1ms/step - accuracy: 0.5179 - loss: 0.6926 - val_accuracy: 0.5114 - val_loss: 0.6929 - learning_rate: 0.0010\n",
      "Epoch 5/100\n",
      "\u001B[1m3931/3931\u001B[0m \u001B[32m━━━━━━━━━━━━━━━━━━━━\u001B[0m\u001B[37m\u001B[0m \u001B[1m6s\u001B[0m 1ms/step - accuracy: 0.5133 - loss: 0.6928 - val_accuracy: 0.5097 - val_loss: 0.6930 - learning_rate: 0.0010\n",
      "Epoch 6/100\n",
      "\u001B[1m3931/3931\u001B[0m \u001B[32m━━━━━━━━━━━━━━━━━━━━\u001B[0m\u001B[37m\u001B[0m \u001B[1m6s\u001B[0m 1ms/step - accuracy: 0.5201 - loss: 0.6925 - val_accuracy: 0.5103 - val_loss: 0.6930 - learning_rate: 0.0010\n",
      "Epoch 7/100\n",
      "\u001B[1m3931/3931\u001B[0m \u001B[32m━━━━━━━━━━━━━━━━━━━━\u001B[0m\u001B[37m\u001B[0m \u001B[1m7s\u001B[0m 2ms/step - accuracy: 0.5147 - loss: 0.6927 - val_accuracy: 0.5099 - val_loss: 0.6930 - learning_rate: 0.0010\n",
      "Epoch 8/100\n",
      "\u001B[1m3931/3931\u001B[0m \u001B[32m━━━━━━━━━━━━━━━━━━━━\u001B[0m\u001B[37m\u001B[0m \u001B[1m6s\u001B[0m 1ms/step - accuracy: 0.5163 - loss: 0.6927 - val_accuracy: 0.5080 - val_loss: 0.6930 - learning_rate: 0.0010\n",
      "Epoch 9/100\n",
      "\u001B[1m3931/3931\u001B[0m \u001B[32m━━━━━━━━━━━━━━━━━━━━\u001B[0m\u001B[37m\u001B[0m \u001B[1m6s\u001B[0m 2ms/step - accuracy: 0.5149 - loss: 0.6927 - val_accuracy: 0.5091 - val_loss: 0.6928 - learning_rate: 0.0010\n"
     ]
    }
   ],
   "source": [
    "input_shape = (X_train_reshaped.shape[1], X_train_reshaped.shape[2])\n",
    "model = model_engineering.create_compile_model(input_shape)\n",
    "history = model_engineering.train_model(model, X_train_reshaped, y_train_categorical, X_val_reshaped, y_val_categorical)"
   ],
   "metadata": {
    "collapsed": false,
    "ExecuteTime": {
     "end_time": "2024-04-04T17:32:39.242077Z",
     "start_time": "2024-04-04T17:31:43.862637Z"
    }
   },
   "id": "14ccc858977d0aac"
  },
  {
   "cell_type": "code",
   "execution_count": 26,
   "outputs": [],
   "source": [],
   "metadata": {
    "collapsed": false,
    "ExecuteTime": {
     "end_time": "2024-04-04T11:57:36.289249Z",
     "start_time": "2024-04-04T11:57:36.285521Z"
    }
   },
   "id": "d67abd08291722c1"
  },
  {
   "cell_type": "code",
   "execution_count": 8,
   "outputs": [
    {
     "name": "stdout",
     "output_type": "stream",
     "text": [
      "✅ Saving model...\n",
      "✅ Model saved at: /Users/kassraniroumand/code/aitrading/aitrading/models/model_2024-04-04-18-34-41.keras\n"
     ]
    }
   ],
   "source": [
    "repository.save_model_default_path(model)"
   ],
   "metadata": {
    "collapsed": false,
    "ExecuteTime": {
     "end_time": "2024-04-04T17:34:41.588883Z",
     "start_time": "2024-04-04T17:34:41.537780Z"
    }
   },
   "id": "d60cdb513df31170"
  },
  {
   "cell_type": "code",
   "execution_count": 9,
   "outputs": [
    {
     "name": "stdout",
     "output_type": "stream",
     "text": [
      "✅ Loading latest model: /Users/kassraniroumand/code/aitrading/aitrading/models/model_2024-04-04-18-34-41.keras\n"
     ]
    }
   ],
   "source": [
    "model = repository.load_latest_model()"
   ],
   "metadata": {
    "collapsed": false,
    "ExecuteTime": {
     "end_time": "2024-04-04T17:34:42.576712Z",
     "start_time": "2024-04-04T17:34:42.496838Z"
    }
   },
   "id": "15f20515bbdbdcbf"
  },
  {
   "cell_type": "code",
   "execution_count": 94,
   "outputs": [
    {
     "data": {
      "text/plain": "array([[[1.77739532, 0.73732109, 1.76978328, ..., 1.77114712,\n         1.83825156, 1.75971845]],\n\n       [[1.78242888, 0.99369746, 1.77238189, ..., 1.77436165,\n         1.8378459 , 1.78861599]],\n\n       [[1.78704297, 1.15240665, 1.77577685, ..., 1.77797607,\n         1.83747499, 1.80029857]],\n\n       ...,\n\n       [[0.41728647, 0.11469275, 0.42060189, ..., 0.41724334,\n         0.41296583, 0.34896252]],\n\n       [[0.42001298, 0.09027595, 0.42055998, ..., 0.41802355,\n         0.41299672, 0.28395306]],\n\n       [[0.42127137, 0.11469275, 0.42097911, ..., 0.41894038,\n         0.41303611, 0.34896252]]])"
     },
     "execution_count": 94,
     "metadata": {},
     "output_type": "execute_result"
    }
   ],
   "source": [
    "# X_test_reshaped.shape\n",
    "X_train_reshaped"
   ],
   "metadata": {
    "collapsed": false,
    "ExecuteTime": {
     "end_time": "2024-04-03T18:50:05.646376Z",
     "start_time": "2024-04-03T18:50:05.618206Z"
    }
   },
   "id": "2b70e9f0c0789ee4"
  },
  {
   "cell_type": "code",
   "execution_count": 107,
   "outputs": [
    {
     "name": "stdout",
     "output_type": "stream",
     "text": [
      "\u001B[1m843/843\u001B[0m \u001B[32m━━━━━━━━━━━━━━━━━━━━\u001B[0m\u001B[37m\u001B[0m \u001B[1m1s\u001B[0m 1ms/step\n"
     ]
    },
    {
     "data": {
      "text/plain": "array([[0.48975134],\n       [0.48975134],\n       [0.48975134],\n       ...,\n       [0.48975134],\n       [0.48975134],\n       [0.48975134]], dtype=float32)"
     },
     "execution_count": 107,
     "metadata": {},
     "output_type": "execute_result"
    }
   ],
   "source": [
    "model.predict(X_test_reshaped)"
   ],
   "metadata": {
    "collapsed": false,
    "ExecuteTime": {
     "end_time": "2024-04-03T21:03:34.131968Z",
     "start_time": "2024-04-03T21:03:33.034374Z"
    }
   },
   "id": "a8323062ba63d653"
  },
  {
   "cell_type": "code",
   "execution_count": 108,
   "outputs": [
    {
     "name": "stdout",
     "output_type": "stream",
     "text": [
      "(125775, 1, 11)\n",
      "(125775,)\n",
      "(26951, 1, 11)\n",
      "(26951,)\n",
      "(26953, 1, 11)\n",
      "(26953,)\n"
     ]
    }
   ],
   "source": [
    "print(X_train_reshaped.shape)\n",
    "print(y_train_categorical.shape)\n",
    "print(X_val_reshaped.shape)\n",
    "print(y_val_categorical.shape)\n",
    "print(X_test_reshaped.shape)\n",
    "print(y_test_categorical.shape)"
   ],
   "metadata": {
    "collapsed": false,
    "ExecuteTime": {
     "end_time": "2024-04-03T21:03:34.944775Z",
     "start_time": "2024-04-03T21:03:34.916141Z"
    }
   },
   "id": "1311e79f81273335"
  },
  {
   "cell_type": "code",
   "execution_count": 108,
   "outputs": [],
   "source": [],
   "metadata": {
    "collapsed": false,
    "ExecuteTime": {
     "end_time": "2024-04-03T21:03:35.468609Z",
     "start_time": "2024-04-03T21:03:35.465277Z"
    }
   },
   "id": "a3ed55f85e7b5d09"
  },
  {
   "cell_type": "code",
   "execution_count": 109,
   "outputs": [
    {
     "name": "stdout",
     "output_type": "stream",
     "text": [
      "\u001B[1m843/843\u001B[0m \u001B[32m━━━━━━━━━━━━━━━━━━━━\u001B[0m\u001B[37m\u001B[0m \u001B[1m1s\u001B[0m 1ms/step - accuracy: 0.5048 - loss: 0.6932\n"
     ]
    },
    {
     "data": {
      "text/plain": "[0.6929790377616882, 0.5090342164039612]"
     },
     "execution_count": 109,
     "metadata": {},
     "output_type": "execute_result"
    }
   ],
   "source": [
    "model.evaluate(X_test_reshaped, y_test_categorical)"
   ],
   "metadata": {
    "collapsed": false,
    "ExecuteTime": {
     "end_time": "2024-04-03T21:03:37.637399Z",
     "start_time": "2024-04-03T21:03:36.417284Z"
    }
   },
   "id": "36f81dfb7250019b"
  },
  {
   "cell_type": "code",
   "execution_count": 60,
   "outputs": [
    {
     "name": "stdout",
     "output_type": "stream",
     "text": [
      "start 2024-04-03-16:57, now 2024-04-03-17:57\n"
     ]
    },
    {
     "data": {
      "text/plain": "      close                 date     high      low     open\n0   1.08295  2024-04-03 16:57:00  1.08315  1.08293  1.08312\n1   1.08263  2024-04-03 17:02:00  1.08295  1.08258  1.08294\n2   1.08298  2024-04-03 17:07:00  1.08302  1.08257  1.08262\n3   1.08312  2024-04-03 17:12:00  1.08314  1.08288  1.08298\n4   1.08315  2024-04-03 17:17:00  1.08326  1.08299  1.08312\n5   1.08342  2024-04-03 17:22:00  1.08342  1.08300  1.08315\n6   1.08318  2024-04-03 17:27:00  1.08343  1.08316  1.08342\n7   1.08313  2024-04-03 17:32:00  1.08323  1.08302  1.08318\n8   1.08318  2024-04-03 17:37:00  1.08324  1.08308  1.08312\n9   1.08323  2024-04-03 17:42:00  1.08324  1.08309  1.08318\n10  1.08328  2024-04-03 17:47:00  1.08328  1.08315  1.08324\n11  1.08334  2024-04-03 17:52:00  1.08340  1.08326  1.08328",
      "text/html": "<div>\n<style scoped>\n    .dataframe tbody tr th:only-of-type {\n        vertical-align: middle;\n    }\n\n    .dataframe tbody tr th {\n        vertical-align: top;\n    }\n\n    .dataframe thead th {\n        text-align: right;\n    }\n</style>\n<table border=\"1\" class=\"dataframe\">\n  <thead>\n    <tr style=\"text-align: right;\">\n      <th></th>\n      <th>close</th>\n      <th>date</th>\n      <th>high</th>\n      <th>low</th>\n      <th>open</th>\n    </tr>\n  </thead>\n  <tbody>\n    <tr>\n      <th>0</th>\n      <td>1.08295</td>\n      <td>2024-04-03 16:57:00</td>\n      <td>1.08315</td>\n      <td>1.08293</td>\n      <td>1.08312</td>\n    </tr>\n    <tr>\n      <th>1</th>\n      <td>1.08263</td>\n      <td>2024-04-03 17:02:00</td>\n      <td>1.08295</td>\n      <td>1.08258</td>\n      <td>1.08294</td>\n    </tr>\n    <tr>\n      <th>2</th>\n      <td>1.08298</td>\n      <td>2024-04-03 17:07:00</td>\n      <td>1.08302</td>\n      <td>1.08257</td>\n      <td>1.08262</td>\n    </tr>\n    <tr>\n      <th>3</th>\n      <td>1.08312</td>\n      <td>2024-04-03 17:12:00</td>\n      <td>1.08314</td>\n      <td>1.08288</td>\n      <td>1.08298</td>\n    </tr>\n    <tr>\n      <th>4</th>\n      <td>1.08315</td>\n      <td>2024-04-03 17:17:00</td>\n      <td>1.08326</td>\n      <td>1.08299</td>\n      <td>1.08312</td>\n    </tr>\n    <tr>\n      <th>5</th>\n      <td>1.08342</td>\n      <td>2024-04-03 17:22:00</td>\n      <td>1.08342</td>\n      <td>1.08300</td>\n      <td>1.08315</td>\n    </tr>\n    <tr>\n      <th>6</th>\n      <td>1.08318</td>\n      <td>2024-04-03 17:27:00</td>\n      <td>1.08343</td>\n      <td>1.08316</td>\n      <td>1.08342</td>\n    </tr>\n    <tr>\n      <th>7</th>\n      <td>1.08313</td>\n      <td>2024-04-03 17:32:00</td>\n      <td>1.08323</td>\n      <td>1.08302</td>\n      <td>1.08318</td>\n    </tr>\n    <tr>\n      <th>8</th>\n      <td>1.08318</td>\n      <td>2024-04-03 17:37:00</td>\n      <td>1.08324</td>\n      <td>1.08308</td>\n      <td>1.08312</td>\n    </tr>\n    <tr>\n      <th>9</th>\n      <td>1.08323</td>\n      <td>2024-04-03 17:42:00</td>\n      <td>1.08324</td>\n      <td>1.08309</td>\n      <td>1.08318</td>\n    </tr>\n    <tr>\n      <th>10</th>\n      <td>1.08328</td>\n      <td>2024-04-03 17:47:00</td>\n      <td>1.08328</td>\n      <td>1.08315</td>\n      <td>1.08324</td>\n    </tr>\n    <tr>\n      <th>11</th>\n      <td>1.08334</td>\n      <td>2024-04-03 17:52:00</td>\n      <td>1.08340</td>\n      <td>1.08326</td>\n      <td>1.08328</td>\n    </tr>\n  </tbody>\n</table>\n</div>"
     },
     "execution_count": 60,
     "metadata": {},
     "output_type": "execute_result"
    }
   ],
   "source": [
    "quote = utility.data_tradermade_source()\n",
    "quote"
   ],
   "metadata": {
    "collapsed": false,
    "ExecuteTime": {
     "end_time": "2024-04-03T17:57:14.029545Z",
     "start_time": "2024-04-03T17:57:13.821715Z"
    }
   },
   "id": "ac4527f63ca12479"
  },
  {
   "cell_type": "code",
   "execution_count": 73,
   "outputs": [],
   "source": [
    "one_hour_df_for_prediction = feature_engineering.enrich_dataframe(df=quote, predicate=True, datetime_col='date')"
   ],
   "metadata": {
    "collapsed": false,
    "ExecuteTime": {
     "end_time": "2024-04-03T18:43:05.428167Z",
     "start_time": "2024-04-03T18:43:05.330268Z"
    }
   },
   "id": "138693251fa504da"
  },
  {
   "cell_type": "code",
   "execution_count": 75,
   "outputs": [
    {
     "data": {
      "text/plain": "      close                 date     high      low     open  \\\n11  1.08323  2024-04-03 17:53:00  1.08340  1.08321  1.08327   \n12  1.08322  2024-04-03 17:58:00  1.08323  1.08322  1.08322   \n\n             timestamp  hour  day_of_week   sin_day   cos_day  \\\n11 2024-04-03 17:53:00    17            2  0.974928 -0.222521   \n12 2024-04-03 17:58:00    17            2  0.974928 -0.222521   \n\n    price_change_5_intervals  rolling_avg_price_10_intervals  \\\n11                   0.00000                        1.083194   \n12                   0.00004                        1.083202   \n\n    rolling_avg_price_10_close_intervals    ma_30m     ma_1h  ema_30min  \\\n11                               1.08311  1.083194  1.083082   1.083189   \n12                               1.08315  1.083202  1.083118   1.083198   \n\n      ema_1h        rsi  \n11  1.082814  50.000000  \n12  1.082817  58.333333  ",
      "text/html": "<div>\n<style scoped>\n    .dataframe tbody tr th:only-of-type {\n        vertical-align: middle;\n    }\n\n    .dataframe tbody tr th {\n        vertical-align: top;\n    }\n\n    .dataframe thead th {\n        text-align: right;\n    }\n</style>\n<table border=\"1\" class=\"dataframe\">\n  <thead>\n    <tr style=\"text-align: right;\">\n      <th></th>\n      <th>close</th>\n      <th>date</th>\n      <th>high</th>\n      <th>low</th>\n      <th>open</th>\n      <th>timestamp</th>\n      <th>hour</th>\n      <th>day_of_week</th>\n      <th>sin_day</th>\n      <th>cos_day</th>\n      <th>price_change_5_intervals</th>\n      <th>rolling_avg_price_10_intervals</th>\n      <th>rolling_avg_price_10_close_intervals</th>\n      <th>ma_30m</th>\n      <th>ma_1h</th>\n      <th>ema_30min</th>\n      <th>ema_1h</th>\n      <th>rsi</th>\n    </tr>\n  </thead>\n  <tbody>\n    <tr>\n      <th>11</th>\n      <td>1.08323</td>\n      <td>2024-04-03 17:53:00</td>\n      <td>1.08340</td>\n      <td>1.08321</td>\n      <td>1.08327</td>\n      <td>2024-04-03 17:53:00</td>\n      <td>17</td>\n      <td>2</td>\n      <td>0.974928</td>\n      <td>-0.222521</td>\n      <td>0.00000</td>\n      <td>1.083194</td>\n      <td>1.08311</td>\n      <td>1.083194</td>\n      <td>1.083082</td>\n      <td>1.083189</td>\n      <td>1.082814</td>\n      <td>50.000000</td>\n    </tr>\n    <tr>\n      <th>12</th>\n      <td>1.08322</td>\n      <td>2024-04-03 17:58:00</td>\n      <td>1.08323</td>\n      <td>1.08322</td>\n      <td>1.08322</td>\n      <td>2024-04-03 17:58:00</td>\n      <td>17</td>\n      <td>2</td>\n      <td>0.974928</td>\n      <td>-0.222521</td>\n      <td>0.00004</td>\n      <td>1.083202</td>\n      <td>1.08315</td>\n      <td>1.083202</td>\n      <td>1.083118</td>\n      <td>1.083198</td>\n      <td>1.082817</td>\n      <td>58.333333</td>\n    </tr>\n  </tbody>\n</table>\n</div>"
     },
     "execution_count": 75,
     "metadata": {},
     "output_type": "execute_result"
    }
   ],
   "source": [
    "one_hour_df_for_prediction"
   ],
   "metadata": {
    "collapsed": false,
    "ExecuteTime": {
     "end_time": "2024-04-03T18:43:42.064362Z",
     "start_time": "2024-04-03T18:43:42.033490Z"
    }
   },
   "id": "8b9bf0de8ff25c90"
  },
  {
   "cell_type": "code",
   "execution_count": 77,
   "outputs": [
    {
     "name": "stdout",
     "output_type": "stream",
     "text": [
      "✅ loading StandardScaler \n",
      "✅ StandardScaler loaded successfully.\n",
      "✅ loading OneHotEncoder \n",
      "✅ OneHotEncoder loaded successfully.\n",
      "Empty DataFrame\n",
      "Columns: [close, date, high, low, open, timestamp, hour, day_of_week, sin_day, cos_day, price_change_5_intervals, rolling_avg_price_10_intervals, rolling_avg_price_10_close_intervals, ma_30m, ma_1h, ema_30min, ema_1h, rsi]\n",
      "Index: []\n"
     ]
    }
   ],
   "source": [
    "features_preprocessing.preprocess_predict_feature(one_hour_df_for_prediction)"
   ],
   "metadata": {
    "collapsed": false,
    "ExecuteTime": {
     "end_time": "2024-04-03T18:43:54.230558Z",
     "start_time": "2024-04-03T18:43:54.193486Z"
    }
   },
   "id": "1bff9b6de0807bc0"
  },
  {
   "cell_type": "code",
   "execution_count": 28,
   "outputs": [
    {
     "name": "stdout",
     "output_type": "stream",
     "text": [
      "(2, 18)\n",
      "(2,)\n",
      "(0, 18)\n",
      "(0,)\n",
      "(0, 18)\n",
      "(0,)\n"
     ]
    }
   ],
   "source": [
    "}print(X_train.shape)\n",
    "print(y_train.shape)\n",
    "print(X_val.shape)\n",
    "print(y_val.shape)\n",
    "print(X_test.shape)\n",
    "print(y_test.shape)"
   ],
   "metadata": {
    "collapsed": false,
    "ExecuteTime": {
     "end_time": "2024-04-02T19:35:51.913915Z",
     "start_time": "2024-04-02T19:35:51.886269Z"
    }
   },
   "id": "6164af6e4b958513"
  },
  {
   "cell_type": "code",
   "execution_count": 26,
   "outputs": [
    {
     "ename": "ValueError",
     "evalue": "Found array with 0 sample(s) (shape=(0, 11)) while a minimum of 1 is required by StandardScaler.",
     "output_type": "error",
     "traceback": [
      "\u001B[0;31m---------------------------------------------------------------------------\u001B[0m",
      "\u001B[0;31mValueError\u001B[0m                                Traceback (most recent call last)",
      "Cell \u001B[0;32mIn [26], line 1\u001B[0m\n\u001B[0;32m----> 1\u001B[0m X_train_reshaped, y_train_categorical, X_val_reshaped, y_val_categorical, X_test_reshaped, y_test_categorical \u001B[38;5;241m=\u001B[39m \u001B[43mfeatures_preprocessing\u001B[49m\u001B[38;5;241;43m.\u001B[39;49m\u001B[43mpreprocess_features_and_target\u001B[49m\u001B[43m(\u001B[49m\u001B[43mX_train\u001B[49m\u001B[43m,\u001B[49m\u001B[43m \u001B[49m\u001B[43my_train\u001B[49m\u001B[43m,\u001B[49m\u001B[43m \u001B[49m\u001B[43mX_val\u001B[49m\u001B[43m,\u001B[49m\u001B[43m \u001B[49m\u001B[43my_val\u001B[49m\u001B[43m,\u001B[49m\u001B[43m \u001B[49m\u001B[43mX_test\u001B[49m\u001B[43m,\u001B[49m\u001B[43m \u001B[49m\u001B[43my_test\u001B[49m\u001B[43m)\u001B[49m\n",
      "File \u001B[0;32m~/code/aitrading/aitrading/ml_logic2/features_preprocessing.py:30\u001B[0m, in \u001B[0;36mpreprocess_features_and_target\u001B[0;34m(X_train, y_train, X_val, y_val, X_test, y_test, categorical)\u001B[0m\n\u001B[1;32m     28\u001B[0m \u001B[38;5;66;03m# Scale numeric features\u001B[39;00m\n\u001B[1;32m     29\u001B[0m X_train_num \u001B[38;5;241m=\u001B[39m scaler\u001B[38;5;241m.\u001B[39mfit_transform(X_train[numeric_features])\n\u001B[0;32m---> 30\u001B[0m X_val_num \u001B[38;5;241m=\u001B[39m \u001B[43mscaler\u001B[49m\u001B[38;5;241;43m.\u001B[39;49m\u001B[43mtransform\u001B[49m\u001B[43m(\u001B[49m\u001B[43mX_val\u001B[49m\u001B[43m[\u001B[49m\u001B[43mnumeric_features\u001B[49m\u001B[43m]\u001B[49m\u001B[43m)\u001B[49m\n\u001B[1;32m     31\u001B[0m X_test_num \u001B[38;5;241m=\u001B[39m scaler\u001B[38;5;241m.\u001B[39mtransform(X_test[numeric_features])\n\u001B[1;32m     33\u001B[0m \u001B[38;5;66;03m# Encode categorical features\u001B[39;00m\n",
      "File \u001B[0;32m~/.pyenv/versions/3.10.6/envs/lewagon/lib/python3.10/site-packages/sklearn/utils/_set_output.py:157\u001B[0m, in \u001B[0;36m_wrap_method_output.<locals>.wrapped\u001B[0;34m(self, X, *args, **kwargs)\u001B[0m\n\u001B[1;32m    155\u001B[0m \u001B[38;5;129m@wraps\u001B[39m(f)\n\u001B[1;32m    156\u001B[0m \u001B[38;5;28;01mdef\u001B[39;00m \u001B[38;5;21mwrapped\u001B[39m(\u001B[38;5;28mself\u001B[39m, X, \u001B[38;5;241m*\u001B[39margs, \u001B[38;5;241m*\u001B[39m\u001B[38;5;241m*\u001B[39mkwargs):\n\u001B[0;32m--> 157\u001B[0m     data_to_wrap \u001B[38;5;241m=\u001B[39m \u001B[43mf\u001B[49m\u001B[43m(\u001B[49m\u001B[38;5;28;43mself\u001B[39;49m\u001B[43m,\u001B[49m\u001B[43m \u001B[49m\u001B[43mX\u001B[49m\u001B[43m,\u001B[49m\u001B[43m \u001B[49m\u001B[38;5;241;43m*\u001B[39;49m\u001B[43margs\u001B[49m\u001B[43m,\u001B[49m\u001B[43m \u001B[49m\u001B[38;5;241;43m*\u001B[39;49m\u001B[38;5;241;43m*\u001B[39;49m\u001B[43mkwargs\u001B[49m\u001B[43m)\u001B[49m\n\u001B[1;32m    158\u001B[0m     \u001B[38;5;28;01mif\u001B[39;00m \u001B[38;5;28misinstance\u001B[39m(data_to_wrap, \u001B[38;5;28mtuple\u001B[39m):\n\u001B[1;32m    159\u001B[0m         \u001B[38;5;66;03m# only wrap the first output for cross decomposition\u001B[39;00m\n\u001B[1;32m    160\u001B[0m         return_tuple \u001B[38;5;241m=\u001B[39m (\n\u001B[1;32m    161\u001B[0m             _wrap_data_with_container(method, data_to_wrap[\u001B[38;5;241m0\u001B[39m], X, \u001B[38;5;28mself\u001B[39m),\n\u001B[1;32m    162\u001B[0m             \u001B[38;5;241m*\u001B[39mdata_to_wrap[\u001B[38;5;241m1\u001B[39m:],\n\u001B[1;32m    163\u001B[0m         )\n",
      "File \u001B[0;32m~/.pyenv/versions/3.10.6/envs/lewagon/lib/python3.10/site-packages/sklearn/preprocessing/_data.py:1006\u001B[0m, in \u001B[0;36mStandardScaler.transform\u001B[0;34m(self, X, copy)\u001B[0m\n\u001B[1;32m   1003\u001B[0m check_is_fitted(\u001B[38;5;28mself\u001B[39m)\n\u001B[1;32m   1005\u001B[0m copy \u001B[38;5;241m=\u001B[39m copy \u001B[38;5;28;01mif\u001B[39;00m copy \u001B[38;5;129;01mis\u001B[39;00m \u001B[38;5;129;01mnot\u001B[39;00m \u001B[38;5;28;01mNone\u001B[39;00m \u001B[38;5;28;01melse\u001B[39;00m \u001B[38;5;28mself\u001B[39m\u001B[38;5;241m.\u001B[39mcopy\n\u001B[0;32m-> 1006\u001B[0m X \u001B[38;5;241m=\u001B[39m \u001B[38;5;28;43mself\u001B[39;49m\u001B[38;5;241;43m.\u001B[39;49m\u001B[43m_validate_data\u001B[49m\u001B[43m(\u001B[49m\n\u001B[1;32m   1007\u001B[0m \u001B[43m    \u001B[49m\u001B[43mX\u001B[49m\u001B[43m,\u001B[49m\n\u001B[1;32m   1008\u001B[0m \u001B[43m    \u001B[49m\u001B[43mreset\u001B[49m\u001B[38;5;241;43m=\u001B[39;49m\u001B[38;5;28;43;01mFalse\u001B[39;49;00m\u001B[43m,\u001B[49m\n\u001B[1;32m   1009\u001B[0m \u001B[43m    \u001B[49m\u001B[43maccept_sparse\u001B[49m\u001B[38;5;241;43m=\u001B[39;49m\u001B[38;5;124;43m\"\u001B[39;49m\u001B[38;5;124;43mcsr\u001B[39;49m\u001B[38;5;124;43m\"\u001B[39;49m\u001B[43m,\u001B[49m\n\u001B[1;32m   1010\u001B[0m \u001B[43m    \u001B[49m\u001B[43mcopy\u001B[49m\u001B[38;5;241;43m=\u001B[39;49m\u001B[43mcopy\u001B[49m\u001B[43m,\u001B[49m\n\u001B[1;32m   1011\u001B[0m \u001B[43m    \u001B[49m\u001B[43mdtype\u001B[49m\u001B[38;5;241;43m=\u001B[39;49m\u001B[43mFLOAT_DTYPES\u001B[49m\u001B[43m,\u001B[49m\n\u001B[1;32m   1012\u001B[0m \u001B[43m    \u001B[49m\u001B[43mforce_all_finite\u001B[49m\u001B[38;5;241;43m=\u001B[39;49m\u001B[38;5;124;43m\"\u001B[39;49m\u001B[38;5;124;43mallow-nan\u001B[39;49m\u001B[38;5;124;43m\"\u001B[39;49m\u001B[43m,\u001B[49m\n\u001B[1;32m   1013\u001B[0m \u001B[43m\u001B[49m\u001B[43m)\u001B[49m\n\u001B[1;32m   1015\u001B[0m \u001B[38;5;28;01mif\u001B[39;00m sparse\u001B[38;5;241m.\u001B[39missparse(X):\n\u001B[1;32m   1016\u001B[0m     \u001B[38;5;28;01mif\u001B[39;00m \u001B[38;5;28mself\u001B[39m\u001B[38;5;241m.\u001B[39mwith_mean:\n",
      "File \u001B[0;32m~/.pyenv/versions/3.10.6/envs/lewagon/lib/python3.10/site-packages/sklearn/base.py:605\u001B[0m, in \u001B[0;36mBaseEstimator._validate_data\u001B[0;34m(self, X, y, reset, validate_separately, cast_to_ndarray, **check_params)\u001B[0m\n\u001B[1;32m    603\u001B[0m         out \u001B[38;5;241m=\u001B[39m X, y\n\u001B[1;32m    604\u001B[0m \u001B[38;5;28;01melif\u001B[39;00m \u001B[38;5;129;01mnot\u001B[39;00m no_val_X \u001B[38;5;129;01mand\u001B[39;00m no_val_y:\n\u001B[0;32m--> 605\u001B[0m     out \u001B[38;5;241m=\u001B[39m \u001B[43mcheck_array\u001B[49m\u001B[43m(\u001B[49m\u001B[43mX\u001B[49m\u001B[43m,\u001B[49m\u001B[43m \u001B[49m\u001B[43minput_name\u001B[49m\u001B[38;5;241;43m=\u001B[39;49m\u001B[38;5;124;43m\"\u001B[39;49m\u001B[38;5;124;43mX\u001B[39;49m\u001B[38;5;124;43m\"\u001B[39;49m\u001B[43m,\u001B[49m\u001B[43m \u001B[49m\u001B[38;5;241;43m*\u001B[39;49m\u001B[38;5;241;43m*\u001B[39;49m\u001B[43mcheck_params\u001B[49m\u001B[43m)\u001B[49m\n\u001B[1;32m    606\u001B[0m \u001B[38;5;28;01melif\u001B[39;00m no_val_X \u001B[38;5;129;01mand\u001B[39;00m \u001B[38;5;129;01mnot\u001B[39;00m no_val_y:\n\u001B[1;32m    607\u001B[0m     out \u001B[38;5;241m=\u001B[39m _check_y(y, \u001B[38;5;241m*\u001B[39m\u001B[38;5;241m*\u001B[39mcheck_params)\n",
      "File \u001B[0;32m~/.pyenv/versions/3.10.6/envs/lewagon/lib/python3.10/site-packages/sklearn/utils/validation.py:967\u001B[0m, in \u001B[0;36mcheck_array\u001B[0;34m(array, accept_sparse, accept_large_sparse, dtype, order, copy, force_all_finite, ensure_2d, allow_nd, ensure_min_samples, ensure_min_features, estimator, input_name)\u001B[0m\n\u001B[1;32m    965\u001B[0m     n_samples \u001B[38;5;241m=\u001B[39m _num_samples(array)\n\u001B[1;32m    966\u001B[0m     \u001B[38;5;28;01mif\u001B[39;00m n_samples \u001B[38;5;241m<\u001B[39m ensure_min_samples:\n\u001B[0;32m--> 967\u001B[0m         \u001B[38;5;28;01mraise\u001B[39;00m \u001B[38;5;167;01mValueError\u001B[39;00m(\n\u001B[1;32m    968\u001B[0m             \u001B[38;5;124m\"\u001B[39m\u001B[38;5;124mFound array with \u001B[39m\u001B[38;5;132;01m%d\u001B[39;00m\u001B[38;5;124m sample(s) (shape=\u001B[39m\u001B[38;5;132;01m%s\u001B[39;00m\u001B[38;5;124m) while a\u001B[39m\u001B[38;5;124m\"\u001B[39m\n\u001B[1;32m    969\u001B[0m             \u001B[38;5;124m\"\u001B[39m\u001B[38;5;124m minimum of \u001B[39m\u001B[38;5;132;01m%d\u001B[39;00m\u001B[38;5;124m is required\u001B[39m\u001B[38;5;132;01m%s\u001B[39;00m\u001B[38;5;124m.\u001B[39m\u001B[38;5;124m\"\u001B[39m\n\u001B[1;32m    970\u001B[0m             \u001B[38;5;241m%\u001B[39m (n_samples, array\u001B[38;5;241m.\u001B[39mshape, ensure_min_samples, context)\n\u001B[1;32m    971\u001B[0m         )\n\u001B[1;32m    973\u001B[0m \u001B[38;5;28;01mif\u001B[39;00m ensure_min_features \u001B[38;5;241m>\u001B[39m \u001B[38;5;241m0\u001B[39m \u001B[38;5;129;01mand\u001B[39;00m array\u001B[38;5;241m.\u001B[39mndim \u001B[38;5;241m==\u001B[39m \u001B[38;5;241m2\u001B[39m:\n\u001B[1;32m    974\u001B[0m     n_features \u001B[38;5;241m=\u001B[39m array\u001B[38;5;241m.\u001B[39mshape[\u001B[38;5;241m1\u001B[39m]\n",
      "\u001B[0;31mValueError\u001B[0m: Found array with 0 sample(s) (shape=(0, 11)) while a minimum of 1 is required by StandardScaler."
     ]
    }
   ],
   "source": [
    "X_train_reshaped, y_train_categorical, X_val_reshaped, y_val_categorical, X_test_reshaped, y_test_categorical = features_preprocessing.preprocess_features_and_target(X_train, y_train, X_val, y_val, X_test, y_test)"
   ],
   "metadata": {
    "collapsed": false,
    "ExecuteTime": {
     "end_time": "2024-04-02T19:34:48.211435Z",
     "start_time": "2024-04-02T19:34:47.874010Z"
    }
   },
   "id": "8702d5f5bb080b12"
  },
  {
   "cell_type": "code",
   "execution_count": 24,
   "outputs": [
    {
     "name": "stdout",
     "output_type": "stream",
     "text": [
      "(125775, 1, 11)\n",
      "(125775,)\n",
      "(26951, 1, 11)\n",
      "(26951,)\n",
      "(26953, 1, 11)\n",
      "(26953,)\n"
     ]
    }
   ],
   "source": [
    "print(X_train_reshaped.shape)\n",
    "print(y_train_categorical.shape)\n",
    "print(X_val_reshaped.shape)\n",
    "print(y_val_categorical.shape)\n",
    "print(X_test_reshaped.shape)\n",
    "print(y_test_categorical.shape)"
   ],
   "metadata": {
    "collapsed": false,
    "ExecuteTime": {
     "end_time": "2024-04-02T19:34:34.317749Z",
     "start_time": "2024-04-02T19:34:34.291131Z"
    }
   },
   "id": "b95cfa7a14fc32c1"
  },
  {
   "cell_type": "code",
   "execution_count": 16,
   "outputs": [
    {
     "data": {
      "text/plain": "array([[ 1.77739532,  0.73732109,  1.76978328,  1.77739532,  1.77009514,\n        -0.2932413 ,  1.32947221,  1.7682275 ,  1.77114712,  1.83825156,\n         1.75971845]])"
     },
     "execution_count": 16,
     "metadata": {},
     "output_type": "execute_result"
    }
   ],
   "source": [
    "X_train_reshaped[0]"
   ],
   "metadata": {
    "collapsed": false,
    "ExecuteTime": {
     "end_time": "2024-04-02T19:31:58.930344Z",
     "start_time": "2024-04-02T19:31:58.900233Z"
    }
   },
   "id": "51cab5717469f0ef"
  },
  {
   "cell_type": "code",
   "execution_count": 18,
   "outputs": [
    {
     "name": "stdout",
     "output_type": "stream",
     "text": [
      "\u001B[1m3931/3931\u001B[0m \u001B[32m━━━━━━━━━━━━━━━━━━━━\u001B[0m\u001B[37m\u001B[0m \u001B[1m3s\u001B[0m 723us/step\n"
     ]
    },
    {
     "data": {
      "text/plain": "array([[0.49192932],\n       [0.49192944],\n       [0.49192956],\n       ...,\n       [0.49193144],\n       [0.4919314 ],\n       [0.4919314 ]], dtype=float32)"
     },
     "execution_count": 18,
     "metadata": {},
     "output_type": "execute_result"
    }
   ],
   "source": [
    "import pandas as pd\n",
    "\n",
    "model.predict(X_train_reshaped)"
   ],
   "metadata": {
    "collapsed": false,
    "ExecuteTime": {
     "end_time": "2024-04-02T19:32:23.972890Z",
     "start_time": "2024-04-02T19:32:20.695789Z"
    }
   },
   "id": "e7e2ac8ec2286bf4"
  },
  {
   "cell_type": "code",
   "execution_count": null,
   "outputs": [],
   "source": [],
   "metadata": {
    "collapsed": false
   },
   "id": "f6f74cbfd849ffa1"
  }
 ],
 "metadata": {
  "kernelspec": {
   "display_name": "Python 3",
   "language": "python",
   "name": "python3"
  },
  "language_info": {
   "codemirror_mode": {
    "name": "ipython",
    "version": 2
   },
   "file_extension": ".py",
   "mimetype": "text/x-python",
   "name": "python",
   "nbconvert_exporter": "python",
   "pygments_lexer": "ipython2",
   "version": "2.7.6"
  }
 },
 "nbformat": 4,
 "nbformat_minor": 5
}
