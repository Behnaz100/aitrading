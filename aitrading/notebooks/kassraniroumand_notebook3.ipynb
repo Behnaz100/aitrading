{
 "cells": [
  {
   "cell_type": "code",
   "execution_count": 7,
   "outputs": [],
   "source": [
    "%load_ext autoreload\n",
    "%autoreload 2"
   ],
   "metadata": {
    "collapsed": false,
    "ExecuteTime": {
     "end_time": "2024-03-23T10:43:55.779638Z",
     "start_time": "2024-03-23T10:43:55.753542Z"
    }
   },
   "id": "761ac90b45e4d747"
  },
  {
   "cell_type": "markdown",
   "source": [],
   "metadata": {
    "collapsed": false
   },
   "id": "7632531d0f5d98c1"
  },
  {
   "cell_type": "markdown",
   "source": [],
   "metadata": {
    "collapsed": false
   },
   "id": "1b1bcea0c5c02c16"
  },
  {
   "cell_type": "code",
   "execution_count": 8,
   "id": "initial_id",
   "metadata": {
    "collapsed": true,
    "ExecuteTime": {
     "end_time": "2024-03-23T10:43:56.934839Z",
     "start_time": "2024-03-23T10:43:56.410189Z"
    }
   },
   "outputs": [],
   "source": [
    "from aitrading.ml_logic.ModelTrainer import ModelTrainer\n",
    "from aitrading.ml_logic.data import get_data_from_local"
   ]
  },
  {
   "cell_type": "code",
   "execution_count": 9,
   "outputs": [],
   "source": [
    "df1 = get_data_from_local('eurousd_df_clean.csv')"
   ],
   "metadata": {
    "collapsed": false,
    "ExecuteTime": {
     "end_time": "2024-03-23T10:43:57.653884Z",
     "start_time": "2024-03-23T10:43:56.935657Z"
    }
   },
   "id": "c416f6de3ff8fa96"
  },
  {
   "cell_type": "code",
   "execution_count": 10,
   "outputs": [],
   "source": [
    "included_columns = ['close']  # Columns to include in the windowed data\n",
    "first_date_str = '2022-01-02'\n",
    "last_date_str = '2023-01-03'\n",
    "n = 3"
   ],
   "metadata": {
    "collapsed": false,
    "ExecuteTime": {
     "end_time": "2024-03-23T10:43:57.672514Z",
     "start_time": "2024-03-23T10:43:57.654029Z"
    }
   },
   "id": "4f958604e65a7b04"
  },
  {
   "cell_type": "code",
   "execution_count": 11,
   "outputs": [],
   "source": [
    "trainer = ModelTrainer(df1)"
   ],
   "metadata": {
    "collapsed": false,
    "ExecuteTime": {
     "end_time": "2024-03-23T10:43:58.082748Z",
     "start_time": "2024-03-23T10:43:58.053983Z"
    }
   },
   "id": "c4def1c87ed5e155"
  },
  {
   "cell_type": "markdown",
   "source": [],
   "metadata": {
    "collapsed": false
   },
   "id": "25361d0cb255d53e"
  },
  {
   "cell_type": "code",
   "execution_count": 12,
   "outputs": [
    {
     "name": "stdout",
     "output_type": "stream",
     "text": [
      "/Users/kassraniroumand/code/aitrading/aitrading/data/[\"2023-01-01\", \"2023-11-05\", [\"close\"]].pkl\n",
      "[\"2023-01-01\", \"2023-11-05\", [\"close\"]]\n",
      "not using cached data\n",
      "Creating windowed dataframe from 2023-01-01 to 2023-11-05\n"
     ]
    }
   ],
   "source": [
    "trainer.prepare_data('2023-01-01', '2023-11-05', ['close'], \"close\", 3)"
   ],
   "metadata": {
    "collapsed": false,
    "ExecuteTime": {
     "end_time": "2024-03-23T10:45:07.401275Z",
     "start_time": "2024-03-23T10:43:58.652148Z"
    }
   },
   "id": "3d9930a1bf0b444e"
  },
  {
   "cell_type": "code",
   "execution_count": 13,
   "outputs": [
    {
     "data": {
      "text/plain": "                     close_T-3  close_T-2  close_T-1  close_Target\nTarget Date                                                       \n2023-09-04 09:15:00    1.05871    1.05871    1.05873       1.05868\n2023-09-04 09:20:00    1.05871    1.05871    1.05873       1.05868\n2023-09-04 09:25:00    1.05871    1.05871    1.05873       1.05868\n2023-09-04 09:30:00    1.05871    1.05871    1.05873       1.05868\n2023-09-04 09:35:00    1.05871    1.05871    1.05873       1.05868",
      "text/html": "<div>\n<style scoped>\n    .dataframe tbody tr th:only-of-type {\n        vertical-align: middle;\n    }\n\n    .dataframe tbody tr th {\n        vertical-align: top;\n    }\n\n    .dataframe thead th {\n        text-align: right;\n    }\n</style>\n<table border=\"1\" class=\"dataframe\">\n  <thead>\n    <tr style=\"text-align: right;\">\n      <th></th>\n      <th>close_T-3</th>\n      <th>close_T-2</th>\n      <th>close_T-1</th>\n      <th>close_Target</th>\n    </tr>\n    <tr>\n      <th>Target Date</th>\n      <th></th>\n      <th></th>\n      <th></th>\n      <th></th>\n    </tr>\n  </thead>\n  <tbody>\n    <tr>\n      <th>2023-09-04 09:15:00</th>\n      <td>1.05871</td>\n      <td>1.05871</td>\n      <td>1.05873</td>\n      <td>1.05868</td>\n    </tr>\n    <tr>\n      <th>2023-09-04 09:20:00</th>\n      <td>1.05871</td>\n      <td>1.05871</td>\n      <td>1.05873</td>\n      <td>1.05868</td>\n    </tr>\n    <tr>\n      <th>2023-09-04 09:25:00</th>\n      <td>1.05871</td>\n      <td>1.05871</td>\n      <td>1.05873</td>\n      <td>1.05868</td>\n    </tr>\n    <tr>\n      <th>2023-09-04 09:30:00</th>\n      <td>1.05871</td>\n      <td>1.05871</td>\n      <td>1.05873</td>\n      <td>1.05868</td>\n    </tr>\n    <tr>\n      <th>2023-09-04 09:35:00</th>\n      <td>1.05871</td>\n      <td>1.05871</td>\n      <td>1.05873</td>\n      <td>1.05868</td>\n    </tr>\n  </tbody>\n</table>\n</div>"
     },
     "execution_count": 13,
     "metadata": {},
     "output_type": "execute_result"
    }
   ],
   "source": [
    "trainer.X_train.tail(5)"
   ],
   "metadata": {
    "collapsed": false,
    "ExecuteTime": {
     "end_time": "2024-03-23T10:45:07.438497Z",
     "start_time": "2024-03-23T10:45:07.401809Z"
    }
   },
   "id": "78ee4ad0f1b6e741"
  },
  {
   "cell_type": "code",
   "execution_count": 8,
   "outputs": [
    {
     "data": {
      "text/plain": "                     close_T-3  close_T-2  close_T-1  close_Target\nTarget Date                                                       \n2023-09-04 09:40:00    1.05871    1.05871    1.05873       1.05868\n2023-09-04 09:45:00    1.05871    1.05871    1.05873       1.05868\n2023-09-04 09:50:00    1.05871    1.05871    1.05873       1.05868\n2023-09-04 09:55:00    1.05871    1.05871    1.05873       1.05868\n2023-09-04 10:00:00    1.05871    1.05871    1.05873       1.05868",
      "text/html": "<div>\n<style scoped>\n    .dataframe tbody tr th:only-of-type {\n        vertical-align: middle;\n    }\n\n    .dataframe tbody tr th {\n        vertical-align: top;\n    }\n\n    .dataframe thead th {\n        text-align: right;\n    }\n</style>\n<table border=\"1\" class=\"dataframe\">\n  <thead>\n    <tr style=\"text-align: right;\">\n      <th></th>\n      <th>close_T-3</th>\n      <th>close_T-2</th>\n      <th>close_T-1</th>\n      <th>close_Target</th>\n    </tr>\n    <tr>\n      <th>Target Date</th>\n      <th></th>\n      <th></th>\n      <th></th>\n      <th></th>\n    </tr>\n  </thead>\n  <tbody>\n    <tr>\n      <th>2023-09-04 09:40:00</th>\n      <td>1.05871</td>\n      <td>1.05871</td>\n      <td>1.05873</td>\n      <td>1.05868</td>\n    </tr>\n    <tr>\n      <th>2023-09-04 09:45:00</th>\n      <td>1.05871</td>\n      <td>1.05871</td>\n      <td>1.05873</td>\n      <td>1.05868</td>\n    </tr>\n    <tr>\n      <th>2023-09-04 09:50:00</th>\n      <td>1.05871</td>\n      <td>1.05871</td>\n      <td>1.05873</td>\n      <td>1.05868</td>\n    </tr>\n    <tr>\n      <th>2023-09-04 09:55:00</th>\n      <td>1.05871</td>\n      <td>1.05871</td>\n      <td>1.05873</td>\n      <td>1.05868</td>\n    </tr>\n    <tr>\n      <th>2023-09-04 10:00:00</th>\n      <td>1.05871</td>\n      <td>1.05871</td>\n      <td>1.05873</td>\n      <td>1.05868</td>\n    </tr>\n  </tbody>\n</table>\n</div>"
     },
     "execution_count": 8,
     "metadata": {},
     "output_type": "execute_result"
    }
   ],
   "source": [
    "trainer.X_val.head(5)"
   ],
   "metadata": {
    "collapsed": false,
    "ExecuteTime": {
     "end_time": "2024-03-21T21:20:05.787917Z",
     "start_time": "2024-03-21T21:20:05.769530Z"
    }
   },
   "id": "b12e94cb8f3b4097"
  },
  {
   "cell_type": "code",
   "execution_count": 9,
   "outputs": [
    {
     "data": {
      "text/plain": "                     close_T-3  close_T-2  close_T-1  close_Target\nTarget Date                                                       \n2023-10-05 04:25:00    1.09491    1.09504    1.09534       1.09549\n2023-10-05 04:30:00    1.09504    1.09534    1.09549       1.09553\n2023-10-05 04:35:00    1.09534    1.09549    1.09553       1.09550\n2023-10-05 04:40:00    1.09549    1.09553    1.09550       1.09548\n2023-10-05 04:45:00    1.09553    1.09550    1.09548       1.09582",
      "text/html": "<div>\n<style scoped>\n    .dataframe tbody tr th:only-of-type {\n        vertical-align: middle;\n    }\n\n    .dataframe tbody tr th {\n        vertical-align: top;\n    }\n\n    .dataframe thead th {\n        text-align: right;\n    }\n</style>\n<table border=\"1\" class=\"dataframe\">\n  <thead>\n    <tr style=\"text-align: right;\">\n      <th></th>\n      <th>close_T-3</th>\n      <th>close_T-2</th>\n      <th>close_T-1</th>\n      <th>close_Target</th>\n    </tr>\n    <tr>\n      <th>Target Date</th>\n      <th></th>\n      <th></th>\n      <th></th>\n      <th></th>\n    </tr>\n  </thead>\n  <tbody>\n    <tr>\n      <th>2023-10-05 04:25:00</th>\n      <td>1.09491</td>\n      <td>1.09504</td>\n      <td>1.09534</td>\n      <td>1.09549</td>\n    </tr>\n    <tr>\n      <th>2023-10-05 04:30:00</th>\n      <td>1.09504</td>\n      <td>1.09534</td>\n      <td>1.09549</td>\n      <td>1.09553</td>\n    </tr>\n    <tr>\n      <th>2023-10-05 04:35:00</th>\n      <td>1.09534</td>\n      <td>1.09549</td>\n      <td>1.09553</td>\n      <td>1.09550</td>\n    </tr>\n    <tr>\n      <th>2023-10-05 04:40:00</th>\n      <td>1.09549</td>\n      <td>1.09553</td>\n      <td>1.09550</td>\n      <td>1.09548</td>\n    </tr>\n    <tr>\n      <th>2023-10-05 04:45:00</th>\n      <td>1.09553</td>\n      <td>1.09550</td>\n      <td>1.09548</td>\n      <td>1.09582</td>\n    </tr>\n  </tbody>\n</table>\n</div>"
     },
     "execution_count": 9,
     "metadata": {},
     "output_type": "execute_result"
    }
   ],
   "source": [
    "trainer.X_val.tail(5)"
   ],
   "metadata": {
    "collapsed": false,
    "ExecuteTime": {
     "end_time": "2024-03-21T21:20:05.833761Z",
     "start_time": "2024-03-21T21:20:05.788595Z"
    }
   },
   "id": "27f1809979701868"
  },
  {
   "cell_type": "code",
   "execution_count": 10,
   "outputs": [
    {
     "data": {
      "text/plain": "                     close_T-3  close_T-2  close_T-1  close_Target\nTarget Date                                                       \n2023-10-05 04:50:00    1.09550    1.09548    1.09582       1.09564\n2023-10-05 04:55:00    1.09548    1.09582    1.09564       1.09569\n2023-10-05 05:00:00    1.09582    1.09564    1.09569       1.09560\n2023-10-05 05:05:00    1.09564    1.09569    1.09560       1.09594\n2023-10-05 05:10:00    1.09569    1.09560    1.09594       1.09584",
      "text/html": "<div>\n<style scoped>\n    .dataframe tbody tr th:only-of-type {\n        vertical-align: middle;\n    }\n\n    .dataframe tbody tr th {\n        vertical-align: top;\n    }\n\n    .dataframe thead th {\n        text-align: right;\n    }\n</style>\n<table border=\"1\" class=\"dataframe\">\n  <thead>\n    <tr style=\"text-align: right;\">\n      <th></th>\n      <th>close_T-3</th>\n      <th>close_T-2</th>\n      <th>close_T-1</th>\n      <th>close_Target</th>\n    </tr>\n    <tr>\n      <th>Target Date</th>\n      <th></th>\n      <th></th>\n      <th></th>\n      <th></th>\n    </tr>\n  </thead>\n  <tbody>\n    <tr>\n      <th>2023-10-05 04:50:00</th>\n      <td>1.09550</td>\n      <td>1.09548</td>\n      <td>1.09582</td>\n      <td>1.09564</td>\n    </tr>\n    <tr>\n      <th>2023-10-05 04:55:00</th>\n      <td>1.09548</td>\n      <td>1.09582</td>\n      <td>1.09564</td>\n      <td>1.09569</td>\n    </tr>\n    <tr>\n      <th>2023-10-05 05:00:00</th>\n      <td>1.09582</td>\n      <td>1.09564</td>\n      <td>1.09569</td>\n      <td>1.09560</td>\n    </tr>\n    <tr>\n      <th>2023-10-05 05:05:00</th>\n      <td>1.09564</td>\n      <td>1.09569</td>\n      <td>1.09560</td>\n      <td>1.09594</td>\n    </tr>\n    <tr>\n      <th>2023-10-05 05:10:00</th>\n      <td>1.09569</td>\n      <td>1.09560</td>\n      <td>1.09594</td>\n      <td>1.09584</td>\n    </tr>\n  </tbody>\n</table>\n</div>"
     },
     "execution_count": 10,
     "metadata": {},
     "output_type": "execute_result"
    }
   ],
   "source": [
    "trainer.X_test.head(5)"
   ],
   "metadata": {
    "collapsed": false,
    "ExecuteTime": {
     "end_time": "2024-03-21T21:20:05.859976Z",
     "start_time": "2024-03-21T21:20:05.834401Z"
    }
   },
   "id": "f864ac10d150f106"
  },
  {
   "cell_type": "code",
   "execution_count": 11,
   "outputs": [
    {
     "data": {
      "text/plain": "                     close_T-3  close_T-2  close_T-1  close_Target\nTarget Date                                                       \n2023-10-05 04:50:00    1.09550    1.09548    1.09582       1.09564\n2023-10-05 04:55:00    1.09548    1.09582    1.09564       1.09569\n2023-10-05 05:00:00    1.09582    1.09564    1.09569       1.09560\n2023-10-05 05:05:00    1.09564    1.09569    1.09560       1.09594\n2023-10-05 05:10:00    1.09569    1.09560    1.09594       1.09584\n2023-10-05 05:15:00    1.09560    1.09594    1.09584       1.09579\n2023-10-05 05:20:00    1.09594    1.09584    1.09579       1.09573\n2023-10-05 05:25:00    1.09584    1.09579    1.09573       1.09555\n2023-10-05 05:30:00    1.09579    1.09573    1.09555       1.09518\n2023-10-05 05:35:00    1.09573    1.09555    1.09518       1.09538\n2023-10-05 05:40:00    1.09555    1.09518    1.09538       1.09544\n2023-10-05 05:45:00    1.09518    1.09538    1.09544       1.09554\n2023-10-05 05:50:00    1.09538    1.09544    1.09554       1.09532\n2023-10-05 05:55:00    1.09544    1.09554    1.09532       1.09547\n2023-10-05 06:00:00    1.09554    1.09532    1.09547       1.09510\n2023-10-05 06:05:00    1.09532    1.09547    1.09510       1.09470\n2023-10-05 06:10:00    1.09547    1.09510    1.09470       1.09474\n2023-10-05 06:15:00    1.09510    1.09470    1.09474       1.09479\n2023-10-05 06:20:00    1.09470    1.09474    1.09479       1.09493\n2023-10-05 06:25:00    1.09474    1.09479    1.09493       1.09493\n2023-10-05 06:30:00    1.09479    1.09493    1.09493       1.09487\n2023-10-05 06:35:00    1.09493    1.09493    1.09487       1.09495\n2023-10-05 06:40:00    1.09493    1.09487    1.09495       1.09514\n2023-10-05 06:45:00    1.09487    1.09495    1.09514       1.09517\n2023-10-05 06:50:00    1.09495    1.09514    1.09517       1.09498\n2023-10-05 06:55:00    1.09514    1.09517    1.09498       1.09488\n2023-10-05 07:00:00    1.09517    1.09498    1.09488       1.09494\n2023-10-05 07:05:00    1.09498    1.09488    1.09494       1.09496\n2023-10-05 07:10:00    1.09488    1.09494    1.09496       1.09499\n2023-10-05 07:15:00    1.09494    1.09496    1.09499       1.09463\n2023-10-05 07:20:00    1.09496    1.09499    1.09463       1.09445\n2023-10-05 07:25:00    1.09499    1.09463    1.09445       1.09451\n2023-10-05 07:30:00    1.09463    1.09445    1.09451       1.09766\n2023-10-05 07:35:00    1.09445    1.09451    1.09766       1.09851\n2023-10-05 07:40:00    1.09451    1.09766    1.09851       1.09940\n2023-10-05 07:45:00    1.09766    1.09851    1.09940       1.09948\n2023-10-05 07:50:00    1.09851    1.09940    1.09948       1.09992\n2023-10-05 07:55:00    1.09940    1.09948    1.09992       1.10008\n2023-10-05 08:00:00    1.09948    1.09992    1.10008       1.10004\n2023-10-05 08:05:00    1.09992    1.10008    1.10004       1.09904\n2023-10-05 08:10:00    1.10008    1.10004    1.09904       1.09983\n2023-10-05 08:15:00    1.10004    1.09904    1.09983       1.09922\n2023-10-05 08:20:00    1.09904    1.09983    1.09922       1.09841\n2023-10-05 08:25:00    1.09983    1.09922    1.09841       1.09841\n2023-10-05 08:30:00    1.09922    1.09841    1.09841       1.09826\n2023-10-05 08:35:00    1.09841    1.09841    1.09826       1.09827\n2023-10-05 08:40:00    1.09841    1.09826    1.09827       1.09763\n2023-10-05 08:45:00    1.09826    1.09827    1.09763       1.09799\n2023-10-05 08:50:00    1.09827    1.09763    1.09799       1.09803\n2023-10-05 08:55:00    1.09763    1.09799    1.09803       1.09857",
      "text/html": "<div>\n<style scoped>\n    .dataframe tbody tr th:only-of-type {\n        vertical-align: middle;\n    }\n\n    .dataframe tbody tr th {\n        vertical-align: top;\n    }\n\n    .dataframe thead th {\n        text-align: right;\n    }\n</style>\n<table border=\"1\" class=\"dataframe\">\n  <thead>\n    <tr style=\"text-align: right;\">\n      <th></th>\n      <th>close_T-3</th>\n      <th>close_T-2</th>\n      <th>close_T-1</th>\n      <th>close_Target</th>\n    </tr>\n    <tr>\n      <th>Target Date</th>\n      <th></th>\n      <th></th>\n      <th></th>\n      <th></th>\n    </tr>\n  </thead>\n  <tbody>\n    <tr>\n      <th>2023-10-05 04:50:00</th>\n      <td>1.09550</td>\n      <td>1.09548</td>\n      <td>1.09582</td>\n      <td>1.09564</td>\n    </tr>\n    <tr>\n      <th>2023-10-05 04:55:00</th>\n      <td>1.09548</td>\n      <td>1.09582</td>\n      <td>1.09564</td>\n      <td>1.09569</td>\n    </tr>\n    <tr>\n      <th>2023-10-05 05:00:00</th>\n      <td>1.09582</td>\n      <td>1.09564</td>\n      <td>1.09569</td>\n      <td>1.09560</td>\n    </tr>\n    <tr>\n      <th>2023-10-05 05:05:00</th>\n      <td>1.09564</td>\n      <td>1.09569</td>\n      <td>1.09560</td>\n      <td>1.09594</td>\n    </tr>\n    <tr>\n      <th>2023-10-05 05:10:00</th>\n      <td>1.09569</td>\n      <td>1.09560</td>\n      <td>1.09594</td>\n      <td>1.09584</td>\n    </tr>\n    <tr>\n      <th>2023-10-05 05:15:00</th>\n      <td>1.09560</td>\n      <td>1.09594</td>\n      <td>1.09584</td>\n      <td>1.09579</td>\n    </tr>\n    <tr>\n      <th>2023-10-05 05:20:00</th>\n      <td>1.09594</td>\n      <td>1.09584</td>\n      <td>1.09579</td>\n      <td>1.09573</td>\n    </tr>\n    <tr>\n      <th>2023-10-05 05:25:00</th>\n      <td>1.09584</td>\n      <td>1.09579</td>\n      <td>1.09573</td>\n      <td>1.09555</td>\n    </tr>\n    <tr>\n      <th>2023-10-05 05:30:00</th>\n      <td>1.09579</td>\n      <td>1.09573</td>\n      <td>1.09555</td>\n      <td>1.09518</td>\n    </tr>\n    <tr>\n      <th>2023-10-05 05:35:00</th>\n      <td>1.09573</td>\n      <td>1.09555</td>\n      <td>1.09518</td>\n      <td>1.09538</td>\n    </tr>\n    <tr>\n      <th>2023-10-05 05:40:00</th>\n      <td>1.09555</td>\n      <td>1.09518</td>\n      <td>1.09538</td>\n      <td>1.09544</td>\n    </tr>\n    <tr>\n      <th>2023-10-05 05:45:00</th>\n      <td>1.09518</td>\n      <td>1.09538</td>\n      <td>1.09544</td>\n      <td>1.09554</td>\n    </tr>\n    <tr>\n      <th>2023-10-05 05:50:00</th>\n      <td>1.09538</td>\n      <td>1.09544</td>\n      <td>1.09554</td>\n      <td>1.09532</td>\n    </tr>\n    <tr>\n      <th>2023-10-05 05:55:00</th>\n      <td>1.09544</td>\n      <td>1.09554</td>\n      <td>1.09532</td>\n      <td>1.09547</td>\n    </tr>\n    <tr>\n      <th>2023-10-05 06:00:00</th>\n      <td>1.09554</td>\n      <td>1.09532</td>\n      <td>1.09547</td>\n      <td>1.09510</td>\n    </tr>\n    <tr>\n      <th>2023-10-05 06:05:00</th>\n      <td>1.09532</td>\n      <td>1.09547</td>\n      <td>1.09510</td>\n      <td>1.09470</td>\n    </tr>\n    <tr>\n      <th>2023-10-05 06:10:00</th>\n      <td>1.09547</td>\n      <td>1.09510</td>\n      <td>1.09470</td>\n      <td>1.09474</td>\n    </tr>\n    <tr>\n      <th>2023-10-05 06:15:00</th>\n      <td>1.09510</td>\n      <td>1.09470</td>\n      <td>1.09474</td>\n      <td>1.09479</td>\n    </tr>\n    <tr>\n      <th>2023-10-05 06:20:00</th>\n      <td>1.09470</td>\n      <td>1.09474</td>\n      <td>1.09479</td>\n      <td>1.09493</td>\n    </tr>\n    <tr>\n      <th>2023-10-05 06:25:00</th>\n      <td>1.09474</td>\n      <td>1.09479</td>\n      <td>1.09493</td>\n      <td>1.09493</td>\n    </tr>\n    <tr>\n      <th>2023-10-05 06:30:00</th>\n      <td>1.09479</td>\n      <td>1.09493</td>\n      <td>1.09493</td>\n      <td>1.09487</td>\n    </tr>\n    <tr>\n      <th>2023-10-05 06:35:00</th>\n      <td>1.09493</td>\n      <td>1.09493</td>\n      <td>1.09487</td>\n      <td>1.09495</td>\n    </tr>\n    <tr>\n      <th>2023-10-05 06:40:00</th>\n      <td>1.09493</td>\n      <td>1.09487</td>\n      <td>1.09495</td>\n      <td>1.09514</td>\n    </tr>\n    <tr>\n      <th>2023-10-05 06:45:00</th>\n      <td>1.09487</td>\n      <td>1.09495</td>\n      <td>1.09514</td>\n      <td>1.09517</td>\n    </tr>\n    <tr>\n      <th>2023-10-05 06:50:00</th>\n      <td>1.09495</td>\n      <td>1.09514</td>\n      <td>1.09517</td>\n      <td>1.09498</td>\n    </tr>\n    <tr>\n      <th>2023-10-05 06:55:00</th>\n      <td>1.09514</td>\n      <td>1.09517</td>\n      <td>1.09498</td>\n      <td>1.09488</td>\n    </tr>\n    <tr>\n      <th>2023-10-05 07:00:00</th>\n      <td>1.09517</td>\n      <td>1.09498</td>\n      <td>1.09488</td>\n      <td>1.09494</td>\n    </tr>\n    <tr>\n      <th>2023-10-05 07:05:00</th>\n      <td>1.09498</td>\n      <td>1.09488</td>\n      <td>1.09494</td>\n      <td>1.09496</td>\n    </tr>\n    <tr>\n      <th>2023-10-05 07:10:00</th>\n      <td>1.09488</td>\n      <td>1.09494</td>\n      <td>1.09496</td>\n      <td>1.09499</td>\n    </tr>\n    <tr>\n      <th>2023-10-05 07:15:00</th>\n      <td>1.09494</td>\n      <td>1.09496</td>\n      <td>1.09499</td>\n      <td>1.09463</td>\n    </tr>\n    <tr>\n      <th>2023-10-05 07:20:00</th>\n      <td>1.09496</td>\n      <td>1.09499</td>\n      <td>1.09463</td>\n      <td>1.09445</td>\n    </tr>\n    <tr>\n      <th>2023-10-05 07:25:00</th>\n      <td>1.09499</td>\n      <td>1.09463</td>\n      <td>1.09445</td>\n      <td>1.09451</td>\n    </tr>\n    <tr>\n      <th>2023-10-05 07:30:00</th>\n      <td>1.09463</td>\n      <td>1.09445</td>\n      <td>1.09451</td>\n      <td>1.09766</td>\n    </tr>\n    <tr>\n      <th>2023-10-05 07:35:00</th>\n      <td>1.09445</td>\n      <td>1.09451</td>\n      <td>1.09766</td>\n      <td>1.09851</td>\n    </tr>\n    <tr>\n      <th>2023-10-05 07:40:00</th>\n      <td>1.09451</td>\n      <td>1.09766</td>\n      <td>1.09851</td>\n      <td>1.09940</td>\n    </tr>\n    <tr>\n      <th>2023-10-05 07:45:00</th>\n      <td>1.09766</td>\n      <td>1.09851</td>\n      <td>1.09940</td>\n      <td>1.09948</td>\n    </tr>\n    <tr>\n      <th>2023-10-05 07:50:00</th>\n      <td>1.09851</td>\n      <td>1.09940</td>\n      <td>1.09948</td>\n      <td>1.09992</td>\n    </tr>\n    <tr>\n      <th>2023-10-05 07:55:00</th>\n      <td>1.09940</td>\n      <td>1.09948</td>\n      <td>1.09992</td>\n      <td>1.10008</td>\n    </tr>\n    <tr>\n      <th>2023-10-05 08:00:00</th>\n      <td>1.09948</td>\n      <td>1.09992</td>\n      <td>1.10008</td>\n      <td>1.10004</td>\n    </tr>\n    <tr>\n      <th>2023-10-05 08:05:00</th>\n      <td>1.09992</td>\n      <td>1.10008</td>\n      <td>1.10004</td>\n      <td>1.09904</td>\n    </tr>\n    <tr>\n      <th>2023-10-05 08:10:00</th>\n      <td>1.10008</td>\n      <td>1.10004</td>\n      <td>1.09904</td>\n      <td>1.09983</td>\n    </tr>\n    <tr>\n      <th>2023-10-05 08:15:00</th>\n      <td>1.10004</td>\n      <td>1.09904</td>\n      <td>1.09983</td>\n      <td>1.09922</td>\n    </tr>\n    <tr>\n      <th>2023-10-05 08:20:00</th>\n      <td>1.09904</td>\n      <td>1.09983</td>\n      <td>1.09922</td>\n      <td>1.09841</td>\n    </tr>\n    <tr>\n      <th>2023-10-05 08:25:00</th>\n      <td>1.09983</td>\n      <td>1.09922</td>\n      <td>1.09841</td>\n      <td>1.09841</td>\n    </tr>\n    <tr>\n      <th>2023-10-05 08:30:00</th>\n      <td>1.09922</td>\n      <td>1.09841</td>\n      <td>1.09841</td>\n      <td>1.09826</td>\n    </tr>\n    <tr>\n      <th>2023-10-05 08:35:00</th>\n      <td>1.09841</td>\n      <td>1.09841</td>\n      <td>1.09826</td>\n      <td>1.09827</td>\n    </tr>\n    <tr>\n      <th>2023-10-05 08:40:00</th>\n      <td>1.09841</td>\n      <td>1.09826</td>\n      <td>1.09827</td>\n      <td>1.09763</td>\n    </tr>\n    <tr>\n      <th>2023-10-05 08:45:00</th>\n      <td>1.09826</td>\n      <td>1.09827</td>\n      <td>1.09763</td>\n      <td>1.09799</td>\n    </tr>\n    <tr>\n      <th>2023-10-05 08:50:00</th>\n      <td>1.09827</td>\n      <td>1.09763</td>\n      <td>1.09799</td>\n      <td>1.09803</td>\n    </tr>\n    <tr>\n      <th>2023-10-05 08:55:00</th>\n      <td>1.09763</td>\n      <td>1.09799</td>\n      <td>1.09803</td>\n      <td>1.09857</td>\n    </tr>\n  </tbody>\n</table>\n</div>"
     },
     "execution_count": 11,
     "metadata": {},
     "output_type": "execute_result"
    }
   ],
   "source": [
    "trainer.X_test.head(50)"
   ],
   "metadata": {
    "collapsed": false,
    "ExecuteTime": {
     "end_time": "2024-03-21T21:20:05.882646Z",
     "start_time": "2024-03-21T21:20:05.857715Z"
    }
   },
   "id": "b03e1eb7562caccb"
  },
  {
   "cell_type": "code",
   "execution_count": 12,
   "outputs": [
    {
     "data": {
      "text/plain": "                     close_T-3  close_T-2  close_T-1  close_Target\nTarget Date                                                       \n2023-10-05 04:50:00    1.09550    1.09548    1.09582       1.09564\n2023-10-05 04:55:00    1.09548    1.09582    1.09564       1.09569\n2023-10-05 05:00:00    1.09582    1.09564    1.09569       1.09560\n2023-10-05 05:05:00    1.09564    1.09569    1.09560       1.09594\n2023-10-05 05:10:00    1.09569    1.09560    1.09594       1.09584",
      "text/html": "<div>\n<style scoped>\n    .dataframe tbody tr th:only-of-type {\n        vertical-align: middle;\n    }\n\n    .dataframe tbody tr th {\n        vertical-align: top;\n    }\n\n    .dataframe thead th {\n        text-align: right;\n    }\n</style>\n<table border=\"1\" class=\"dataframe\">\n  <thead>\n    <tr style=\"text-align: right;\">\n      <th></th>\n      <th>close_T-3</th>\n      <th>close_T-2</th>\n      <th>close_T-1</th>\n      <th>close_Target</th>\n    </tr>\n    <tr>\n      <th>Target Date</th>\n      <th></th>\n      <th></th>\n      <th></th>\n      <th></th>\n    </tr>\n  </thead>\n  <tbody>\n    <tr>\n      <th>2023-10-05 04:50:00</th>\n      <td>1.09550</td>\n      <td>1.09548</td>\n      <td>1.09582</td>\n      <td>1.09564</td>\n    </tr>\n    <tr>\n      <th>2023-10-05 04:55:00</th>\n      <td>1.09548</td>\n      <td>1.09582</td>\n      <td>1.09564</td>\n      <td>1.09569</td>\n    </tr>\n    <tr>\n      <th>2023-10-05 05:00:00</th>\n      <td>1.09582</td>\n      <td>1.09564</td>\n      <td>1.09569</td>\n      <td>1.09560</td>\n    </tr>\n    <tr>\n      <th>2023-10-05 05:05:00</th>\n      <td>1.09564</td>\n      <td>1.09569</td>\n      <td>1.09560</td>\n      <td>1.09594</td>\n    </tr>\n    <tr>\n      <th>2023-10-05 05:10:00</th>\n      <td>1.09569</td>\n      <td>1.09560</td>\n      <td>1.09594</td>\n      <td>1.09584</td>\n    </tr>\n  </tbody>\n</table>\n</div>"
     },
     "execution_count": 12,
     "metadata": {},
     "output_type": "execute_result"
    }
   ],
   "source": [
    "trainer.X_test.head()"
   ],
   "metadata": {
    "collapsed": false,
    "ExecuteTime": {
     "end_time": "2024-03-21T21:20:05.902548Z",
     "start_time": "2024-03-21T21:20:05.881121Z"
    }
   },
   "id": "3fb6f985e50552fa"
  },
  {
   "cell_type": "code",
   "execution_count": 13,
   "outputs": [
    {
     "data": {
      "text/plain": "Target Date\n2023-10-05 04:50:00    0\n2023-10-05 04:55:00    1\n2023-10-05 05:00:00    0\n2023-10-05 05:05:00    1\n2023-10-05 05:10:00    0\nName: dir, dtype: int64"
     },
     "execution_count": 13,
     "metadata": {},
     "output_type": "execute_result"
    }
   ],
   "source": [
    "trainer.y_test.head()"
   ],
   "metadata": {
    "collapsed": false,
    "ExecuteTime": {
     "end_time": "2024-03-21T21:14:56.180186Z",
     "start_time": "2024-03-21T21:14:56.147752Z"
    }
   },
   "id": "bff32fe7da339e96"
  },
  {
   "cell_type": "code",
   "execution_count": 14,
   "outputs": [
    {
     "data": {
      "text/plain": "                     close_T-3  close_T-2  close_T-1  close_Target\nTarget Date                                                       \n2023-09-04 09:40:00    1.05871    1.05871    1.05873       1.05868\n2023-09-04 09:45:00    1.05871    1.05871    1.05873       1.05868\n2023-09-04 09:50:00    1.05871    1.05871    1.05873       1.05868\n2023-09-04 09:55:00    1.05871    1.05871    1.05873       1.05868\n2023-09-04 10:00:00    1.05871    1.05871    1.05873       1.05868",
      "text/html": "<div>\n<style scoped>\n    .dataframe tbody tr th:only-of-type {\n        vertical-align: middle;\n    }\n\n    .dataframe tbody tr th {\n        vertical-align: top;\n    }\n\n    .dataframe thead th {\n        text-align: right;\n    }\n</style>\n<table border=\"1\" class=\"dataframe\">\n  <thead>\n    <tr style=\"text-align: right;\">\n      <th></th>\n      <th>close_T-3</th>\n      <th>close_T-2</th>\n      <th>close_T-1</th>\n      <th>close_Target</th>\n    </tr>\n    <tr>\n      <th>Target Date</th>\n      <th></th>\n      <th></th>\n      <th></th>\n      <th></th>\n    </tr>\n  </thead>\n  <tbody>\n    <tr>\n      <th>2023-09-04 09:40:00</th>\n      <td>1.05871</td>\n      <td>1.05871</td>\n      <td>1.05873</td>\n      <td>1.05868</td>\n    </tr>\n    <tr>\n      <th>2023-09-04 09:45:00</th>\n      <td>1.05871</td>\n      <td>1.05871</td>\n      <td>1.05873</td>\n      <td>1.05868</td>\n    </tr>\n    <tr>\n      <th>2023-09-04 09:50:00</th>\n      <td>1.05871</td>\n      <td>1.05871</td>\n      <td>1.05873</td>\n      <td>1.05868</td>\n    </tr>\n    <tr>\n      <th>2023-09-04 09:55:00</th>\n      <td>1.05871</td>\n      <td>1.05871</td>\n      <td>1.05873</td>\n      <td>1.05868</td>\n    </tr>\n    <tr>\n      <th>2023-09-04 10:00:00</th>\n      <td>1.05871</td>\n      <td>1.05871</td>\n      <td>1.05873</td>\n      <td>1.05868</td>\n    </tr>\n  </tbody>\n</table>\n</div>"
     },
     "execution_count": 14,
     "metadata": {},
     "output_type": "execute_result"
    }
   ],
   "source": [
    "trainer.X_val.head()"
   ],
   "metadata": {
    "collapsed": false,
    "ExecuteTime": {
     "end_time": "2024-03-21T21:14:56.228079Z",
     "start_time": "2024-03-21T21:14:56.169764Z"
    }
   },
   "id": "d52454d16a9fd342"
  },
  {
   "cell_type": "code",
   "execution_count": 15,
   "outputs": [
    {
     "data": {
      "text/plain": "Target Date\n2023-09-04 09:40:00    0\n2023-09-04 09:45:00    0\n2023-09-04 09:50:00    0\n2023-09-04 09:55:00    0\n2023-09-04 10:00:00    0\nName: dir, dtype: int64"
     },
     "execution_count": 15,
     "metadata": {},
     "output_type": "execute_result"
    }
   ],
   "source": [
    "trainer.y_val.head()"
   ],
   "metadata": {
    "collapsed": false,
    "ExecuteTime": {
     "end_time": "2024-03-21T21:14:56.272343Z",
     "start_time": "2024-03-21T21:14:56.191185Z"
    }
   },
   "id": "eec0b15fbb6e668a"
  },
  {
   "cell_type": "code",
   "execution_count": 17,
   "outputs": [],
   "source": [],
   "metadata": {
    "collapsed": false,
    "ExecuteTime": {
     "end_time": "2024-03-21T21:23:18.015099Z",
     "start_time": "2024-03-21T21:23:18.013120Z"
    }
   },
   "id": "52fcde0b7ddcc523"
  },
  {
   "cell_type": "code",
   "execution_count": 3,
   "outputs": [
    {
     "name": "stderr",
     "output_type": "stream",
     "text": [
      "/Users/kassraniroumand/.pyenv/versions/3.10.6/envs/lewagon/lib/python3.10/site-packages/keras/src/layers/rnn/rnn.py:205: UserWarning: Do not pass an `input_shape`/`input_dim` argument to a layer. When using Sequential models, prefer using an `Input(shape)` object as the first layer in the model instead.\n",
      "  super().__init__(**kwargs)\n"
     ]
    }
   ],
   "source": [
    "from keras import Sequential, Model\n",
    "from keras.src.layers import Dense, LSTM, Dropout\n",
    "from tensorflow.keras.optimizers import Adam\n",
    "\n",
    "\n",
    "\n",
    "model = Sequential()\n",
    "model.add(LSTM(100, activation='relu', return_sequences=True, input_shape=(3, 1)))\n",
    "model.add(Dropout(0.2))\n",
    "model.add(LSTM(50, activation='relu', return_sequences=True))\n",
    "model.add(Dropout(0.2))\n",
    "model.add(LSTM(50, activation='relu'))\n",
    "model.add(Dropout(0.2))\n",
    "model.add(Dense(1))\n",
    "\n",
    "model.add(Dense(1, activation='sigmoid'))\n",
    "\n",
    "Adam = Adam(learning_rate=0.0001)\n",
    "# loss=weighted_binary_crossentropy(class_weight_ratio)\n",
    "model.compile(optimizer=Adam, loss=\"mean_squared_error\", metrics=['accuracy'])"
   ],
   "metadata": {
    "collapsed": false,
    "ExecuteTime": {
     "end_time": "2024-03-23T10:43:30.077444Z",
     "start_time": "2024-03-23T10:43:30.030483Z"
    }
   },
   "id": "d9ea1067631dc1d5"
  },
  {
   "cell_type": "code",
   "execution_count": 5,
   "outputs": [],
   "source": [
    "model1 = Sequential()\n",
    "model1.add(LSTM(100, activation='relu', return_sequences=True, input_shape=(3, 1)))\n",
    "model1.add(Dropout(0.2))"
   ],
   "metadata": {
    "collapsed": false,
    "ExecuteTime": {
     "end_time": "2024-03-23T10:43:42.252696Z",
     "start_time": "2024-03-23T10:43:42.237585Z"
    }
   },
   "id": "df2eaed6af571d12"
  },
  {
   "cell_type": "code",
   "execution_count": 6,
   "outputs": [
    {
     "ename": "NameError",
     "evalue": "name 'trainer' is not defined",
     "output_type": "error",
     "traceback": [
      "\u001B[0;31m---------------------------------------------------------------------------\u001B[0m",
      "\u001B[0;31mNameError\u001B[0m                                 Traceback (most recent call last)",
      "Cell \u001B[0;32mIn [6], line 1\u001B[0m\n\u001B[0;32m----> 1\u001B[0m \u001B[43mtrainer\u001B[49m\u001B[38;5;241m.\u001B[39mtrain_model(model, \u001B[38;5;241m101\u001B[39m)\n",
      "\u001B[0;31mNameError\u001B[0m: name 'trainer' is not defined"
     ]
    }
   ],
   "source": [
    "trainer.train_model(model1, 101)"
   ],
   "metadata": {
    "collapsed": false,
    "ExecuteTime": {
     "end_time": "2024-03-23T10:43:42.606547Z",
     "start_time": "2024-03-23T10:43:42.604991Z"
    }
   },
   "id": "29f5a03ce76771d3"
  },
  {
   "cell_type": "code",
   "execution_count": null,
   "outputs": [],
   "source": [
    "trainer.evaluate_model()"
   ],
   "metadata": {
    "collapsed": false,
    "ExecuteTime": {
     "start_time": "2024-03-21T21:18:39.486062Z"
    }
   },
   "id": "e59ac18905878278"
  },
  {
   "cell_type": "code",
   "execution_count": 54,
   "outputs": [
    {
     "data": {
      "text/plain": "         date    close\n0  2024-03-18  1.08735\n1  2024-03-19  1.08656\n2  2024-03-20  1.09210\n3  2024-03-21  1.08586",
      "text/html": "<div>\n<style scoped>\n    .dataframe tbody tr th:only-of-type {\n        vertical-align: middle;\n    }\n\n    .dataframe tbody tr th {\n        vertical-align: top;\n    }\n\n    .dataframe thead th {\n        text-align: right;\n    }\n</style>\n<table border=\"1\" class=\"dataframe\">\n  <thead>\n    <tr style=\"text-align: right;\">\n      <th></th>\n      <th>date</th>\n      <th>close</th>\n    </tr>\n  </thead>\n  <tbody>\n    <tr>\n      <th>0</th>\n      <td>2024-03-18</td>\n      <td>1.08735</td>\n    </tr>\n    <tr>\n      <th>1</th>\n      <td>2024-03-19</td>\n      <td>1.08656</td>\n    </tr>\n    <tr>\n      <th>2</th>\n      <td>2024-03-20</td>\n      <td>1.09210</td>\n    </tr>\n    <tr>\n      <th>3</th>\n      <td>2024-03-21</td>\n      <td>1.08586</td>\n    </tr>\n  </tbody>\n</table>\n</div>"
     },
     "execution_count": 54,
     "metadata": {},
     "output_type": "execute_result"
    }
   ],
   "source": [
    "pd.DataFrame( [{'date': '2024-03-18', 'close': 1.08735}, {'date': '2024-03-19', 'close': 1.08656}, {'date': '2024-03-20', 'close': 1.0921}, {'date': '2024-03-21', 'close': 1.08586}])"
   ],
   "metadata": {
    "collapsed": false,
    "ExecuteTime": {
     "end_time": "2024-03-21T20:24:42.546501Z",
     "start_time": "2024-03-21T20:24:42.504365Z"
    }
   },
   "id": "9221967be1212edc"
  },
  {
   "cell_type": "code",
   "execution_count": 67,
   "outputs": [
    {
     "data": {
      "text/plain": "1.0955"
     },
     "execution_count": 67,
     "metadata": {},
     "output_type": "execute_result"
    }
   ],
   "source": [
    "trainer.X_test.iloc[:, 0][0]"
   ],
   "metadata": {
    "collapsed": false,
    "ExecuteTime": {
     "end_time": "2024-03-21T20:26:32.199033Z",
     "start_time": "2024-03-21T20:26:32.164183Z"
    }
   },
   "id": "fb6236d104deeedb"
  },
  {
   "cell_type": "code",
   "execution_count": 71,
   "outputs": [
    {
     "data": {
      "text/plain": "                     close_T-3  close_T-2  close_T-1  close_Target\nTarget Date                                                       \n2023-10-05 04:50:00    1.09550    1.09548    1.09582       1.09564\n2023-10-05 04:55:00    1.09548    1.09582    1.09564       1.09569\n2023-10-05 05:00:00    1.09582    1.09564    1.09569       1.09560\n2023-10-05 05:05:00    1.09564    1.09569    1.09560       1.09594\n2023-10-05 05:10:00    1.09569    1.09560    1.09594       1.09584\n...                        ...        ...        ...           ...\n2023-11-04 23:40:00    1.09278    1.09259    1.09258       1.09276\n2023-11-04 23:45:00    1.09259    1.09258    1.09276       1.09284\n2023-11-04 23:50:00    1.09258    1.09276    1.09284       1.09277\n2023-11-04 23:55:00    1.09276    1.09284    1.09277       1.09256\n2023-11-05 00:00:00    1.09284    1.09277    1.09256       1.09753\n\n[8871 rows x 4 columns]",
      "text/html": "<div>\n<style scoped>\n    .dataframe tbody tr th:only-of-type {\n        vertical-align: middle;\n    }\n\n    .dataframe tbody tr th {\n        vertical-align: top;\n    }\n\n    .dataframe thead th {\n        text-align: right;\n    }\n</style>\n<table border=\"1\" class=\"dataframe\">\n  <thead>\n    <tr style=\"text-align: right;\">\n      <th></th>\n      <th>close_T-3</th>\n      <th>close_T-2</th>\n      <th>close_T-1</th>\n      <th>close_Target</th>\n    </tr>\n    <tr>\n      <th>Target Date</th>\n      <th></th>\n      <th></th>\n      <th></th>\n      <th></th>\n    </tr>\n  </thead>\n  <tbody>\n    <tr>\n      <th>2023-10-05 04:50:00</th>\n      <td>1.09550</td>\n      <td>1.09548</td>\n      <td>1.09582</td>\n      <td>1.09564</td>\n    </tr>\n    <tr>\n      <th>2023-10-05 04:55:00</th>\n      <td>1.09548</td>\n      <td>1.09582</td>\n      <td>1.09564</td>\n      <td>1.09569</td>\n    </tr>\n    <tr>\n      <th>2023-10-05 05:00:00</th>\n      <td>1.09582</td>\n      <td>1.09564</td>\n      <td>1.09569</td>\n      <td>1.09560</td>\n    </tr>\n    <tr>\n      <th>2023-10-05 05:05:00</th>\n      <td>1.09564</td>\n      <td>1.09569</td>\n      <td>1.09560</td>\n      <td>1.09594</td>\n    </tr>\n    <tr>\n      <th>2023-10-05 05:10:00</th>\n      <td>1.09569</td>\n      <td>1.09560</td>\n      <td>1.09594</td>\n      <td>1.09584</td>\n    </tr>\n    <tr>\n      <th>...</th>\n      <td>...</td>\n      <td>...</td>\n      <td>...</td>\n      <td>...</td>\n    </tr>\n    <tr>\n      <th>2023-11-04 23:40:00</th>\n      <td>1.09278</td>\n      <td>1.09259</td>\n      <td>1.09258</td>\n      <td>1.09276</td>\n    </tr>\n    <tr>\n      <th>2023-11-04 23:45:00</th>\n      <td>1.09259</td>\n      <td>1.09258</td>\n      <td>1.09276</td>\n      <td>1.09284</td>\n    </tr>\n    <tr>\n      <th>2023-11-04 23:50:00</th>\n      <td>1.09258</td>\n      <td>1.09276</td>\n      <td>1.09284</td>\n      <td>1.09277</td>\n    </tr>\n    <tr>\n      <th>2023-11-04 23:55:00</th>\n      <td>1.09276</td>\n      <td>1.09284</td>\n      <td>1.09277</td>\n      <td>1.09256</td>\n    </tr>\n    <tr>\n      <th>2023-11-05 00:00:00</th>\n      <td>1.09284</td>\n      <td>1.09277</td>\n      <td>1.09256</td>\n      <td>1.09753</td>\n    </tr>\n  </tbody>\n</table>\n<p>8871 rows × 4 columns</p>\n</div>"
     },
     "execution_count": 71,
     "metadata": {},
     "output_type": "execute_result"
    }
   ],
   "source": [
    "trainer.X_test"
   ],
   "metadata": {
    "collapsed": false,
    "ExecuteTime": {
     "end_time": "2024-03-21T20:27:27.242946Z",
     "start_time": "2024-03-21T20:27:27.207177Z"
    }
   },
   "id": "e8a675215a18d613"
  },
  {
   "cell_type": "code",
   "execution_count": 73,
   "outputs": [],
   "source": [],
   "metadata": {
    "collapsed": false,
    "ExecuteTime": {
     "end_time": "2024-03-21T20:40:38.018966Z",
     "start_time": "2024-03-21T20:40:38.004473Z"
    }
   },
   "id": "78f389e841b4622b"
  },
  {
   "cell_type": "code",
   "execution_count": 66,
   "outputs": [
    {
     "name": "stdout",
     "output_type": "stream",
     "text": [
      "\u001B[1m278/278\u001B[0m \u001B[32m━━━━━━━━━━━━━━━━━━━━\u001B[0m\u001B[37m\u001B[0m \u001B[1m0s\u001B[0m 271us/step\n"
     ]
    },
    {
     "data": {
      "text/plain": "0.35292703"
     },
     "execution_count": 66,
     "metadata": {},
     "output_type": "execute_result"
    }
   ],
   "source": [
    "model.predict(trainer.X_test.iloc[:, 0])[0][0]"
   ],
   "metadata": {
    "collapsed": false,
    "ExecuteTime": {
     "end_time": "2024-03-21T20:26:26.822015Z",
     "start_time": "2024-03-21T20:26:26.656125Z"
    }
   },
   "id": "f8d4cc4cdb821ff7"
  },
  {
   "cell_type": "code",
   "execution_count": 39,
   "outputs": [
    {
     "data": {
      "text/plain": "Target Date\n2023-10-05 04:50:00    0\n2023-10-05 04:55:00    1\n2023-10-05 05:00:00    0\n2023-10-05 05:05:00    1\n2023-10-05 05:10:00    0\n                      ..\n2023-11-04 23:40:00    1\n2023-11-04 23:45:00    1\n2023-11-04 23:50:00    0\n2023-11-04 23:55:00    0\n2023-11-05 00:00:00    1\nName: dir, Length: 8871, dtype: int64"
     },
     "execution_count": 39,
     "metadata": {},
     "output_type": "execute_result"
    }
   ],
   "source": [
    "trainer.y_test"
   ],
   "metadata": {
    "collapsed": false,
    "ExecuteTime": {
     "end_time": "2024-03-21T20:20:57.492679Z",
     "start_time": "2024-03-21T20:20:57.452635Z"
    }
   },
   "id": "4fc2851f0059e59d"
  },
  {
   "cell_type": "code",
   "execution_count": 40,
   "outputs": [
    {
     "name": "stdout",
     "output_type": "stream",
     "text": [
      "\u001B[1m278/278\u001B[0m \u001B[32m━━━━━━━━━━━━━━━━━━━━\u001B[0m\u001B[37m\u001B[0m \u001B[1m0s\u001B[0m 366us/step\n"
     ]
    },
    {
     "data": {
      "text/plain": "      dir         0\n0       0  0.352927\n1       1  0.352927\n2       0  0.352927\n3       1  0.352927\n4       0  0.352927\n...   ...       ...\n8866    1  0.352927\n8867    1  0.352927\n8868    0  0.352927\n8869    0  0.352927\n8870    1  0.352927\n\n[8871 rows x 2 columns]",
      "text/html": "<div>\n<style scoped>\n    .dataframe tbody tr th:only-of-type {\n        vertical-align: middle;\n    }\n\n    .dataframe tbody tr th {\n        vertical-align: top;\n    }\n\n    .dataframe thead th {\n        text-align: right;\n    }\n</style>\n<table border=\"1\" class=\"dataframe\">\n  <thead>\n    <tr style=\"text-align: right;\">\n      <th></th>\n      <th>dir</th>\n      <th>0</th>\n    </tr>\n  </thead>\n  <tbody>\n    <tr>\n      <th>0</th>\n      <td>0</td>\n      <td>0.352927</td>\n    </tr>\n    <tr>\n      <th>1</th>\n      <td>1</td>\n      <td>0.352927</td>\n    </tr>\n    <tr>\n      <th>2</th>\n      <td>0</td>\n      <td>0.352927</td>\n    </tr>\n    <tr>\n      <th>3</th>\n      <td>1</td>\n      <td>0.352927</td>\n    </tr>\n    <tr>\n      <th>4</th>\n      <td>0</td>\n      <td>0.352927</td>\n    </tr>\n    <tr>\n      <th>...</th>\n      <td>...</td>\n      <td>...</td>\n    </tr>\n    <tr>\n      <th>8866</th>\n      <td>1</td>\n      <td>0.352927</td>\n    </tr>\n    <tr>\n      <th>8867</th>\n      <td>1</td>\n      <td>0.352927</td>\n    </tr>\n    <tr>\n      <th>8868</th>\n      <td>0</td>\n      <td>0.352927</td>\n    </tr>\n    <tr>\n      <th>8869</th>\n      <td>0</td>\n      <td>0.352927</td>\n    </tr>\n    <tr>\n      <th>8870</th>\n      <td>1</td>\n      <td>0.352927</td>\n    </tr>\n  </tbody>\n</table>\n<p>8871 rows × 2 columns</p>\n</div>"
     },
     "execution_count": 40,
     "metadata": {},
     "output_type": "execute_result"
    }
   ],
   "source": [
    "import pandas as pd\n",
    "\n",
    "pd.DataFrame(trainer.model.predict(trainer.X_test), trainer.y_test).reset_index()"
   ],
   "metadata": {
    "collapsed": false,
    "ExecuteTime": {
     "end_time": "2024-03-21T20:21:17.504588Z",
     "start_time": "2024-03-21T20:21:17.317971Z"
    }
   },
   "id": "26a2432af1a15816"
  },
  {
   "cell_type": "code",
   "execution_count": null,
   "outputs": [],
   "source": [
    "trainer.plot_loss()"
   ],
   "metadata": {
    "collapsed": false
   },
   "id": "2279b1a3169947bf"
  },
  {
   "cell_type": "code",
   "execution_count": null,
   "outputs": [],
   "source": [
    "trainer.plot_accuracy()"
   ],
   "metadata": {
    "collapsed": false
   },
   "id": "46fc901c0594ce20"
  },
  {
   "cell_type": "code",
   "execution_count": null,
   "outputs": [],
   "source": [
    "trainer.save_model('model2.keras')"
   ],
   "metadata": {
    "collapsed": false
   },
   "id": "9257f27348280390"
  },
  {
   "cell_type": "code",
   "execution_count": null,
   "outputs": [],
   "source": [
    "from aitrading.ml_logic.registry import load_model"
   ],
   "metadata": {
    "collapsed": false
   },
   "id": "57a15ff15bfa40ba"
  },
  {
   "cell_type": "code",
   "execution_count": null,
   "outputs": [],
   "source": [
    "ml2 = load_model(\"/Users/kassraniroumand/code/aitrading/aitrading/training_outputs/models/model2.keras\")"
   ],
   "metadata": {
    "collapsed": false
   },
   "id": "bff06e3d5f81b50b"
  },
  {
   "cell_type": "code",
   "execution_count": null,
   "outputs": [],
   "source": [
    "ml2.predict()"
   ],
   "metadata": {
    "collapsed": false
   },
   "id": "6fd399020420388c"
  },
  {
   "cell_type": "code",
   "execution_count": 17,
   "outputs": [
    {
     "name": "stdout",
     "output_type": "stream",
     "text": [
      "\u001B[34m\n",
      "Load latest model from local registry...\u001B[0m\n",
      "model_path /Users/kassraniroumand/code/aitrading/aitrading/training_outputs/models/model2.keras\n",
      "latest_model <Sequential name=sequential_2, built=True>\n",
      "✅ Model loaded from local disk\n"
     ]
    },
    {
     "data": {
      "text/plain": "<Sequential name=sequential_2, built=True>"
     },
     "execution_count": 17,
     "metadata": {},
     "output_type": "execute_result"
    }
   ],
   "source": [
    "from aitrading.ml_logic import registry\n",
    "from aitrading import params\n",
    "import pathlib\n",
    "\n",
    "\n",
    "registry.load_model(pathlib.Path(params.LOCAL_REGISTRY_PATH) / 'models' / 'model2.keras')"
   ],
   "metadata": {
    "collapsed": false,
    "ExecuteTime": {
     "end_time": "2024-03-23T10:49:25.637044Z",
     "start_time": "2024-03-23T10:49:25.363106Z"
    }
   },
   "id": "5af4bf42d5c90eca"
  },
  {
   "cell_type": "code",
   "execution_count": 19,
   "outputs": [
    {
     "data": {
      "text/plain": "PosixPath('/Users/kassraniroumand/code/aitrading/aitrading/training_outputs')"
     },
     "execution_count": 19,
     "metadata": {},
     "output_type": "execute_result"
    }
   ],
   "source": [
    "params.LOCAL_REGISTRY_PATH"
   ],
   "metadata": {
    "collapsed": false,
    "ExecuteTime": {
     "end_time": "2024-03-23T10:52:02.463238Z",
     "start_time": "2024-03-23T10:52:02.430150Z"
    }
   },
   "id": "263b9d80acf6007f"
  },
  {
   "cell_type": "code",
   "execution_count": 21,
   "outputs": [
    {
     "data": {
      "text/plain": "PosixPath('/Users/kassraniroumand/code/aitrading/aitrading/training_outputs/models')"
     },
     "execution_count": 21,
     "metadata": {},
     "output_type": "execute_result"
    }
   ],
   "source": [
    "pathlib.Path(params.LOCAL_REGISTRY_PATH) / 'models'"
   ],
   "metadata": {
    "collapsed": false,
    "ExecuteTime": {
     "end_time": "2024-03-23T10:56:23.491197Z",
     "start_time": "2024-03-23T10:56:23.462250Z"
    }
   },
   "id": "7628de9e17a62eea"
  },
  {
   "cell_type": "code",
   "execution_count": 20,
   "outputs": [
    {
     "name": "stdout",
     "output_type": "stream",
     "text": [
      "\u001B[34m\n",
      "Load latest model from local registry...\u001B[0m\n",
      "model_path /Users/kassraniroumand/code/aitrading/aitrading/training_outputs/models/model2.keras\n",
      "latest_model <Sequential name=sequential_2, built=True>\n",
      "✅ Model loaded from local disk\n"
     ]
    },
    {
     "data": {
      "text/plain": "<Sequential name=sequential_2, built=True>"
     },
     "execution_count": 20,
     "metadata": {},
     "output_type": "execute_result"
    }
   ],
   "source": [
    "from aitrading.ml_logic.registry import load_model\n"
   ],
   "metadata": {
    "collapsed": false,
    "ExecuteTime": {
     "end_time": "2024-03-23T10:52:58.120338Z",
     "start_time": "2024-03-23T10:52:58.060696Z"
    }
   },
   "id": "e38dc23752039194"
  },
  {
   "cell_type": "code",
   "execution_count": null,
   "outputs": [],
   "source": [],
   "metadata": {
    "collapsed": false
   },
   "id": "a420a58366c22b41"
  }
 ],
 "metadata": {
  "kernelspec": {
   "display_name": "Python 3",
   "language": "python",
   "name": "python3"
  },
  "language_info": {
   "codemirror_mode": {
    "name": "ipython",
    "version": 2
   },
   "file_extension": ".py",
   "mimetype": "text/x-python",
   "name": "python",
   "nbconvert_exporter": "python",
   "pygments_lexer": "ipython2",
   "version": "2.7.6"
  }
 },
 "nbformat": 4,
 "nbformat_minor": 5
}
