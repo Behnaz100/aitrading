{
 "cells": [
  {
   "cell_type": "code",
   "execution_count": 55,
   "outputs": [
    {
     "name": "stdout",
     "output_type": "stream",
     "text": [
      "The autoreload extension is already loaded. To reload it, use:\n",
      "  %reload_ext autoreload\n"
     ]
    }
   ],
   "source": [
    "%load_ext autoreload\n",
    "%autoreload 2"
   ],
   "metadata": {
    "collapsed": false,
    "ExecuteTime": {
     "end_time": "2024-03-21T17:06:49.655468Z",
     "start_time": "2024-03-21T17:06:49.624004Z"
    }
   },
   "id": "761ac90b45e4d747"
  },
  {
   "cell_type": "markdown",
   "source": [],
   "metadata": {
    "collapsed": false
   },
   "id": "7632531d0f5d98c1"
  },
  {
   "cell_type": "markdown",
   "source": [],
   "metadata": {
    "collapsed": false
   },
   "id": "1b1bcea0c5c02c16"
  },
  {
   "cell_type": "code",
   "execution_count": 268,
   "id": "initial_id",
   "metadata": {
    "collapsed": true,
    "ExecuteTime": {
     "end_time": "2024-03-21T18:08:33.372512Z",
     "start_time": "2024-03-21T18:08:32.107038Z"
    }
   },
   "outputs": [],
   "source": [
    "from aitrading.ml_logic.ModelTrainer import ModelTrainer\n",
    "from aitrading.ml_logic.data import get_data_from_local"
   ]
  },
  {
   "cell_type": "code",
   "execution_count": 268,
   "outputs": [],
   "source": [],
   "metadata": {
    "collapsed": false,
    "ExecuteTime": {
     "end_time": "2024-03-21T18:08:33.376081Z",
     "start_time": "2024-03-21T18:08:33.374080Z"
    }
   },
   "id": "ef1d4c15607f98b8"
  },
  {
   "cell_type": "code",
   "execution_count": 269,
   "outputs": [],
   "source": [
    "df1 = get_data_from_local('eurousd_df_clean.csv')"
   ],
   "metadata": {
    "collapsed": false,
    "ExecuteTime": {
     "end_time": "2024-03-21T18:08:34.085560Z",
     "start_time": "2024-03-21T18:08:33.376345Z"
    }
   },
   "id": "7f5861cb2cf584ce"
  },
  {
   "cell_type": "code",
   "execution_count": 270,
   "outputs": [],
   "source": [
    "included_columns = ['close']  # Columns to include in the windowed data\n",
    "first_date_str = '2022-01-02'\n",
    "last_date_str = '2023-01-03'\n",
    "n = 3"
   ],
   "metadata": {
    "collapsed": false,
    "ExecuteTime": {
     "end_time": "2024-03-21T18:08:34.105564Z",
     "start_time": "2024-03-21T18:08:34.086081Z"
    }
   },
   "id": "6b9f197b8a23dbe0"
  },
  {
   "cell_type": "code",
   "execution_count": 271,
   "outputs": [],
   "source": [
    "trainer = ModelTrainer(df1)"
   ],
   "metadata": {
    "collapsed": false,
    "ExecuteTime": {
     "end_time": "2024-03-21T18:08:34.572739Z",
     "start_time": "2024-03-21T18:08:34.544670Z"
    }
   },
   "id": "29f245ba2fed44b1"
  },
  {
   "cell_type": "code",
   "execution_count": 272,
   "outputs": [
    {
     "name": "stdout",
     "output_type": "stream",
     "text": [
      "[\"2023-01-03\", \"2023-01-05\", [\"close\"]]\n",
      "not using cached data\n",
      "Creating windowed dataframe from 2023-01-03 to 2023-01-05\n"
     ]
    }
   ],
   "source": [
    "trainer.prepare_data('2023-01-03', '2023-01-05', ['close'], \"close\", 3)"
   ],
   "metadata": {
    "collapsed": false,
    "ExecuteTime": {
     "end_time": "2024-03-21T18:08:35.766224Z",
     "start_time": "2024-03-21T18:08:35.002903Z"
    }
   },
   "id": "ef0f4a26ba921d89"
  },
  {
   "cell_type": "code",
   "execution_count": 273,
   "outputs": [
    {
     "data": {
      "text/plain": "                     close_T-3  close_T-2  close_T-1  close_Target\nTarget Date                                                       \n2023-01-03 00:00:00    1.10215    1.10203    1.10202       1.05927\n2023-01-03 00:05:00    1.10203    1.10202    1.05927       1.05929\n2023-01-03 00:10:00    1.10202    1.05927    1.05929       1.05966\n2023-01-03 00:15:00    1.05927    1.05929    1.05966       1.05967\n2023-01-03 00:20:00    1.05929    1.05966    1.05967       1.05995\n...                        ...        ...        ...           ...\n2023-01-04 14:00:00    1.06413    1.06388    1.06388       1.06410\n2023-01-04 14:05:00    1.06413    1.06388    1.06388       1.06410\n2023-01-04 14:10:00    1.06413    1.06388    1.06388       1.06410\n2023-01-04 14:15:00    1.06413    1.06388    1.06388       1.06410\n2023-01-04 14:20:00    1.06413    1.06388    1.06388       1.06410\n\n[461 rows x 4 columns]",
      "text/html": "<div>\n<style scoped>\n    .dataframe tbody tr th:only-of-type {\n        vertical-align: middle;\n    }\n\n    .dataframe tbody tr th {\n        vertical-align: top;\n    }\n\n    .dataframe thead th {\n        text-align: right;\n    }\n</style>\n<table border=\"1\" class=\"dataframe\">\n  <thead>\n    <tr style=\"text-align: right;\">\n      <th></th>\n      <th>close_T-3</th>\n      <th>close_T-2</th>\n      <th>close_T-1</th>\n      <th>close_Target</th>\n    </tr>\n    <tr>\n      <th>Target Date</th>\n      <th></th>\n      <th></th>\n      <th></th>\n      <th></th>\n    </tr>\n  </thead>\n  <tbody>\n    <tr>\n      <th>2023-01-03 00:00:00</th>\n      <td>1.10215</td>\n      <td>1.10203</td>\n      <td>1.10202</td>\n      <td>1.05927</td>\n    </tr>\n    <tr>\n      <th>2023-01-03 00:05:00</th>\n      <td>1.10203</td>\n      <td>1.10202</td>\n      <td>1.05927</td>\n      <td>1.05929</td>\n    </tr>\n    <tr>\n      <th>2023-01-03 00:10:00</th>\n      <td>1.10202</td>\n      <td>1.05927</td>\n      <td>1.05929</td>\n      <td>1.05966</td>\n    </tr>\n    <tr>\n      <th>2023-01-03 00:15:00</th>\n      <td>1.05927</td>\n      <td>1.05929</td>\n      <td>1.05966</td>\n      <td>1.05967</td>\n    </tr>\n    <tr>\n      <th>2023-01-03 00:20:00</th>\n      <td>1.05929</td>\n      <td>1.05966</td>\n      <td>1.05967</td>\n      <td>1.05995</td>\n    </tr>\n    <tr>\n      <th>...</th>\n      <td>...</td>\n      <td>...</td>\n      <td>...</td>\n      <td>...</td>\n    </tr>\n    <tr>\n      <th>2023-01-04 14:00:00</th>\n      <td>1.06413</td>\n      <td>1.06388</td>\n      <td>1.06388</td>\n      <td>1.06410</td>\n    </tr>\n    <tr>\n      <th>2023-01-04 14:05:00</th>\n      <td>1.06413</td>\n      <td>1.06388</td>\n      <td>1.06388</td>\n      <td>1.06410</td>\n    </tr>\n    <tr>\n      <th>2023-01-04 14:10:00</th>\n      <td>1.06413</td>\n      <td>1.06388</td>\n      <td>1.06388</td>\n      <td>1.06410</td>\n    </tr>\n    <tr>\n      <th>2023-01-04 14:15:00</th>\n      <td>1.06413</td>\n      <td>1.06388</td>\n      <td>1.06388</td>\n      <td>1.06410</td>\n    </tr>\n    <tr>\n      <th>2023-01-04 14:20:00</th>\n      <td>1.06413</td>\n      <td>1.06388</td>\n      <td>1.06388</td>\n      <td>1.06410</td>\n    </tr>\n  </tbody>\n</table>\n<p>461 rows × 4 columns</p>\n</div>"
     },
     "execution_count": 273,
     "metadata": {},
     "output_type": "execute_result"
    }
   ],
   "source": [
    "trainer.X_train"
   ],
   "metadata": {
    "collapsed": false,
    "ExecuteTime": {
     "end_time": "2024-03-21T18:08:36.619051Z",
     "start_time": "2024-03-21T18:08:36.586432Z"
    }
   },
   "id": "8a560898ab7217ec"
  },
  {
   "cell_type": "code",
   "execution_count": 274,
   "outputs": [
    {
     "data": {
      "text/plain": "Target Date\n2023-01-03 00:00:00    0\n2023-01-03 00:05:00    1\n2023-01-03 00:10:00    1\n2023-01-03 00:15:00    1\n2023-01-03 00:20:00    1\n2023-01-03 00:25:00    1\n2023-01-03 00:30:00    1\n2023-01-03 00:35:00    0\n2023-01-03 00:40:00    1\n2023-01-03 00:45:00    1\n2023-01-03 00:50:00    0\n2023-01-03 00:55:00    0\n2023-01-03 01:00:00    0\n2023-01-03 01:05:00    1\n2023-01-03 01:10:00    1\n2023-01-03 01:15:00    1\n2023-01-03 01:20:00    1\n2023-01-03 01:25:00    1\n2023-01-03 01:30:00    0\n2023-01-03 01:35:00    1\n2023-01-03 01:40:00    1\n2023-01-03 01:45:00    1\n2023-01-03 01:50:00    1\n2023-01-03 01:55:00    1\n2023-01-03 02:00:00    0\n2023-01-03 02:05:00    1\n2023-01-03 02:10:00    1\n2023-01-03 02:15:00    0\n2023-01-03 02:20:00    1\n2023-01-03 02:25:00    1\n2023-01-03 02:30:00    1\n2023-01-03 02:35:00    0\n2023-01-03 02:40:00    0\n2023-01-03 02:45:00    1\n2023-01-03 02:50:00    1\n2023-01-03 02:55:00    1\n2023-01-03 03:00:00    1\n2023-01-03 03:05:00    0\n2023-01-03 03:10:00    0\n2023-01-03 03:15:00    0\n2023-01-03 03:20:00    1\n2023-01-03 03:25:00    1\n2023-01-03 03:30:00    1\n2023-01-03 03:35:00    1\n2023-01-03 03:40:00    0\n2023-01-03 03:45:00    0\n2023-01-03 03:50:00    1\n2023-01-03 03:55:00    0\n2023-01-03 04:00:00    1\n2023-01-03 04:05:00    0\nName: dir, dtype: int64"
     },
     "execution_count": 274,
     "metadata": {},
     "output_type": "execute_result"
    }
   ],
   "source": [
    "trainer.y_train.head(50)"
   ],
   "metadata": {
    "collapsed": false,
    "ExecuteTime": {
     "end_time": "2024-03-21T18:08:42.189396Z",
     "start_time": "2024-03-21T18:08:42.162990Z"
    }
   },
   "id": "149ac56b3d6b0070"
  },
  {
   "cell_type": "code",
   "execution_count": 275,
   "outputs": [
    {
     "data": {
      "text/plain": "                     close_T-3  close_T-2  close_T-1  close_Target\nTarget Date                                                       \n2023-01-04 19:10:00    1.06413    1.06388    1.06388        1.0641\n2023-01-04 19:15:00    1.06413    1.06388    1.06388        1.0641\n2023-01-04 19:20:00    1.06413    1.06388    1.06388        1.0641\n2023-01-04 19:25:00    1.06413    1.06388    1.06388        1.0641\n2023-01-04 19:30:00    1.06413    1.06388    1.06388        1.0641",
      "text/html": "<div>\n<style scoped>\n    .dataframe tbody tr th:only-of-type {\n        vertical-align: middle;\n    }\n\n    .dataframe tbody tr th {\n        vertical-align: top;\n    }\n\n    .dataframe thead th {\n        text-align: right;\n    }\n</style>\n<table border=\"1\" class=\"dataframe\">\n  <thead>\n    <tr style=\"text-align: right;\">\n      <th></th>\n      <th>close_T-3</th>\n      <th>close_T-2</th>\n      <th>close_T-1</th>\n      <th>close_Target</th>\n    </tr>\n    <tr>\n      <th>Target Date</th>\n      <th></th>\n      <th></th>\n      <th></th>\n      <th></th>\n    </tr>\n  </thead>\n  <tbody>\n    <tr>\n      <th>2023-01-04 19:10:00</th>\n      <td>1.06413</td>\n      <td>1.06388</td>\n      <td>1.06388</td>\n      <td>1.0641</td>\n    </tr>\n    <tr>\n      <th>2023-01-04 19:15:00</th>\n      <td>1.06413</td>\n      <td>1.06388</td>\n      <td>1.06388</td>\n      <td>1.0641</td>\n    </tr>\n    <tr>\n      <th>2023-01-04 19:20:00</th>\n      <td>1.06413</td>\n      <td>1.06388</td>\n      <td>1.06388</td>\n      <td>1.0641</td>\n    </tr>\n    <tr>\n      <th>2023-01-04 19:25:00</th>\n      <td>1.06413</td>\n      <td>1.06388</td>\n      <td>1.06388</td>\n      <td>1.0641</td>\n    </tr>\n    <tr>\n      <th>2023-01-04 19:30:00</th>\n      <td>1.06413</td>\n      <td>1.06388</td>\n      <td>1.06388</td>\n      <td>1.0641</td>\n    </tr>\n  </tbody>\n</table>\n</div>"
     },
     "execution_count": 275,
     "metadata": {},
     "output_type": "execute_result"
    }
   ],
   "source": [
    "trainer.X_test.head()"
   ],
   "metadata": {
    "collapsed": false,
    "ExecuteTime": {
     "end_time": "2024-03-21T18:08:43.517106Z",
     "start_time": "2024-03-21T18:08:43.481646Z"
    }
   },
   "id": "3c65474abc320ad5"
  },
  {
   "cell_type": "code",
   "execution_count": 276,
   "outputs": [
    {
     "data": {
      "text/plain": "Target Date\n2023-01-04 19:10:00    0\n2023-01-04 19:15:00    0\n2023-01-04 19:20:00    0\n2023-01-04 19:25:00    0\n2023-01-04 19:30:00    0\nName: dir, dtype: int64"
     },
     "execution_count": 276,
     "metadata": {},
     "output_type": "execute_result"
    }
   ],
   "source": [
    "trainer.y_test.head()"
   ],
   "metadata": {
    "collapsed": false,
    "ExecuteTime": {
     "end_time": "2024-03-21T18:08:46.451674Z",
     "start_time": "2024-03-21T18:08:46.417908Z"
    }
   },
   "id": "52f039d6c980fd81"
  },
  {
   "cell_type": "code",
   "execution_count": 277,
   "outputs": [
    {
     "data": {
      "text/plain": "                     close_T-3  close_T-2  close_T-1  close_Target\nTarget Date                                                       \n2023-01-04 14:25:00    1.06413    1.06388    1.06388        1.0641\n2023-01-04 14:30:00    1.06413    1.06388    1.06388        1.0641\n2023-01-04 14:35:00    1.06413    1.06388    1.06388        1.0641\n2023-01-04 14:40:00    1.06413    1.06388    1.06388        1.0641\n2023-01-04 14:45:00    1.06413    1.06388    1.06388        1.0641",
      "text/html": "<div>\n<style scoped>\n    .dataframe tbody tr th:only-of-type {\n        vertical-align: middle;\n    }\n\n    .dataframe tbody tr th {\n        vertical-align: top;\n    }\n\n    .dataframe thead th {\n        text-align: right;\n    }\n</style>\n<table border=\"1\" class=\"dataframe\">\n  <thead>\n    <tr style=\"text-align: right;\">\n      <th></th>\n      <th>close_T-3</th>\n      <th>close_T-2</th>\n      <th>close_T-1</th>\n      <th>close_Target</th>\n    </tr>\n    <tr>\n      <th>Target Date</th>\n      <th></th>\n      <th></th>\n      <th></th>\n      <th></th>\n    </tr>\n  </thead>\n  <tbody>\n    <tr>\n      <th>2023-01-04 14:25:00</th>\n      <td>1.06413</td>\n      <td>1.06388</td>\n      <td>1.06388</td>\n      <td>1.0641</td>\n    </tr>\n    <tr>\n      <th>2023-01-04 14:30:00</th>\n      <td>1.06413</td>\n      <td>1.06388</td>\n      <td>1.06388</td>\n      <td>1.0641</td>\n    </tr>\n    <tr>\n      <th>2023-01-04 14:35:00</th>\n      <td>1.06413</td>\n      <td>1.06388</td>\n      <td>1.06388</td>\n      <td>1.0641</td>\n    </tr>\n    <tr>\n      <th>2023-01-04 14:40:00</th>\n      <td>1.06413</td>\n      <td>1.06388</td>\n      <td>1.06388</td>\n      <td>1.0641</td>\n    </tr>\n    <tr>\n      <th>2023-01-04 14:45:00</th>\n      <td>1.06413</td>\n      <td>1.06388</td>\n      <td>1.06388</td>\n      <td>1.0641</td>\n    </tr>\n  </tbody>\n</table>\n</div>"
     },
     "execution_count": 277,
     "metadata": {},
     "output_type": "execute_result"
    }
   ],
   "source": [
    "trainer.X_val.head()"
   ],
   "metadata": {
    "collapsed": false,
    "ExecuteTime": {
     "end_time": "2024-03-21T18:08:47.916841Z",
     "start_time": "2024-03-21T18:08:47.882133Z"
    }
   },
   "id": "6d4744e6771461d7"
  },
  {
   "cell_type": "code",
   "execution_count": 278,
   "outputs": [
    {
     "data": {
      "text/plain": "Target Date\n2023-01-04 14:25:00    0\n2023-01-04 14:30:00    0\n2023-01-04 14:35:00    0\n2023-01-04 14:40:00    0\n2023-01-04 14:45:00    0\nName: dir, dtype: int64"
     },
     "execution_count": 278,
     "metadata": {},
     "output_type": "execute_result"
    }
   ],
   "source": [
    "trainer.y_val.head()"
   ],
   "metadata": {
    "collapsed": false,
    "ExecuteTime": {
     "end_time": "2024-03-21T18:08:48.356701Z",
     "start_time": "2024-03-21T18:08:48.334669Z"
    }
   },
   "id": "2b05930c3f1a4daf"
  },
  {
   "cell_type": "code",
   "execution_count": 278,
   "outputs": [],
   "source": [],
   "metadata": {
    "collapsed": false,
    "ExecuteTime": {
     "end_time": "2024-03-21T18:08:48.774909Z",
     "start_time": "2024-03-21T18:08:48.771982Z"
    }
   },
   "id": "da9031f80bbdeb5c"
  },
  {
   "cell_type": "code",
   "execution_count": 278,
   "outputs": [],
   "source": [],
   "metadata": {
    "collapsed": false,
    "ExecuteTime": {
     "end_time": "2024-03-21T18:08:49.675008Z",
     "start_time": "2024-03-21T18:08:49.667182Z"
    }
   },
   "id": "f50657ad77292c04"
  },
  {
   "cell_type": "code",
   "execution_count": 278,
   "outputs": [],
   "source": [],
   "metadata": {
    "collapsed": false,
    "ExecuteTime": {
     "end_time": "2024-03-21T18:08:49.824256Z",
     "start_time": "2024-03-21T18:08:49.818493Z"
    }
   },
   "id": "f79507e7a2aaf1a0"
  },
  {
   "cell_type": "code",
   "execution_count": 278,
   "outputs": [],
   "source": [],
   "metadata": {
    "collapsed": false,
    "ExecuteTime": {
     "end_time": "2024-03-21T18:08:49.972493Z",
     "start_time": "2024-03-21T18:08:49.966588Z"
    }
   },
   "id": "15233736739bc154"
  },
  {
   "cell_type": "code",
   "execution_count": 278,
   "outputs": [],
   "source": [],
   "metadata": {
    "collapsed": false,
    "ExecuteTime": {
     "end_time": "2024-03-21T18:08:50.091073Z",
     "start_time": "2024-03-21T18:08:50.085661Z"
    }
   },
   "id": "539499dcdf966fd7"
  },
  {
   "cell_type": "code",
   "execution_count": 278,
   "outputs": [],
   "source": [],
   "metadata": {
    "collapsed": false,
    "ExecuteTime": {
     "end_time": "2024-03-21T18:08:50.249614Z",
     "start_time": "2024-03-21T18:08:50.244463Z"
    }
   },
   "id": "edd2ef4246c2a7b"
  },
  {
   "cell_type": "code",
   "execution_count": null,
   "outputs": [],
   "source": [],
   "metadata": {
    "collapsed": false
   },
   "id": "5af4bf42d5c90eca"
  }
 ],
 "metadata": {
  "kernelspec": {
   "display_name": "Python 3",
   "language": "python",
   "name": "python3"
  },
  "language_info": {
   "codemirror_mode": {
    "name": "ipython",
    "version": 2
   },
   "file_extension": ".py",
   "mimetype": "text/x-python",
   "name": "python",
   "nbconvert_exporter": "python",
   "pygments_lexer": "ipython2",
   "version": "2.7.6"
  }
 },
 "nbformat": 4,
 "nbformat_minor": 5
}
