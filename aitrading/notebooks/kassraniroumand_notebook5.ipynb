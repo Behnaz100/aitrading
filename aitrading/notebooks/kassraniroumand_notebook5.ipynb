{
 "cells": [
  {
   "cell_type": "code",
   "execution_count": null,
   "outputs": [],
   "source": [
    "import matplotlib.pyplot as plt\n",
    "import pandas as pd\n",
    "import numpy as np\n",
    "import requests\n",
    "df = pd.read_csv(\"/Users/kassraniroumand/code/aitrading/aitrading/data/eurousd_df_clean_2.csv\")"
   ],
   "metadata": {
    "collapsed": false
   },
   "id": "7344cbc0d4d92ad1"
  },
  {
   "cell_type": "code",
   "execution_count": 1,
   "outputs": [],
   "source": [
    "# Convert 'timestamp' to datetime if it's not already\n",
    "df['timestamp'] = pd.to_datetime(df['datetime'])\n",
    "\n",
    "# Sort the dataframe by timestamp to ensure correct operations\n",
    "df = df.sort_values(by='timestamp')\n",
    "\n",
    "# Calculate the target variable by comparing the current price to the next\n",
    "df['target'] = (df['close'].shift(-1) > df['close']).astype(int)\n",
    "\n",
    "# Time-based features (example: part of the day)\n",
    "df['hour'] = df['timestamp'].dt.hour\n",
    "df['part_of_day'] = pd.cut(df['hour'], bins=[0, 6, 12, 18, 24], labels=['Night', 'Morning', 'Afternoon', 'Evening'], right=False)\n",
    "df['day_of_week'] = df['timestamp'].dt.dayofweek\n",
    "\n",
    "# Convert day of week to cyclic features\n",
    "df['sin_day'] = np.sin(2 * np.pi * df['day_of_week'] / 7)\n",
    "df['cos_day'] = np.cos(2 * np.pi * df['day_of_week'] / 7)"
   ],
   "metadata": {
    "collapsed": false,
    "ExecuteTime": {
     "end_time": "2024-04-02T12:33:32.870108Z",
     "start_time": "2024-04-02T12:33:32.121649Z"
    }
   },
   "id": "a28e67dc31c390b3"
  },
  {
   "cell_type": "code",
   "execution_count": 2,
   "outputs": [],
   "source": [
    "def calculate_rsi(data, window=14):\n",
    "    delta = data.diff(1)\n",
    "    gain = (delta.where(delta > 0, 0)).rolling(window=window).mean()\n",
    "    loss = (-delta.where(delta < 0, 0)).rolling(window=window).mean()\n",
    "\n",
    "    rs = gain / loss\n",
    "    rsi = 100 - (100 / (1 + rs))\n",
    "    return rsi"
   ],
   "metadata": {
    "collapsed": false,
    "ExecuteTime": {
     "end_time": "2024-04-02T12:33:32.878448Z",
     "start_time": "2024-04-02T12:33:32.868060Z"
    }
   },
   "id": "3b2edafbf916ffbf"
  },
  {
   "cell_type": "code",
   "execution_count": 3,
   "outputs": [],
   "source": [
    "df['price_change_5_intervals'] = df['close'].diff(periods=5)\n",
    "\n",
    "# Rolling window features (example: rolling average over the last 5 intervals)\n",
    "df['rolling_avg_price_10_intervals'] = df['close'].rolling(window=5).mean()\n",
    "df['rolling_avg_price_10_close_intervals'] = df['low'].rolling(window=5).mean()\n",
    "\n",
    "\n",
    "# Drop any rows with NaN values created by shifts and rolling functions\n",
    "df.dropna(inplace=True)\n",
    "\n",
    "# Display the first few rows to inspect the new features\n",
    "# df\n",
    "df['ma_30m'] = df['close'].rolling(window=5).mean()  # 1-hour MA\n",
    "df['ma_24h'] = df['close'].rolling(window=288).mean()  # 24-hour MA\n",
    "df['ema_30min'] = df['close'].ewm(span=6, adjust=False).mean()  # 1-hour EMA\n",
    "df['ema_24h'] = df['close'].ewm(span=288, adjust=False).mean()  # 24-hour EMA\n",
    "df['rsi'] = calculate_rsi(df['close'], window=5)\n",
    "df.dropna(inplace=True)"
   ],
   "metadata": {
    "collapsed": false,
    "ExecuteTime": {
     "end_time": "2024-04-02T12:33:32.909456Z",
     "start_time": "2024-04-02T12:33:32.876767Z"
    }
   },
   "id": "c5ede6b2ed82fddc"
  },
  {
   "cell_type": "code",
   "execution_count": 105,
   "outputs": [],
   "source": [
    "def enrich_dataframe(df, datetime_col='datetime'):\n",
    "    \"\"\"\n",
    "    Enriches the input DataFrame with financial analytics features. Validates the presence of required columns\n",
    "    including a dynamic datetime column, 'close', and 'low' before proceeding. Adds time-based features, moving\n",
    "    averages, price change, RSI, and more.\n",
    "\n",
    "    Parameters:\n",
    "    - df: pandas DataFrame.\n",
    "    - datetime_col: str, name of the column in df that contains datetime information.\n",
    "\n",
    "    Returns:\n",
    "    - DataFrame enriched with additional financial features if validation passes. Otherwise, raises ValueError.\n",
    "    \"\"\"\n",
    "    # Validation: Check for necessary columns\n",
    "    required_columns = [datetime_col, 'close', 'low']\n",
    "    missing_columns = [col for col in required_columns if col not in df.columns]\n",
    "    if missing_columns:\n",
    "        raise ValueError(f\"Missing required columns: {', '.join(missing_columns)}\")\n",
    "\n",
    "    # Convert datetime column to pandas Timestamp and sort the DataFrame\n",
    "    df['timestamp'] = pd.to_datetime(df[datetime_col])\n",
    "    df.sort_values(by='timestamp', inplace=True)\n",
    "\n",
    "    # Calculate the target variable\n",
    "    df['target'] = (df['close'].shift(-1) > df['close']).astype(int)\n",
    "\n",
    "    # Time-based features\n",
    "    df['hour'] = df['timestamp'].dt.hour\n",
    "    df['part_of_day'] = pd.cut(df['hour'], bins=[0, 6, 12, 18, 24], labels=['Night', 'Morning', 'Afternoon', 'Evening'], right=False)\n",
    "    df['day_of_week'] = df['timestamp'].dt.dayofweek\n",
    "    df['sin_day'] = np.sin(2 * np.pi * df['day_of_week'] / 7)\n",
    "    df['cos_day'] = np.cos(2 * np.pi * df['day_of_week'] / 7)\n",
    "\n",
    "    # Price change and rolling window features\n",
    "    df['price_change_5_intervals'] = df['close'].diff(periods=5)\n",
    "    df['rolling_avg_price_10_intervals'] = df['close'].rolling(window=5).mean()\n",
    "    df['rolling_avg_price_10_close_intervals'] = df['low'].rolling(window=5).mean()\n",
    "\n",
    "    # Moving averages\n",
    "    df['ma_30m'] = df['close'].rolling(window=5).mean()\n",
    "    df['ma_24h'] = df['close'].rolling(window=288).mean()\n",
    "\n",
    "    # Exponential moving averages\n",
    "    df['ema_30min'] = df['close'].ewm(span=6, adjust=False).mean()\n",
    "    df['ema_24h'] = df['close'].ewm(span=288, adjust=False).mean()\n",
    "\n",
    "    # Relative Strength Index (RSI)\n",
    "    df['rsi'] = calculate_rsi(df['close'], window=14)\n",
    "\n",
    "    # Drop rows with NaN values\n",
    "    df.dropna(inplace=True)\n",
    "\n",
    "    return df\n"
   ],
   "metadata": {
    "collapsed": false,
    "ExecuteTime": {
     "end_time": "2024-04-02T14:08:27.476718Z",
     "start_time": "2024-04-02T14:08:27.472362Z"
    }
   },
   "id": "2e3cf7249020fb0a"
  },
  {
   "cell_type": "code",
   "execution_count": 106,
   "outputs": [
    {
     "data": {
      "text/plain": "                   datetime     open     high      low    close  volume  \\\n7776    2021-02-12 00:10:00  1.13214  1.13232  1.13214  1.13227     315   \n7777    2021-02-12 00:15:00  1.13226  1.13237  1.13209  1.13232     324   \n7778    2021-02-12 00:20:00  1.13232  1.13240  1.13230  1.13239     250   \n7779    2021-02-12 00:25:00  1.13238  1.13244  1.13230  1.13241     306   \n7780    2021-02-12 00:30:00  1.13242  1.13251  1.13237  1.13248     410   \n...                     ...      ...      ...      ...      ...     ...   \n179147  2024-12-03 23:35:00  1.09255  1.09257  1.09245  1.09251     364   \n179148  2024-12-03 23:40:00  1.09251  1.09257  1.09247  1.09252     343   \n179149  2024-12-03 23:45:00  1.09252  1.09256  1.09249  1.09252     435   \n179150  2024-12-03 23:50:00  1.09252  1.09254  1.09235  1.09241     404   \n179151  2024-12-03 23:55:00  1.09241  1.09241  1.09223  1.09234     472   \n\n                 timestamp  target  hour part_of_day  ...   sin_day   cos_day  \\\n7776   2021-02-12 00:10:00       1     0       Night  ... -0.433884 -0.900969   \n7777   2021-02-12 00:15:00       1     0       Night  ... -0.433884 -0.900969   \n7778   2021-02-12 00:20:00       1     0       Night  ... -0.433884 -0.900969   \n7779   2021-02-12 00:25:00       1     0       Night  ... -0.433884 -0.900969   \n7780   2021-02-12 00:30:00       1     0       Night  ... -0.433884 -0.900969   \n...                    ...     ...   ...         ...  ...       ...       ...   \n179147 2024-12-03 23:35:00       1    23     Evening  ...  0.781831  0.623490   \n179148 2024-12-03 23:40:00       0    23     Evening  ...  0.781831  0.623490   \n179149 2024-12-03 23:45:00       0    23     Evening  ...  0.781831  0.623490   \n179150 2024-12-03 23:50:00       0    23     Evening  ...  0.781831  0.623490   \n179151 2024-12-03 23:55:00       0    23     Evening  ...  0.781831  0.623490   \n\n        price_change_5_intervals  rolling_avg_price_10_intervals  \\\n7776                    -0.02590                        1.142584   \n7777                    -0.02578                        1.137428   \n7778                    -0.02596                        1.132236   \n7779                     0.00035                        1.132306   \n7780                     0.00034                        1.132374   \n...                          ...                             ...   \n179147                  -0.00025                        1.092650   \n179148                  -0.00017                        1.092616   \n179149                  -0.00029                        1.092558   \n179150                  -0.00028                        1.092502   \n179151                  -0.00021                        1.092460   \n\n        rolling_avg_price_10_close_intervals    ma_30m    ma_24h  ema_30min  \\\n7776                                1.142436  1.142584  1.158544   1.141666   \n7777                                1.137238  1.137428  1.158446   1.138996   \n7778                                1.132080  1.132236  1.158349   1.137109   \n7779                                1.132176  1.132306  1.158252   1.135766   \n7780                                1.132240  1.132374  1.158154   1.134827   \n...                                      ...       ...       ...        ...   \n179147                              1.092602  1.092650  1.092373   1.092634   \n179148                              1.092560  1.092616  1.092428   1.092601   \n179149                              1.092520  1.092558  1.092483   1.092578   \n179150                              1.092452  1.092502  1.092537   1.092530   \n179151                              1.092398  1.092460  1.092592   1.092476   \n\n         ema_24h        rsi  \n7776    1.158149   2.631579  \n7777    1.157971   2.818448  \n7778    1.157794   3.078051  \n7779    1.157618   3.149030  \n7780    1.157444   2.828802  \n...          ...        ...  \n179147  1.090725  28.813559  \n179148  1.090737  29.411765  \n179149  1.090750  30.973451  \n179150  1.090761  33.333333  \n179151  1.090772  33.980583  \n\n[178824 rows x 21 columns]",
      "text/html": "<div>\n<style scoped>\n    .dataframe tbody tr th:only-of-type {\n        vertical-align: middle;\n    }\n\n    .dataframe tbody tr th {\n        vertical-align: top;\n    }\n\n    .dataframe thead th {\n        text-align: right;\n    }\n</style>\n<table border=\"1\" class=\"dataframe\">\n  <thead>\n    <tr style=\"text-align: right;\">\n      <th></th>\n      <th>datetime</th>\n      <th>open</th>\n      <th>high</th>\n      <th>low</th>\n      <th>close</th>\n      <th>volume</th>\n      <th>timestamp</th>\n      <th>target</th>\n      <th>hour</th>\n      <th>part_of_day</th>\n      <th>...</th>\n      <th>sin_day</th>\n      <th>cos_day</th>\n      <th>price_change_5_intervals</th>\n      <th>rolling_avg_price_10_intervals</th>\n      <th>rolling_avg_price_10_close_intervals</th>\n      <th>ma_30m</th>\n      <th>ma_24h</th>\n      <th>ema_30min</th>\n      <th>ema_24h</th>\n      <th>rsi</th>\n    </tr>\n  </thead>\n  <tbody>\n    <tr>\n      <th>7776</th>\n      <td>2021-02-12 00:10:00</td>\n      <td>1.13214</td>\n      <td>1.13232</td>\n      <td>1.13214</td>\n      <td>1.13227</td>\n      <td>315</td>\n      <td>2021-02-12 00:10:00</td>\n      <td>1</td>\n      <td>0</td>\n      <td>Night</td>\n      <td>...</td>\n      <td>-0.433884</td>\n      <td>-0.900969</td>\n      <td>-0.02590</td>\n      <td>1.142584</td>\n      <td>1.142436</td>\n      <td>1.142584</td>\n      <td>1.158544</td>\n      <td>1.141666</td>\n      <td>1.158149</td>\n      <td>2.631579</td>\n    </tr>\n    <tr>\n      <th>7777</th>\n      <td>2021-02-12 00:15:00</td>\n      <td>1.13226</td>\n      <td>1.13237</td>\n      <td>1.13209</td>\n      <td>1.13232</td>\n      <td>324</td>\n      <td>2021-02-12 00:15:00</td>\n      <td>1</td>\n      <td>0</td>\n      <td>Night</td>\n      <td>...</td>\n      <td>-0.433884</td>\n      <td>-0.900969</td>\n      <td>-0.02578</td>\n      <td>1.137428</td>\n      <td>1.137238</td>\n      <td>1.137428</td>\n      <td>1.158446</td>\n      <td>1.138996</td>\n      <td>1.157971</td>\n      <td>2.818448</td>\n    </tr>\n    <tr>\n      <th>7778</th>\n      <td>2021-02-12 00:20:00</td>\n      <td>1.13232</td>\n      <td>1.13240</td>\n      <td>1.13230</td>\n      <td>1.13239</td>\n      <td>250</td>\n      <td>2021-02-12 00:20:00</td>\n      <td>1</td>\n      <td>0</td>\n      <td>Night</td>\n      <td>...</td>\n      <td>-0.433884</td>\n      <td>-0.900969</td>\n      <td>-0.02596</td>\n      <td>1.132236</td>\n      <td>1.132080</td>\n      <td>1.132236</td>\n      <td>1.158349</td>\n      <td>1.137109</td>\n      <td>1.157794</td>\n      <td>3.078051</td>\n    </tr>\n    <tr>\n      <th>7779</th>\n      <td>2021-02-12 00:25:00</td>\n      <td>1.13238</td>\n      <td>1.13244</td>\n      <td>1.13230</td>\n      <td>1.13241</td>\n      <td>306</td>\n      <td>2021-02-12 00:25:00</td>\n      <td>1</td>\n      <td>0</td>\n      <td>Night</td>\n      <td>...</td>\n      <td>-0.433884</td>\n      <td>-0.900969</td>\n      <td>0.00035</td>\n      <td>1.132306</td>\n      <td>1.132176</td>\n      <td>1.132306</td>\n      <td>1.158252</td>\n      <td>1.135766</td>\n      <td>1.157618</td>\n      <td>3.149030</td>\n    </tr>\n    <tr>\n      <th>7780</th>\n      <td>2021-02-12 00:30:00</td>\n      <td>1.13242</td>\n      <td>1.13251</td>\n      <td>1.13237</td>\n      <td>1.13248</td>\n      <td>410</td>\n      <td>2021-02-12 00:30:00</td>\n      <td>1</td>\n      <td>0</td>\n      <td>Night</td>\n      <td>...</td>\n      <td>-0.433884</td>\n      <td>-0.900969</td>\n      <td>0.00034</td>\n      <td>1.132374</td>\n      <td>1.132240</td>\n      <td>1.132374</td>\n      <td>1.158154</td>\n      <td>1.134827</td>\n      <td>1.157444</td>\n      <td>2.828802</td>\n    </tr>\n    <tr>\n      <th>...</th>\n      <td>...</td>\n      <td>...</td>\n      <td>...</td>\n      <td>...</td>\n      <td>...</td>\n      <td>...</td>\n      <td>...</td>\n      <td>...</td>\n      <td>...</td>\n      <td>...</td>\n      <td>...</td>\n      <td>...</td>\n      <td>...</td>\n      <td>...</td>\n      <td>...</td>\n      <td>...</td>\n      <td>...</td>\n      <td>...</td>\n      <td>...</td>\n      <td>...</td>\n      <td>...</td>\n    </tr>\n    <tr>\n      <th>179147</th>\n      <td>2024-12-03 23:35:00</td>\n      <td>1.09255</td>\n      <td>1.09257</td>\n      <td>1.09245</td>\n      <td>1.09251</td>\n      <td>364</td>\n      <td>2024-12-03 23:35:00</td>\n      <td>1</td>\n      <td>23</td>\n      <td>Evening</td>\n      <td>...</td>\n      <td>0.781831</td>\n      <td>0.623490</td>\n      <td>-0.00025</td>\n      <td>1.092650</td>\n      <td>1.092602</td>\n      <td>1.092650</td>\n      <td>1.092373</td>\n      <td>1.092634</td>\n      <td>1.090725</td>\n      <td>28.813559</td>\n    </tr>\n    <tr>\n      <th>179148</th>\n      <td>2024-12-03 23:40:00</td>\n      <td>1.09251</td>\n      <td>1.09257</td>\n      <td>1.09247</td>\n      <td>1.09252</td>\n      <td>343</td>\n      <td>2024-12-03 23:40:00</td>\n      <td>0</td>\n      <td>23</td>\n      <td>Evening</td>\n      <td>...</td>\n      <td>0.781831</td>\n      <td>0.623490</td>\n      <td>-0.00017</td>\n      <td>1.092616</td>\n      <td>1.092560</td>\n      <td>1.092616</td>\n      <td>1.092428</td>\n      <td>1.092601</td>\n      <td>1.090737</td>\n      <td>29.411765</td>\n    </tr>\n    <tr>\n      <th>179149</th>\n      <td>2024-12-03 23:45:00</td>\n      <td>1.09252</td>\n      <td>1.09256</td>\n      <td>1.09249</td>\n      <td>1.09252</td>\n      <td>435</td>\n      <td>2024-12-03 23:45:00</td>\n      <td>0</td>\n      <td>23</td>\n      <td>Evening</td>\n      <td>...</td>\n      <td>0.781831</td>\n      <td>0.623490</td>\n      <td>-0.00029</td>\n      <td>1.092558</td>\n      <td>1.092520</td>\n      <td>1.092558</td>\n      <td>1.092483</td>\n      <td>1.092578</td>\n      <td>1.090750</td>\n      <td>30.973451</td>\n    </tr>\n    <tr>\n      <th>179150</th>\n      <td>2024-12-03 23:50:00</td>\n      <td>1.09252</td>\n      <td>1.09254</td>\n      <td>1.09235</td>\n      <td>1.09241</td>\n      <td>404</td>\n      <td>2024-12-03 23:50:00</td>\n      <td>0</td>\n      <td>23</td>\n      <td>Evening</td>\n      <td>...</td>\n      <td>0.781831</td>\n      <td>0.623490</td>\n      <td>-0.00028</td>\n      <td>1.092502</td>\n      <td>1.092452</td>\n      <td>1.092502</td>\n      <td>1.092537</td>\n      <td>1.092530</td>\n      <td>1.090761</td>\n      <td>33.333333</td>\n    </tr>\n    <tr>\n      <th>179151</th>\n      <td>2024-12-03 23:55:00</td>\n      <td>1.09241</td>\n      <td>1.09241</td>\n      <td>1.09223</td>\n      <td>1.09234</td>\n      <td>472</td>\n      <td>2024-12-03 23:55:00</td>\n      <td>0</td>\n      <td>23</td>\n      <td>Evening</td>\n      <td>...</td>\n      <td>0.781831</td>\n      <td>0.623490</td>\n      <td>-0.00021</td>\n      <td>1.092460</td>\n      <td>1.092398</td>\n      <td>1.092460</td>\n      <td>1.092592</td>\n      <td>1.092476</td>\n      <td>1.090772</td>\n      <td>33.980583</td>\n    </tr>\n  </tbody>\n</table>\n<p>178824 rows × 21 columns</p>\n</div>"
     },
     "execution_count": 106,
     "metadata": {},
     "output_type": "execute_result"
    }
   ],
   "source": [
    "enrich_dataframe(df)"
   ],
   "metadata": {
    "collapsed": false,
    "ExecuteTime": {
     "end_time": "2024-04-02T14:08:28.533010Z",
     "start_time": "2024-04-02T14:08:28.446084Z"
    }
   },
   "id": "d8fe349ed8bb55b1"
  },
  {
   "cell_type": "code",
   "execution_count": 100,
   "outputs": [],
   "source": [],
   "metadata": {
    "collapsed": false,
    "ExecuteTime": {
     "end_time": "2024-04-02T14:04:44.652292Z",
     "start_time": "2024-04-02T14:04:44.650122Z"
    }
   },
   "id": "b2e4402aa50324d5"
  },
  {
   "cell_type": "code",
   "execution_count": 100,
   "outputs": [],
   "source": [],
   "metadata": {
    "collapsed": false,
    "ExecuteTime": {
     "end_time": "2024-04-02T14:04:44.901809Z",
     "start_time": "2024-04-02T14:04:44.898205Z"
    }
   },
   "id": "d95dc90cb80e632c"
  },
  {
   "cell_type": "code",
   "execution_count": 100,
   "outputs": [],
   "source": [],
   "metadata": {
    "collapsed": false,
    "ExecuteTime": {
     "end_time": "2024-04-02T14:04:45.076903Z",
     "start_time": "2024-04-02T14:04:45.074784Z"
    }
   },
   "id": "63121867a12b88af"
  },
  {
   "cell_type": "code",
   "execution_count": 101,
   "outputs": [],
   "source": [],
   "metadata": {
    "collapsed": false,
    "ExecuteTime": {
     "end_time": "2024-04-02T14:04:45.267321Z",
     "start_time": "2024-04-02T14:04:45.241023Z"
    }
   },
   "id": "47892605b90b263b"
  },
  {
   "cell_type": "code",
   "execution_count": 10,
   "outputs": [
    {
     "name": "stdout",
     "output_type": "stream",
     "text": [
      "Training set size: 125578\n",
      "Validation set size: 26909\n",
      "Test set size: 26911\n"
     ]
    }
   ],
   "source": [
    "# Define split ratios\n",
    "train_ratio = 0.7\n",
    "validation_ratio = 0.15\n",
    "test_ratio = 0.15\n",
    "\n",
    "# Calculate indices for splits\n",
    "total_samples = len(df)\n",
    "train_end = int(total_samples * train_ratio)\n",
    "validation_end = int(train_end + total_samples * validation_ratio)\n",
    "\n",
    "# Split the dataset\n",
    "train_data = df.iloc[:train_end]\n",
    "validation_data = df.iloc[train_end:validation_end]\n",
    "test_data = df.iloc[validation_end:]\n",
    "\n",
    "\n",
    "X_train, y_train = train_data.drop(['target', 'timestamp', 'hour'], axis=1), train_data['target']\n",
    "X_val, y_val = validation_data.drop(['target', 'timestamp', 'hour'], axis=1), validation_data['target']\n",
    "X_test, y_test = test_data.drop(['target', 'timestamp', 'hour'], axis=1), test_data['target']\n",
    "\n",
    "\n",
    "print(f\"Training set size: {len(X_train)}\")\n",
    "print(f\"Validation set size: {len(X_val)}\")\n",
    "print(f\"Test set size: {len(X_test)}\")"
   ],
   "metadata": {
    "collapsed": false,
    "ExecuteTime": {
     "end_time": "2024-04-02T12:33:33.202723Z",
     "start_time": "2024-04-02T12:33:32.983133Z"
    }
   },
   "id": "9607fc080ca0c4e2"
  },
  {
   "cell_type": "code",
   "execution_count": 11,
   "outputs": [
    {
     "name": "stderr",
     "output_type": "stream",
     "text": [
      "/Users/kassraniroumand/.pyenv/versions/3.10.6/envs/lewagon/lib/python3.10/site-packages/sklearn/preprocessing/_encoders.py:975: FutureWarning: `sparse` was renamed to `sparse_output` in version 1.2 and will be removed in 1.4. `sparse_output` is ignored unless you leave `sparse` to its default value.\n",
      "  warnings.warn(\n"
     ]
    }
   ],
   "source": [
    "import numpy as np\n",
    "from sklearn.preprocessing import StandardScaler, OneHotEncoder\n",
    "\n",
    "# Normalize numerical features, replacing 'price' with 'close'\n",
    "scaler = StandardScaler()\n",
    "# numeric_features = ['close', 'price_change_5_intervals', 'rolling_avg_price_5_intervals']  # Adjust feature names as needed\n",
    "numeric_features = [\n",
    "    'close',\n",
    "                    'price_change_5_intervals',\n",
    "                    'rolling_avg_price_10_close_intervals',\n",
    "                    'rolling_avg_price_10_intervals',\n",
    "                    'sin_day',\n",
    "                    'cos_day',\n",
    "                    # 'ma_30min',\n",
    "                      'ma_24h',\n",
    "                  'ema_30min',\n",
    "                  'ema_24h',\n",
    "                    'rsi'\n",
    "                    ]  # Adjust feature names as needed\n",
    "X_train[numeric_features] = scaler.fit_transform(X_train[numeric_features])\n",
    "X_test[numeric_features] = scaler.transform(X_test[numeric_features])\n",
    "X_val[numeric_features] = scaler.transform(X_val[numeric_features])\n",
    "\n",
    "# Encode categorical features\n",
    "encoder = OneHotEncoder(drop='first', sparse=False)\n",
    "categorical_features = ['part_of_day']  # Ensure this is present or adjust accordingly\n",
    "# categorical_features = ['part_of_day']  # Ensure this is present or adjust accordingly\n",
    "X_train_encoded = encoder.fit_transform(X_train[categorical_features])\n",
    "X_test_encoded = encoder.transform(X_test[categorical_features])\n",
    "X_val_encoded = encoder.transform(X_val[categorical_features])\n",
    "\n",
    "# Concatenate encoded categorical features back with numerical features\n",
    "X_train_preprocessed = np.concatenate((X_train[numeric_features].values, X_train_encoded), axis=1)\n",
    "X_val_preprocessed = np.concatenate((X_val[numeric_features].values, X_val_encoded), axis=1)\n",
    "X_test_preprocessed = np.concatenate((X_test[numeric_features].values, X_test_encoded), axis=1)"
   ],
   "metadata": {
    "collapsed": false,
    "ExecuteTime": {
     "end_time": "2024-04-02T12:33:33.508824Z",
     "start_time": "2024-04-02T12:33:32.987405Z"
    }
   },
   "id": "58aa39f00752f9ff"
  },
  {
   "cell_type": "code",
   "execution_count": 12,
   "outputs": [],
   "source": [
    "from keras.src.layers import Bidirectional\n",
    "from keras.src.optimizers import Adam\n",
    "from tensorflow.keras.models import Sequential\n",
    "from tensorflow.keras.layers import LSTM, Dense, Dropout\n",
    "from tensorflow.keras.utils import to_categorical"
   ],
   "metadata": {
    "collapsed": false,
    "ExecuteTime": {
     "end_time": "2024-04-02T12:33:35.829833Z",
     "start_time": "2024-04-02T12:33:33.508047Z"
    }
   },
   "id": "cf3a9fa46ca4b26c"
  },
  {
   "cell_type": "code",
   "execution_count": 13,
   "outputs": [],
   "source": [
    "X_train_reshaped = X_train_preprocessed.reshape((X_train_preprocessed.shape[0], 1, X_train_preprocessed.shape[1]))\n",
    "X_test_reshaped = X_test_preprocessed.reshape((X_test_preprocessed.shape[0], 1, X_test_preprocessed.shape[1]))\n",
    "X_val_reshaped = X_val_preprocessed.reshape((X_val_preprocessed.shape[0], 1, X_val_preprocessed.shape[1]))\n",
    "y_train_categorical = to_categorical(y_train)\n",
    "y_test_categorical = to_categorical(y_test)\n",
    "y_val_categorical = to_categorical(y_val)"
   ],
   "metadata": {
    "collapsed": false,
    "ExecuteTime": {
     "end_time": "2024-04-02T12:33:35.834082Z",
     "start_time": "2024-04-02T12:33:35.831557Z"
    }
   },
   "id": "459b0f570d795387"
  },
  {
   "cell_type": "code",
   "execution_count": 14,
   "outputs": [
    {
     "name": "stdout",
     "output_type": "stream",
     "text": [
      "Epoch 1/100\n"
     ]
    },
    {
     "name": "stderr",
     "output_type": "stream",
     "text": [
      "/Users/kassraniroumand/.pyenv/versions/3.10.6/envs/lewagon/lib/python3.10/site-packages/keras/src/layers/core/wrapper.py:27: UserWarning: Do not pass an `input_shape`/`input_dim` argument to a layer. When using Sequential models, prefer using an `Input(shape)` object as the first layer in the model instead.\n",
      "  super().__init__(**kwargs)\n"
     ]
    },
    {
     "name": "stdout",
     "output_type": "stream",
     "text": [
      "\u001B[1m3925/3925\u001B[0m \u001B[32m━━━━━━━━━━━━━━━━━━━━\u001B[0m\u001B[37m\u001B[0m \u001B[1m11s\u001B[0m 2ms/step - accuracy: 0.5118 - loss: 0.6928 - val_accuracy: 0.5082 - val_loss: 0.6943 - learning_rate: 0.0010\n",
      "Epoch 2/100\n",
      "\u001B[1m3925/3925\u001B[0m \u001B[32m━━━━━━━━━━━━━━━━━━━━\u001B[0m\u001B[37m\u001B[0m \u001B[1m9s\u001B[0m 2ms/step - accuracy: 0.5167 - loss: 0.6926 - val_accuracy: 0.5092 - val_loss: 0.6929 - learning_rate: 0.0010\n",
      "Epoch 3/100\n",
      "\u001B[1m3925/3925\u001B[0m \u001B[32m━━━━━━━━━━━━━━━━━━━━\u001B[0m\u001B[37m\u001B[0m \u001B[1m8s\u001B[0m 2ms/step - accuracy: 0.5163 - loss: 0.6925 - val_accuracy: 0.5080 - val_loss: 0.6929 - learning_rate: 0.0010\n",
      "Epoch 4/100\n",
      "\u001B[1m3925/3925\u001B[0m \u001B[32m━━━━━━━━━━━━━━━━━━━━\u001B[0m\u001B[37m\u001B[0m \u001B[1m8s\u001B[0m 2ms/step - accuracy: 0.5189 - loss: 0.6924 - val_accuracy: 0.5083 - val_loss: 0.6929 - learning_rate: 0.0010\n",
      "Epoch 5/100\n",
      "\u001B[1m3925/3925\u001B[0m \u001B[32m━━━━━━━━━━━━━━━━━━━━\u001B[0m\u001B[37m\u001B[0m \u001B[1m7s\u001B[0m 2ms/step - accuracy: 0.5186 - loss: 0.6924 - val_accuracy: 0.5081 - val_loss: 0.6929 - learning_rate: 0.0010\n",
      "Epoch 6/100\n",
      "\u001B[1m3925/3925\u001B[0m \u001B[32m━━━━━━━━━━━━━━━━━━━━\u001B[0m\u001B[37m\u001B[0m \u001B[1m7s\u001B[0m 2ms/step - accuracy: 0.5178 - loss: 0.6924 - val_accuracy: 0.5073 - val_loss: 0.6931 - learning_rate: 0.0010\n",
      "Epoch 7/100\n",
      "\u001B[1m3925/3925\u001B[0m \u001B[32m━━━━━━━━━━━━━━━━━━━━\u001B[0m\u001B[37m\u001B[0m \u001B[1m7s\u001B[0m 2ms/step - accuracy: 0.5159 - loss: 0.6923 - val_accuracy: 0.5077 - val_loss: 0.6931 - learning_rate: 0.0010\n"
     ]
    }
   ],
   "source": [
    "from keras.src.callbacks import ReduceLROnPlateau, EarlyStopping\n",
    "\n",
    "# Define the LSTM model\n",
    "model = Sequential()\n",
    "model.add(Bidirectional(LSTM(100, return_sequences=True, activation='tanh'), input_shape=(X_train_reshaped.shape[1], X_train_reshaped.shape[2])))\n",
    "# model.add(Dropout(0.2))\n",
    "model.add(LSTM(100, activation='tanh'))\n",
    "# model.add(Dropout(0.2))\n",
    "# model.add(LSTM(100, activation='relu'))\n",
    "# model.add(Dropout(0.2))\n",
    "model.add(Dense(2, activation='sigmoid'))  # Assuming binary classification\n",
    "\n",
    "# model.compile(optimizer='adam', loss='categorical_crossentropy', metrics=['accuracy'])\n",
    "model.compile(optimizer=Adam(learning_rate=0.001), loss='binary_crossentropy', metrics=['accuracy'])\n",
    "# Compile the model\n",
    "\n",
    "# Train the model\n",
    "# history = model.fit(X_train_reshaped, y_train_categorical, epochs=100, batch_size=32, validation_ratio=0.2, verbose=1)\n",
    "early_stopping = EarlyStopping(monitor='val_accuracy', patience=5)\n",
    "reduce_lr = ReduceLROnPlateau(monitor='val_accuracy', factor=0.2, patience=5, min_lr=0.001)\n",
    "\n",
    "history = model.fit(\n",
    "    X_train_reshaped,\n",
    "    y_train_categorical, \n",
    "    epochs=100,\n",
    "    batch_size=32,\n",
    "    validation_data=(X_val_reshaped,y_val_categorical),\n",
    "    verbose=1,\n",
    "    callbacks=[early_stopping, reduce_lr]\n",
    ")"
   ],
   "metadata": {
    "collapsed": false,
    "ExecuteTime": {
     "end_time": "2024-04-02T12:34:33.896569Z",
     "start_time": "2024-04-02T12:33:35.843092Z"
    }
   },
   "id": "93808596a902cc92"
  },
  {
   "cell_type": "code",
   "execution_count": 15,
   "outputs": [
    {
     "name": "stdout",
     "output_type": "stream",
     "text": [
      "Test Accuracy: 0.51\n"
     ]
    }
   ],
   "source": [
    "# Evaluate the model\n",
    "_, accuracy = model.evaluate(X_test_reshaped, y_test_categorical, verbose=0)\n",
    "print(f'Test Accuracy: {accuracy:.2f}')"
   ],
   "metadata": {
    "collapsed": false,
    "ExecuteTime": {
     "end_time": "2024-04-02T12:34:34.319761Z",
     "start_time": "2024-04-02T12:34:33.896436Z"
    }
   },
   "id": "c656e59f75e02616"
  },
  {
   "cell_type": "code",
   "execution_count": 27,
   "outputs": [
    {
     "data": {
      "text/plain": "\u001B[1mModel: \"sequential\"\u001B[0m\n",
      "text/html": "<pre style=\"white-space:pre;overflow-x:auto;line-height:normal;font-family:Menlo,'DejaVu Sans Mono',consolas,'Courier New',monospace\"><span style=\"font-weight: bold\">Model: \"sequential\"</span>\n</pre>\n"
     },
     "metadata": {},
     "output_type": "display_data"
    },
    {
     "data": {
      "text/plain": "┏━━━━━━━━━━━━━━━━━━━━━━━━━━━━━━━━━┳━━━━━━━━━━━━━━━━━━━━━━━━┳━━━━━━━━━━━━━━━┓\n┃\u001B[1m \u001B[0m\u001B[1mLayer (type)                   \u001B[0m\u001B[1m \u001B[0m┃\u001B[1m \u001B[0m\u001B[1mOutput Shape          \u001B[0m\u001B[1m \u001B[0m┃\u001B[1m \u001B[0m\u001B[1m      Param #\u001B[0m\u001B[1m \u001B[0m┃\n┡━━━━━━━━━━━━━━━━━━━━━━━━━━━━━━━━━╇━━━━━━━━━━━━━━━━━━━━━━━━╇━━━━━━━━━━━━━━━┩\n│ bidirectional (\u001B[38;5;33mBidirectional\u001B[0m)   │ (\u001B[38;5;45mNone\u001B[0m, \u001B[38;5;34m1\u001B[0m, \u001B[38;5;34m200\u001B[0m)         │        \u001B[38;5;34m91,200\u001B[0m │\n├─────────────────────────────────┼────────────────────────┼───────────────┤\n│ lstm_1 (\u001B[38;5;33mLSTM\u001B[0m)                   │ (\u001B[38;5;45mNone\u001B[0m, \u001B[38;5;34m100\u001B[0m)            │       \u001B[38;5;34m120,400\u001B[0m │\n├─────────────────────────────────┼────────────────────────┼───────────────┤\n│ dense (\u001B[38;5;33mDense\u001B[0m)                   │ (\u001B[38;5;45mNone\u001B[0m, \u001B[38;5;34m2\u001B[0m)              │           \u001B[38;5;34m202\u001B[0m │\n└─────────────────────────────────┴────────────────────────┴───────────────┘\n",
      "text/html": "<pre style=\"white-space:pre;overflow-x:auto;line-height:normal;font-family:Menlo,'DejaVu Sans Mono',consolas,'Courier New',monospace\">┏━━━━━━━━━━━━━━━━━━━━━━━━━━━━━━━━━┳━━━━━━━━━━━━━━━━━━━━━━━━┳━━━━━━━━━━━━━━━┓\n┃<span style=\"font-weight: bold\"> Layer (type)                    </span>┃<span style=\"font-weight: bold\"> Output Shape           </span>┃<span style=\"font-weight: bold\">       Param # </span>┃\n┡━━━━━━━━━━━━━━━━━━━━━━━━━━━━━━━━━╇━━━━━━━━━━━━━━━━━━━━━━━━╇━━━━━━━━━━━━━━━┩\n│ bidirectional (<span style=\"color: #0087ff; text-decoration-color: #0087ff\">Bidirectional</span>)   │ (<span style=\"color: #00d7ff; text-decoration-color: #00d7ff\">None</span>, <span style=\"color: #00af00; text-decoration-color: #00af00\">1</span>, <span style=\"color: #00af00; text-decoration-color: #00af00\">200</span>)         │        <span style=\"color: #00af00; text-decoration-color: #00af00\">91,200</span> │\n├─────────────────────────────────┼────────────────────────┼───────────────┤\n│ lstm_1 (<span style=\"color: #0087ff; text-decoration-color: #0087ff\">LSTM</span>)                   │ (<span style=\"color: #00d7ff; text-decoration-color: #00d7ff\">None</span>, <span style=\"color: #00af00; text-decoration-color: #00af00\">100</span>)            │       <span style=\"color: #00af00; text-decoration-color: #00af00\">120,400</span> │\n├─────────────────────────────────┼────────────────────────┼───────────────┤\n│ dense (<span style=\"color: #0087ff; text-decoration-color: #0087ff\">Dense</span>)                   │ (<span style=\"color: #00d7ff; text-decoration-color: #00d7ff\">None</span>, <span style=\"color: #00af00; text-decoration-color: #00af00\">2</span>)              │           <span style=\"color: #00af00; text-decoration-color: #00af00\">202</span> │\n└─────────────────────────────────┴────────────────────────┴───────────────┘\n</pre>\n"
     },
     "metadata": {},
     "output_type": "display_data"
    },
    {
     "data": {
      "text/plain": "\u001B[1m Total params: \u001B[0m\u001B[38;5;34m635,408\u001B[0m (2.42 MB)\n",
      "text/html": "<pre style=\"white-space:pre;overflow-x:auto;line-height:normal;font-family:Menlo,'DejaVu Sans Mono',consolas,'Courier New',monospace\"><span style=\"font-weight: bold\"> Total params: </span><span style=\"color: #00af00; text-decoration-color: #00af00\">635,408</span> (2.42 MB)\n</pre>\n"
     },
     "metadata": {},
     "output_type": "display_data"
    },
    {
     "data": {
      "text/plain": "\u001B[1m Trainable params: \u001B[0m\u001B[38;5;34m211,802\u001B[0m (827.35 KB)\n",
      "text/html": "<pre style=\"white-space:pre;overflow-x:auto;line-height:normal;font-family:Menlo,'DejaVu Sans Mono',consolas,'Courier New',monospace\"><span style=\"font-weight: bold\"> Trainable params: </span><span style=\"color: #00af00; text-decoration-color: #00af00\">211,802</span> (827.35 KB)\n</pre>\n"
     },
     "metadata": {},
     "output_type": "display_data"
    },
    {
     "data": {
      "text/plain": "\u001B[1m Non-trainable params: \u001B[0m\u001B[38;5;34m0\u001B[0m (0.00 B)\n",
      "text/html": "<pre style=\"white-space:pre;overflow-x:auto;line-height:normal;font-family:Menlo,'DejaVu Sans Mono',consolas,'Courier New',monospace\"><span style=\"font-weight: bold\"> Non-trainable params: </span><span style=\"color: #00af00; text-decoration-color: #00af00\">0</span> (0.00 B)\n</pre>\n"
     },
     "metadata": {},
     "output_type": "display_data"
    },
    {
     "data": {
      "text/plain": "\u001B[1m Optimizer params: \u001B[0m\u001B[38;5;34m423,606\u001B[0m (1.62 MB)\n",
      "text/html": "<pre style=\"white-space:pre;overflow-x:auto;line-height:normal;font-family:Menlo,'DejaVu Sans Mono',consolas,'Courier New',monospace\"><span style=\"font-weight: bold\"> Optimizer params: </span><span style=\"color: #00af00; text-decoration-color: #00af00\">423,606</span> (1.62 MB)\n</pre>\n"
     },
     "metadata": {},
     "output_type": "display_data"
    }
   ],
   "source": [
    "model.summary()"
   ],
   "metadata": {
    "collapsed": false,
    "ExecuteTime": {
     "end_time": "2024-04-02T12:34:59.916804Z",
     "start_time": "2024-04-02T12:34:59.908693Z"
    }
   },
   "id": "fcf610db28bf5eb2"
  },
  {
   "cell_type": "code",
   "execution_count": 17,
   "outputs": [],
   "source": [
    "from matplotlib import pyplot as plt"
   ],
   "metadata": {
    "collapsed": false,
    "ExecuteTime": {
     "end_time": "2024-04-02T12:34:34.331187Z",
     "start_time": "2024-04-02T12:34:34.329590Z"
    }
   },
   "id": "125e08c347710bd8"
  },
  {
   "cell_type": "code",
   "execution_count": 18,
   "outputs": [
    {
     "data": {
      "text/plain": "[<matplotlib.lines.Line2D at 0x2f917bb80>]"
     },
     "execution_count": 18,
     "metadata": {},
     "output_type": "execute_result"
    },
    {
     "data": {
      "text/plain": "<Figure size 640x480 with 1 Axes>",
      "image/png": "[encoded data removed]"
     },
     "metadata": {},
     "output_type": "display_data"
    }
   ],
   "source": [
    "plt.plot(history.history['accuracy'], label='train')"
   ],
   "metadata": {
    "collapsed": false,
    "ExecuteTime": {
     "end_time": "2024-04-02T12:34:34.452022Z",
     "start_time": "2024-04-02T12:34:34.331884Z"
    }
   },
   "id": "d32ca96ff2e0e33f"
  },
  {
   "cell_type": "code",
   "execution_count": 19,
   "outputs": [
    {
     "name": "stdout",
     "output_type": "stream",
     "text": [
      "\u001B[1m841/841\u001B[0m \u001B[32m━━━━━━━━━━━━━━━━━━━━\u001B[0m\u001B[37m\u001B[0m \u001B[1m1s\u001B[0m 695us/step\n"
     ]
    },
    {
     "data": {
      "text/plain": "(array([[0.000e+00, 0.000e+00, 0.000e+00, 0.000e+00, 0.000e+00, 0.000e+00,\n         0.000e+00, 0.000e+00, 0.000e+00, 0.000e+00, 0.000e+00, 0.000e+00,\n         0.000e+00, 0.000e+00, 0.000e+00, 0.000e+00, 0.000e+00, 0.000e+00,\n         0.000e+00, 0.000e+00, 5.000e+00, 6.000e+00, 1.100e+01, 1.200e+01,\n         1.900e+01, 3.800e+01, 5.800e+01, 6.300e+01, 7.200e+01, 1.260e+02,\n         1.290e+02, 1.780e+02, 1.360e+02, 1.640e+02, 2.230e+02, 2.920e+02,\n         3.260e+02, 4.260e+02, 4.440e+02, 6.000e+02, 5.320e+02, 5.150e+02,\n         4.630e+02, 4.760e+02, 4.850e+02, 4.360e+02, 4.280e+02, 4.170e+02,\n         3.890e+02, 3.650e+02, 3.870e+02, 3.560e+02, 3.900e+02, 3.060e+02,\n         3.560e+02, 3.710e+02, 3.650e+02, 3.910e+02, 4.090e+02, 4.350e+02,\n         4.440e+02, 5.120e+02, 6.360e+02, 7.400e+02, 1.143e+03, 1.037e+03,\n         9.370e+02, 1.051e+03, 1.292e+03, 1.047e+03, 1.336e+03, 1.359e+03,\n         5.450e+02, 4.020e+02, 5.750e+02, 6.140e+02, 4.570e+02, 1.630e+02,\n         1.070e+02, 1.150e+02, 1.340e+02, 1.840e+02, 1.820e+02, 1.180e+02,\n         5.000e+01, 3.000e+01, 1.800e+01, 1.800e+01, 1.300e+01, 5.000e+00,\n         1.200e+01, 1.000e+01, 7.000e+00, 6.000e+00, 3.000e+00, 2.000e+00,\n         1.000e+00, 1.000e+00, 3.000e+00, 2.000e+00],\n        [2.000e+00, 3.000e+00, 1.000e+00, 1.000e+00, 2.000e+00, 3.000e+00,\n         6.000e+00, 7.000e+00, 8.000e+00, 8.000e+00, 1.000e+01, 1.100e+01,\n         1.900e+01, 1.400e+01, 2.400e+01, 4.700e+01, 1.090e+02, 1.930e+02,\n         1.800e+02, 1.380e+02, 1.270e+02, 1.110e+02, 1.450e+02, 4.150e+02,\n         6.350e+02, 6.030e+02, 4.230e+02, 5.300e+02, 1.394e+03, 1.307e+03,\n         1.015e+03, 1.281e+03, 1.116e+03, 9.740e+02, 1.039e+03, 1.147e+03,\n         7.630e+02, 6.080e+02, 5.040e+02, 4.480e+02, 4.210e+02, 4.140e+02,\n         3.980e+02, 3.530e+02, 3.820e+02, 3.460e+02, 3.400e+02, 3.690e+02,\n         3.720e+02, 3.650e+02, 3.700e+02, 3.930e+02, 4.160e+02, 4.300e+02,\n         4.260e+02, 4.690e+02, 4.700e+02, 4.910e+02, 4.680e+02, 5.610e+02,\n         5.520e+02, 4.340e+02, 3.790e+02, 3.310e+02, 2.740e+02, 2.480e+02,\n         1.910e+02, 1.460e+02, 1.490e+02, 1.510e+02, 1.080e+02, 9.700e+01,\n         6.500e+01, 5.400e+01, 4.000e+01, 2.800e+01, 1.600e+01, 9.000e+00,\n         9.000e+00, 5.000e+00, 0.000e+00, 0.000e+00, 0.000e+00, 0.000e+00,\n         0.000e+00, 0.000e+00, 0.000e+00, 0.000e+00, 0.000e+00, 0.000e+00,\n         0.000e+00, 0.000e+00, 0.000e+00, 0.000e+00, 0.000e+00, 0.000e+00,\n         0.000e+00, 0.000e+00, 0.000e+00, 0.000e+00]]),\n array([0.43182775, 0.43319175, 0.4345557 , 0.4359197 , 0.4372837 ,\n        0.43864766, 0.44001165, 0.44137564, 0.4427396 , 0.4441036 ,\n        0.4454676 , 0.44683155, 0.44819555, 0.4495595 , 0.4509235 ,\n        0.4522875 , 0.45365146, 0.45501545, 0.45637944, 0.4577434 ,\n        0.4591074 , 0.4604714 , 0.46183535, 0.46319935, 0.46456334,\n        0.4659273 , 0.4672913 , 0.4686553 , 0.47001925, 0.47138324,\n        0.4727472 , 0.4741112 , 0.4754752 , 0.47683915, 0.47820315,\n        0.47956714, 0.4809311 , 0.4822951 , 0.4836591 , 0.48502305,\n        0.48638704, 0.48775104, 0.489115  , 0.490479  , 0.491843  ,\n        0.49320695, 0.49457094, 0.49593493, 0.4972989 , 0.4986629 ,\n        0.5000269 , 0.5013909 , 0.5027548 , 0.5041188 , 0.5054828 ,\n        0.5068468 , 0.5082108 , 0.5095748 , 0.5109387 , 0.5123027 ,\n        0.5136667 , 0.5150307 , 0.5163947 , 0.5177586 , 0.5191226 ,\n        0.5204866 , 0.5218506 , 0.5232146 , 0.5245786 , 0.5259425 ,\n        0.5273065 , 0.5286705 , 0.5300345 , 0.5313985 , 0.53276247,\n        0.5341264 , 0.5354904 , 0.5368544 , 0.5382184 , 0.5395824 ,\n        0.54094636, 0.5423103 , 0.5436743 , 0.5450383 , 0.5464023 ,\n        0.54776627, 0.5491302 , 0.5504942 , 0.5518582 , 0.5532222 ,\n        0.5545862 , 0.55595016, 0.5573141 , 0.5586781 , 0.5600421 ,\n        0.5614061 , 0.56277007, 0.56413406, 0.565498  , 0.566862  ,\n        0.568226  ], dtype=float32),\n <a list of 2 BarContainer objects>)"
     },
     "execution_count": 19,
     "metadata": {},
     "output_type": "execute_result"
    },
    {
     "data": {
      "text/plain": "<Figure size 640x480 with 1 Axes>",
      "image/png": "[encoded data removed]"
     },
     "metadata": {},
     "output_type": "display_data"
    }
   ],
   "source": [
    "plt.hist(model.predict(X_test_reshaped),bins=100)"
   ],
   "metadata": {
    "collapsed": false,
    "ExecuteTime": {
     "end_time": "2024-04-02T12:34:35.434452Z",
     "start_time": "2024-04-02T12:34:34.449283Z"
    }
   },
   "id": "46b2198c12fcc8fd"
  },
  {
   "cell_type": "code",
   "execution_count": 36,
   "outputs": [],
   "source": [
    "X_test_reshaped.shape"
   ],
   "metadata": {
    "collapsed": false,
    "ExecuteTime": {
     "end_time": "2024-04-02T12:36:33.442807Z",
     "start_time": "2024-04-02T12:36:33.430729Z"
    }
   },
   "id": "3490adc74e8b95ac"
  },
  {
   "cell_type": "code",
   "execution_count": 35,
   "outputs": [
    {
     "name": "stdout",
     "output_type": "stream",
     "text": [
      "(26911, 1, 13)\n"
     ]
    },
    {
     "ename": "AttributeError",
     "evalue": "'numpy.ndarray' object has no attribute 'loc'",
     "output_type": "error",
     "traceback": [
      "\u001B[0;31m---------------------------------------------------------------------------\u001B[0m",
      "\u001B[0;31mAttributeError\u001B[0m                            Traceback (most recent call last)",
      "Cell \u001B[0;32mIn [35], line 2\u001B[0m\n\u001B[1;32m      1\u001B[0m \u001B[38;5;28mprint\u001B[39m(X_test_reshaped\u001B[38;5;241m.\u001B[39mshape)\n\u001B[0;32m----> 2\u001B[0m x \u001B[38;5;241m=\u001B[39m \u001B[43mX_test_reshaped\u001B[49m\u001B[38;5;241;43m.\u001B[39;49m\u001B[43mloc\u001B[49m[\u001B[38;5;241m0\u001B[39m,:,:]\n\u001B[1;32m      3\u001B[0m x\n",
      "\u001B[0;31mAttributeError\u001B[0m: 'numpy.ndarray' object has no attribute 'loc'"
     ]
    }
   ],
   "source": [
    "print()\n",
    "x = X_test_reshaped.loc[0,:,:]\n",
    "x"
   ],
   "metadata": {
    "collapsed": false,
    "ExecuteTime": {
     "end_time": "2024-04-02T12:36:25.858078Z",
     "start_time": "2024-04-02T12:36:25.855035Z"
    }
   },
   "id": "79f3d4ca49cdc8c4"
  },
  {
   "cell_type": "code",
   "execution_count": 32,
   "outputs": [
    {
     "ename": "ValueError",
     "evalue": "Exception encountered when calling Sequential.call().\n\n\u001B[1mCannot take the length of shape with unknown rank.\u001B[0m\n\nArguments received by Sequential.call():\n  • inputs=tf.Tensor(shape=<unknown>, dtype=float32)\n  • training=False\n  • mask=None",
     "output_type": "error",
     "traceback": [
      "\u001B[0;31m---------------------------------------------------------------------------\u001B[0m",
      "\u001B[0;31mValueError\u001B[0m                                Traceback (most recent call last)",
      "Cell \u001B[0;32mIn [32], line 1\u001B[0m\n\u001B[0;32m----> 1\u001B[0m \u001B[43mmodel\u001B[49m\u001B[38;5;241;43m.\u001B[39;49m\u001B[43mpredict\u001B[49m\u001B[43m(\u001B[49m\u001B[43mx\u001B[49m\u001B[43m)\u001B[49m\n",
      "File \u001B[0;32m~/.pyenv/versions/3.10.6/envs/lewagon/lib/python3.10/site-packages/keras/src/utils/traceback_utils.py:123\u001B[0m, in \u001B[0;36mfilter_traceback.<locals>.error_handler\u001B[0;34m(*args, **kwargs)\u001B[0m\n\u001B[1;32m    120\u001B[0m     filtered_tb \u001B[38;5;241m=\u001B[39m _process_traceback_frames(e\u001B[38;5;241m.\u001B[39m__traceback__)\n\u001B[1;32m    121\u001B[0m     \u001B[38;5;66;03m# To get the full stack trace, call:\u001B[39;00m\n\u001B[1;32m    122\u001B[0m     \u001B[38;5;66;03m# `keras.config.disable_traceback_filtering()`\u001B[39;00m\n\u001B[0;32m--> 123\u001B[0m     \u001B[38;5;28;01mraise\u001B[39;00m e\u001B[38;5;241m.\u001B[39mwith_traceback(filtered_tb) \u001B[38;5;28;01mfrom\u001B[39;00m \u001B[38;5;28mNone\u001B[39m\n\u001B[1;32m    124\u001B[0m \u001B[38;5;28;01mfinally\u001B[39;00m:\n\u001B[1;32m    125\u001B[0m     \u001B[38;5;28;01mdel\u001B[39;00m filtered_tb\n",
      "File \u001B[0;32m~/.pyenv/versions/3.10.6/envs/lewagon/lib/python3.10/site-packages/keras/src/utils/traceback_utils.py:123\u001B[0m, in \u001B[0;36mfilter_traceback.<locals>.error_handler\u001B[0;34m(*args, **kwargs)\u001B[0m\n\u001B[1;32m    120\u001B[0m     filtered_tb \u001B[38;5;241m=\u001B[39m _process_traceback_frames(e\u001B[38;5;241m.\u001B[39m__traceback__)\n\u001B[1;32m    121\u001B[0m     \u001B[38;5;66;03m# To get the full stack trace, call:\u001B[39;00m\n\u001B[1;32m    122\u001B[0m     \u001B[38;5;66;03m# `keras.config.disable_traceback_filtering()`\u001B[39;00m\n\u001B[0;32m--> 123\u001B[0m     \u001B[38;5;28;01mraise\u001B[39;00m e\u001B[38;5;241m.\u001B[39mwith_traceback(filtered_tb) \u001B[38;5;28;01mfrom\u001B[39;00m \u001B[38;5;28mNone\u001B[39m\n\u001B[1;32m    124\u001B[0m \u001B[38;5;28;01mfinally\u001B[39;00m:\n\u001B[1;32m    125\u001B[0m     \u001B[38;5;28;01mdel\u001B[39;00m filtered_tb\n",
      "\u001B[0;31mValueError\u001B[0m: Exception encountered when calling Sequential.call().\n\n\u001B[1mCannot take the length of shape with unknown rank.\u001B[0m\n\nArguments received by Sequential.call():\n  • inputs=tf.Tensor(shape=<unknown>, dtype=float32)\n  • training=False\n  • mask=None"
     ]
    }
   ],
   "source": [
    "model.predict(x)"
   ],
   "metadata": {
    "collapsed": false,
    "ExecuteTime": {
     "end_time": "2024-04-02T12:36:03.754874Z",
     "start_time": "2024-04-02T12:36:03.714710Z"
    }
   },
   "id": "e2ace416534ec17f"
  },
  {
   "cell_type": "code",
   "execution_count": 31,
   "outputs": [
    {
     "ename": "ValueError",
     "evalue": "Exception encountered when calling Sequential.call().\n\n\u001B[1mCannot take the length of shape with unknown rank.\u001B[0m\n\nArguments received by Sequential.call():\n  • inputs=tf.Tensor(shape=<unknown>, dtype=float32)\n  • training=False\n  • mask=None",
     "output_type": "error",
     "traceback": [
      "\u001B[0;31m---------------------------------------------------------------------------\u001B[0m",
      "\u001B[0;31mValueError\u001B[0m                                Traceback (most recent call last)",
      "Cell \u001B[0;32mIn [31], line 1\u001B[0m\n\u001B[0;32m----> 1\u001B[0m plt\u001B[38;5;241m.\u001B[39mhist(\u001B[43mmodel\u001B[49m\u001B[38;5;241;43m.\u001B[39;49m\u001B[43mpredict\u001B[49m\u001B[43m(\u001B[49m\u001B[43mx\u001B[49m\u001B[43m)\u001B[49m \u001B[38;5;241m>\u001B[39m \u001B[38;5;241m0.52\u001B[39m,bins\u001B[38;5;241m=\u001B[39m\u001B[38;5;241m100\u001B[39m)\n",
      "File \u001B[0;32m~/.pyenv/versions/3.10.6/envs/lewagon/lib/python3.10/site-packages/keras/src/utils/traceback_utils.py:123\u001B[0m, in \u001B[0;36mfilter_traceback.<locals>.error_handler\u001B[0;34m(*args, **kwargs)\u001B[0m\n\u001B[1;32m    120\u001B[0m     filtered_tb \u001B[38;5;241m=\u001B[39m _process_traceback_frames(e\u001B[38;5;241m.\u001B[39m__traceback__)\n\u001B[1;32m    121\u001B[0m     \u001B[38;5;66;03m# To get the full stack trace, call:\u001B[39;00m\n\u001B[1;32m    122\u001B[0m     \u001B[38;5;66;03m# `keras.config.disable_traceback_filtering()`\u001B[39;00m\n\u001B[0;32m--> 123\u001B[0m     \u001B[38;5;28;01mraise\u001B[39;00m e\u001B[38;5;241m.\u001B[39mwith_traceback(filtered_tb) \u001B[38;5;28;01mfrom\u001B[39;00m \u001B[38;5;28mNone\u001B[39m\n\u001B[1;32m    124\u001B[0m \u001B[38;5;28;01mfinally\u001B[39;00m:\n\u001B[1;32m    125\u001B[0m     \u001B[38;5;28;01mdel\u001B[39;00m filtered_tb\n",
      "File \u001B[0;32m~/.pyenv/versions/3.10.6/envs/lewagon/lib/python3.10/site-packages/keras/src/utils/traceback_utils.py:123\u001B[0m, in \u001B[0;36mfilter_traceback.<locals>.error_handler\u001B[0;34m(*args, **kwargs)\u001B[0m\n\u001B[1;32m    120\u001B[0m     filtered_tb \u001B[38;5;241m=\u001B[39m _process_traceback_frames(e\u001B[38;5;241m.\u001B[39m__traceback__)\n\u001B[1;32m    121\u001B[0m     \u001B[38;5;66;03m# To get the full stack trace, call:\u001B[39;00m\n\u001B[1;32m    122\u001B[0m     \u001B[38;5;66;03m# `keras.config.disable_traceback_filtering()`\u001B[39;00m\n\u001B[0;32m--> 123\u001B[0m     \u001B[38;5;28;01mraise\u001B[39;00m e\u001B[38;5;241m.\u001B[39mwith_traceback(filtered_tb) \u001B[38;5;28;01mfrom\u001B[39;00m \u001B[38;5;28mNone\u001B[39m\n\u001B[1;32m    124\u001B[0m \u001B[38;5;28;01mfinally\u001B[39;00m:\n\u001B[1;32m    125\u001B[0m     \u001B[38;5;28;01mdel\u001B[39;00m filtered_tb\n",
      "\u001B[0;31mValueError\u001B[0m: Exception encountered when calling Sequential.call().\n\n\u001B[1mCannot take the length of shape with unknown rank.\u001B[0m\n\nArguments received by Sequential.call():\n  • inputs=tf.Tensor(shape=<unknown>, dtype=float32)\n  • training=False\n  • mask=None"
     ]
    }
   ],
   "source": [
    "plt.hist(model.predict(x) > 0.52,bins=100)"
   ],
   "metadata": {
    "collapsed": false,
    "ExecuteTime": {
     "end_time": "2024-04-02T12:35:54.131422Z",
     "start_time": "2024-04-02T12:35:53.532205Z"
    }
   },
   "id": "942e5f9c5be86f53"
  },
  {
   "cell_type": "code",
   "execution_count": 21,
   "outputs": [
    {
     "name": "stdout",
     "output_type": "stream",
     "text": [
      "\u001B[1m841/841\u001B[0m \u001B[32m━━━━━━━━━━━━━━━━━━━━\u001B[0m\u001B[37m\u001B[0m \u001B[1m0s\u001B[0m 478us/step\n"
     ]
    },
    {
     "data": {
      "text/plain": "(array([[22232.,     0.,     0.,     0.,     0.,     0.,     0.,     0.,\n             0.,     0.,     0.,     0.,     0.,     0.,     0.,     0.,\n             0.,     0.,     0.,     0.,     0.,     0.,     0.,     0.,\n             0.,     0.,     0.,     0.,     0.,     0.,     0.,     0.,\n             0.,     0.,     0.,     0.,     0.,     0.,     0.,     0.,\n             0.,     0.,     0.,     0.,     0.,     0.,     0.,     0.,\n             0.,     0.,     0.,     0.,     0.,     0.,     0.,     0.,\n             0.,     0.,     0.,     0.,     0.,     0.,     0.,     0.,\n             0.,     0.,     0.,     0.,     0.,     0.,     0.,     0.,\n             0.,     0.,     0.,     0.,     0.,     0.,     0.,     0.,\n             0.,     0.,     0.,     0.,     0.,     0.,     0.,     0.,\n             0.,     0.,     0.,     0.,     0.,     0.,     0.,     0.,\n             0.,     0.,     0.,  4679.],\n        [10449.,     0.,     0.,     0.,     0.,     0.,     0.,     0.,\n             0.,     0.,     0.,     0.,     0.,     0.,     0.,     0.,\n             0.,     0.,     0.,     0.,     0.,     0.,     0.,     0.,\n             0.,     0.,     0.,     0.,     0.,     0.,     0.,     0.,\n             0.,     0.,     0.,     0.,     0.,     0.,     0.,     0.,\n             0.,     0.,     0.,     0.,     0.,     0.,     0.,     0.,\n             0.,     0.,     0.,     0.,     0.,     0.,     0.,     0.,\n             0.,     0.,     0.,     0.,     0.,     0.,     0.,     0.,\n             0.,     0.,     0.,     0.,     0.,     0.,     0.,     0.,\n             0.,     0.,     0.,     0.,     0.,     0.,     0.,     0.,\n             0.,     0.,     0.,     0.,     0.,     0.,     0.,     0.,\n             0.,     0.,     0.,     0.,     0.,     0.,     0.,     0.,\n             0.,     0.,     0., 16462.]]),\n array([0.  , 0.01, 0.02, 0.03, 0.04, 0.05, 0.06, 0.07, 0.08, 0.09, 0.1 ,\n        0.11, 0.12, 0.13, 0.14, 0.15, 0.16, 0.17, 0.18, 0.19, 0.2 , 0.21,\n        0.22, 0.23, 0.24, 0.25, 0.26, 0.27, 0.28, 0.29, 0.3 , 0.31, 0.32,\n        0.33, 0.34, 0.35, 0.36, 0.37, 0.38, 0.39, 0.4 , 0.41, 0.42, 0.43,\n        0.44, 0.45, 0.46, 0.47, 0.48, 0.49, 0.5 , 0.51, 0.52, 0.53, 0.54,\n        0.55, 0.56, 0.57, 0.58, 0.59, 0.6 , 0.61, 0.62, 0.63, 0.64, 0.65,\n        0.66, 0.67, 0.68, 0.69, 0.7 , 0.71, 0.72, 0.73, 0.74, 0.75, 0.76,\n        0.77, 0.78, 0.79, 0.8 , 0.81, 0.82, 0.83, 0.84, 0.85, 0.86, 0.87,\n        0.88, 0.89, 0.9 , 0.91, 0.92, 0.93, 0.94, 0.95, 0.96, 0.97, 0.98,\n        0.99, 1.  ]),\n <a list of 2 BarContainer objects>)"
     },
     "execution_count": 21,
     "metadata": {},
     "output_type": "execute_result"
    },
    {
     "data": {
      "text/plain": "<Figure size 640x480 with 1 Axes>",
      "image/png": "[encoded data removed]"
     },
     "metadata": {},
     "output_type": "display_data"
    }
   ],
   "source": [
    "plt.hist(model.predict(X_test_reshaped) <  0.49,bins=100)"
   ],
   "metadata": {
    "collapsed": false,
    "ExecuteTime": {
     "end_time": "2024-04-02T12:34:36.705306Z",
     "start_time": "2024-04-02T12:34:36.084701Z"
    }
   },
   "id": "9350d7c61870e608"
  },
  {
   "cell_type": "code",
   "execution_count": 22,
   "outputs": [
    {
     "name": "stdout",
     "output_type": "stream",
     "text": [
      "\u001B[1m841/841\u001B[0m \u001B[32m━━━━━━━━━━━━━━━━━━━━\u001B[0m\u001B[37m\u001B[0m \u001B[1m0s\u001B[0m 475us/step\n"
     ]
    },
    {
     "data": {
      "text/plain": "26911"
     },
     "execution_count": 22,
     "metadata": {},
     "output_type": "execute_result"
    }
   ],
   "source": [
    "len(pd.DataFrame(model.predict(X_test_reshaped)))"
   ],
   "metadata": {
    "collapsed": false,
    "ExecuteTime": {
     "end_time": "2024-04-02T12:34:37.186811Z",
     "start_time": "2024-04-02T12:34:36.703511Z"
    }
   },
   "id": "780d25a5dfa29682"
  },
  {
   "cell_type": "code",
   "execution_count": 23,
   "outputs": [
    {
     "data": {
      "text/plain": "26911"
     },
     "execution_count": 23,
     "metadata": {},
     "output_type": "execute_result"
    }
   ],
   "source": [
    "len(X_test_reshaped)"
   ],
   "metadata": {
    "collapsed": false,
    "ExecuteTime": {
     "end_time": "2024-04-02T12:34:37.187084Z",
     "start_time": "2024-04-02T12:34:37.184686Z"
    }
   },
   "id": "8ff0ae03029a8651"
  },
  {
   "cell_type": "code",
   "execution_count": 24,
   "outputs": [
    {
     "name": "stdout",
     "output_type": "stream",
     "text": [
      "\u001B[1m841/841\u001B[0m \u001B[32m━━━━━━━━━━━━━━━━━━━━\u001B[0m\u001B[37m\u001B[0m \u001B[1m0s\u001B[0m 478us/step\n"
     ]
    }
   ],
   "source": [
    "pred = pd.DataFrame(model.predict(X_test_reshaped))"
   ],
   "metadata": {
    "collapsed": false,
    "ExecuteTime": {
     "end_time": "2024-04-02T12:34:37.682118Z",
     "start_time": "2024-04-02T12:34:37.187849Z"
    }
   },
   "id": "399925bb64dbf928"
  },
  {
   "cell_type": "code",
   "execution_count": 25,
   "outputs": [
    {
     "data": {
      "text/plain": "              0         1\n0      0.527999  0.471898\n1      0.529030  0.470897\n2      0.529515  0.470425\n3      0.527414  0.472474\n4      0.530669  0.469372\n...         ...       ...\n26900  0.525252  0.474640\n26901  0.528594  0.471333\n26902  0.524000  0.475896\n26903  0.526191  0.473702\n26904  0.526620  0.473276\n\n[12248 rows x 2 columns]",
      "text/html": "<div>\n<style scoped>\n    .dataframe tbody tr th:only-of-type {\n        vertical-align: middle;\n    }\n\n    .dataframe tbody tr th {\n        vertical-align: top;\n    }\n\n    .dataframe thead th {\n        text-align: right;\n    }\n</style>\n<table border=\"1\" class=\"dataframe\">\n  <thead>\n    <tr style=\"text-align: right;\">\n      <th></th>\n      <th>0</th>\n      <th>1</th>\n    </tr>\n  </thead>\n  <tbody>\n    <tr>\n      <th>0</th>\n      <td>0.527999</td>\n      <td>0.471898</td>\n    </tr>\n    <tr>\n      <th>1</th>\n      <td>0.529030</td>\n      <td>0.470897</td>\n    </tr>\n    <tr>\n      <th>2</th>\n      <td>0.529515</td>\n      <td>0.470425</td>\n    </tr>\n    <tr>\n      <th>3</th>\n      <td>0.527414</td>\n      <td>0.472474</td>\n    </tr>\n    <tr>\n      <th>4</th>\n      <td>0.530669</td>\n      <td>0.469372</td>\n    </tr>\n    <tr>\n      <th>...</th>\n      <td>...</td>\n      <td>...</td>\n    </tr>\n    <tr>\n      <th>26900</th>\n      <td>0.525252</td>\n      <td>0.474640</td>\n    </tr>\n    <tr>\n      <th>26901</th>\n      <td>0.528594</td>\n      <td>0.471333</td>\n    </tr>\n    <tr>\n      <th>26902</th>\n      <td>0.524000</td>\n      <td>0.475896</td>\n    </tr>\n    <tr>\n      <th>26903</th>\n      <td>0.526191</td>\n      <td>0.473702</td>\n    </tr>\n    <tr>\n      <th>26904</th>\n      <td>0.526620</td>\n      <td>0.473276</td>\n    </tr>\n  </tbody>\n</table>\n<p>12248 rows × 2 columns</p>\n</div>"
     },
     "execution_count": 25,
     "metadata": {},
     "output_type": "execute_result"
    }
   ],
   "source": [
    "pred[pred[0] > 0.52]"
   ],
   "metadata": {
    "collapsed": false,
    "ExecuteTime": {
     "end_time": "2024-04-02T12:34:37.682624Z",
     "start_time": "2024-04-02T12:34:37.670644Z"
    }
   },
   "id": "f9b7e1ebc2e8af7c"
  },
  {
   "cell_type": "code",
   "execution_count": 26,
   "outputs": [
    {
     "data": {
      "text/plain": "              0         1\n181    0.474330  0.526508\n182    0.474099  0.526756\n183    0.474461  0.526339\n184    0.474659  0.526116\n185    0.474348  0.526451\n...         ...       ...\n26820  0.467396  0.532580\n26821  0.474382  0.525115\n26908  0.479115  0.521233\n26909  0.479207  0.521136\n26910  0.479982  0.520317\n\n[1415 rows x 2 columns]",
      "text/html": "<div>\n<style scoped>\n    .dataframe tbody tr th:only-of-type {\n        vertical-align: middle;\n    }\n\n    .dataframe tbody tr th {\n        vertical-align: top;\n    }\n\n    .dataframe thead th {\n        text-align: right;\n    }\n</style>\n<table border=\"1\" class=\"dataframe\">\n  <thead>\n    <tr style=\"text-align: right;\">\n      <th></th>\n      <th>0</th>\n      <th>1</th>\n    </tr>\n  </thead>\n  <tbody>\n    <tr>\n      <th>181</th>\n      <td>0.474330</td>\n      <td>0.526508</td>\n    </tr>\n    <tr>\n      <th>182</th>\n      <td>0.474099</td>\n      <td>0.526756</td>\n    </tr>\n    <tr>\n      <th>183</th>\n      <td>0.474461</td>\n      <td>0.526339</td>\n    </tr>\n    <tr>\n      <th>184</th>\n      <td>0.474659</td>\n      <td>0.526116</td>\n    </tr>\n    <tr>\n      <th>185</th>\n      <td>0.474348</td>\n      <td>0.526451</td>\n    </tr>\n    <tr>\n      <th>...</th>\n      <td>...</td>\n      <td>...</td>\n    </tr>\n    <tr>\n      <th>26820</th>\n      <td>0.467396</td>\n      <td>0.532580</td>\n    </tr>\n    <tr>\n      <th>26821</th>\n      <td>0.474382</td>\n      <td>0.525115</td>\n    </tr>\n    <tr>\n      <th>26908</th>\n      <td>0.479115</td>\n      <td>0.521233</td>\n    </tr>\n    <tr>\n      <th>26909</th>\n      <td>0.479207</td>\n      <td>0.521136</td>\n    </tr>\n    <tr>\n      <th>26910</th>\n      <td>0.479982</td>\n      <td>0.520317</td>\n    </tr>\n  </tbody>\n</table>\n<p>1415 rows × 2 columns</p>\n</div>"
     },
     "execution_count": 26,
     "metadata": {},
     "output_type": "execute_result"
    }
   ],
   "source": [
    "pred[pred[1] > 0.52]"
   ],
   "metadata": {
    "collapsed": false,
    "ExecuteTime": {
     "end_time": "2024-04-02T12:34:37.682821Z",
     "start_time": "2024-04-02T12:34:37.675685Z"
    }
   },
   "id": "55a086f5cb108427"
  },
  {
   "cell_type": "code",
   "execution_count": 39,
   "outputs": [],
   "source": [
    "import requests"
   ],
   "metadata": {
    "collapsed": false,
    "ExecuteTime": {
     "end_time": "2024-04-02T12:46:20.055227Z",
     "start_time": "2024-04-02T12:46:20.043889Z"
    }
   },
   "id": "84ec2f4718e36334"
  },
  {
   "cell_type": "code",
   "execution_count": 93,
   "outputs": [
    {
     "name": "stdout",
     "output_type": "stream",
     "text": [
      "start 2024-04-02-12:24, now 2024-04-02-13:24\n"
     ]
    }
   ],
   "source": [
    "# get current timestamp in the format required by the API 2024-04-02-11:44\n",
    "import datetime\n",
    "now = datetime.datetime.now() - datetime.timedelta(hours=1)\n",
    "now = now.strftime(\"%Y-%m-%d-%H:%M\")\n",
    "# compute for last 50 minutes\n",
    "start = datetime.datetime.now() - datetime.timedelta(hours=2)\n",
    "start = start.strftime(\"%Y-%m-%d-%H:%M\")\n",
    "print(f\"start {start}, now {now}\")"
   ],
   "metadata": {
    "collapsed": false,
    "ExecuteTime": {
     "end_time": "2024-04-02T13:24:36.438362Z",
     "start_time": "2024-04-02T13:24:36.434063Z"
    }
   },
   "id": "fe0703419994e7fa"
  },
  {
   "cell_type": "code",
   "execution_count": 95,
   "outputs": [],
   "source": [
    "url = f\"https://marketdata.tradermade.com/api/v1/timeseries?currency=EURUSD&api_key=zNv02V5PnDlZwEQypn1j&start_date={start}&end_date={now}&format=records&interval=minute&period=1\"\n",
    "res = requests.get(url).json()"
   ],
   "metadata": {
    "collapsed": false,
    "ExecuteTime": {
     "end_time": "2024-04-02T13:36:02.595434Z",
     "start_time": "2024-04-02T13:36:02.504696Z"
    }
   },
   "id": "728140feeee873ac"
  },
  {
   "cell_type": "code",
   "execution_count": 99,
   "outputs": [],
   "source": [
    "quote = pd.DataFrame(res['quotes'])"
   ],
   "metadata": {
    "collapsed": false,
    "ExecuteTime": {
     "end_time": "2024-04-02T13:36:45.998575Z",
     "start_time": "2024-04-02T13:36:45.988155Z"
    }
   },
   "id": "37ee0568f7acbc28"
  },
  {
   "cell_type": "code",
   "execution_count": 100,
   "outputs": [
    {
     "data": {
      "text/plain": "      close                 date     high      low     open\n0   1.07476  2024-04-02 12:24:00  1.07476  1.07463  1.07468\n1   1.07479  2024-04-02 12:25:00  1.07482  1.07471  1.07475\n2   1.07472  2024-04-02 12:26:00  1.07480  1.07471  1.07478\n3   1.07478  2024-04-02 12:27:00  1.07478  1.07468  1.07472\n4   1.07472  2024-04-02 12:28:00  1.07480  1.07469  1.07478\n..      ...                  ...      ...      ...      ...\n56  1.07590  2024-04-02 13:20:00  1.07592  1.07560  1.07564\n57  1.07585  2024-04-02 13:21:00  1.07590  1.07585  1.07590\n58  1.07580  2024-04-02 13:22:00  1.07593  1.07578  1.07585\n59  1.07580  2024-04-02 13:23:00  1.07586  1.07580  1.07580\n60  1.07579  2024-04-02 13:24:00  1.07590  1.07576  1.07580\n\n[61 rows x 5 columns]",
      "text/html": "<div>\n<style scoped>\n    .dataframe tbody tr th:only-of-type {\n        vertical-align: middle;\n    }\n\n    .dataframe tbody tr th {\n        vertical-align: top;\n    }\n\n    .dataframe thead th {\n        text-align: right;\n    }\n</style>\n<table border=\"1\" class=\"dataframe\">\n  <thead>\n    <tr style=\"text-align: right;\">\n      <th></th>\n      <th>close</th>\n      <th>date</th>\n      <th>high</th>\n      <th>low</th>\n      <th>open</th>\n    </tr>\n  </thead>\n  <tbody>\n    <tr>\n      <th>0</th>\n      <td>1.07476</td>\n      <td>2024-04-02 12:24:00</td>\n      <td>1.07476</td>\n      <td>1.07463</td>\n      <td>1.07468</td>\n    </tr>\n    <tr>\n      <th>1</th>\n      <td>1.07479</td>\n      <td>2024-04-02 12:25:00</td>\n      <td>1.07482</td>\n      <td>1.07471</td>\n      <td>1.07475</td>\n    </tr>\n    <tr>\n      <th>2</th>\n      <td>1.07472</td>\n      <td>2024-04-02 12:26:00</td>\n      <td>1.07480</td>\n      <td>1.07471</td>\n      <td>1.07478</td>\n    </tr>\n    <tr>\n      <th>3</th>\n      <td>1.07478</td>\n      <td>2024-04-02 12:27:00</td>\n      <td>1.07478</td>\n      <td>1.07468</td>\n      <td>1.07472</td>\n    </tr>\n    <tr>\n      <th>4</th>\n      <td>1.07472</td>\n      <td>2024-04-02 12:28:00</td>\n      <td>1.07480</td>\n      <td>1.07469</td>\n      <td>1.07478</td>\n    </tr>\n    <tr>\n      <th>...</th>\n      <td>...</td>\n      <td>...</td>\n      <td>...</td>\n      <td>...</td>\n      <td>...</td>\n    </tr>\n    <tr>\n      <th>56</th>\n      <td>1.07590</td>\n      <td>2024-04-02 13:20:00</td>\n      <td>1.07592</td>\n      <td>1.07560</td>\n      <td>1.07564</td>\n    </tr>\n    <tr>\n      <th>57</th>\n      <td>1.07585</td>\n      <td>2024-04-02 13:21:00</td>\n      <td>1.07590</td>\n      <td>1.07585</td>\n      <td>1.07590</td>\n    </tr>\n    <tr>\n      <th>58</th>\n      <td>1.07580</td>\n      <td>2024-04-02 13:22:00</td>\n      <td>1.07593</td>\n      <td>1.07578</td>\n      <td>1.07585</td>\n    </tr>\n    <tr>\n      <th>59</th>\n      <td>1.07580</td>\n      <td>2024-04-02 13:23:00</td>\n      <td>1.07586</td>\n      <td>1.07580</td>\n      <td>1.07580</td>\n    </tr>\n    <tr>\n      <th>60</th>\n      <td>1.07579</td>\n      <td>2024-04-02 13:24:00</td>\n      <td>1.07590</td>\n      <td>1.07576</td>\n      <td>1.07580</td>\n    </tr>\n  </tbody>\n</table>\n<p>61 rows × 5 columns</p>\n</div>"
     },
     "execution_count": 100,
     "metadata": {},
     "output_type": "execute_result"
    }
   ],
   "source": [
    "quote"
   ],
   "metadata": {
    "collapsed": false,
    "ExecuteTime": {
     "end_time": "2024-04-02T13:36:50.540344Z",
     "start_time": "2024-04-02T13:36:50.524638Z"
    }
   },
   "id": "f47215569a76b2d8"
  },
  {
   "cell_type": "code",
   "execution_count": 107,
   "outputs": [
    {
     "data": {
      "text/plain": "Empty DataFrame\nColumns: [close, date, high, low, open, timestamp, target, hour, part_of_day, day_of_week, sin_day, cos_day, price_change_5_intervals, rolling_avg_price_10_intervals, rolling_avg_price_10_close_intervals, ma_30m, ma_24h, ema_30min, ema_24h, rsi]\nIndex: []",
      "text/html": "<div>\n<style scoped>\n    .dataframe tbody tr th:only-of-type {\n        vertical-align: middle;\n    }\n\n    .dataframe tbody tr th {\n        vertical-align: top;\n    }\n\n    .dataframe thead th {\n        text-align: right;\n    }\n</style>\n<table border=\"1\" class=\"dataframe\">\n  <thead>\n    <tr style=\"text-align: right;\">\n      <th></th>\n      <th>close</th>\n      <th>date</th>\n      <th>high</th>\n      <th>low</th>\n      <th>open</th>\n      <th>timestamp</th>\n      <th>target</th>\n      <th>hour</th>\n      <th>part_of_day</th>\n      <th>day_of_week</th>\n      <th>sin_day</th>\n      <th>cos_day</th>\n      <th>price_change_5_intervals</th>\n      <th>rolling_avg_price_10_intervals</th>\n      <th>rolling_avg_price_10_close_intervals</th>\n      <th>ma_30m</th>\n      <th>ma_24h</th>\n      <th>ema_30min</th>\n      <th>ema_24h</th>\n      <th>rsi</th>\n    </tr>\n  </thead>\n  <tbody>\n  </tbody>\n</table>\n</div>"
     },
     "execution_count": 107,
     "metadata": {},
     "output_type": "execute_result"
    }
   ],
   "source": [
    "enrich_dataframe(quote, \"date\")"
   ],
   "metadata": {
    "collapsed": false,
    "ExecuteTime": {
     "end_time": "2024-04-02T14:08:37.730577Z",
     "start_time": "2024-04-02T14:08:37.719326Z"
    }
   },
   "id": "c36d593f83b378ef"
  },
  {
   "cell_type": "code",
   "execution_count": null,
   "outputs": [],
   "source": [],
   "metadata": {
    "collapsed": false
   },
   "id": "d3269d88d03af907"
  }
 ],
 "metadata": {
  "kernelspec": {
   "display_name": "Python 3",
   "language": "python",
   "name": "python3"
  },
  "language_info": {
   "codemirror_mode": {
    "name": "ipython",
    "version": 2
   },
   "file_extension": ".py",
   "mimetype": "text/x-python",
   "name": "python",
   "nbconvert_exporter": "python",
   "pygments_lexer": "ipython2",
   "version": "2.7.6"
  }
 },
 "nbformat": 4,
 "nbformat_minor": 5
}
