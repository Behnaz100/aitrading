{
 "cells": [
  {
   "cell_type": "code",
   "execution_count": 1,
   "outputs": [],
   "source": [
    "import matplotlib.pyplot as plt\n",
    "import pandas as pd\n",
    "import numpy as np\n",
    "import requests\n",
    "df2 = pd.read_csv(\"/Users/kassraniroumand/code/aitrading/aitrading/data/eurousd_df_clean_2.csv\")"
   ],
   "metadata": {
    "collapsed": false,
    "ExecuteTime": {
     "end_time": "2024-04-03T15:10:50.916364Z",
     "start_time": "2024-04-03T15:10:49.735314Z"
    }
   },
   "id": "7344cbc0d4d92ad1"
  },
  {
   "cell_type": "code",
   "execution_count": 1,
   "outputs": [],
   "source": [],
   "metadata": {
    "collapsed": false,
    "ExecuteTime": {
     "end_time": "2024-04-03T15:10:53.703517Z",
     "start_time": "2024-04-03T15:10:53.694994Z"
    }
   },
   "id": "1eb0a843e4acc50a"
  },
  {
   "cell_type": "code",
   "execution_count": 2,
   "outputs": [],
   "source": [
    "import glob\n",
    "import os\n",
    "import pathlib\n",
    "import time\n",
    "import pickle\n",
    "\n",
    "from colorama import Fore, Style\n",
    "from tensorflow import keras\n",
    "\n",
    "from aitrading import params\n",
    "\n",
    "\n",
    "# from aitrading.params import *\n",
    "\n",
    "def save_model(model: keras.Model = None) -> None:\n",
    "    \"\"\"\n",
    "    Persist trained model locally on the hard drive at f\"{LOCAL_REGISTRY_PATH}/models/{timestamp}.h5\"\n",
    "    - if MODEL_TARGET='gcs', also persist it in your bucket on GCS at \"models/{timestamp}.h5\" --> unit 02 only\n",
    "    - if MODEL_TARGET='mlflow', also persist it on MLflow instead of GCS (for unit 0703 only) --> unit 03 only\n",
    "    \"\"\"\n",
    "    if model is None:\n",
    "        print(\"❎ No model to save\")\n",
    "        return None\n",
    "\n",
    "    print(\"🔵 Saving model...\")\n",
    "    base_model_path = pathlib.Path(params.LOCAL_DATA_PATH) / \"models\"\n",
    "    base_model_path.mkdir(parents=True, exist_ok=True)\n",
    "    \n",
    "    timestamp = time.strftime(\"%Y-%m-%d-%H-%M-%S\")\n",
    "    model_filename = f\"model_{timestamp}.keras\"\n",
    "    \n",
    "    model_path = base_model_path / model_filename\n",
    "    model.save(model_path)\n",
    "    \n",
    "    print(\"✅ Model saved locally\")\n",
    "    return None"
   ],
   "metadata": {
    "collapsed": false,
    "ExecuteTime": {
     "end_time": "2024-04-03T15:10:57.160511Z",
     "start_time": "2024-04-03T15:10:54.144788Z"
    }
   },
   "id": "23562300e96b71bf"
  },
  {
   "cell_type": "code",
   "execution_count": 25,
   "outputs": [
    {
     "name": "stdout",
     "output_type": "stream",
     "text": [
      "❎ No model to save\n"
     ]
    }
   ],
   "source": [
    "save_model()"
   ],
   "metadata": {
    "collapsed": false,
    "ExecuteTime": {
     "end_time": "2024-04-02T17:05:33.201680Z",
     "start_time": "2024-04-02T17:05:33.193940Z"
    }
   },
   "id": "88a18fe57422e6a5"
  },
  {
   "cell_type": "code",
   "execution_count": 1,
   "outputs": [],
   "source": [
    "from tensorflow.keras.models import Sequential\n",
    "from tensorflow.keras.layers import Bidirectional, LSTM, Dropout, GRU, Dense, Input\n",
    "from tensorflow.keras.regularizers import l2\n",
    "from tensorflow.keras.optimizers import Adam"
   ],
   "metadata": {
    "collapsed": false,
    "ExecuteTime": {
     "end_time": "2024-04-02T16:56:35.673574Z",
     "start_time": "2024-04-02T16:56:33.576411Z"
    }
   },
   "id": "cf3c2b603b748102"
  },
  {
   "cell_type": "code",
   "execution_count": 2,
   "outputs": [],
   "source": [
    "def build_model(input_shape: tuple = (1, 1), output_shape: int = 1) -> Sequential:\n",
    "    \"\"\"\n",
    "    Build a simple RNN model with the following architecture:\n",
    "    - LSTM layer with 50 units and ReLU activation\n",
    "    - Dense layer with 1 unit\n",
    "    - Compile the model with Adam optimizer and MSE loss\n",
    "    \"\"\"\n",
    "    model = Sequential()\n",
    "    model.add(LSTM(50, activation='relu', input_shape=input_shape))\n",
    "    model.add(Dense(output_shape))\n",
    "    model.compile(optimizer='adam', loss='mse')\n",
    "    return model"
   ],
   "metadata": {
    "collapsed": false,
    "ExecuteTime": {
     "end_time": "2024-04-02T16:56:38.991909Z",
     "start_time": "2024-04-02T16:56:38.985823Z"
    }
   },
   "id": "57895561113839c4"
  },
  {
   "cell_type": "code",
   "execution_count": 3,
   "outputs": [
    {
     "name": "stderr",
     "output_type": "stream",
     "text": [
      "/Users/kassraniroumand/.pyenv/versions/3.10.6/envs/lewagon/lib/python3.10/site-packages/keras/src/layers/rnn/rnn.py:205: UserWarning: Do not pass an `input_shape`/`input_dim` argument to a layer. When using Sequential models, prefer using an `Input(shape)` object as the first layer in the model instead.\n",
      "  super().__init__(**kwargs)\n"
     ]
    }
   ],
   "source": [
    "model = build_model()"
   ],
   "metadata": {
    "collapsed": false,
    "ExecuteTime": {
     "end_time": "2024-04-02T16:56:40.728557Z",
     "start_time": "2024-04-02T16:56:40.704413Z"
    }
   },
   "id": "51631628c6d3e85b"
  },
  {
   "cell_type": "code",
   "execution_count": 6,
   "outputs": [],
   "source": [
    "from tensorflow.keras.models import load_model"
   ],
   "metadata": {
    "collapsed": false,
    "ExecuteTime": {
     "end_time": "2024-04-02T16:57:05.618874Z",
     "start_time": "2024-04-02T16:57:05.613551Z"
    }
   },
   "id": "306c33156a2fb067"
  },
  {
   "cell_type": "code",
   "execution_count": 4,
   "outputs": [],
   "source": [
    "model.save(\"dklsjf.keras\")"
   ],
   "metadata": {
    "collapsed": false,
    "ExecuteTime": {
     "end_time": "2024-04-02T16:56:52.740573Z",
     "start_time": "2024-04-02T16:56:52.726756Z"
    }
   },
   "id": "be0849a688460d40"
  },
  {
   "cell_type": "code",
   "execution_count": 7,
   "outputs": [
    {
     "name": "stderr",
     "output_type": "stream",
     "text": [
      "/Users/kassraniroumand/.pyenv/versions/3.10.6/envs/lewagon/lib/python3.10/site-packages/keras/src/saving/saving_lib.py:396: UserWarning: Skipping variable loading for optimizer 'adam', because it has 12 variables whereas the saved optimizer has 2 variables. \n",
      "  trackable.load_own_variables(weights_store.get(inner_path))\n"
     ]
    }
   ],
   "source": [
    "loaded_model = load_model(\"dklsjf.keras\")"
   ],
   "metadata": {
    "collapsed": false,
    "ExecuteTime": {
     "end_time": "2024-04-02T16:57:16.043773Z",
     "start_time": "2024-04-02T16:57:15.993690Z"
    }
   },
   "id": "d3ff13ef85c38506"
  },
  {
   "cell_type": "code",
   "execution_count": 29,
   "outputs": [
    {
     "name": "stderr",
     "output_type": "stream",
     "text": [
      "/Users/kassraniroumand/.pyenv/versions/3.10.6/envs/lewagon/lib/python3.10/site-packages/keras/src/layers/rnn/rnn.py:205: UserWarning: Do not pass an `input_shape`/`input_dim` argument to a layer. When using Sequential models, prefer using an `Input(shape)` object as the first layer in the model instead.\n",
      "  super().__init__(**kwargs)\n"
     ]
    }
   ],
   "source": [
    "model = Sequential([\n",
    "        # Input(shape=),\n",
    "        Bidirectional(LSTM(256,  activation='tanh',input_shape=(1, 1))),\n",
    "        Dropout(0.5),\n",
    "        GRU(128, return_sequences=False, activation='relu', kernel_regularizer=l2(0.001)),\n",
    "        Dropout(0.5),\n",
    "        Dense(32, activation='relu', kernel_regularizer=l2(0.001)),\n",
    "        Dropout(0.5),\n",
    "        Dense(1, activation='sigmoid')  # Use 'sigmoid' for binary classification tasks\n",
    "    ])\n",
    "\n",
    "model.compile(optimizer='adam', loss='binary_crossentropy', metrics=['accuracy'])\n",
    "\n",
    "\n"
   ],
   "metadata": {
    "collapsed": false,
    "ExecuteTime": {
     "end_time": "2024-04-02T19:24:01.944348Z",
     "start_time": "2024-04-02T19:24:01.926699Z"
    }
   },
   "id": "7c4ca3c5e7835132"
  },
  {
   "cell_type": "code",
   "execution_count": 30,
   "outputs": [
    {
     "name": "stderr",
     "output_type": "stream",
     "text": [
      "/Users/kassraniroumand/.pyenv/versions/3.10.6/envs/lewagon/lib/python3.10/site-packages/keras/src/saving/saving_api.py:100: UserWarning: You are saving a model that has not yet been built. It might not contain any weights yet. Consider building the model first by calling it on some data.\n",
      "  saving_lib.save_model(model, filepath)\n"
     ]
    }
   ],
   "source": [
    "from keras.src.saving import saving_lib\n",
    "\n",
    "model.save(\"dklsjf2.keras\")\n"
   ],
   "metadata": {
    "collapsed": false,
    "ExecuteTime": {
     "end_time": "2024-04-02T19:24:02.933342Z",
     "start_time": "2024-04-02T19:24:02.918175Z"
    }
   },
   "id": "c468bfc1f69ea761"
  },
  {
   "cell_type": "code",
   "execution_count": 22,
   "outputs": [],
   "source": [
    "loaded2_model = (\n",
    "    load_model(\"dklsjf2.keras\"))"
   ],
   "metadata": {
    "collapsed": false,
    "ExecuteTime": {
     "end_time": "2024-04-02T16:58:28.553490Z",
     "start_time": "2024-04-02T16:58:28.529378Z"
    }
   },
   "id": "ff6b1d5f7ce56642"
  },
  {
   "cell_type": "code",
   "execution_count": null,
   "outputs": [],
   "source": [],
   "metadata": {
    "collapsed": false
   },
   "id": "4329e5e11694ed01"
  }
 ],
 "metadata": {
  "kernelspec": {
   "display_name": "Python 3",
   "language": "python",
   "name": "python3"
  },
  "language_info": {
   "codemirror_mode": {
    "name": "ipython",
    "version": 2
   },
   "file_extension": ".py",
   "mimetype": "text/x-python",
   "name": "python",
   "nbconvert_exporter": "python",
   "pygments_lexer": "ipython2",
   "version": "2.7.6"
  }
 },
 "nbformat": 4,
 "nbformat_minor": 5
}
