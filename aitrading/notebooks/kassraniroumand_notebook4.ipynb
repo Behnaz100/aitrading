{
 "cells": [
  {
   "cell_type": "code",
   "execution_count": 24,
   "id": "initial_id",
   "metadata": {
    "collapsed": true,
    "ExecuteTime": {
     "end_time": "2024-03-26T19:40:07.007842Z",
     "start_time": "2024-03-26T19:40:06.893680Z"
    }
   },
   "outputs": [],
   "source": [
    "import pandas as pd\n",
    "df = pd.read_csv(\"/Users/kassraniroumand/code/aitrading/aitrading/data/eurousd_df_clean_2.csv\")\n",
    "\n",
    "\n",
    "# Convert 'timestamp' to datetime if it's not already\n",
    "df['timestamp'] = pd.to_datetime(df['datetime'])\n",
    "\n",
    "# Sort the dataframe by timestamp to ensure correct operations\n",
    "df = df.sort_values(by='timestamp')\n",
    "\n",
    "# Calculate the target variable by comparing the current price to the next\n",
    "df['target'] = (df['close'].shift(-1) > df['close']).astype(int)\n",
    "\n",
    "# Time-based features (example: part of the day)\n",
    "df['hour'] = df['timestamp'].dt.hour\n",
    "df['part_of_day'] = pd.cut(df['hour'], bins=[0, 6, 12, 18, 24], labels=['Night', 'Morning', 'Afternoon', 'Evening'], right=False)"
   ]
  },
  {
   "cell_type": "code",
   "execution_count": 25,
   "outputs": [
    {
     "data": {
      "text/plain": "                   datetime     open     high      low    close  volume  \\\n1102    2021-01-11 00:00:00  1.15510  1.15534  1.15499  1.15529     523   \n1103    2021-01-11 00:05:00  1.15529  1.15553  1.15527  1.15553     408   \n1104    2021-01-11 00:10:00  1.15553  1.15580  1.15552  1.15575     379   \n1105    2021-01-11 00:15:00  1.15574  1.15594  1.15574  1.15584     405   \n1106    2021-01-11 00:20:00  1.15584  1.15596  1.15584  1.15589     301   \n...                     ...      ...      ...      ...      ...     ...   \n179147  2024-12-03 23:35:00  1.09255  1.09257  1.09245  1.09251     364   \n179148  2024-12-03 23:40:00  1.09251  1.09257  1.09247  1.09252     343   \n179149  2024-12-03 23:45:00  1.09252  1.09256  1.09249  1.09252     435   \n179150  2024-12-03 23:50:00  1.09252  1.09254  1.09235  1.09241     404   \n179151  2024-12-03 23:55:00  1.09241  1.09241  1.09223  1.09234     472   \n\n                 timestamp  target  hour part_of_day  \n1102   2021-01-11 00:00:00       1     0       Night  \n1103   2021-01-11 00:05:00       1     0       Night  \n1104   2021-01-11 00:10:00       1     0       Night  \n1105   2021-01-11 00:15:00       1     0       Night  \n1106   2021-01-11 00:20:00       0     0       Night  \n...                    ...     ...   ...         ...  \n179147 2024-12-03 23:35:00       1    23     Evening  \n179148 2024-12-03 23:40:00       0    23     Evening  \n179149 2024-12-03 23:45:00       0    23     Evening  \n179150 2024-12-03 23:50:00       0    23     Evening  \n179151 2024-12-03 23:55:00       0    23     Evening  \n\n[179690 rows x 10 columns]",
      "text/html": "<div>\n<style scoped>\n    .dataframe tbody tr th:only-of-type {\n        vertical-align: middle;\n    }\n\n    .dataframe tbody tr th {\n        vertical-align: top;\n    }\n\n    .dataframe thead th {\n        text-align: right;\n    }\n</style>\n<table border=\"1\" class=\"dataframe\">\n  <thead>\n    <tr style=\"text-align: right;\">\n      <th></th>\n      <th>datetime</th>\n      <th>open</th>\n      <th>high</th>\n      <th>low</th>\n      <th>close</th>\n      <th>volume</th>\n      <th>timestamp</th>\n      <th>target</th>\n      <th>hour</th>\n      <th>part_of_day</th>\n    </tr>\n  </thead>\n  <tbody>\n    <tr>\n      <th>1102</th>\n      <td>2021-01-11 00:00:00</td>\n      <td>1.15510</td>\n      <td>1.15534</td>\n      <td>1.15499</td>\n      <td>1.15529</td>\n      <td>523</td>\n      <td>2021-01-11 00:00:00</td>\n      <td>1</td>\n      <td>0</td>\n      <td>Night</td>\n    </tr>\n    <tr>\n      <th>1103</th>\n      <td>2021-01-11 00:05:00</td>\n      <td>1.15529</td>\n      <td>1.15553</td>\n      <td>1.15527</td>\n      <td>1.15553</td>\n      <td>408</td>\n      <td>2021-01-11 00:05:00</td>\n      <td>1</td>\n      <td>0</td>\n      <td>Night</td>\n    </tr>\n    <tr>\n      <th>1104</th>\n      <td>2021-01-11 00:10:00</td>\n      <td>1.15553</td>\n      <td>1.15580</td>\n      <td>1.15552</td>\n      <td>1.15575</td>\n      <td>379</td>\n      <td>2021-01-11 00:10:00</td>\n      <td>1</td>\n      <td>0</td>\n      <td>Night</td>\n    </tr>\n    <tr>\n      <th>1105</th>\n      <td>2021-01-11 00:15:00</td>\n      <td>1.15574</td>\n      <td>1.15594</td>\n      <td>1.15574</td>\n      <td>1.15584</td>\n      <td>405</td>\n      <td>2021-01-11 00:15:00</td>\n      <td>1</td>\n      <td>0</td>\n      <td>Night</td>\n    </tr>\n    <tr>\n      <th>1106</th>\n      <td>2021-01-11 00:20:00</td>\n      <td>1.15584</td>\n      <td>1.15596</td>\n      <td>1.15584</td>\n      <td>1.15589</td>\n      <td>301</td>\n      <td>2021-01-11 00:20:00</td>\n      <td>0</td>\n      <td>0</td>\n      <td>Night</td>\n    </tr>\n    <tr>\n      <th>...</th>\n      <td>...</td>\n      <td>...</td>\n      <td>...</td>\n      <td>...</td>\n      <td>...</td>\n      <td>...</td>\n      <td>...</td>\n      <td>...</td>\n      <td>...</td>\n      <td>...</td>\n    </tr>\n    <tr>\n      <th>179147</th>\n      <td>2024-12-03 23:35:00</td>\n      <td>1.09255</td>\n      <td>1.09257</td>\n      <td>1.09245</td>\n      <td>1.09251</td>\n      <td>364</td>\n      <td>2024-12-03 23:35:00</td>\n      <td>1</td>\n      <td>23</td>\n      <td>Evening</td>\n    </tr>\n    <tr>\n      <th>179148</th>\n      <td>2024-12-03 23:40:00</td>\n      <td>1.09251</td>\n      <td>1.09257</td>\n      <td>1.09247</td>\n      <td>1.09252</td>\n      <td>343</td>\n      <td>2024-12-03 23:40:00</td>\n      <td>0</td>\n      <td>23</td>\n      <td>Evening</td>\n    </tr>\n    <tr>\n      <th>179149</th>\n      <td>2024-12-03 23:45:00</td>\n      <td>1.09252</td>\n      <td>1.09256</td>\n      <td>1.09249</td>\n      <td>1.09252</td>\n      <td>435</td>\n      <td>2024-12-03 23:45:00</td>\n      <td>0</td>\n      <td>23</td>\n      <td>Evening</td>\n    </tr>\n    <tr>\n      <th>179150</th>\n      <td>2024-12-03 23:50:00</td>\n      <td>1.09252</td>\n      <td>1.09254</td>\n      <td>1.09235</td>\n      <td>1.09241</td>\n      <td>404</td>\n      <td>2024-12-03 23:50:00</td>\n      <td>0</td>\n      <td>23</td>\n      <td>Evening</td>\n    </tr>\n    <tr>\n      <th>179151</th>\n      <td>2024-12-03 23:55:00</td>\n      <td>1.09241</td>\n      <td>1.09241</td>\n      <td>1.09223</td>\n      <td>1.09234</td>\n      <td>472</td>\n      <td>2024-12-03 23:55:00</td>\n      <td>0</td>\n      <td>23</td>\n      <td>Evening</td>\n    </tr>\n  </tbody>\n</table>\n<p>179690 rows × 10 columns</p>\n</div>"
     },
     "execution_count": 25,
     "metadata": {},
     "output_type": "execute_result"
    }
   ],
   "source": [
    "df"
   ],
   "metadata": {
    "collapsed": false,
    "ExecuteTime": {
     "end_time": "2024-03-26T19:40:07.380021Z",
     "start_time": "2024-03-26T19:40:07.375613Z"
    }
   },
   "id": "12ae0c14ddf4354"
  },
  {
   "cell_type": "code",
   "execution_count": 26,
   "outputs": [
    {
     "data": {
      "text/plain": "                   datetime     open     high      low    close  volume  \\\n1107    2021-01-11 00:25:00  1.15589  1.15590  1.15574  1.15579     256   \n1108    2021-01-11 00:30:00  1.15579  1.15596  1.15579  1.15589     255   \n1109    2021-01-11 00:35:00  1.15589  1.15596  1.15584  1.15594     294   \n1110    2021-01-11 00:40:00  1.15595  1.15605  1.15585  1.15604     420   \n1111    2021-01-11 00:45:00  1.15605  1.15609  1.15586  1.15594     438   \n...                     ...      ...      ...      ...      ...     ...   \n179147  2024-12-03 23:35:00  1.09255  1.09257  1.09245  1.09251     364   \n179148  2024-12-03 23:40:00  1.09251  1.09257  1.09247  1.09252     343   \n179149  2024-12-03 23:45:00  1.09252  1.09256  1.09249  1.09252     435   \n179150  2024-12-03 23:50:00  1.09252  1.09254  1.09235  1.09241     404   \n179151  2024-12-03 23:55:00  1.09241  1.09241  1.09223  1.09234     472   \n\n                 timestamp  target  hour part_of_day  \\\n1107   2021-01-11 00:25:00       1     0       Night   \n1108   2021-01-11 00:30:00       1     0       Night   \n1109   2021-01-11 00:35:00       1     0       Night   \n1110   2021-01-11 00:40:00       0     0       Night   \n1111   2021-01-11 00:45:00       1     0       Night   \n...                    ...     ...   ...         ...   \n179147 2024-12-03 23:35:00       1    23     Evening   \n179148 2024-12-03 23:40:00       0    23     Evening   \n179149 2024-12-03 23:45:00       0    23     Evening   \n179150 2024-12-03 23:50:00       0    23     Evening   \n179151 2024-12-03 23:55:00       0    23     Evening   \n\n        price_change_5_intervals  rolling_avg_price_5_intervals  \n1107                     0.00050                       1.155760  \n1108                     0.00036                       1.155832  \n1109                     0.00019                       1.155870  \n1110                     0.00020                       1.155910  \n1111                     0.00005                       1.155920  \n...                          ...                            ...  \n179147                  -0.00025                       1.092650  \n179148                  -0.00017                       1.092616  \n179149                  -0.00029                       1.092558  \n179150                  -0.00028                       1.092502  \n179151                  -0.00021                       1.092460  \n\n[179685 rows x 12 columns]",
      "text/html": "<div>\n<style scoped>\n    .dataframe tbody tr th:only-of-type {\n        vertical-align: middle;\n    }\n\n    .dataframe tbody tr th {\n        vertical-align: top;\n    }\n\n    .dataframe thead th {\n        text-align: right;\n    }\n</style>\n<table border=\"1\" class=\"dataframe\">\n  <thead>\n    <tr style=\"text-align: right;\">\n      <th></th>\n      <th>datetime</th>\n      <th>open</th>\n      <th>high</th>\n      <th>low</th>\n      <th>close</th>\n      <th>volume</th>\n      <th>timestamp</th>\n      <th>target</th>\n      <th>hour</th>\n      <th>part_of_day</th>\n      <th>price_change_5_intervals</th>\n      <th>rolling_avg_price_5_intervals</th>\n    </tr>\n  </thead>\n  <tbody>\n    <tr>\n      <th>1107</th>\n      <td>2021-01-11 00:25:00</td>\n      <td>1.15589</td>\n      <td>1.15590</td>\n      <td>1.15574</td>\n      <td>1.15579</td>\n      <td>256</td>\n      <td>2021-01-11 00:25:00</td>\n      <td>1</td>\n      <td>0</td>\n      <td>Night</td>\n      <td>0.00050</td>\n      <td>1.155760</td>\n    </tr>\n    <tr>\n      <th>1108</th>\n      <td>2021-01-11 00:30:00</td>\n      <td>1.15579</td>\n      <td>1.15596</td>\n      <td>1.15579</td>\n      <td>1.15589</td>\n      <td>255</td>\n      <td>2021-01-11 00:30:00</td>\n      <td>1</td>\n      <td>0</td>\n      <td>Night</td>\n      <td>0.00036</td>\n      <td>1.155832</td>\n    </tr>\n    <tr>\n      <th>1109</th>\n      <td>2021-01-11 00:35:00</td>\n      <td>1.15589</td>\n      <td>1.15596</td>\n      <td>1.15584</td>\n      <td>1.15594</td>\n      <td>294</td>\n      <td>2021-01-11 00:35:00</td>\n      <td>1</td>\n      <td>0</td>\n      <td>Night</td>\n      <td>0.00019</td>\n      <td>1.155870</td>\n    </tr>\n    <tr>\n      <th>1110</th>\n      <td>2021-01-11 00:40:00</td>\n      <td>1.15595</td>\n      <td>1.15605</td>\n      <td>1.15585</td>\n      <td>1.15604</td>\n      <td>420</td>\n      <td>2021-01-11 00:40:00</td>\n      <td>0</td>\n      <td>0</td>\n      <td>Night</td>\n      <td>0.00020</td>\n      <td>1.155910</td>\n    </tr>\n    <tr>\n      <th>1111</th>\n      <td>2021-01-11 00:45:00</td>\n      <td>1.15605</td>\n      <td>1.15609</td>\n      <td>1.15586</td>\n      <td>1.15594</td>\n      <td>438</td>\n      <td>2021-01-11 00:45:00</td>\n      <td>1</td>\n      <td>0</td>\n      <td>Night</td>\n      <td>0.00005</td>\n      <td>1.155920</td>\n    </tr>\n    <tr>\n      <th>...</th>\n      <td>...</td>\n      <td>...</td>\n      <td>...</td>\n      <td>...</td>\n      <td>...</td>\n      <td>...</td>\n      <td>...</td>\n      <td>...</td>\n      <td>...</td>\n      <td>...</td>\n      <td>...</td>\n      <td>...</td>\n    </tr>\n    <tr>\n      <th>179147</th>\n      <td>2024-12-03 23:35:00</td>\n      <td>1.09255</td>\n      <td>1.09257</td>\n      <td>1.09245</td>\n      <td>1.09251</td>\n      <td>364</td>\n      <td>2024-12-03 23:35:00</td>\n      <td>1</td>\n      <td>23</td>\n      <td>Evening</td>\n      <td>-0.00025</td>\n      <td>1.092650</td>\n    </tr>\n    <tr>\n      <th>179148</th>\n      <td>2024-12-03 23:40:00</td>\n      <td>1.09251</td>\n      <td>1.09257</td>\n      <td>1.09247</td>\n      <td>1.09252</td>\n      <td>343</td>\n      <td>2024-12-03 23:40:00</td>\n      <td>0</td>\n      <td>23</td>\n      <td>Evening</td>\n      <td>-0.00017</td>\n      <td>1.092616</td>\n    </tr>\n    <tr>\n      <th>179149</th>\n      <td>2024-12-03 23:45:00</td>\n      <td>1.09252</td>\n      <td>1.09256</td>\n      <td>1.09249</td>\n      <td>1.09252</td>\n      <td>435</td>\n      <td>2024-12-03 23:45:00</td>\n      <td>0</td>\n      <td>23</td>\n      <td>Evening</td>\n      <td>-0.00029</td>\n      <td>1.092558</td>\n    </tr>\n    <tr>\n      <th>179150</th>\n      <td>2024-12-03 23:50:00</td>\n      <td>1.09252</td>\n      <td>1.09254</td>\n      <td>1.09235</td>\n      <td>1.09241</td>\n      <td>404</td>\n      <td>2024-12-03 23:50:00</td>\n      <td>0</td>\n      <td>23</td>\n      <td>Evening</td>\n      <td>-0.00028</td>\n      <td>1.092502</td>\n    </tr>\n    <tr>\n      <th>179151</th>\n      <td>2024-12-03 23:55:00</td>\n      <td>1.09241</td>\n      <td>1.09241</td>\n      <td>1.09223</td>\n      <td>1.09234</td>\n      <td>472</td>\n      <td>2024-12-03 23:55:00</td>\n      <td>0</td>\n      <td>23</td>\n      <td>Evening</td>\n      <td>-0.00021</td>\n      <td>1.092460</td>\n    </tr>\n  </tbody>\n</table>\n<p>179685 rows × 12 columns</p>\n</div>"
     },
     "execution_count": 26,
     "metadata": {},
     "output_type": "execute_result"
    }
   ],
   "source": [
    "df['price_change_5_intervals'] = df['close'].diff(periods=5)\n",
    "\n",
    "# Rolling window features (example: rolling average over the last 5 intervals)\n",
    "df['rolling_avg_price_5_intervals'] = df['close'].rolling(window=5).mean()\n",
    "\n",
    "# Drop any rows with NaN values created by shifts and rolling functions\n",
    "df.dropna(inplace=True)\n",
    "\n",
    "# Display the first few rows to inspect the new features\n",
    "df"
   ],
   "metadata": {
    "collapsed": false,
    "ExecuteTime": {
     "end_time": "2024-03-26T19:40:07.707990Z",
     "start_time": "2024-03-26T19:40:07.678899Z"
    }
   },
   "id": "76fd6da354113748"
  },
  {
   "cell_type": "code",
   "execution_count": 26,
   "outputs": [],
   "source": [],
   "metadata": {
    "collapsed": false,
    "ExecuteTime": {
     "end_time": "2024-03-26T19:40:09.121159Z",
     "start_time": "2024-03-26T19:40:09.113168Z"
    }
   },
   "id": "a3d98df9d3d15607"
  },
  {
   "cell_type": "code",
   "execution_count": 27,
   "outputs": [
    {
     "name": "stdout",
     "output_type": "stream",
     "text": [
      "Preprocessing complete. The data is now ready for time series modeling.\n"
     ]
    },
    {
     "name": "stderr",
     "output_type": "stream",
     "text": [
      "/Users/kassraniroumand/.pyenv/versions/3.10.6/envs/lewagon/lib/python3.10/site-packages/sklearn/preprocessing/_encoders.py:975: FutureWarning: `sparse` was renamed to `sparse_output` in version 1.2 and will be removed in 1.4. `sparse_output` is ignored unless you leave `sparse` to its default value.\n",
      "  warnings.warn(\n"
     ]
    }
   ],
   "source": [
    "from sklearn.preprocessing import StandardScaler, OneHotEncoder\n",
    "import numpy as np\n",
    "\n",
    "# Assuming df is sorted chronologically\n",
    "split_point = int(len(df) * 0.8)\n",
    "train_df = df.iloc[:split_point]\n",
    "test_df = df.iloc[split_point:]\n",
    "\n",
    "# Separate features and target, ensuring we use 'close' instead of 'price'\n",
    "X_train = train_df.drop(['target', 'timestamp', 'hour'], axis=1)\n",
    "y_train = train_df['target']\n",
    "X_test = test_df.drop(['target', 'timestamp', 'hour'], axis=1)\n",
    "y_test = test_df['target']\n",
    "\n",
    "# Normalize numerical features, replacing 'price' with 'close'\n",
    "scaler = StandardScaler()\n",
    "numeric_features = ['close', 'price_change_5_intervals', 'rolling_avg_price_5_intervals']  # Adjust feature names as needed\n",
    "X_train[numeric_features] = scaler.fit_transform(X_train[numeric_features])\n",
    "X_test[numeric_features] = scaler.transform(X_test[numeric_features])\n",
    "\n",
    "# Encode categorical features\n",
    "encoder = OneHotEncoder(drop='first', sparse=False)\n",
    "categorical_features = ['part_of_day']  # Ensure this is present or adjust accordingly\n",
    "X_train_encoded = encoder.fit_transform(X_train[categorical_features])\n",
    "X_test_encoded = encoder.transform(X_test[categorical_features])\n",
    "\n",
    "# Concatenate encoded categorical features back with numerical features\n",
    "X_train_preprocessed = np.concatenate((X_train[numeric_features].values, X_train_encoded), axis=1)\n",
    "X_test_preprocessed = np.concatenate((X_test[numeric_features].values, X_test_encoded), axis=1)"
   ],
   "metadata": {
    "collapsed": false,
    "ExecuteTime": {
     "end_time": "2024-03-26T19:40:09.551384Z",
     "start_time": "2024-03-26T19:40:09.512975Z"
    }
   },
   "id": "62f96a098693650c"
  },
  {
   "cell_type": "code",
   "execution_count": 31,
   "outputs": [
    {
     "data": {
      "text/plain": "1107      1\n1108      1\n1109      1\n1110      0\n1111      1\n         ..\n143768    0\n143769    1\n143770    1\n143771    1\n143772    1\nName: target, Length: 143748, dtype: int64"
     },
     "execution_count": 31,
     "metadata": {},
     "output_type": "execute_result"
    }
   ],
   "source": [
    "y_train"
   ],
   "metadata": {
    "collapsed": false,
    "ExecuteTime": {
     "end_time": "2024-03-26T19:41:56.194974Z",
     "start_time": "2024-03-26T19:41:56.186371Z"
    }
   },
   "id": "1f33a71e2b8207b5"
  },
  {
   "cell_type": "code",
   "execution_count": 47,
   "outputs": [
    {
     "name": "stdout",
     "output_type": "stream",
     "text": [
      "Epoch 1/100\n"
     ]
    },
    {
     "name": "stderr",
     "output_type": "stream",
     "text": [
      "/Users/kassraniroumand/.pyenv/versions/3.10.6/envs/lewagon/lib/python3.10/site-packages/keras/src/layers/rnn/rnn.py:205: UserWarning: Do not pass an `input_shape`/`input_dim` argument to a layer. When using Sequential models, prefer using an `Input(shape)` object as the first layer in the model instead.\n",
      "  super().__init__(**kwargs)\n"
     ]
    },
    {
     "name": "stdout",
     "output_type": "stream",
     "text": [
      "\u001B[1m3594/3594\u001B[0m \u001B[32m━━━━━━━━━━━━━━━━━━━━\u001B[0m\u001B[37m\u001B[0m \u001B[1m3s\u001B[0m 607us/step - accuracy: 0.5069 - loss: 0.6934 - val_accuracy: 0.5146 - val_loss: 0.6928\n",
      "Epoch 2/100\n",
      "\u001B[1m3594/3594\u001B[0m \u001B[32m━━━━━━━━━━━━━━━━━━━━\u001B[0m\u001B[37m\u001B[0m \u001B[1m2s\u001B[0m 502us/step - accuracy: 0.5139 - loss: 0.6929 - val_accuracy: 0.5109 - val_loss: 0.6930\n",
      "Epoch 3/100\n",
      "\u001B[1m3594/3594\u001B[0m \u001B[32m━━━━━━━━━━━━━━━━━━━━\u001B[0m\u001B[37m\u001B[0m \u001B[1m2s\u001B[0m 506us/step - accuracy: 0.5138 - loss: 0.6928 - val_accuracy: 0.5110 - val_loss: 0.6928\n",
      "Epoch 4/100\n",
      "\u001B[1m3594/3594\u001B[0m \u001B[32m━━━━━━━━━━━━━━━━━━━━\u001B[0m\u001B[37m\u001B[0m \u001B[1m2s\u001B[0m 503us/step - accuracy: 0.5149 - loss: 0.6927 - val_accuracy: 0.5124 - val_loss: 0.6929\n",
      "Epoch 5/100\n",
      "\u001B[1m3594/3594\u001B[0m \u001B[32m━━━━━━━━━━━━━━━━━━━━\u001B[0m\u001B[37m\u001B[0m \u001B[1m2s\u001B[0m 502us/step - accuracy: 0.5126 - loss: 0.6927 - val_accuracy: 0.5143 - val_loss: 0.6927\n",
      "Epoch 6/100\n",
      "\u001B[1m2554/3594\u001B[0m \u001B[32m━━━━━━━━━━━━━━\u001B[0m\u001B[37m━━━━━━\u001B[0m \u001B[1m0s\u001B[0m 452us/step - accuracy: 0.5155 - loss: 0.6925"
     ]
    },
    {
     "ename": "KeyboardInterrupt",
     "evalue": "",
     "output_type": "error",
     "traceback": [
      "\u001B[0;31m---------------------------------------------------------------------------\u001B[0m",
      "\u001B[0;31mKeyboardInterrupt\u001B[0m                         Traceback (most recent call last)",
      "Cell \u001B[0;32mIn [47], line 23\u001B[0m\n\u001B[1;32m     20\u001B[0m model\u001B[38;5;241m.\u001B[39mcompile(optimizer\u001B[38;5;241m=\u001B[39m\u001B[38;5;124m'\u001B[39m\u001B[38;5;124madam\u001B[39m\u001B[38;5;124m'\u001B[39m, loss\u001B[38;5;241m=\u001B[39m\u001B[38;5;124m'\u001B[39m\u001B[38;5;124mcategorical_crossentropy\u001B[39m\u001B[38;5;124m'\u001B[39m, metrics\u001B[38;5;241m=\u001B[39m[\u001B[38;5;124m'\u001B[39m\u001B[38;5;124maccuracy\u001B[39m\u001B[38;5;124m'\u001B[39m])\n\u001B[1;32m     22\u001B[0m \u001B[38;5;66;03m# Train the model\u001B[39;00m\n\u001B[0;32m---> 23\u001B[0m history \u001B[38;5;241m=\u001B[39m \u001B[43mmodel\u001B[49m\u001B[38;5;241;43m.\u001B[39;49m\u001B[43mfit\u001B[49m\u001B[43m(\u001B[49m\u001B[43mX_train_reshaped\u001B[49m\u001B[43m,\u001B[49m\u001B[43m \u001B[49m\u001B[43my_train_categorical\u001B[49m\u001B[43m,\u001B[49m\u001B[43m \u001B[49m\u001B[43mepochs\u001B[49m\u001B[38;5;241;43m=\u001B[39;49m\u001B[38;5;241;43m100\u001B[39;49m\u001B[43m,\u001B[49m\u001B[43m \u001B[49m\u001B[43mbatch_size\u001B[49m\u001B[38;5;241;43m=\u001B[39;49m\u001B[38;5;241;43m32\u001B[39;49m\u001B[43m,\u001B[49m\u001B[43m \u001B[49m\u001B[43mvalidation_split\u001B[49m\u001B[38;5;241;43m=\u001B[39;49m\u001B[38;5;241;43m0.2\u001B[39;49m\u001B[43m,\u001B[49m\u001B[43m \u001B[49m\u001B[43mverbose\u001B[49m\u001B[38;5;241;43m=\u001B[39;49m\u001B[38;5;241;43m1\u001B[39;49m\u001B[43m)\u001B[49m\n\u001B[1;32m     25\u001B[0m \u001B[38;5;66;03m# Evaluate the model\u001B[39;00m\n\u001B[1;32m     26\u001B[0m _, accuracy \u001B[38;5;241m=\u001B[39m model\u001B[38;5;241m.\u001B[39mevaluate(X_test_reshaped, y_test_categorical, verbose\u001B[38;5;241m=\u001B[39m\u001B[38;5;241m0\u001B[39m)\n",
      "File \u001B[0;32m~/.pyenv/versions/3.10.6/envs/lewagon/lib/python3.10/site-packages/keras/src/utils/traceback_utils.py:118\u001B[0m, in \u001B[0;36mfilter_traceback.<locals>.error_handler\u001B[0;34m(*args, **kwargs)\u001B[0m\n\u001B[1;32m    116\u001B[0m filtered_tb \u001B[38;5;241m=\u001B[39m \u001B[38;5;28;01mNone\u001B[39;00m\n\u001B[1;32m    117\u001B[0m \u001B[38;5;28;01mtry\u001B[39;00m:\n\u001B[0;32m--> 118\u001B[0m     \u001B[38;5;28;01mreturn\u001B[39;00m \u001B[43mfn\u001B[49m\u001B[43m(\u001B[49m\u001B[38;5;241;43m*\u001B[39;49m\u001B[43margs\u001B[49m\u001B[43m,\u001B[49m\u001B[43m \u001B[49m\u001B[38;5;241;43m*\u001B[39;49m\u001B[38;5;241;43m*\u001B[39;49m\u001B[43mkwargs\u001B[49m\u001B[43m)\u001B[49m\n\u001B[1;32m    119\u001B[0m \u001B[38;5;28;01mexcept\u001B[39;00m \u001B[38;5;167;01mException\u001B[39;00m \u001B[38;5;28;01mas\u001B[39;00m e:\n\u001B[1;32m    120\u001B[0m     filtered_tb \u001B[38;5;241m=\u001B[39m _process_traceback_frames(e\u001B[38;5;241m.\u001B[39m__traceback__)\n",
      "File \u001B[0;32m~/.pyenv/versions/3.10.6/envs/lewagon/lib/python3.10/site-packages/keras/src/backend/tensorflow/trainer.py:323\u001B[0m, in \u001B[0;36mTensorFlowTrainer.fit\u001B[0;34m(self, x, y, batch_size, epochs, verbose, callbacks, validation_split, validation_data, shuffle, class_weight, sample_weight, initial_epoch, steps_per_epoch, validation_steps, validation_batch_size, validation_freq)\u001B[0m\n\u001B[1;32m    321\u001B[0m \u001B[38;5;28;01mfor\u001B[39;00m step, iterator \u001B[38;5;129;01min\u001B[39;00m epoch_iterator\u001B[38;5;241m.\u001B[39menumerate_epoch():\n\u001B[1;32m    322\u001B[0m     callbacks\u001B[38;5;241m.\u001B[39mon_train_batch_begin(step)\n\u001B[0;32m--> 323\u001B[0m     logs \u001B[38;5;241m=\u001B[39m \u001B[38;5;28;43mself\u001B[39;49m\u001B[38;5;241;43m.\u001B[39;49m\u001B[43mtrain_function\u001B[49m\u001B[43m(\u001B[49m\u001B[43miterator\u001B[49m\u001B[43m)\u001B[49m\n\u001B[1;32m    324\u001B[0m     callbacks\u001B[38;5;241m.\u001B[39mon_train_batch_end(\n\u001B[1;32m    325\u001B[0m         step, \u001B[38;5;28mself\u001B[39m\u001B[38;5;241m.\u001B[39m_pythonify_logs(logs)\n\u001B[1;32m    326\u001B[0m     )\n\u001B[1;32m    327\u001B[0m     \u001B[38;5;28;01mif\u001B[39;00m \u001B[38;5;28mself\u001B[39m\u001B[38;5;241m.\u001B[39mstop_training:\n",
      "File \u001B[0;32m~/.pyenv/versions/3.10.6/envs/lewagon/lib/python3.10/site-packages/tensorflow/python/util/traceback_utils.py:150\u001B[0m, in \u001B[0;36mfilter_traceback.<locals>.error_handler\u001B[0;34m(*args, **kwargs)\u001B[0m\n\u001B[1;32m    148\u001B[0m filtered_tb \u001B[38;5;241m=\u001B[39m \u001B[38;5;28;01mNone\u001B[39;00m\n\u001B[1;32m    149\u001B[0m \u001B[38;5;28;01mtry\u001B[39;00m:\n\u001B[0;32m--> 150\u001B[0m   \u001B[38;5;28;01mreturn\u001B[39;00m \u001B[43mfn\u001B[49m\u001B[43m(\u001B[49m\u001B[38;5;241;43m*\u001B[39;49m\u001B[43margs\u001B[49m\u001B[43m,\u001B[49m\u001B[43m \u001B[49m\u001B[38;5;241;43m*\u001B[39;49m\u001B[38;5;241;43m*\u001B[39;49m\u001B[43mkwargs\u001B[49m\u001B[43m)\u001B[49m\n\u001B[1;32m    151\u001B[0m \u001B[38;5;28;01mexcept\u001B[39;00m \u001B[38;5;167;01mException\u001B[39;00m \u001B[38;5;28;01mas\u001B[39;00m e:\n\u001B[1;32m    152\u001B[0m   filtered_tb \u001B[38;5;241m=\u001B[39m _process_traceback_frames(e\u001B[38;5;241m.\u001B[39m__traceback__)\n",
      "File \u001B[0;32m~/.pyenv/versions/3.10.6/envs/lewagon/lib/python3.10/site-packages/tensorflow/python/eager/polymorphic_function/polymorphic_function.py:833\u001B[0m, in \u001B[0;36mFunction.__call__\u001B[0;34m(self, *args, **kwds)\u001B[0m\n\u001B[1;32m    830\u001B[0m compiler \u001B[38;5;241m=\u001B[39m \u001B[38;5;124m\"\u001B[39m\u001B[38;5;124mxla\u001B[39m\u001B[38;5;124m\"\u001B[39m \u001B[38;5;28;01mif\u001B[39;00m \u001B[38;5;28mself\u001B[39m\u001B[38;5;241m.\u001B[39m_jit_compile \u001B[38;5;28;01melse\u001B[39;00m \u001B[38;5;124m\"\u001B[39m\u001B[38;5;124mnonXla\u001B[39m\u001B[38;5;124m\"\u001B[39m\n\u001B[1;32m    832\u001B[0m \u001B[38;5;28;01mwith\u001B[39;00m OptionalXlaContext(\u001B[38;5;28mself\u001B[39m\u001B[38;5;241m.\u001B[39m_jit_compile):\n\u001B[0;32m--> 833\u001B[0m   result \u001B[38;5;241m=\u001B[39m \u001B[38;5;28;43mself\u001B[39;49m\u001B[38;5;241;43m.\u001B[39;49m\u001B[43m_call\u001B[49m\u001B[43m(\u001B[49m\u001B[38;5;241;43m*\u001B[39;49m\u001B[43margs\u001B[49m\u001B[43m,\u001B[49m\u001B[43m \u001B[49m\u001B[38;5;241;43m*\u001B[39;49m\u001B[38;5;241;43m*\u001B[39;49m\u001B[43mkwds\u001B[49m\u001B[43m)\u001B[49m\n\u001B[1;32m    835\u001B[0m new_tracing_count \u001B[38;5;241m=\u001B[39m \u001B[38;5;28mself\u001B[39m\u001B[38;5;241m.\u001B[39mexperimental_get_tracing_count()\n\u001B[1;32m    836\u001B[0m without_tracing \u001B[38;5;241m=\u001B[39m (tracing_count \u001B[38;5;241m==\u001B[39m new_tracing_count)\n",
      "File \u001B[0;32m~/.pyenv/versions/3.10.6/envs/lewagon/lib/python3.10/site-packages/tensorflow/python/eager/polymorphic_function/polymorphic_function.py:878\u001B[0m, in \u001B[0;36mFunction._call\u001B[0;34m(self, *args, **kwds)\u001B[0m\n\u001B[1;32m    875\u001B[0m \u001B[38;5;28mself\u001B[39m\u001B[38;5;241m.\u001B[39m_lock\u001B[38;5;241m.\u001B[39mrelease()\n\u001B[1;32m    876\u001B[0m \u001B[38;5;66;03m# In this case we have not created variables on the first call. So we can\u001B[39;00m\n\u001B[1;32m    877\u001B[0m \u001B[38;5;66;03m# run the first trace but we should fail if variables are created.\u001B[39;00m\n\u001B[0;32m--> 878\u001B[0m results \u001B[38;5;241m=\u001B[39m \u001B[43mtracing_compilation\u001B[49m\u001B[38;5;241;43m.\u001B[39;49m\u001B[43mcall_function\u001B[49m\u001B[43m(\u001B[49m\n\u001B[1;32m    879\u001B[0m \u001B[43m    \u001B[49m\u001B[43margs\u001B[49m\u001B[43m,\u001B[49m\u001B[43m \u001B[49m\u001B[43mkwds\u001B[49m\u001B[43m,\u001B[49m\u001B[43m \u001B[49m\u001B[38;5;28;43mself\u001B[39;49m\u001B[38;5;241;43m.\u001B[39;49m\u001B[43m_variable_creation_config\u001B[49m\n\u001B[1;32m    880\u001B[0m \u001B[43m\u001B[49m\u001B[43m)\u001B[49m\n\u001B[1;32m    881\u001B[0m \u001B[38;5;28;01mif\u001B[39;00m \u001B[38;5;28mself\u001B[39m\u001B[38;5;241m.\u001B[39m_created_variables:\n\u001B[1;32m    882\u001B[0m   \u001B[38;5;28;01mraise\u001B[39;00m \u001B[38;5;167;01mValueError\u001B[39;00m(\u001B[38;5;124m\"\u001B[39m\u001B[38;5;124mCreating variables on a non-first call to a function\u001B[39m\u001B[38;5;124m\"\u001B[39m\n\u001B[1;32m    883\u001B[0m                    \u001B[38;5;124m\"\u001B[39m\u001B[38;5;124m decorated with tf.function.\u001B[39m\u001B[38;5;124m\"\u001B[39m)\n",
      "File \u001B[0;32m~/.pyenv/versions/3.10.6/envs/lewagon/lib/python3.10/site-packages/tensorflow/python/eager/polymorphic_function/tracing_compilation.py:139\u001B[0m, in \u001B[0;36mcall_function\u001B[0;34m(args, kwargs, tracing_options)\u001B[0m\n\u001B[1;32m    137\u001B[0m bound_args \u001B[38;5;241m=\u001B[39m function\u001B[38;5;241m.\u001B[39mfunction_type\u001B[38;5;241m.\u001B[39mbind(\u001B[38;5;241m*\u001B[39margs, \u001B[38;5;241m*\u001B[39m\u001B[38;5;241m*\u001B[39mkwargs)\n\u001B[1;32m    138\u001B[0m flat_inputs \u001B[38;5;241m=\u001B[39m function\u001B[38;5;241m.\u001B[39mfunction_type\u001B[38;5;241m.\u001B[39munpack_inputs(bound_args)\n\u001B[0;32m--> 139\u001B[0m \u001B[38;5;28;01mreturn\u001B[39;00m \u001B[43mfunction\u001B[49m\u001B[38;5;241;43m.\u001B[39;49m\u001B[43m_call_flat\u001B[49m\u001B[43m(\u001B[49m\u001B[43m  \u001B[49m\u001B[38;5;66;43;03m# pylint: disable=protected-access\u001B[39;49;00m\n\u001B[1;32m    140\u001B[0m \u001B[43m    \u001B[49m\u001B[43mflat_inputs\u001B[49m\u001B[43m,\u001B[49m\u001B[43m \u001B[49m\u001B[43mcaptured_inputs\u001B[49m\u001B[38;5;241;43m=\u001B[39;49m\u001B[43mfunction\u001B[49m\u001B[38;5;241;43m.\u001B[39;49m\u001B[43mcaptured_inputs\u001B[49m\n\u001B[1;32m    141\u001B[0m \u001B[43m\u001B[49m\u001B[43m)\u001B[49m\n",
      "File \u001B[0;32m~/.pyenv/versions/3.10.6/envs/lewagon/lib/python3.10/site-packages/tensorflow/python/eager/polymorphic_function/concrete_function.py:1322\u001B[0m, in \u001B[0;36mConcreteFunction._call_flat\u001B[0;34m(self, tensor_inputs, captured_inputs)\u001B[0m\n\u001B[1;32m   1318\u001B[0m possible_gradient_type \u001B[38;5;241m=\u001B[39m gradients_util\u001B[38;5;241m.\u001B[39mPossibleTapeGradientTypes(args)\n\u001B[1;32m   1319\u001B[0m \u001B[38;5;28;01mif\u001B[39;00m (possible_gradient_type \u001B[38;5;241m==\u001B[39m gradients_util\u001B[38;5;241m.\u001B[39mPOSSIBLE_GRADIENT_TYPES_NONE\n\u001B[1;32m   1320\u001B[0m     \u001B[38;5;129;01mand\u001B[39;00m executing_eagerly):\n\u001B[1;32m   1321\u001B[0m   \u001B[38;5;66;03m# No tape is watching; skip to running the function.\u001B[39;00m\n\u001B[0;32m-> 1322\u001B[0m   \u001B[38;5;28;01mreturn\u001B[39;00m \u001B[38;5;28;43mself\u001B[39;49m\u001B[38;5;241;43m.\u001B[39;49m\u001B[43m_inference_function\u001B[49m\u001B[38;5;241;43m.\u001B[39;49m\u001B[43mcall_preflattened\u001B[49m\u001B[43m(\u001B[49m\u001B[43margs\u001B[49m\u001B[43m)\u001B[49m\n\u001B[1;32m   1323\u001B[0m forward_backward \u001B[38;5;241m=\u001B[39m \u001B[38;5;28mself\u001B[39m\u001B[38;5;241m.\u001B[39m_select_forward_and_backward_functions(\n\u001B[1;32m   1324\u001B[0m     args,\n\u001B[1;32m   1325\u001B[0m     possible_gradient_type,\n\u001B[1;32m   1326\u001B[0m     executing_eagerly)\n\u001B[1;32m   1327\u001B[0m forward_function, args_with_tangents \u001B[38;5;241m=\u001B[39m forward_backward\u001B[38;5;241m.\u001B[39mforward()\n",
      "File \u001B[0;32m~/.pyenv/versions/3.10.6/envs/lewagon/lib/python3.10/site-packages/tensorflow/python/eager/polymorphic_function/atomic_function.py:216\u001B[0m, in \u001B[0;36mAtomicFunction.call_preflattened\u001B[0;34m(self, args)\u001B[0m\n\u001B[1;32m    214\u001B[0m \u001B[38;5;28;01mdef\u001B[39;00m \u001B[38;5;21mcall_preflattened\u001B[39m(\u001B[38;5;28mself\u001B[39m, args: Sequence[core\u001B[38;5;241m.\u001B[39mTensor]) \u001B[38;5;241m-\u001B[39m\u001B[38;5;241m>\u001B[39m Any:\n\u001B[1;32m    215\u001B[0m   \u001B[38;5;124;03m\"\"\"Calls with flattened tensor inputs and returns the structured output.\"\"\"\u001B[39;00m\n\u001B[0;32m--> 216\u001B[0m   flat_outputs \u001B[38;5;241m=\u001B[39m \u001B[38;5;28;43mself\u001B[39;49m\u001B[38;5;241;43m.\u001B[39;49m\u001B[43mcall_flat\u001B[49m\u001B[43m(\u001B[49m\u001B[38;5;241;43m*\u001B[39;49m\u001B[43margs\u001B[49m\u001B[43m)\u001B[49m\n\u001B[1;32m    217\u001B[0m   \u001B[38;5;28;01mreturn\u001B[39;00m \u001B[38;5;28mself\u001B[39m\u001B[38;5;241m.\u001B[39mfunction_type\u001B[38;5;241m.\u001B[39mpack_output(flat_outputs)\n",
      "File \u001B[0;32m~/.pyenv/versions/3.10.6/envs/lewagon/lib/python3.10/site-packages/tensorflow/python/eager/polymorphic_function/atomic_function.py:251\u001B[0m, in \u001B[0;36mAtomicFunction.call_flat\u001B[0;34m(self, *args)\u001B[0m\n\u001B[1;32m    249\u001B[0m \u001B[38;5;28;01mwith\u001B[39;00m record\u001B[38;5;241m.\u001B[39mstop_recording():\n\u001B[1;32m    250\u001B[0m   \u001B[38;5;28;01mif\u001B[39;00m \u001B[38;5;28mself\u001B[39m\u001B[38;5;241m.\u001B[39m_bound_context\u001B[38;5;241m.\u001B[39mexecuting_eagerly():\n\u001B[0;32m--> 251\u001B[0m     outputs \u001B[38;5;241m=\u001B[39m \u001B[38;5;28;43mself\u001B[39;49m\u001B[38;5;241;43m.\u001B[39;49m\u001B[43m_bound_context\u001B[49m\u001B[38;5;241;43m.\u001B[39;49m\u001B[43mcall_function\u001B[49m\u001B[43m(\u001B[49m\n\u001B[1;32m    252\u001B[0m \u001B[43m        \u001B[49m\u001B[38;5;28;43mself\u001B[39;49m\u001B[38;5;241;43m.\u001B[39;49m\u001B[43mname\u001B[49m\u001B[43m,\u001B[49m\n\u001B[1;32m    253\u001B[0m \u001B[43m        \u001B[49m\u001B[38;5;28;43mlist\u001B[39;49m\u001B[43m(\u001B[49m\u001B[43margs\u001B[49m\u001B[43m)\u001B[49m\u001B[43m,\u001B[49m\n\u001B[1;32m    254\u001B[0m \u001B[43m        \u001B[49m\u001B[38;5;28;43mlen\u001B[39;49m\u001B[43m(\u001B[49m\u001B[38;5;28;43mself\u001B[39;49m\u001B[38;5;241;43m.\u001B[39;49m\u001B[43mfunction_type\u001B[49m\u001B[38;5;241;43m.\u001B[39;49m\u001B[43mflat_outputs\u001B[49m\u001B[43m)\u001B[49m\u001B[43m,\u001B[49m\n\u001B[1;32m    255\u001B[0m \u001B[43m    \u001B[49m\u001B[43m)\u001B[49m\n\u001B[1;32m    256\u001B[0m   \u001B[38;5;28;01melse\u001B[39;00m:\n\u001B[1;32m    257\u001B[0m     outputs \u001B[38;5;241m=\u001B[39m make_call_op_in_graph(\n\u001B[1;32m    258\u001B[0m         \u001B[38;5;28mself\u001B[39m,\n\u001B[1;32m    259\u001B[0m         \u001B[38;5;28mlist\u001B[39m(args),\n\u001B[1;32m    260\u001B[0m         \u001B[38;5;28mself\u001B[39m\u001B[38;5;241m.\u001B[39m_bound_context\u001B[38;5;241m.\u001B[39mfunction_call_options\u001B[38;5;241m.\u001B[39mas_attrs(),\n\u001B[1;32m    261\u001B[0m     )\n",
      "File \u001B[0;32m~/.pyenv/versions/3.10.6/envs/lewagon/lib/python3.10/site-packages/tensorflow/python/eager/context.py:1500\u001B[0m, in \u001B[0;36mContext.call_function\u001B[0;34m(self, name, tensor_inputs, num_outputs)\u001B[0m\n\u001B[1;32m   1498\u001B[0m cancellation_context \u001B[38;5;241m=\u001B[39m cancellation\u001B[38;5;241m.\u001B[39mcontext()\n\u001B[1;32m   1499\u001B[0m \u001B[38;5;28;01mif\u001B[39;00m cancellation_context \u001B[38;5;129;01mis\u001B[39;00m \u001B[38;5;28;01mNone\u001B[39;00m:\n\u001B[0;32m-> 1500\u001B[0m   outputs \u001B[38;5;241m=\u001B[39m \u001B[43mexecute\u001B[49m\u001B[38;5;241;43m.\u001B[39;49m\u001B[43mexecute\u001B[49m\u001B[43m(\u001B[49m\n\u001B[1;32m   1501\u001B[0m \u001B[43m      \u001B[49m\u001B[43mname\u001B[49m\u001B[38;5;241;43m.\u001B[39;49m\u001B[43mdecode\u001B[49m\u001B[43m(\u001B[49m\u001B[38;5;124;43m\"\u001B[39;49m\u001B[38;5;124;43mutf-8\u001B[39;49m\u001B[38;5;124;43m\"\u001B[39;49m\u001B[43m)\u001B[49m\u001B[43m,\u001B[49m\n\u001B[1;32m   1502\u001B[0m \u001B[43m      \u001B[49m\u001B[43mnum_outputs\u001B[49m\u001B[38;5;241;43m=\u001B[39;49m\u001B[43mnum_outputs\u001B[49m\u001B[43m,\u001B[49m\n\u001B[1;32m   1503\u001B[0m \u001B[43m      \u001B[49m\u001B[43minputs\u001B[49m\u001B[38;5;241;43m=\u001B[39;49m\u001B[43mtensor_inputs\u001B[49m\u001B[43m,\u001B[49m\n\u001B[1;32m   1504\u001B[0m \u001B[43m      \u001B[49m\u001B[43mattrs\u001B[49m\u001B[38;5;241;43m=\u001B[39;49m\u001B[43mattrs\u001B[49m\u001B[43m,\u001B[49m\n\u001B[1;32m   1505\u001B[0m \u001B[43m      \u001B[49m\u001B[43mctx\u001B[49m\u001B[38;5;241;43m=\u001B[39;49m\u001B[38;5;28;43mself\u001B[39;49m\u001B[43m,\u001B[49m\n\u001B[1;32m   1506\u001B[0m \u001B[43m  \u001B[49m\u001B[43m)\u001B[49m\n\u001B[1;32m   1507\u001B[0m \u001B[38;5;28;01melse\u001B[39;00m:\n\u001B[1;32m   1508\u001B[0m   outputs \u001B[38;5;241m=\u001B[39m execute\u001B[38;5;241m.\u001B[39mexecute_with_cancellation(\n\u001B[1;32m   1509\u001B[0m       name\u001B[38;5;241m.\u001B[39mdecode(\u001B[38;5;124m\"\u001B[39m\u001B[38;5;124mutf-8\u001B[39m\u001B[38;5;124m\"\u001B[39m),\n\u001B[1;32m   1510\u001B[0m       num_outputs\u001B[38;5;241m=\u001B[39mnum_outputs,\n\u001B[0;32m   (...)\u001B[0m\n\u001B[1;32m   1514\u001B[0m       cancellation_manager\u001B[38;5;241m=\u001B[39mcancellation_context,\n\u001B[1;32m   1515\u001B[0m   )\n",
      "File \u001B[0;32m~/.pyenv/versions/3.10.6/envs/lewagon/lib/python3.10/site-packages/tensorflow/python/eager/execute.py:53\u001B[0m, in \u001B[0;36mquick_execute\u001B[0;34m(op_name, num_outputs, inputs, attrs, ctx, name)\u001B[0m\n\u001B[1;32m     51\u001B[0m \u001B[38;5;28;01mtry\u001B[39;00m:\n\u001B[1;32m     52\u001B[0m   ctx\u001B[38;5;241m.\u001B[39mensure_initialized()\n\u001B[0;32m---> 53\u001B[0m   tensors \u001B[38;5;241m=\u001B[39m \u001B[43mpywrap_tfe\u001B[49m\u001B[38;5;241;43m.\u001B[39;49m\u001B[43mTFE_Py_Execute\u001B[49m\u001B[43m(\u001B[49m\u001B[43mctx\u001B[49m\u001B[38;5;241;43m.\u001B[39;49m\u001B[43m_handle\u001B[49m\u001B[43m,\u001B[49m\u001B[43m \u001B[49m\u001B[43mdevice_name\u001B[49m\u001B[43m,\u001B[49m\u001B[43m \u001B[49m\u001B[43mop_name\u001B[49m\u001B[43m,\u001B[49m\n\u001B[1;32m     54\u001B[0m \u001B[43m                                      \u001B[49m\u001B[43minputs\u001B[49m\u001B[43m,\u001B[49m\u001B[43m \u001B[49m\u001B[43mattrs\u001B[49m\u001B[43m,\u001B[49m\u001B[43m \u001B[49m\u001B[43mnum_outputs\u001B[49m\u001B[43m)\u001B[49m\n\u001B[1;32m     55\u001B[0m \u001B[38;5;28;01mexcept\u001B[39;00m core\u001B[38;5;241m.\u001B[39m_NotOkStatusException \u001B[38;5;28;01mas\u001B[39;00m e:\n\u001B[1;32m     56\u001B[0m   \u001B[38;5;28;01mif\u001B[39;00m name \u001B[38;5;129;01mis\u001B[39;00m \u001B[38;5;129;01mnot\u001B[39;00m \u001B[38;5;28;01mNone\u001B[39;00m:\n",
      "\u001B[0;31mKeyboardInterrupt\u001B[0m: "
     ]
    }
   ],
   "source": [
    "from tensorflow.keras.models import Sequential\n",
    "from tensorflow.keras.layers import LSTM, Dense, Dropout\n",
    "from tensorflow.keras.utils import to_categorical\n",
    "\n",
    "# Reshape input to be [samples, time steps, features] which is required for LSTM\n",
    "X_train_reshaped = X_train_preprocessed.reshape((X_train_preprocessed.shape[0], 1, X_train_preprocessed.shape[1]))\n",
    "X_test_reshaped = X_test_preprocessed.reshape((X_test_preprocessed.shape[0], 1, X_test_preprocessed.shape[1]))\n",
    "\n",
    "# Convert labels to categorical (one-hot encoding) for classification\n",
    "y_train_categorical = to_categorical(y_train)\n",
    "y_test_categorical = to_categorical(y_test)\n",
    "\n",
    "# Define the LSTM model\n",
    "model = Sequential()\n",
    "model.add(LSTM(50, activation='relu', input_shape=(1, X_train_reshaped.shape[2])))\n",
    "model.add(Dropout(0.2))\n",
    "model.add(Dense(2, activation='sigmoid'))  # 2 because we have binary classification\n",
    "\n",
    "# Compile the model\n",
    "model.compile(optimizer='adam', loss='categorical_crossentropy', metrics=['accuracy'])\n",
    "\n",
    "# Train the model\n",
    "history = model.fit(X_train_reshaped, y_train_categorical, epochs=100, batch_size=32, validation_split=0.2, verbose=1)\n",
    "\n",
    "# Evaluate the model\n",
    "_, accuracy = model.evaluate(X_test_reshaped, y_test_categorical, verbose=0)\n",
    "print(f'Test Accuracy: {accuracy:.2f}')"
   ],
   "metadata": {
    "collapsed": false,
    "ExecuteTime": {
     "end_time": "2024-03-26T20:05:15.017974Z",
     "start_time": "2024-03-26T20:05:03.575031Z"
    }
   },
   "id": "d5dc6582eb49a5e8"
  },
  {
   "cell_type": "code",
   "execution_count": null,
   "outputs": [],
   "source": [],
   "metadata": {
    "collapsed": false
   },
   "id": "728140feeee873ac"
  }
 ],
 "metadata": {
  "kernelspec": {
   "display_name": "Python 3",
   "language": "python",
   "name": "python3"
  },
  "language_info": {
   "codemirror_mode": {
    "name": "ipython",
    "version": 2
   },
   "file_extension": ".py",
   "mimetype": "text/x-python",
   "name": "python",
   "nbconvert_exporter": "python",
   "pygments_lexer": "ipython2",
   "version": "2.7.6"
  }
 },
 "nbformat": 4,
 "nbformat_minor": 5
}
