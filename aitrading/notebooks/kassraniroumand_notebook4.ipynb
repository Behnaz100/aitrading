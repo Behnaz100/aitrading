{
 "cells": [
  {
   "cell_type": "code",
   "execution_count": null,
   "outputs": [],
   "source": [
    "import matplotlib.pyplot as plt\n",
    "import pandas as pd\n",
    "import numpy as np\n",
    "df = pd.read_csv(\"/Users/kassraniroumand/code/aitrading/aitrading/data/eurousd_df_clean_3.csv\")\n",
    "\n",
    "\n",
    "# Convert 'timestamp' to datetime if it's not already\n",
    "df['timestamp'] = pd.to_datetime(df['datetime'])\n",
    "\n",
    "# Sort the dataframe by timestamp to ensure correct operations\n",
    "df = df.sort_values(by='timestamp')\n",
    "\n",
    "# Calculate the target variable by comparing the current price to the next\n",
    "df['target'] = (df['close'].shift(-1) > df['close']).astype(int)\n",
    "\n",
    "# Time-based features (example: part of the day)\n",
    "df['hour'] = df['timestamp'].dt.hour\n",
    "df['part_of_day'] = pd.cut(df['hour'], bins=[0, 6, 12, 18, 24], labels=['Night', 'Morning', 'Afternoon', 'Evening'], right=False)"
   ],
   "metadata": {
    "collapsed": false
   },
   "id": "a28e67dc31c390b3"
  },
  {
   "cell_type": "code",
   "execution_count": null,
   "outputs": [],
   "source": [
    "df['day_of_week'] = df['timestamp'].dt.dayofweek\n",
    "\n",
    "# Convert day of week to cyclic features\n",
    "df['sin_day'] = np.sin(2 * np.pi * df['day_of_week'] / 7)\n",
    "df['cos_day'] = np.cos(2 * np.pi * df['day_of_week'] / 7)"
   ],
   "metadata": {
    "collapsed": false
   },
   "id": "3b2edafbf916ffbf"
  },
  {
   "cell_type": "code",
   "execution_count": null,
   "outputs": [],
   "source": [
    "df['price_change_5_intervals'] = df['close'].diff(periods=5)\n",
    "\n",
    "# Rolling window features (example: rolling average over the last 5 intervals)\n",
    "df['rolling_avg_price_10_intervals'] = df['close'].rolling(window=5).mean()\n",
    "df['rolling_avg_price_10_close_intervals'] = df['low'].rolling(window=5).mean()\n",
    "\n",
    "\n",
    "# Drop any rows with NaN values created by shifts and rolling functions\n",
    "df.dropna(inplace=True)\n",
    "\n",
    "# Display the first few rows to inspect the new features\n",
    "# df"
   ],
   "metadata": {
    "collapsed": false
   },
   "id": "c5ede6b2ed82fddc"
  },
  {
   "cell_type": "code",
   "execution_count": null,
   "outputs": [],
   "source": [
    "df['ma_30m'] = df['close'].rolling(window=5).mean()  # 1-hour MA\n",
    "df['ma_24h'] = df['close'].rolling(window=288).mean()  # 24-hour MA"
   ],
   "metadata": {
    "collapsed": false
   },
   "id": "2e3cf7249020fb0a"
  },
  {
   "cell_type": "code",
   "execution_count": null,
   "outputs": [],
   "source": [
    "df"
   ],
   "metadata": {
    "collapsed": false
   },
   "id": "d8fe349ed8bb55b1"
  },
  {
   "cell_type": "code",
   "execution_count": null,
   "outputs": [],
   "source": [
    "df['ema_30min'] = df['close'].ewm(span=6, adjust=False).mean()  # 1-hour EMA\n",
    "df['ema_24h'] = df['close'].ewm(span=288, adjust=False).mean()  # 24-hour EMA"
   ],
   "metadata": {
    "collapsed": false
   },
   "id": "b2e4402aa50324d5"
  },
  {
   "cell_type": "code",
   "execution_count": null,
   "outputs": [],
   "source": [
    "def calculate_rsi(data, window=14):\n",
    "    delta = data.diff(1)\n",
    "    gain = (delta.where(delta > 0, 0)).rolling(window=window).mean()\n",
    "    loss = (-delta.where(delta < 0, 0)).rolling(window=window).mean()\n",
    "\n",
    "    rs = gain / loss\n",
    "    rsi = 100 - (100 / (1 + rs))\n",
    "    return rsi"
   ],
   "metadata": {
    "collapsed": false
   },
   "id": "d95dc90cb80e632c"
  },
  {
   "cell_type": "code",
   "execution_count": null,
   "outputs": [],
   "source": [
    "df['rsi'] = calculate_rsi(df['close'], window=5)"
   ],
   "metadata": {
    "collapsed": false
   },
   "id": "63121867a12b88af"
  },
  {
   "cell_type": "code",
   "execution_count": null,
   "outputs": [],
   "source": [
    "df.dropna(inplace=True)"
   ],
   "metadata": {
    "collapsed": false
   },
   "id": "47892605b90b263b"
  },
  {
   "cell_type": "code",
   "execution_count": null,
   "outputs": [],
   "source": [
    "# Define split ratios\n",
    "train_ratio = 0.7\n",
    "validation_ratio = 0.15\n",
    "test_ratio = 0.15\n",
    "\n",
    "# Calculate indices for splits\n",
    "total_samples = len(df)\n",
    "train_end = int(total_samples * train_ratio)\n",
    "validation_end = int(train_end + total_samples * validation_ratio)\n",
    "\n",
    "# Split the dataset\n",
    "train_data = df.iloc[:train_end]\n",
    "validation_data = df.iloc[train_end:validation_end]\n",
    "test_data = df.iloc[validation_end:]\n",
    "\n",
    "\n",
    "X_train, y_train = train_data.drop(['target', 'timestamp', 'hour'], axis=1), train_data['target']\n",
    "X_val, y_val = validation_data.drop(['target', 'timestamp', 'hour'], axis=1), validation_data['target']\n",
    "X_test, y_test = test_data.drop(['target', 'timestamp', 'hour'], axis=1), test_data['target']\n",
    "\n",
    "\n",
    "print(f\"Training set size: {len(X_train)}\")\n",
    "print(f\"Validation set size: {len(X_val)}\")\n",
    "print(f\"Test set size: {len(X_test)}\")"
   ],
   "metadata": {
    "collapsed": false
   },
   "id": "9607fc080ca0c4e2"
  },
  {
   "cell_type": "code",
   "execution_count": null,
   "outputs": [],
   "source": [
    "import numpy as np\n",
    "from sklearn.preprocessing import StandardScaler, OneHotEncoder\n",
    "\n",
    "# Normalize numerical features, replacing 'price' with 'close'\n",
    "scaler = StandardScaler()\n",
    "# numeric_features = ['close', 'price_change_5_intervals', 'rolling_avg_price_5_intervals']  # Adjust feature names as needed\n",
    "numeric_features = [\n",
    "    'close',\n",
    "                    'price_change_5_intervals',\n",
    "                    'rolling_avg_price_10_close_intervals',\n",
    "                    'rolling_avg_price_10_intervals',\n",
    "                    'sin_day',\n",
    "                    'cos_day',\n",
    "                    # 'ma_30min',\n",
    "                      'ma_24h',\n",
    "                  'ema_30min',\n",
    "                  'ema_24h',\n",
    "                    'rsi'\n",
    "                    ]  # Adjust feature names as needed\n",
    "X_train[numeric_features] = scaler.fit_transform(X_train[numeric_features])\n",
    "X_test[numeric_features] = scaler.transform(X_test[numeric_features])\n",
    "X_val[numeric_features] = scaler.transform(X_val[numeric_features])\n",
    "\n",
    "# Encode categorical features\n",
    "encoder = OneHotEncoder(drop='first', sparse=False)\n",
    "categorical_features = ['part_of_day']  # Ensure this is present or adjust accordingly\n",
    "# categorical_features = ['part_of_day']  # Ensure this is present or adjust accordingly\n",
    "X_train_encoded = encoder.fit_transform(X_train[categorical_features])\n",
    "X_test_encoded = encoder.transform(X_test[categorical_features])\n",
    "X_val_encoded = encoder.transform(X_val[categorical_features])\n",
    "\n",
    "# Concatenate encoded categorical features back with numerical features\n",
    "X_train_preprocessed = np.concatenate((X_train[numeric_features].values, X_train_encoded), axis=1)\n",
    "X_val_preprocessed = np.concatenate((X_val[numeric_features].values, X_val_encoded), axis=1)\n",
    "X_test_preprocessed = np.concatenate((X_test[numeric_features].values, X_test_encoded), axis=1)"
   ],
   "metadata": {
    "collapsed": false
   },
   "id": "58aa39f00752f9ff"
  },
  {
   "cell_type": "code",
   "execution_count": null,
   "outputs": [],
   "source": [
    "from keras.src.layers import Bidirectional\n",
    "from keras.src.optimizers import Adam\n",
    "from tensorflow.keras.models import Sequential\n",
    "from tensorflow.keras.layers import LSTM, Dense, Dropout\n",
    "from tensorflow.keras.utils import to_categorical"
   ],
   "metadata": {
    "collapsed": false
   },
   "id": "cf3a9fa46ca4b26c"
  },
  {
   "cell_type": "code",
   "execution_count": null,
   "outputs": [],
   "source": [
    "X_train_reshaped = X_train_preprocessed.reshape((X_train_preprocessed.shape[0], 1, X_train_preprocessed.shape[1]))\n",
    "X_test_reshaped = X_test_preprocessed.reshape((X_test_preprocessed.shape[0], 1, X_test_preprocessed.shape[1]))\n",
    "X_val_reshaped = X_val_preprocessed.reshape((X_val_preprocessed.shape[0], 1, X_val_preprocessed.shape[1]))\n",
    "y_train_categorical = to_categorical(y_train)\n",
    "y_test_categorical = to_categorical(y_test)\n",
    "y_val_categorical = to_categorical(y_val)"
   ],
   "metadata": {
    "collapsed": false
   },
   "id": "459b0f570d795387"
  },
  {
   "cell_type": "code",
   "execution_count": null,
   "outputs": [],
   "source": [
    "from keras.src.callbacks import ReduceLROnPlateau, EarlyStopping\n",
    "\n",
    "# Define the LSTM model\n",
    "model = Sequential()\n",
    "model.add(Bidirectional(LSTM(100, return_sequences=True, activation='tanh'), input_shape=(X_train_reshaped.shape[1], X_train_reshaped.shape[2])))\n",
    "model.add(Dropout(0.2))\n",
    "model.add(LSTM(50, activation='tanh'))\n",
    "model.add(Dropout(0.2))\n",
    "# model.add(LSTM(100, activation='relu'))\n",
    "# model.add(Dropout(0.2))\n",
    "model.add(Dense(2, activation='sigmoid'))  # Assuming binary classification\n",
    "\n",
    "# model.compile(optimizer='adam', loss='categorical_crossentropy', metrics=['accuracy'])\n",
    "model.compile(optimizer=Adam(learning_rate=0.001), loss='binary_crossentropy', metrics=['accuracy'])\n",
    "# Compile the model\n",
    "\n",
    "# Train the model\n",
    "# history = model.fit(X_train_reshaped, y_train_categorical, epochs=100, batch_size=32, validation_ratio=0.2, verbose=1)\n",
    "early_stopping = EarlyStopping(monitor='val_accuracy', patience=5)\n",
    "reduce_lr = ReduceLROnPlateau(monitor='val_accuracy', factor=0.2, patience=5, min_lr=0.001)\n",
    "\n",
    "history = model.fit(\n",
    "    X_train_reshaped,\n",
    "    y_train_categorical, \n",
    "    epochs=100,\n",
    "    batch_size=8,\n",
    "    validation_data=(X_val_reshaped,y_val_categorical),\n",
    "    verbose=1,\n",
    "    callbacks=[early_stopping, reduce_lr]\n",
    ")"
   ],
   "metadata": {
    "collapsed": false
   },
   "id": "93808596a902cc92"
  },
  {
   "cell_type": "code",
   "execution_count": null,
   "outputs": [],
   "source": [
    "# Evaluate the model\n",
    "_, accuracy = model.evaluate(X_test_reshaped, y_test_categorical, verbose=0)\n",
    "print(f'Test Accuracy: {accuracy:.2f}')"
   ],
   "metadata": {
    "collapsed": false
   },
   "id": "c656e59f75e02616"
  },
  {
   "cell_type": "code",
   "execution_count": null,
   "outputs": [],
   "source": [
    "model.summary()"
   ],
   "metadata": {
    "collapsed": false
   },
   "id": "fcf610db28bf5eb2"
  },
  {
   "cell_type": "code",
   "execution_count": null,
   "outputs": [],
   "source": [
    "from matplotlib import pyplot as plt"
   ],
   "metadata": {
    "collapsed": false
   },
   "id": "125e08c347710bd8"
  },
  {
   "cell_type": "code",
   "execution_count": null,
   "outputs": [],
   "source": [
    "plt.plot(history.history['accuracy'], label='train')"
   ],
   "metadata": {
    "collapsed": false
   },
   "id": "d32ca96ff2e0e33f"
  },
  {
   "cell_type": "code",
   "execution_count": null,
   "outputs": [],
   "source": [
    "plt.hist(model.predict(X_test_reshaped),bins=100)"
   ],
   "metadata": {
    "collapsed": false
   },
   "id": "46b2198c12fcc8fd"
  },
  {
   "cell_type": "code",
   "execution_count": null,
   "outputs": [],
   "source": [
    "plt.hist(model.predict(X_test_reshaped) > 0.52,bins=100)"
   ],
   "metadata": {
    "collapsed": false
   },
   "id": "942e5f9c5be86f53"
  },
  {
   "cell_type": "code",
   "execution_count": null,
   "outputs": [],
   "source": [
    "plt.hist(model.predict(X_test_reshaped) <  0.48,bins=100)"
   ],
   "metadata": {
    "collapsed": false
   },
   "id": "9350d7c61870e608"
  },
  {
   "cell_type": "code",
   "execution_count": null,
   "outputs": [],
   "source": [
    "len(pd.DataFrame(model.predict(X_test_reshaped)))"
   ],
   "metadata": {
    "collapsed": false
   },
   "id": "780d25a5dfa29682"
  },
  {
   "cell_type": "code",
   "execution_count": null,
   "outputs": [],
   "source": [
    "len(X_test_reshaped)"
   ],
   "metadata": {
    "collapsed": false
   },
   "id": "8ff0ae03029a8651"
  },
  {
   "cell_type": "code",
   "execution_count": null,
   "outputs": [],
   "source": [
    "pred = pd.DataFrame(model.predict(X_test_reshaped))"
   ],
   "metadata": {
    "collapsed": false
   },
   "id": "399925bb64dbf928"
  },
  {
   "cell_type": "code",
   "execution_count": null,
   "outputs": [],
   "source": [
    "pred[pred[0] > 0.52]"
   ],
   "metadata": {
    "collapsed": false
   },
   "id": "f9b7e1ebc2e8af7c"
  },
  {
   "cell_type": "code",
   "execution_count": null,
   "outputs": [],
   "source": [
    "pred[pred[1] > 0.52]"
   ],
   "metadata": {
    "collapsed": false
   },
   "id": "55a086f5cb108427"
  },
  {
   "cell_type": "code",
   "execution_count": null,
   "outputs": [],
   "source": [
    "pred"
   ],
   "metadata": {
    "collapsed": false
   },
   "id": "84ec2f4718e36334"
  },
  {
   "cell_type": "code",
   "execution_count": null,
   "outputs": [],
   "source": [],
   "metadata": {
    "collapsed": false
   },
   "id": "728140feeee873ac"
  }
 ],
 "metadata": {
  "kernelspec": {
   "display_name": "Python 3",
   "language": "python",
   "name": "python3"
  },
  "language_info": {
   "codemirror_mode": {
    "name": "ipython",
    "version": 2
   },
   "file_extension": ".py",
   "mimetype": "text/x-python",
   "name": "python",
   "nbconvert_exporter": "python",
   "pygments_lexer": "ipython2",
   "version": "2.7.6"
  }
 },
 "nbformat": 4,
 "nbformat_minor": 5
}
