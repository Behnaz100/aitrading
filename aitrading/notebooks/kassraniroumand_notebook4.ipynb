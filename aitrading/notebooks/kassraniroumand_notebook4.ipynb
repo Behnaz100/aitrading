{
 "cells": [
  {
   "cell_type": "code",
   "execution_count": 1,
   "outputs": [
    {
     "name": "stdout",
     "output_type": "stream",
     "text": [
      "Training set size: 125771\n",
      "Validation set size: 26951\n",
      "Test set size: 26952\n"
     ]
    },
    {
     "name": "stderr",
     "output_type": "stream",
     "text": [
      "/Users/kassraniroumand/.pyenv/versions/3.10.6/envs/lewagon/lib/python3.10/site-packages/sklearn/preprocessing/_encoders.py:975: FutureWarning: `sparse` was renamed to `sparse_output` in version 1.2 and will be removed in 1.4. `sparse_output` is ignored unless you leave `sparse` to its default value.\n",
      "  warnings.warn(\n"
     ]
    },
    {
     "ename": "NameError",
     "evalue": "name 'to_categorical' is not defined",
     "output_type": "error",
     "traceback": [
      "\u001B[0;31m---------------------------------------------------------------------------\u001B[0m",
      "\u001B[0;31mNameError\u001B[0m                                 Traceback (most recent call last)",
      "Cell \u001B[0;32mIn [1], line 111\u001B[0m\n\u001B[1;32m    109\u001B[0m X_test_reshaped \u001B[38;5;241m=\u001B[39m X_test_preprocessed\u001B[38;5;241m.\u001B[39mreshape((X_test_preprocessed\u001B[38;5;241m.\u001B[39mshape[\u001B[38;5;241m0\u001B[39m], \u001B[38;5;241m1\u001B[39m, X_test_preprocessed\u001B[38;5;241m.\u001B[39mshape[\u001B[38;5;241m1\u001B[39m]))\n\u001B[1;32m    110\u001B[0m X_val_reshaped \u001B[38;5;241m=\u001B[39m X_val_preprocessed\u001B[38;5;241m.\u001B[39mreshape((X_val_preprocessed\u001B[38;5;241m.\u001B[39mshape[\u001B[38;5;241m0\u001B[39m], \u001B[38;5;241m1\u001B[39m, X_val_preprocessed\u001B[38;5;241m.\u001B[39mshape[\u001B[38;5;241m1\u001B[39m]))\n\u001B[0;32m--> 111\u001B[0m y_train_categorical \u001B[38;5;241m=\u001B[39m \u001B[43mto_categorical\u001B[49m(y_train)\n\u001B[1;32m    112\u001B[0m y_test_categorical \u001B[38;5;241m=\u001B[39m to_categorical(y_test)\n\u001B[1;32m    113\u001B[0m y_val_categorical \u001B[38;5;241m=\u001B[39m to_categorical(y_val)\n",
      "\u001B[0;31mNameError\u001B[0m: name 'to_categorical' is not defined"
     ]
    }
   ],
   "source": [
    "import matplotlib.pyplot as plt\n",
    "import pandas as pd\n",
    "import numpy as np\n",
    "df = pd.read_csv(\"/Users/kassraniroumand/code/aitrading/aitrading/data/eurousd_df_clean_2.csv\")\n",
    "\n",
    "\n",
    "# Convert 'timestamp' to datetime if it's not already\n",
    "df['timestamp'] = pd.to_datetime(df['datetime'])\n",
    "\n",
    "# Sort the dataframe by timestamp to ensure correct operations\n",
    "df = df.sort_values(by='timestamp')\n",
    "# Calculate the target variable by comparing the current price to the next\n",
    "df['target'] = (df['close'].shift(-1) > df['close']).astype(int)\n",
    "# Time-based features (example: part of the day)\n",
    "df['hour'] = df['timestamp'].dt.hour\n",
    "df['part_of_day'] = pd.cut(df['hour'], bins=[0, 6, 12, 18, 24], labels=['Night', 'Morning', 'Afternoon', 'Evening'], right=False)\n",
    "\n",
    "df['day_of_week'] = df['timestamp'].dt.dayofweek\n",
    "# Convert day of week to cyclic features\n",
    "df['sin_day'] = np.sin(2 * np.pi * df['day_of_week'] / 7)\n",
    "df['cos_day'] = np.cos(2 * np.pi * df['day_of_week'] / 7)\n",
    "\n",
    "\n",
    "df['price_change_5_intervals'] = df['close'].diff(periods=5)\n",
    "# Rolling window features (example: rolling average over the last 5 intervals)\n",
    "df['rolling_avg_price_10_intervals'] = df['close'].rolling(window=5).mean()\n",
    "df['rolling_avg_price_10_close_intervals'] = df['low'].rolling(window=5).mean()\n",
    "# Drop any rows with NaN values created by shifts and rolling functions\n",
    "df.dropna(inplace=True)\n",
    "\n",
    "df['ma_30m'] = df['close'].rolling(window=5).mean()  # 1-hour MA\n",
    "df['ma_24h'] = df['close'].rolling(window=12).mean()  # 24-hour MA\n",
    "\n",
    "df['ema_30min'] = df['close'].ewm(span=5, adjust=False).mean()  # 1-hour EMA\n",
    "df['ema_24h'] = df['close'].ewm(span=12, adjust=False).mean()  # 24-hour EMA\n",
    "\n",
    "def calculate_rsi(data, window=14):\n",
    "    delta = data.diff(1)\n",
    "    gain = (delta.where(delta > 0, 0)).rolling(window=window).mean()\n",
    "    loss = (-delta.where(delta < 0, 0)).rolling(window=window).mean()\n",
    "\n",
    "    rs = gain / loss\n",
    "    rsi = 100 - (100 / (1 + rs))\n",
    "    return rsi\n",
    "df['rsi'] = calculate_rsi(df['close'], window=5)\n",
    "df.dropna(inplace=True)\n",
    "\n",
    "train_ratio = 0.7\n",
    "validation_ratio = 0.15\n",
    "test_ratio = 0.15\n",
    "\n",
    "# Calculate indices for splits\n",
    "total_samples = len(df)\n",
    "train_end = int(total_samples * train_ratio)\n",
    "validation_end = int(train_end + total_samples * validation_ratio)\n",
    "\n",
    "# Split the dataset\n",
    "train_data = df.iloc[:train_end]\n",
    "validation_data = df.iloc[train_end:validation_end]\n",
    "test_data = df.iloc[validation_end:]\n",
    "\n",
    "\n",
    "X_train, y_train = train_data.drop(['target', 'timestamp', 'hour'], axis=1), train_data['target']\n",
    "X_val, y_val = validation_data.drop(['target', 'timestamp', 'hour'], axis=1), validation_data['target']\n",
    "X_test, y_test = test_data.drop(['target', 'timestamp', 'hour'], axis=1), test_data['target']\n",
    "\n",
    "\n",
    "print(f\"Training set size: {len(X_train)}\")\n",
    "print(f\"Validation set size: {len(X_val)}\")\n",
    "print(f\"Test set size: {len(X_test)}\")\n",
    "\n",
    "import numpy as np\n",
    "from sklearn.preprocessing import StandardScaler, OneHotEncoder\n",
    "\n",
    "# Normalize numerical features, replacing 'price' with 'close'\n",
    "scaler = StandardScaler()\n",
    "# numeric_features = ['close', 'price_change_5_intervals', 'rolling_avg_price_5_intervals']  # Adjust feature names as needed\n",
    "numeric_features = [\n",
    "    'close',\n",
    "                    'price_change_5_intervals',\n",
    "                    'rolling_avg_price_10_close_intervals',\n",
    "                    'rolling_avg_price_10_intervals',\n",
    "                    'sin_day',\n",
    "                    'cos_day',\n",
    "                    # 'ma_30min',\n",
    "                      'ma_24h',\n",
    "                  'ema_30min',\n",
    "                  'ema_24h',\n",
    "                    'rsi'\n",
    "                    ]  # Adjust feature names as needed\n",
    "X_train[numeric_features] = scaler.fit_transform(X_train[numeric_features])\n",
    "X_test[numeric_features] = scaler.transform(X_test[numeric_features])\n",
    "X_val[numeric_features] = scaler.transform(X_val[numeric_features])\n",
    "\n",
    "# Encode categorical features\n",
    "encoder = OneHotEncoder(drop='first', sparse=False)\n",
    "categorical_features = ['part_of_day']  # Ensure this is present or adjust accordingly\n",
    "# categorical_features = ['part_of_day']  # Ensure this is present or adjust accordingly\n",
    "X_train_encoded = encoder.fit_transform(X_train[categorical_features])\n",
    "X_test_encoded = encoder.transform(X_test[categorical_features])\n",
    "X_val_encoded = encoder.transform(X_val[categorical_features])\n",
    "\n",
    "# Concatenate encoded categorical features back with numerical features\n",
    "X_train_preprocessed = np.concatenate((X_train[numeric_features].values, X_train_encoded), axis=1)\n",
    "X_val_preprocessed = np.concatenate((X_val[numeric_features].values, X_val_encoded), axis=1)\n",
    "X_test_preprocessed = np.concatenate((X_test[numeric_features].values, X_test_encoded), axis=1)\n",
    "\n",
    "X_train_reshaped = X_train_preprocessed.reshape((X_train_preprocessed.shape[0], 1, X_train_preprocessed.shape[1]))\n",
    "X_test_reshaped = X_test_preprocessed.reshape((X_test_preprocessed.shape[0], 1, X_test_preprocessed.shape[1]))\n",
    "X_val_reshaped = X_val_preprocessed.reshape((X_val_preprocessed.shape[0], 1, X_val_preprocessed.shape[1]))\n",
    "y_train_categorical = to_categorical(y_train)\n",
    "y_test_categorical = to_categorical(y_test)\n",
    "y_val_categorical = to_categorical(y_val)\n"
   ],
   "metadata": {
    "collapsed": false,
    "ExecuteTime": {
     "end_time": "2024-04-02T15:03:46.441839Z",
     "start_time": "2024-04-02T15:03:44.946196Z"
    }
   },
   "id": "a28e67dc31c390b3"
  },
  {
   "cell_type": "code",
   "execution_count": null,
   "outputs": [],
   "source": [],
   "metadata": {
    "collapsed": false,
    "ExecuteTime": {
     "end_time": "2024-04-02T15:03:46.446321Z",
     "start_time": "2024-04-02T15:03:46.442975Z"
    }
   },
   "id": "3b2edafbf916ffbf"
  },
  {
   "cell_type": "code",
   "execution_count": null,
   "outputs": [],
   "source": [
    "\n",
    "\n",
    "# Display the first few rows to inspect the new features\n",
    "# df"
   ],
   "metadata": {
    "collapsed": false,
    "ExecuteTime": {
     "start_time": "2024-04-02T15:03:46.443934Z"
    }
   },
   "id": "c5ede6b2ed82fddc"
  },
  {
   "cell_type": "code",
   "execution_count": 67,
   "outputs": [],
   "source": [],
   "metadata": {
    "collapsed": false,
    "ExecuteTime": {
     "end_time": "2024-04-02T14:37:45.565325Z",
     "start_time": "2024-04-02T14:37:45.563982Z"
    }
   },
   "id": "2e3cf7249020fb0a"
  },
  {
   "cell_type": "code",
   "execution_count": 67,
   "outputs": [],
   "source": [],
   "metadata": {
    "collapsed": false,
    "ExecuteTime": {
     "end_time": "2024-04-02T14:37:45.743941Z",
     "start_time": "2024-04-02T14:37:45.742023Z"
    }
   },
   "id": "63121867a12b88af"
  },
  {
   "cell_type": "code",
   "execution_count": 67,
   "outputs": [],
   "source": [],
   "metadata": {
    "collapsed": false,
    "ExecuteTime": {
     "end_time": "2024-04-02T14:37:45.898999Z",
     "start_time": "2024-04-02T14:37:45.897048Z"
    }
   },
   "id": "47892605b90b263b"
  },
  {
   "cell_type": "code",
   "execution_count": 67,
   "outputs": [],
   "source": [],
   "metadata": {
    "collapsed": false,
    "ExecuteTime": {
     "end_time": "2024-04-02T14:37:46.041465Z",
     "start_time": "2024-04-02T14:37:46.039821Z"
    }
   },
   "id": "e9fc15d8615335a3"
  },
  {
   "cell_type": "code",
   "execution_count": 68,
   "outputs": [],
   "source": [
    "# Define split ratios\n"
   ],
   "metadata": {
    "collapsed": false,
    "ExecuteTime": {
     "end_time": "2024-04-02T14:37:46.191214Z",
     "start_time": "2024-04-02T14:37:46.189787Z"
    }
   },
   "id": "9607fc080ca0c4e2"
  },
  {
   "cell_type": "code",
   "execution_count": 68,
   "outputs": [],
   "source": [],
   "metadata": {
    "collapsed": false,
    "ExecuteTime": {
     "end_time": "2024-04-02T14:37:46.341567Z",
     "start_time": "2024-04-02T14:37:46.339880Z"
    }
   },
   "id": "58aa39f00752f9ff"
  },
  {
   "cell_type": "code",
   "execution_count": 69,
   "outputs": [],
   "source": [
    "from keras.src.layers import Bidirectional\n",
    "from keras.src.optimizers import Adam\n",
    "from tensorflow.keras.models import Sequential\n",
    "from tensorflow.keras.layers import LSTM, Dense, Dropout\n",
    "from tensorflow.keras.utils import to_categorical"
   ],
   "metadata": {
    "collapsed": false,
    "ExecuteTime": {
     "end_time": "2024-04-02T14:37:46.507449Z",
     "start_time": "2024-04-02T14:37:46.505699Z"
    }
   },
   "id": "cf3a9fa46ca4b26c"
  },
  {
   "cell_type": "code",
   "execution_count": 69,
   "outputs": [],
   "source": [],
   "metadata": {
    "collapsed": false,
    "ExecuteTime": {
     "end_time": "2024-04-02T14:37:46.714137Z",
     "start_time": "2024-04-02T14:37:46.711846Z"
    }
   },
   "id": "459b0f570d795387"
  },
  {
   "cell_type": "code",
   "execution_count": 71,
   "outputs": [
    {
     "name": "stdout",
     "output_type": "stream",
     "text": [
      "Epoch 1/100\n"
     ]
    },
    {
     "name": "stderr",
     "output_type": "stream",
     "text": [
      "/Users/kassraniroumand/.pyenv/versions/3.10.6/envs/lewagon/lib/python3.10/site-packages/keras/src/layers/core/wrapper.py:27: UserWarning: Do not pass an `input_shape`/`input_dim` argument to a layer. When using Sequential models, prefer using an `Input(shape)` object as the first layer in the model instead.\n",
      "  super().__init__(**kwargs)\n"
     ]
    },
    {
     "name": "stdout",
     "output_type": "stream",
     "text": [
      "\u001B[1m3931/3931\u001B[0m \u001B[32m━━━━━━━━━━━━━━━━━━━━\u001B[0m\u001B[37m\u001B[0m \u001B[1m31s\u001B[0m 7ms/step - accuracy: 0.5083 - loss: 0.7152 - val_accuracy: 0.5114 - val_loss: 0.6930 - learning_rate: 0.0010\n",
      "Epoch 2/100\n",
      "\u001B[1m3931/3931\u001B[0m \u001B[32m━━━━━━━━━━━━━━━━━━━━\u001B[0m\u001B[37m\u001B[0m \u001B[1m30s\u001B[0m 8ms/step - accuracy: 0.5099 - loss: 0.6930 - val_accuracy: 0.5114 - val_loss: 0.6929 - learning_rate: 0.0010\n",
      "Epoch 3/100\n",
      "\u001B[1m3931/3931\u001B[0m \u001B[32m━━━━━━━━━━━━━━━━━━━━\u001B[0m\u001B[37m\u001B[0m \u001B[1m29s\u001B[0m 7ms/step - accuracy: 0.5109 - loss: 0.6930 - val_accuracy: 0.5114 - val_loss: 0.6929 - learning_rate: 0.0010\n",
      "Epoch 4/100\n",
      "\u001B[1m3931/3931\u001B[0m \u001B[32m━━━━━━━━━━━━━━━━━━━━\u001B[0m\u001B[37m\u001B[0m \u001B[1m28s\u001B[0m 7ms/step - accuracy: 0.5116 - loss: 0.6929 - val_accuracy: 0.5114 - val_loss: 0.6929 - learning_rate: 0.0010\n",
      "Epoch 5/100\n",
      "\u001B[1m3931/3931\u001B[0m \u001B[32m━━━━━━━━━━━━━━━━━━━━\u001B[0m\u001B[37m\u001B[0m \u001B[1m29s\u001B[0m 7ms/step - accuracy: 0.5108 - loss: 0.6929 - val_accuracy: 0.5114 - val_loss: 0.6929 - learning_rate: 0.0010\n",
      "Epoch 6/100\n",
      "\u001B[1m3931/3931\u001B[0m \u001B[32m━━━━━━━━━━━━━━━━━━━━\u001B[0m\u001B[37m\u001B[0m \u001B[1m30s\u001B[0m 8ms/step - accuracy: 0.5115 - loss: 0.6929 - val_accuracy: 0.5114 - val_loss: 0.6929 - learning_rate: 0.0010\n"
     ]
    }
   ],
   "source": [
    "from keras.src.callbacks import ReduceLROnPlateau, EarlyStopping\n",
    "\n",
    "# Define the LSTM model\n",
    "# Assuming X_train_reshaped and y_train_categorical are properly defined\n",
    "\n",
    "model = Sequential()\n",
    "model.add(Bidirectional(LSTM(256, return_sequences=True, activation='tanh'), input_shape=(X_train_reshaped.shape[1], X_train_reshaped.shape[2])))\n",
    "model.add(Dropout(0.5))\n",
    "\n",
    "# Following LSTM layers should also return sequences if they're not the last LSTM layer\n",
    "# In this case, the second LSTM layer should not return sequences as it's followed by Dense layers\n",
    "model.add(GRU(128, return_sequences=False, activation='relu', kernel_regularizer=l2(0.001)))\n",
    "model.add(Dropout(0.5))\n",
    "\n",
    "# Removed the third LSTM for simplification as its input shape would be incompatible without return_sequences=True in the previous LSTM layer\n",
    "model.add(Dense(32, activation='relu', kernel_regularizer=l2(0.001)))\n",
    "# model.add(Dropout(0.5))\n",
    "model.add(Dense(2, activation='sigmoid'))  # Use 'sigmoid' for binary, 'softmax' for multi-class\n",
    "\n",
    "# Compile the model\n",
    "model.compile(optimizer=Adam(learning_rate=0.001), loss='binary_crossentropy', metrics=['accuracy'])\n",
    "\n",
    "# Setup callbacks\n",
    "early_stopping = EarlyStopping(monitor='val_accuracy', patience=5)\n",
    "reduce_lr = ReduceLROnPlateau(monitor='val_accuracy', factor=0.2, patience=5, min_lr=0.01)\n",
    "\n",
    "# Train the model\n",
    "history = model.fit(\n",
    "    X_train_reshaped,\n",
    "    y_train_categorical, \n",
    "    epochs=100,\n",
    "    batch_size=32,\n",
    "    validation_data=(X_val_reshaped, y_val_categorical),\n",
    "    verbose=1,\n",
    "    callbacks=[early_stopping, reduce_lr]\n",
    ")\n",
    "\n",
    "\n",
    "# model.compile(optimizer='adam', loss='categorical_crossentropy', metrics=['accuracy'])\n",
    "# model.compile(optimizer=Adam(learning_rate=0.001), loss='binary_crossentropy', metrics=['accuracy'])\n",
    "# Compile the model\n",
    "\n",
    "# Train the model\n",
    "# history = model.fit(X_train_reshaped, y_train_categorical, epochs=100, batch_size=32, validation_ratio=0.2, verbose=1)\n",
    "# early_stopping = EarlyStopping(monitor='val_accuracy', patience=5)\n",
    "# reduce_lr = ReduceLROnPlateau(monitor='val_accuracy', factor=0.2, patience=5, min_lr=0.001)\n",
    "\n",
    "# history = model.fit(\n",
    "#     X_train_reshaped,\n",
    "#     y_train_categorical, \n",
    "#     epochs=100,\n",
    "#     batch_size=32,\n",
    "#     validation_data=(X_val_reshaped,y_val_categorical),\n",
    "#     verbose=1,\n",
    "#     callbacks=[early_stopping, reduce_lr]\n",
    "# )"
   ],
   "metadata": {
    "collapsed": false,
    "ExecuteTime": {
     "end_time": "2024-04-02T14:43:46.988591Z",
     "start_time": "2024-04-02T14:40:50.578589Z"
    }
   },
   "id": "93808596a902cc92"
  },
  {
   "cell_type": "code",
   "execution_count": null,
   "outputs": [],
   "source": [
    "model.save('model.h5')"
   ],
   "metadata": {
    "collapsed": false
   },
   "id": "83b91d6308d5a315"
  },
  {
   "cell_type": "code",
   "execution_count": null,
   "outputs": [],
   "source": [
    "# save the model \n"
   ],
   "metadata": {
    "collapsed": false
   },
   "id": "8299a557017e39b0"
  },
  {
   "cell_type": "code",
   "execution_count": 72,
   "outputs": [
    {
     "name": "stdout",
     "output_type": "stream",
     "text": [
      "{0: 0.9787169470686193, 1: 1.0222292662310217}\n"
     ]
    }
   ],
   "source": [
    "from sklearn.utils.class_weight import compute_class_weight\n",
    "# Assuming y_train is your labels array for the training data\n",
    "# And it's a binary classification problem with classes 0 and 1\n",
    "classes = np.unique(y_train)\n",
    "class_weights = compute_class_weight(class_weight='balanced', classes=classes, y=y_train)\n",
    "class_weights_dict = {classes[i]: weight for i, weight in enumerate(class_weights)}\n",
    "\n",
    "print(class_weights_dict)"
   ],
   "metadata": {
    "collapsed": false,
    "ExecuteTime": {
     "end_time": "2024-04-02T14:43:47.001946Z",
     "start_time": "2024-04-02T14:43:46.989044Z"
    }
   },
   "id": "5dbd2a2c5a5f3c32"
  },
  {
   "cell_type": "code",
   "execution_count": 2,
   "outputs": [
    {
     "name": "stderr",
     "output_type": "stream",
     "text": [
      "/Users/kassraniroumand/.pyenv/versions/3.10.6/envs/lewagon/lib/python3.10/site-packages/keras/src/layers/core/wrapper.py:27: UserWarning: Do not pass an `input_shape`/`input_dim` argument to a layer. When using Sequential models, prefer using an `Input(shape)` object as the first layer in the model instead.\n",
      "  super().__init__(**kwargs)\n"
     ]
    },
    {
     "ename": "NameError",
     "evalue": "name 'class_weights_dict' is not defined",
     "output_type": "error",
     "traceback": [
      "\u001B[0;31m---------------------------------------------------------------------------\u001B[0m",
      "\u001B[0;31mNameError\u001B[0m                                 Traceback (most recent call last)",
      "Cell \u001B[0;32mIn [2], line 23\u001B[0m\n\u001B[1;32m     19\u001B[0m reduce_lr \u001B[38;5;241m=\u001B[39m ReduceLROnPlateau(monitor\u001B[38;5;241m=\u001B[39m\u001B[38;5;124m'\u001B[39m\u001B[38;5;124mval_accuracy\u001B[39m\u001B[38;5;124m'\u001B[39m, factor\u001B[38;5;241m=\u001B[39m\u001B[38;5;241m0.2\u001B[39m, patience\u001B[38;5;241m=\u001B[39m\u001B[38;5;241m2\u001B[39m, min_lr\u001B[38;5;241m=\u001B[39m\u001B[38;5;241m0.0001\u001B[39m)\n\u001B[1;32m     21\u001B[0m \u001B[38;5;66;03m# Assume X_train, y_train, X_val, and y_val are defined\u001B[39;00m\n\u001B[1;32m     22\u001B[0m history \u001B[38;5;241m=\u001B[39m model\u001B[38;5;241m.\u001B[39mfit(X_train, y_train, epochs\u001B[38;5;241m=\u001B[39m\u001B[38;5;241m100\u001B[39m, batch_size\u001B[38;5;241m=\u001B[39m\u001B[38;5;241m32\u001B[39m, validation_data\u001B[38;5;241m=\u001B[39m(X_val, y_val),\n\u001B[0;32m---> 23\u001B[0m                     verbose\u001B[38;5;241m=\u001B[39m\u001B[38;5;241m1\u001B[39m, callbacks\u001B[38;5;241m=\u001B[39m[early_stopping, reduce_lr], class_weight\u001B[38;5;241m=\u001B[39m\u001B[43mclass_weights_dict\u001B[49m)\n",
      "\u001B[0;31mNameError\u001B[0m: name 'class_weights_dict' is not defined"
     ]
    }
   ],
   "source": [
    "from keras.models import Sequential\n",
    "from keras.layers import LSTM, Bidirectional, Dropout, Dense, Embedding, GRU\n",
    "from keras.callbacks import ReduceLROnPlateau, EarlyStopping\n",
    "from keras.optimizers import Adam\n",
    "from keras.regularizers import l2\n",
    "\n",
    "model = Sequential()\n",
    "model.add(Bidirectional(LSTM(256, return_sequences=True, activation='tanh'), input_shape=(X_train_reshaped.shape[1], X_train_reshaped.shape[2])))\n",
    "model.add(Dropout(0.5))\n",
    "model.add(GRU(128, return_sequences=False, activation='relu', kernel_regularizer=l2(0.001)))\n",
    "model.add(Dropout(0.5))\n",
    "model.add(Dense(32, activation='relu', kernel_regularizer=l2(0.001)))\n",
    "model.add(Dropout(0.5))\n",
    "model.add(Dense(1, activation='sigmoid'))  # Use 'sigmoid' for binary, 'softmax' for multi-class\n",
    "\n",
    "model.compile(optimizer=Adam(learning_rate=0.001), loss='binary_crossentropy', metrics=['accuracy'])\n",
    "\n",
    "early_stopping = EarlyStopping(monitor='val_accuracy', patience=5)\n",
    "reduce_lr = ReduceLROnPlateau(monitor='val_accuracy', factor=0.2, patience=2, min_lr=0.0001)\n",
    "\n",
    "# Assume X_train, y_train, X_val, and y_val are defined\n",
    "history = model.fit(X_train, y_train, epochs=100, batch_size=32, validation_data=(X_val, y_val),\n",
    "                    verbose=1, callbacks=[early_stopping, reduce_lr], class_weight=class_weights_dict)\n"
   ],
   "metadata": {
    "collapsed": false,
    "ExecuteTime": {
     "end_time": "2024-04-02T15:14:06.334895Z",
     "start_time": "2024-04-02T15:14:04.275658Z"
    }
   },
   "id": "a3b036209a2826a5"
  },
  {
   "cell_type": "code",
   "execution_count": 40,
   "outputs": [
    {
     "data": {
      "text/plain": "array([[ 1.32748582, -7.55309829,  1.32889357,  1.32864225,  0.92354213,\n         0.82552316,  1.89476093,  1.43433739,  1.91600339, -1.82739179,\n         0.        ,  0.        ,  1.        ]])"
     },
     "execution_count": 40,
     "metadata": {},
     "output_type": "execute_result"
    }
   ],
   "source": [
    "X_train_reshaped[0]"
   ],
   "metadata": {
    "collapsed": false,
    "ExecuteTime": {
     "end_time": "2024-04-02T13:30:40.006446Z",
     "start_time": "2024-04-02T13:30:40.000345Z"
    }
   },
   "id": "af6d08763b522146"
  },
  {
   "cell_type": "code",
   "execution_count": 24,
   "outputs": [
    {
     "name": "stdout",
     "output_type": "stream",
     "text": [
      "Test Accuracy: 0.51\n"
     ]
    }
   ],
   "source": [
    "# Evaluate the model\n",
    "_, accuracy = model.evaluate(X_test_reshaped, y_test_categorical, verbose=0)\n",
    "print(f'Test Accuracy: {accuracy:.2f}')"
   ],
   "metadata": {
    "collapsed": false,
    "ExecuteTime": {
     "end_time": "2024-04-02T12:40:48.695797Z",
     "start_time": "2024-04-02T12:40:47.858815Z"
    }
   },
   "id": "c656e59f75e02616"
  },
  {
   "cell_type": "code",
   "execution_count": 25,
   "outputs": [
    {
     "data": {
      "text/plain": "\u001B[1mModel: \"sequential_6\"\u001B[0m\n",
      "text/html": "<pre style=\"white-space:pre;overflow-x:auto;line-height:normal;font-family:Menlo,'DejaVu Sans Mono',consolas,'Courier New',monospace\"><span style=\"font-weight: bold\">Model: \"sequential_6\"</span>\n</pre>\n"
     },
     "metadata": {},
     "output_type": "display_data"
    },
    {
     "data": {
      "text/plain": "┏━━━━━━━━━━━━━━━━━━━━━━━━━━━━━━━━━┳━━━━━━━━━━━━━━━━━━━━━━━━┳━━━━━━━━━━━━━━━┓\n┃\u001B[1m \u001B[0m\u001B[1mLayer (type)                   \u001B[0m\u001B[1m \u001B[0m┃\u001B[1m \u001B[0m\u001B[1mOutput Shape          \u001B[0m\u001B[1m \u001B[0m┃\u001B[1m \u001B[0m\u001B[1m      Param #\u001B[0m\u001B[1m \u001B[0m┃\n┡━━━━━━━━━━━━━━━━━━━━━━━━━━━━━━━━━╇━━━━━━━━━━━━━━━━━━━━━━━━╇━━━━━━━━━━━━━━━┩\n│ bidirectional_6 (\u001B[38;5;33mBidirectional\u001B[0m) │ (\u001B[38;5;45mNone\u001B[0m, \u001B[38;5;34m1\u001B[0m, \u001B[38;5;34m512\u001B[0m)         │       \u001B[38;5;34m552,960\u001B[0m │\n├─────────────────────────────────┼────────────────────────┼───────────────┤\n│ lstm_15 (\u001B[38;5;33mLSTM\u001B[0m)                  │ (\u001B[38;5;45mNone\u001B[0m, \u001B[38;5;34m128\u001B[0m)            │       \u001B[38;5;34m328,192\u001B[0m │\n├─────────────────────────────────┼────────────────────────┼───────────────┤\n│ dense_4 (\u001B[38;5;33mDense\u001B[0m)                 │ (\u001B[38;5;45mNone\u001B[0m, \u001B[38;5;34m2\u001B[0m)              │           \u001B[38;5;34m258\u001B[0m │\n└─────────────────────────────────┴────────────────────────┴───────────────┘\n",
      "text/html": "<pre style=\"white-space:pre;overflow-x:auto;line-height:normal;font-family:Menlo,'DejaVu Sans Mono',consolas,'Courier New',monospace\">┏━━━━━━━━━━━━━━━━━━━━━━━━━━━━━━━━━┳━━━━━━━━━━━━━━━━━━━━━━━━┳━━━━━━━━━━━━━━━┓\n┃<span style=\"font-weight: bold\"> Layer (type)                    </span>┃<span style=\"font-weight: bold\"> Output Shape           </span>┃<span style=\"font-weight: bold\">       Param # </span>┃\n┡━━━━━━━━━━━━━━━━━━━━━━━━━━━━━━━━━╇━━━━━━━━━━━━━━━━━━━━━━━━╇━━━━━━━━━━━━━━━┩\n│ bidirectional_6 (<span style=\"color: #0087ff; text-decoration-color: #0087ff\">Bidirectional</span>) │ (<span style=\"color: #00d7ff; text-decoration-color: #00d7ff\">None</span>, <span style=\"color: #00af00; text-decoration-color: #00af00\">1</span>, <span style=\"color: #00af00; text-decoration-color: #00af00\">512</span>)         │       <span style=\"color: #00af00; text-decoration-color: #00af00\">552,960</span> │\n├─────────────────────────────────┼────────────────────────┼───────────────┤\n│ lstm_15 (<span style=\"color: #0087ff; text-decoration-color: #0087ff\">LSTM</span>)                  │ (<span style=\"color: #00d7ff; text-decoration-color: #00d7ff\">None</span>, <span style=\"color: #00af00; text-decoration-color: #00af00\">128</span>)            │       <span style=\"color: #00af00; text-decoration-color: #00af00\">328,192</span> │\n├─────────────────────────────────┼────────────────────────┼───────────────┤\n│ dense_4 (<span style=\"color: #0087ff; text-decoration-color: #0087ff\">Dense</span>)                 │ (<span style=\"color: #00d7ff; text-decoration-color: #00d7ff\">None</span>, <span style=\"color: #00af00; text-decoration-color: #00af00\">2</span>)              │           <span style=\"color: #00af00; text-decoration-color: #00af00\">258</span> │\n└─────────────────────────────────┴────────────────────────┴───────────────┘\n</pre>\n"
     },
     "metadata": {},
     "output_type": "display_data"
    },
    {
     "data": {
      "text/plain": "\u001B[1m Total params: \u001B[0m\u001B[38;5;34m2,644,232\u001B[0m (10.09 MB)\n",
      "text/html": "<pre style=\"white-space:pre;overflow-x:auto;line-height:normal;font-family:Menlo,'DejaVu Sans Mono',consolas,'Courier New',monospace\"><span style=\"font-weight: bold\"> Total params: </span><span style=\"color: #00af00; text-decoration-color: #00af00\">2,644,232</span> (10.09 MB)\n</pre>\n"
     },
     "metadata": {},
     "output_type": "display_data"
    },
    {
     "data": {
      "text/plain": "\u001B[1m Trainable params: \u001B[0m\u001B[38;5;34m881,410\u001B[0m (3.36 MB)\n",
      "text/html": "<pre style=\"white-space:pre;overflow-x:auto;line-height:normal;font-family:Menlo,'DejaVu Sans Mono',consolas,'Courier New',monospace\"><span style=\"font-weight: bold\"> Trainable params: </span><span style=\"color: #00af00; text-decoration-color: #00af00\">881,410</span> (3.36 MB)\n</pre>\n"
     },
     "metadata": {},
     "output_type": "display_data"
    },
    {
     "data": {
      "text/plain": "\u001B[1m Non-trainable params: \u001B[0m\u001B[38;5;34m0\u001B[0m (0.00 B)\n",
      "text/html": "<pre style=\"white-space:pre;overflow-x:auto;line-height:normal;font-family:Menlo,'DejaVu Sans Mono',consolas,'Courier New',monospace\"><span style=\"font-weight: bold\"> Non-trainable params: </span><span style=\"color: #00af00; text-decoration-color: #00af00\">0</span> (0.00 B)\n</pre>\n"
     },
     "metadata": {},
     "output_type": "display_data"
    },
    {
     "data": {
      "text/plain": "\u001B[1m Optimizer params: \u001B[0m\u001B[38;5;34m1,762,822\u001B[0m (6.72 MB)\n",
      "text/html": "<pre style=\"white-space:pre;overflow-x:auto;line-height:normal;font-family:Menlo,'DejaVu Sans Mono',consolas,'Courier New',monospace\"><span style=\"font-weight: bold\"> Optimizer params: </span><span style=\"color: #00af00; text-decoration-color: #00af00\">1,762,822</span> (6.72 MB)\n</pre>\n"
     },
     "metadata": {},
     "output_type": "display_data"
    }
   ],
   "source": [
    "model.summary()"
   ],
   "metadata": {
    "collapsed": false,
    "ExecuteTime": {
     "end_time": "2024-04-02T12:40:49.593034Z",
     "start_time": "2024-04-02T12:40:49.583723Z"
    }
   },
   "id": "fcf610db28bf5eb2"
  },
  {
   "cell_type": "code",
   "execution_count": 17,
   "outputs": [],
   "source": [
    "from matplotlib import pyplot as plt"
   ],
   "metadata": {
    "collapsed": false,
    "ExecuteTime": {
     "end_time": "2024-04-02T12:30:29.892446Z",
     "start_time": "2024-04-02T12:30:29.891324Z"
    }
   },
   "id": "125e08c347710bd8"
  },
  {
   "cell_type": "code",
   "execution_count": 99,
   "outputs": [
    {
     "data": {
      "text/plain": "[<matplotlib.lines.Line2D at 0x336f5c970>]"
     },
     "execution_count": 99,
     "metadata": {},
     "output_type": "execute_result"
    },
    {
     "data": {
      "text/plain": "<Figure size 640x480 with 1 Axes>",
      "image/png": "[encoded data removed]"
     },
     "metadata": {},
     "output_type": "display_data"
    }
   ],
   "source": [
    "plt.plot(history.history['accuracy'], label='train')"
   ],
   "metadata": {
    "collapsed": false,
    "ExecuteTime": {
     "end_time": "2024-03-30T10:56:44.745459Z",
     "start_time": "2024-03-30T10:56:44.687411Z"
    }
   },
   "id": "d32ca96ff2e0e33f"
  },
  {
   "cell_type": "code",
   "execution_count": 100,
   "outputs": [
    {
     "name": "stdout",
     "output_type": "stream",
     "text": [
      "\u001B[1m841/841\u001B[0m \u001B[32m━━━━━━━━━━━━━━━━━━━━\u001B[0m\u001B[37m\u001B[0m \u001B[1m1s\u001B[0m 621us/step\n"
     ]
    },
    {
     "data": {
      "text/plain": "(array([[0.000e+00, 0.000e+00, 0.000e+00, 0.000e+00, 0.000e+00, 0.000e+00,\n         0.000e+00, 0.000e+00, 0.000e+00, 0.000e+00, 0.000e+00, 0.000e+00,\n         0.000e+00, 0.000e+00, 0.000e+00, 0.000e+00, 0.000e+00, 2.000e+00,\n         3.000e+00, 5.000e+00, 1.300e+01, 4.000e+01, 6.900e+01, 5.600e+01,\n         4.100e+01, 5.900e+01, 5.400e+01, 1.170e+02, 1.890e+02, 1.970e+02,\n         2.210e+02, 2.320e+02, 2.290e+02, 2.770e+02, 3.590e+02, 4.690e+02,\n         4.390e+02, 4.120e+02, 4.640e+02, 4.710e+02, 4.400e+02, 5.430e+02,\n         4.460e+02, 4.660e+02, 4.260e+02, 3.920e+02, 4.070e+02, 3.350e+02,\n         3.260e+02, 3.320e+02, 3.080e+02, 2.780e+02, 2.770e+02, 2.390e+02,\n         2.480e+02, 2.940e+02, 2.670e+02, 2.890e+02, 3.180e+02, 3.210e+02,\n         3.300e+02, 3.430e+02, 3.880e+02, 4.190e+02, 4.640e+02, 6.790e+02,\n         9.460e+02, 1.043e+03, 1.338e+03, 1.035e+03, 1.086e+03, 1.506e+03,\n         1.305e+03, 8.770e+02, 5.340e+02, 6.100e+02, 7.870e+02, 5.540e+02,\n         3.180e+02, 1.250e+02, 1.060e+02, 1.760e+02, 2.110e+02, 1.290e+02,\n         9.600e+01, 4.000e+01, 3.200e+01, 2.400e+01, 1.300e+01, 9.000e+00,\n         1.000e+01, 2.000e+00, 1.000e+00, 0.000e+00, 0.000e+00, 0.000e+00,\n         0.000e+00, 2.000e+00, 1.000e+00, 2.000e+00],\n        [2.000e+00, 2.000e+00, 1.000e+00, 0.000e+00, 0.000e+00, 0.000e+00,\n         2.000e+00, 5.000e+00, 1.300e+01, 1.000e+01, 1.600e+01, 1.900e+01,\n         2.300e+01, 3.500e+01, 7.500e+01, 1.080e+02, 1.400e+02, 1.850e+02,\n         1.490e+02, 1.040e+02, 1.900e+02, 2.900e+02, 4.780e+02, 7.050e+02,\n         6.050e+02, 4.710e+02, 7.660e+02, 1.082e+03, 1.330e+03, 1.315e+03,\n         8.940e+02, 1.093e+03, 1.302e+03, 9.840e+02, 8.550e+02, 6.140e+02,\n         4.550e+02, 4.000e+02, 3.740e+02, 3.390e+02, 3.220e+02, 3.270e+02,\n         2.860e+02, 2.620e+02, 2.940e+02, 2.700e+02, 2.310e+02, 2.490e+02,\n         2.680e+02, 3.140e+02, 3.090e+02, 3.130e+02, 3.110e+02, 3.550e+02,\n         3.960e+02, 3.800e+02, 4.200e+02, 4.520e+02, 4.570e+02, 4.770e+02,\n         4.800e+02, 4.420e+02, 4.700e+02, 4.040e+02, 4.250e+02, 4.920e+02,\n         3.100e+02, 3.080e+02, 2.530e+02, 2.280e+02, 2.060e+02, 2.080e+02,\n         1.500e+02, 9.900e+01, 4.900e+01, 5.900e+01, 4.500e+01, 5.000e+01,\n         5.800e+01, 3.800e+01, 3.000e+00, 7.000e+00, 3.000e+00, 0.000e+00,\n         0.000e+00, 0.000e+00, 0.000e+00, 0.000e+00, 0.000e+00, 0.000e+00,\n         0.000e+00, 0.000e+00, 0.000e+00, 0.000e+00, 0.000e+00, 0.000e+00,\n         0.000e+00, 0.000e+00, 0.000e+00, 0.000e+00]]),\n array([0.4401322 , 0.4413238 , 0.44251537, 0.44370693, 0.44489852,\n        0.4460901 , 0.4472817 , 0.44847324, 0.44966483, 0.45085642,\n        0.452048  , 0.4532396 , 0.45443115, 0.45562273, 0.45681432,\n        0.4580059 , 0.45919746, 0.46038905, 0.46158063, 0.46277222,\n        0.4639638 , 0.46515536, 0.46634695, 0.46753854, 0.46873012,\n        0.4699217 , 0.47111326, 0.47230485, 0.47349644, 0.47468802,\n        0.47587958, 0.47707117, 0.47826275, 0.47945434, 0.48064592,\n        0.48183748, 0.48302907, 0.48422065, 0.48541224, 0.4866038 ,\n        0.48779538, 0.48898697, 0.49017856, 0.49137014, 0.4925617 ,\n        0.49375328, 0.49494487, 0.49613646, 0.497328  , 0.4985196 ,\n        0.4997112 , 0.5009028 , 0.5020943 , 0.50328594, 0.5044775 ,\n        0.50566906, 0.5068607 , 0.50805223, 0.50924385, 0.5104354 ,\n        0.51162696, 0.5128186 , 0.51401013, 0.51520175, 0.5163933 ,\n        0.51758486, 0.5187765 , 0.51996803, 0.52115965, 0.5223512 ,\n        0.52354276, 0.5247344 , 0.52592593, 0.5271175 , 0.5283091 ,\n        0.52950066, 0.5306923 , 0.53188384, 0.5330754 , 0.534267  ,\n        0.53545856, 0.5366502 , 0.53784174, 0.5390333 , 0.5402249 ,\n        0.54141647, 0.5426081 , 0.54379964, 0.5449912 , 0.5461828 ,\n        0.54737437, 0.5485659 , 0.54975754, 0.5509491 , 0.5521407 ,\n        0.55333227, 0.5545238 , 0.55571544, 0.556907  , 0.5580986 ,\n        0.5592902 ], dtype=float32),\n <a list of 2 BarContainer objects>)"
     },
     "execution_count": 100,
     "metadata": {},
     "output_type": "execute_result"
    },
    {
     "data": {
      "text/plain": "<Figure size 640x480 with 1 Axes>",
      "image/png": "[encoded data removed]"
     },
     "metadata": {},
     "output_type": "display_data"
    }
   ],
   "source": [
    "plt.hist(model.predict(X_test_reshaped),bins=100)"
   ],
   "metadata": {
    "collapsed": false,
    "ExecuteTime": {
     "end_time": "2024-03-30T10:56:45.795382Z",
     "start_time": "2024-03-30T10:56:44.869729Z"
    }
   },
   "id": "46b2198c12fcc8fd"
  },
  {
   "cell_type": "code",
   "execution_count": 106,
   "outputs": [
    {
     "name": "stdout",
     "output_type": "stream",
     "text": [
      "\u001B[1m841/841\u001B[0m \u001B[32m━━━━━━━━━━━━━━━━━━━━\u001B[0m\u001B[37m\u001B[0m \u001B[1m0s\u001B[0m 450us/step\n"
     ]
    },
    {
     "name": "stderr",
     "output_type": "stream",
     "text": [
      "<__array_function__ internals>:180: RuntimeWarning: Converting input from bool to <class 'numpy.uint8'> for compatibility.\n"
     ]
    },
    {
     "data": {
      "text/plain": "(array([[14973.,     0.,     0.,     0.,     0.,     0.,     0.,     0.,\n             0.,     0.,     0.,     0.,     0.,     0.,     0.,     0.,\n             0.,     0.,     0.,     0.,     0.,     0.,     0.,     0.,\n             0.,     0.,     0.,     0.,     0.,     0.,     0.,     0.,\n             0.,     0.,     0.,     0.,     0.,     0.,     0.,     0.,\n             0.,     0.,     0.,     0.,     0.,     0.,     0.,     0.,\n             0.,     0.,     0.,     0.,     0.,     0.,     0.,     0.,\n             0.,     0.,     0.,     0.,     0.,     0.,     0.,     0.,\n             0.,     0.,     0.,     0.,     0.,     0.,     0.,     0.,\n             0.,     0.,     0.,     0.,     0.,     0.,     0.,     0.,\n             0.,     0.,     0.,     0.,     0.,     0.,     0.,     0.,\n             0.,     0.,     0.,     0.,     0.,     0.,     0.,     0.,\n             0.,     0.,     0., 11938.],\n        [25153.,     0.,     0.,     0.,     0.,     0.,     0.,     0.,\n             0.,     0.,     0.,     0.,     0.,     0.,     0.,     0.,\n             0.,     0.,     0.,     0.,     0.,     0.,     0.,     0.,\n             0.,     0.,     0.,     0.,     0.,     0.,     0.,     0.,\n             0.,     0.,     0.,     0.,     0.,     0.,     0.,     0.,\n             0.,     0.,     0.,     0.,     0.,     0.,     0.,     0.,\n             0.,     0.,     0.,     0.,     0.,     0.,     0.,     0.,\n             0.,     0.,     0.,     0.,     0.,     0.,     0.,     0.,\n             0.,     0.,     0.,     0.,     0.,     0.,     0.,     0.,\n             0.,     0.,     0.,     0.,     0.,     0.,     0.,     0.,\n             0.,     0.,     0.,     0.,     0.,     0.,     0.,     0.,\n             0.,     0.,     0.,     0.,     0.,     0.,     0.,     0.,\n             0.,     0.,     0.,  1758.]]),\n array([0.  , 0.01, 0.02, 0.03, 0.04, 0.05, 0.06, 0.07, 0.08, 0.09, 0.1 ,\n        0.11, 0.12, 0.13, 0.14, 0.15, 0.16, 0.17, 0.18, 0.19, 0.2 , 0.21,\n        0.22, 0.23, 0.24, 0.25, 0.26, 0.27, 0.28, 0.29, 0.3 , 0.31, 0.32,\n        0.33, 0.34, 0.35, 0.36, 0.37, 0.38, 0.39, 0.4 , 0.41, 0.42, 0.43,\n        0.44, 0.45, 0.46, 0.47, 0.48, 0.49, 0.5 , 0.51, 0.52, 0.53, 0.54,\n        0.55, 0.56, 0.57, 0.58, 0.59, 0.6 , 0.61, 0.62, 0.63, 0.64, 0.65,\n        0.66, 0.67, 0.68, 0.69, 0.7 , 0.71, 0.72, 0.73, 0.74, 0.75, 0.76,\n        0.77, 0.78, 0.79, 0.8 , 0.81, 0.82, 0.83, 0.84, 0.85, 0.86, 0.87,\n        0.88, 0.89, 0.9 , 0.91, 0.92, 0.93, 0.94, 0.95, 0.96, 0.97, 0.98,\n        0.99, 1.  ]),\n <a list of 2 BarContainer objects>)"
     },
     "execution_count": 106,
     "metadata": {},
     "output_type": "execute_result"
    },
    {
     "data": {
      "text/plain": "<Figure size 640x480 with 1 Axes>",
      "image/png": "[encoded data removed]"
     },
     "metadata": {},
     "output_type": "display_data"
    }
   ],
   "source": [
    "plt.hist(model.predict(X_test_reshaped) > 0.52,bins=100)"
   ],
   "metadata": {
    "collapsed": false,
    "ExecuteTime": {
     "end_time": "2024-03-30T10:57:45.570574Z",
     "start_time": "2024-03-30T10:57:44.973142Z"
    }
   },
   "id": "942e5f9c5be86f53"
  },
  {
   "cell_type": "code",
   "execution_count": 105,
   "outputs": [
    {
     "name": "stdout",
     "output_type": "stream",
     "text": [
      "\u001B[1m841/841\u001B[0m \u001B[32m━━━━━━━━━━━━━━━━━━━━\u001B[0m\u001B[37m\u001B[0m \u001B[1m0s\u001B[0m 439us/step\n"
     ]
    },
    {
     "name": "stderr",
     "output_type": "stream",
     "text": [
      "<__array_function__ internals>:180: RuntimeWarning: Converting input from bool to <class 'numpy.uint8'> for compatibility.\n"
     ]
    },
    {
     "data": {
      "text/plain": "(array([[21594.,     0.,     0.,     0.,     0.,     0.,     0.,     0.,\n             0.,     0.,     0.,     0.,     0.,     0.,     0.,     0.,\n             0.,     0.,     0.,     0.,     0.,     0.,     0.,     0.,\n             0.,     0.,     0.,     0.,     0.,     0.,     0.,     0.,\n             0.,     0.,     0.,     0.,     0.,     0.,     0.,     0.,\n             0.,     0.,     0.,     0.,     0.,     0.,     0.,     0.,\n             0.,     0.,     0.,     0.,     0.,     0.,     0.,     0.,\n             0.,     0.,     0.,     0.,     0.,     0.,     0.,     0.,\n             0.,     0.,     0.,     0.,     0.,     0.,     0.,     0.,\n             0.,     0.,     0.,     0.,     0.,     0.,     0.,     0.,\n             0.,     0.,     0.,     0.,     0.,     0.,     0.,     0.,\n             0.,     0.,     0.,     0.,     0.,     0.,     0.,     0.,\n             0.,     0.,     0.,  5317.],\n        [10878.,     0.,     0.,     0.,     0.,     0.,     0.,     0.,\n             0.,     0.,     0.,     0.,     0.,     0.,     0.,     0.,\n             0.,     0.,     0.,     0.,     0.,     0.,     0.,     0.,\n             0.,     0.,     0.,     0.,     0.,     0.,     0.,     0.,\n             0.,     0.,     0.,     0.,     0.,     0.,     0.,     0.,\n             0.,     0.,     0.,     0.,     0.,     0.,     0.,     0.,\n             0.,     0.,     0.,     0.,     0.,     0.,     0.,     0.,\n             0.,     0.,     0.,     0.,     0.,     0.,     0.,     0.,\n             0.,     0.,     0.,     0.,     0.,     0.,     0.,     0.,\n             0.,     0.,     0.,     0.,     0.,     0.,     0.,     0.,\n             0.,     0.,     0.,     0.,     0.,     0.,     0.,     0.,\n             0.,     0.,     0.,     0.,     0.,     0.,     0.,     0.,\n             0.,     0.,     0., 16033.]]),\n array([0.  , 0.01, 0.02, 0.03, 0.04, 0.05, 0.06, 0.07, 0.08, 0.09, 0.1 ,\n        0.11, 0.12, 0.13, 0.14, 0.15, 0.16, 0.17, 0.18, 0.19, 0.2 , 0.21,\n        0.22, 0.23, 0.24, 0.25, 0.26, 0.27, 0.28, 0.29, 0.3 , 0.31, 0.32,\n        0.33, 0.34, 0.35, 0.36, 0.37, 0.38, 0.39, 0.4 , 0.41, 0.42, 0.43,\n        0.44, 0.45, 0.46, 0.47, 0.48, 0.49, 0.5 , 0.51, 0.52, 0.53, 0.54,\n        0.55, 0.56, 0.57, 0.58, 0.59, 0.6 , 0.61, 0.62, 0.63, 0.64, 0.65,\n        0.66, 0.67, 0.68, 0.69, 0.7 , 0.71, 0.72, 0.73, 0.74, 0.75, 0.76,\n        0.77, 0.78, 0.79, 0.8 , 0.81, 0.82, 0.83, 0.84, 0.85, 0.86, 0.87,\n        0.88, 0.89, 0.9 , 0.91, 0.92, 0.93, 0.94, 0.95, 0.96, 0.97, 0.98,\n        0.99, 1.  ]),\n <a list of 2 BarContainer objects>)"
     },
     "execution_count": 105,
     "metadata": {},
     "output_type": "execute_result"
    },
    {
     "data": {
      "text/plain": "<Figure size 640x480 with 1 Axes>",
      "image/png": "[encoded data removed]"
     },
     "metadata": {},
     "output_type": "display_data"
    }
   ],
   "source": [
    "plt.hist(model.predict(X_test_reshaped) <  0.49,bins=100)"
   ],
   "metadata": {
    "collapsed": false,
    "ExecuteTime": {
     "end_time": "2024-03-30T10:57:36.776125Z",
     "start_time": "2024-03-30T10:57:36.177113Z"
    }
   },
   "id": "9350d7c61870e608"
  },
  {
   "cell_type": "code",
   "execution_count": 104,
   "outputs": [
    {
     "name": "stdout",
     "output_type": "stream",
     "text": [
      "\u001B[1m841/841\u001B[0m \u001B[32m━━━━━━━━━━━━━━━━━━━━\u001B[0m\u001B[37m\u001B[0m \u001B[1m0s\u001B[0m 423us/step\n"
     ]
    },
    {
     "data": {
      "text/plain": "26911"
     },
     "execution_count": 104,
     "metadata": {},
     "output_type": "execute_result"
    }
   ],
   "source": [
    "len(pd.DataFrame(model.predict(X_test_reshaped)))"
   ],
   "metadata": {
    "collapsed": false,
    "ExecuteTime": {
     "end_time": "2024-03-30T10:57:13.267720Z",
     "start_time": "2024-03-30T10:57:12.823452Z"
    }
   },
   "id": "780d25a5dfa29682"
  },
  {
   "cell_type": "code",
   "execution_count": null,
   "outputs": [],
   "source": [
    "len(X_test_reshaped)"
   ],
   "metadata": {
    "collapsed": false
   },
   "id": "8ff0ae03029a8651"
  },
  {
   "cell_type": "code",
   "execution_count": 78,
   "outputs": [
    {
     "name": "stdout",
     "output_type": "stream",
     "text": [
      "\u001B[1m1107/1107\u001B[0m \u001B[32m━━━━━━━━━━━━━━━━━━━━\u001B[0m\u001B[37m\u001B[0m \u001B[1m1s\u001B[0m 485us/step\n"
     ]
    }
   ],
   "source": [
    "pred = pd.DataFrame(model.predict(X_test_reshaped))"
   ],
   "metadata": {
    "collapsed": false,
    "ExecuteTime": {
     "end_time": "2024-03-30T10:53:23.625429Z",
     "start_time": "2024-03-30T10:53:22.956829Z"
    }
   },
   "id": "399925bb64dbf928"
  },
  {
   "cell_type": "code",
   "execution_count": null,
   "outputs": [],
   "source": [
    "pred[pred[0] > 0.52]"
   ],
   "metadata": {
    "collapsed": false
   },
   "id": "f9b7e1ebc2e8af7c"
  },
  {
   "cell_type": "code",
   "execution_count": null,
   "outputs": [],
   "source": [
    "pred[pred[1] > 0.52]"
   ],
   "metadata": {
    "collapsed": false
   },
   "id": "55a086f5cb108427"
  },
  {
   "cell_type": "code",
   "execution_count": null,
   "outputs": [],
   "source": [
    "pred"
   ],
   "metadata": {
    "collapsed": false
   },
   "id": "84ec2f4718e36334"
  },
  {
   "cell_type": "code",
   "execution_count": 85,
   "outputs": [],
   "source": [
    "import glob\n",
    "import os\n",
    "import pathlib\n",
    "import time\n",
    "import pickle\n",
    "\n",
    "from colorama import Fore, Style\n",
    "from tensorflow import keras\n",
    "\n",
    "from aitrading import params\n",
    "\n",
    "\n",
    "# from aitrading.params import *\n",
    "\n",
    "def save_model(model: keras.Model = None) -> None:\n",
    "    \"\"\"\n",
    "    Persist trained model locally on the hard drive at f\"{LOCAL_REGISTRY_PATH}/models/{timestamp}.h5\"\n",
    "    - if MODEL_TARGET='gcs', also persist it in your bucket on GCS at \"models/{timestamp}.h5\" --> unit 02 only\n",
    "    - if MODEL_TARGET='mlflow', also persist it on MLflow instead of GCS (for unit 0703 only) --> unit 03 only\n",
    "    \"\"\"\n",
    "\n",
    "    timestamp = time.strftime(\"%Y%m%d-%H%M%S\")\n",
    "\n",
    "    # Save model locally\n",
    "    model_path = os.path.join(params.LOCAL_PATH, \"models\", f\"{timestamp}.h5\")\n",
    "    model.save(model_path)\n",
    "\n",
    "    print(\"✅ Model saved locally\")\n",
    "    return None"
   ],
   "metadata": {
    "collapsed": false,
    "ExecuteTime": {
     "end_time": "2024-04-02T15:03:35.164171Z",
     "start_time": "2024-04-02T15:03:35.155834Z"
    }
   },
   "id": "728140feeee873ac"
  },
  {
   "cell_type": "code",
   "execution_count": 86,
   "outputs": [
    {
     "ename": "AttributeError",
     "evalue": "module 'aitrading.params' has no attribute 'LOCAL_PATH'",
     "output_type": "error",
     "traceback": [
      "\u001B[0;31m---------------------------------------------------------------------------\u001B[0m",
      "\u001B[0;31mAttributeError\u001B[0m                            Traceback (most recent call last)",
      "Cell \u001B[0;32mIn [86], line 1\u001B[0m\n\u001B[0;32m----> 1\u001B[0m \u001B[43msave_model\u001B[49m\u001B[43m(\u001B[49m\u001B[43mmodel\u001B[49m\u001B[43m)\u001B[49m\n",
      "Cell \u001B[0;32mIn [85], line 25\u001B[0m, in \u001B[0;36msave_model\u001B[0;34m(model)\u001B[0m\n\u001B[1;32m     22\u001B[0m timestamp \u001B[38;5;241m=\u001B[39m time\u001B[38;5;241m.\u001B[39mstrftime(\u001B[38;5;124m\"\u001B[39m\u001B[38;5;124m%\u001B[39m\u001B[38;5;124mY\u001B[39m\u001B[38;5;124m%\u001B[39m\u001B[38;5;124mm\u001B[39m\u001B[38;5;132;01m%d\u001B[39;00m\u001B[38;5;124m-\u001B[39m\u001B[38;5;124m%\u001B[39m\u001B[38;5;124mH\u001B[39m\u001B[38;5;124m%\u001B[39m\u001B[38;5;124mM\u001B[39m\u001B[38;5;124m%\u001B[39m\u001B[38;5;124mS\u001B[39m\u001B[38;5;124m\"\u001B[39m)\n\u001B[1;32m     24\u001B[0m \u001B[38;5;66;03m# Save model locally\u001B[39;00m\n\u001B[0;32m---> 25\u001B[0m model_path \u001B[38;5;241m=\u001B[39m os\u001B[38;5;241m.\u001B[39mpath\u001B[38;5;241m.\u001B[39mjoin(\u001B[43mparams\u001B[49m\u001B[38;5;241;43m.\u001B[39;49m\u001B[43mLOCAL_PATH\u001B[49m, \u001B[38;5;124m\"\u001B[39m\u001B[38;5;124mmodels\u001B[39m\u001B[38;5;124m\"\u001B[39m, \u001B[38;5;124mf\u001B[39m\u001B[38;5;124m\"\u001B[39m\u001B[38;5;132;01m{\u001B[39;00mtimestamp\u001B[38;5;132;01m}\u001B[39;00m\u001B[38;5;124m.h5\u001B[39m\u001B[38;5;124m\"\u001B[39m)\n\u001B[1;32m     26\u001B[0m model\u001B[38;5;241m.\u001B[39msave(model_path)\n\u001B[1;32m     28\u001B[0m \u001B[38;5;28mprint\u001B[39m(\u001B[38;5;124m\"\u001B[39m\u001B[38;5;124m✅ Model saved locally\u001B[39m\u001B[38;5;124m\"\u001B[39m)\n",
      "\u001B[0;31mAttributeError\u001B[0m: module 'aitrading.params' has no attribute 'LOCAL_PATH'"
     ]
    }
   ],
   "source": [
    "save_model(model)"
   ],
   "metadata": {
    "collapsed": false,
    "ExecuteTime": {
     "end_time": "2024-04-02T15:03:36.113608Z",
     "start_time": "2024-04-02T15:03:36.111962Z"
    }
   },
   "id": "161be2c8b62dfd71"
  },
  {
   "cell_type": "code",
   "execution_count": null,
   "outputs": [],
   "source": [],
   "metadata": {
    "collapsed": false
   },
   "id": "551a0620920020df"
  }
 ],
 "metadata": {
  "kernelspec": {
   "display_name": "Python 3",
   "language": "python",
   "name": "python3"
  },
  "language_info": {
   "codemirror_mode": {
    "name": "ipython",
    "version": 2
   },
   "file_extension": ".py",
   "mimetype": "text/x-python",
   "name": "python",
   "nbconvert_exporter": "python",
   "pygments_lexer": "ipython2",
   "version": "2.7.6"
  }
 },
 "nbformat": 4,
 "nbformat_minor": 5
}
