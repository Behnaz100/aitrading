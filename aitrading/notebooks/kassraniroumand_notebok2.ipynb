{
 "cells": [
  {
   "cell_type": "code",
   "execution_count": 15,
   "outputs": [],
   "source": [
    "import json\n",
    "\n",
    "import tensorflow as tf\n",
    "from tensorflow import keras\n",
    "from tensorflow.keras.layers import Input, LSTM, GRU, SimpleRNN, Dense, GlobalMaxPool1D\n",
    "from keras.models import Sequential\n",
    "from tensorflow.keras.models import Model\n",
    "from tensorflow.keras.optimizers import SGD, Adam\n",
    "import numpy as np\n",
    "import pandas as pd\n",
    "import matplotlib.pyplot as plt\n",
    "from sklearn.preprocessing import StandardScaler\n",
    "from tensorflow.keras.utils import to_categorical\n",
    "from tensorflow.keras.callbacks import EarlyStopping\n",
    "from aitrading.ml_logic.preprocessor import split_data\n",
    "import pandas as pd\n",
    "import os\n",
    "from pathlib import Path\n",
    "from pandas import to_datetime"
   ],
   "metadata": {
    "collapsed": false,
    "ExecuteTime": {
     "end_time": "2024-03-21T16:07:02.337486Z",
     "start_time": "2024-03-21T16:07:02.329918Z"
    }
   },
   "id": "initial_id"
  },
  {
   "cell_type": "code",
   "execution_count": 16,
   "outputs": [],
   "source": [
    "\n",
    "from aitrading.ml_logic.preprocessor import preprocess_date"
   ],
   "metadata": {
    "collapsed": false,
    "ExecuteTime": {
     "end_time": "2024-03-21T16:07:02.856370Z",
     "start_time": "2024-03-21T16:07:02.848201Z"
    }
   },
   "id": "479f9a0d554dce7e"
  },
  {
   "cell_type": "code",
   "execution_count": 17,
   "outputs": [],
   "source": [
    "file_path = Path.cwd().parent / 'data' / 'eurousd_df2.csv'"
   ],
   "metadata": {
    "collapsed": false,
    "ExecuteTime": {
     "end_time": "2024-03-21T16:07:03.442858Z",
     "start_time": "2024-03-21T16:07:03.437511Z"
    }
   },
   "id": "8265bcc6cf0f3cc9"
  },
  {
   "cell_type": "code",
   "execution_count": 18,
   "outputs": [],
   "source": [
    "df2 = pd.read_csv(file_path, index_col=\"datetime\", parse_dates=True)"
   ],
   "metadata": {
    "collapsed": false,
    "ExecuteTime": {
     "end_time": "2024-03-21T16:07:04.548919Z",
     "start_time": "2024-03-21T16:07:03.837442Z"
    }
   },
   "id": "a247561d8c6e6117"
  },
  {
   "cell_type": "markdown",
   "source": [],
   "metadata": {
    "collapsed": false
   },
   "id": "41f3131794fc98f0"
  },
  {
   "cell_type": "code",
   "execution_count": 19,
   "outputs": [
    {
     "data": {
      "text/plain": "                        open     high      low    close  volume\ndatetime                                                       \n2022-01-02 00:00:00  1.12399  1.12422  1.12399  1.12403     451\n2022-01-02 00:05:00  1.12403  1.12411  1.12388  1.12405     408\n2022-01-02 00:10:00  1.12404  1.12405  1.12386  1.12390     328\n2022-01-02 00:15:00  1.12390  1.12392  1.12374  1.12386     383\n2022-01-02 00:20:00  1.12387  1.12387  1.12363  1.12365     336\n...                      ...      ...      ...      ...     ...\n2022-01-02 23:35:00  1.12753  1.12753  1.12743  1.12745     155\n2022-01-02 23:40:00  1.12745  1.12751  1.12725  1.12725     297\n2022-01-02 23:45:00  1.12725  1.12731  1.12707  1.12730     361\n2022-01-02 23:50:00  1.12730  1.12731  1.12723  1.12725     191\n2022-01-02 23:55:00  1.12726  1.12737  1.12714  1.12730     288\n\n[288 rows x 5 columns]",
      "text/html": "<div>\n<style scoped>\n    .dataframe tbody tr th:only-of-type {\n        vertical-align: middle;\n    }\n\n    .dataframe tbody tr th {\n        vertical-align: top;\n    }\n\n    .dataframe thead th {\n        text-align: right;\n    }\n</style>\n<table border=\"1\" class=\"dataframe\">\n  <thead>\n    <tr style=\"text-align: right;\">\n      <th></th>\n      <th>open</th>\n      <th>high</th>\n      <th>low</th>\n      <th>close</th>\n      <th>volume</th>\n    </tr>\n    <tr>\n      <th>datetime</th>\n      <th></th>\n      <th></th>\n      <th></th>\n      <th></th>\n      <th></th>\n    </tr>\n  </thead>\n  <tbody>\n    <tr>\n      <th>2022-01-02 00:00:00</th>\n      <td>1.12399</td>\n      <td>1.12422</td>\n      <td>1.12399</td>\n      <td>1.12403</td>\n      <td>451</td>\n    </tr>\n    <tr>\n      <th>2022-01-02 00:05:00</th>\n      <td>1.12403</td>\n      <td>1.12411</td>\n      <td>1.12388</td>\n      <td>1.12405</td>\n      <td>408</td>\n    </tr>\n    <tr>\n      <th>2022-01-02 00:10:00</th>\n      <td>1.12404</td>\n      <td>1.12405</td>\n      <td>1.12386</td>\n      <td>1.12390</td>\n      <td>328</td>\n    </tr>\n    <tr>\n      <th>2022-01-02 00:15:00</th>\n      <td>1.12390</td>\n      <td>1.12392</td>\n      <td>1.12374</td>\n      <td>1.12386</td>\n      <td>383</td>\n    </tr>\n    <tr>\n      <th>2022-01-02 00:20:00</th>\n      <td>1.12387</td>\n      <td>1.12387</td>\n      <td>1.12363</td>\n      <td>1.12365</td>\n      <td>336</td>\n    </tr>\n    <tr>\n      <th>...</th>\n      <td>...</td>\n      <td>...</td>\n      <td>...</td>\n      <td>...</td>\n      <td>...</td>\n    </tr>\n    <tr>\n      <th>2022-01-02 23:35:00</th>\n      <td>1.12753</td>\n      <td>1.12753</td>\n      <td>1.12743</td>\n      <td>1.12745</td>\n      <td>155</td>\n    </tr>\n    <tr>\n      <th>2022-01-02 23:40:00</th>\n      <td>1.12745</td>\n      <td>1.12751</td>\n      <td>1.12725</td>\n      <td>1.12725</td>\n      <td>297</td>\n    </tr>\n    <tr>\n      <th>2022-01-02 23:45:00</th>\n      <td>1.12725</td>\n      <td>1.12731</td>\n      <td>1.12707</td>\n      <td>1.12730</td>\n      <td>361</td>\n    </tr>\n    <tr>\n      <th>2022-01-02 23:50:00</th>\n      <td>1.12730</td>\n      <td>1.12731</td>\n      <td>1.12723</td>\n      <td>1.12725</td>\n      <td>191</td>\n    </tr>\n    <tr>\n      <th>2022-01-02 23:55:00</th>\n      <td>1.12726</td>\n      <td>1.12737</td>\n      <td>1.12714</td>\n      <td>1.12730</td>\n      <td>288</td>\n    </tr>\n  </tbody>\n</table>\n<p>288 rows × 5 columns</p>\n</div>"
     },
     "execution_count": 19,
     "metadata": {},
     "output_type": "execute_result"
    }
   ],
   "source": [
    "df2[(df2.index.day == 2) & (df2.index.month == 1) & (df2.index.year == 2022)]"
   ],
   "metadata": {
    "collapsed": false,
    "ExecuteTime": {
     "end_time": "2024-03-21T16:07:05.772629Z",
     "start_time": "2024-03-21T16:07:05.689956Z"
    }
   },
   "id": "d5393723c7f8abc8"
  },
  {
   "cell_type": "code",
   "execution_count": 20,
   "outputs": [
    {
     "data": {
      "text/plain": "Index(['open', 'high', 'low', 'close', 'volume'], dtype='object')"
     },
     "execution_count": 20,
     "metadata": {},
     "output_type": "execute_result"
    }
   ],
   "source": [
    "df2.columns"
   ],
   "metadata": {
    "collapsed": false,
    "ExecuteTime": {
     "end_time": "2024-03-21T16:07:06.435192Z",
     "start_time": "2024-03-21T16:07:06.429100Z"
    }
   },
   "id": "306db01a4f306103"
  },
  {
   "cell_type": "code",
   "execution_count": 21,
   "outputs": [],
   "source": [
    "import pandas as pd\n",
    "import numpy as np\n",
    "from datetime import datetime, timedelta\n",
    "\n",
    "def custom_df_to_windowed_df(dataframe, first_date_str, last_date_str, included_columns, n=3):\n",
    "    \"\"\"\n",
    "    Create a windowed dataframe within a specified date range for selected columns in the dataframe,\n",
    "    with dynamic column naming based on original feature names and their position in the window. The function\n",
    "    increments the target date by 5 minutes for each step. The 'Target Date' becomes the index of the returned DataFrame.\n",
    "\n",
    "    Parameters:\n",
    "    - dataframe: The input DataFrame with a datetime index.\n",
    "    - first_date_str, last_date_str: The date range for creating the windowed DataFrame, as strings.\n",
    "    - included_columns: List of column names to be included in the windowed DataFrame.\n",
    "    - n: The number of previous records to include in each window.\n",
    "\n",
    "    Returns:\n",
    "    - A DataFrame where each row contains n previous records of selected data leading up to a target date,\n",
    "      with columns dynamically named based on their original feature names and window position. The 'Target Date'\n",
    "      column is used as the index.\n",
    "    \"\"\"\n",
    "    print(f'Creating windowed dataframe from {first_date_str} to {last_date_str}')\n",
    "    try:\n",
    "        first_date = pd.to_datetime(first_date_str)\n",
    "        last_date = pd.to_datetime(last_date_str)\n",
    "    except ValueError as e:\n",
    "        print(f\"Error converting dates: {e}\")\n",
    "        return pd.DataFrame()\n",
    "\n",
    "    dataframe.sort_index(inplace=True)  # Ensure the DataFrame's index is sorted\n",
    "\n",
    "    target_date = first_date\n",
    "\n",
    "    dates, windowed_data = [], []\n",
    "\n",
    "    def generate_column_names(features, n):\n",
    "        column_names = []\n",
    "        for feature in features:\n",
    "            for i in range(n, 0, -1):\n",
    "                column_names.append(f'{feature}_T-{i}')\n",
    "            column_names.append(f'{feature}_Target')\n",
    "        return column_names\n",
    "\n",
    "    while target_date <= last_date:\n",
    "        df_subset = dataframe.loc[:target_date, included_columns].tail(n + 1)\n",
    "\n",
    "        if len(df_subset) < n + 1:\n",
    "            print(f'Warning: Window of size {n} is too large for date {target_date}. Skipping.')\n",
    "            target_date += timedelta(minutes=5)  # Increment the target date by 5 minutes\n",
    "            continue\n",
    "\n",
    "        window = df_subset.to_numpy()\n",
    "        window_flat = window[:-1].flatten()\n",
    "        y = window[-1, :]\n",
    "        windowed_data.append(np.concatenate([window_flat, y]))\n",
    "\n",
    "        dates.append(target_date)\n",
    "\n",
    "        target_date += timedelta(minutes=5)  # Increment the target date by 5 minutes\n",
    "\n",
    "    column_names = generate_column_names(included_columns, n)\n",
    "    ret_df = pd.DataFrame(windowed_data, columns=column_names)\n",
    "    ret_df['Target Date'] = dates\n",
    "    ret_df.set_index('Target Date', inplace=True)  # Set 'Target Date' as the index\n",
    "\n",
    "    return ret_df"
   ],
   "metadata": {
    "collapsed": false,
    "ExecuteTime": {
     "end_time": "2024-03-21T16:07:07.056498Z",
     "start_time": "2024-03-21T16:07:07.049653Z"
    }
   },
   "id": "cb54b9ae823a1f22"
  },
  {
   "cell_type": "code",
   "execution_count": 22,
   "outputs": [],
   "source": [
    "included_columns = ['close', 'high']  # Columns to include in the windowed data\n",
    "first_date_str = '2022-01-02'\n",
    "last_date_str = '2023-01-03'\n",
    "n = 3  # Number of past observations to include\n"
   ],
   "metadata": {
    "collapsed": false,
    "ExecuteTime": {
     "end_time": "2024-03-21T16:07:09.500561Z",
     "start_time": "2024-03-21T16:07:09.491081Z"
    }
   },
   "id": "1d873ad0c545da27"
  },
  {
   "cell_type": "code",
   "execution_count": 23,
   "outputs": [
    {
     "name": "stdout",
     "output_type": "stream",
     "text": [
      "Creating windowed dataframe from 2022-01-02 to 2023-01-03\n"
     ]
    },
    {
     "ename": "KeyboardInterrupt",
     "evalue": "",
     "output_type": "error",
     "traceback": [
      "\u001B[0;31m---------------------------------------------------------------------------\u001B[0m",
      "\u001B[0;31mKeyboardInterrupt\u001B[0m                         Traceback (most recent call last)",
      "Cell \u001B[0;32mIn [23], line 1\u001B[0m\n\u001B[0;32m----> 1\u001B[0m windowed_df \u001B[38;5;241m=\u001B[39m \u001B[43mcustom_df_to_windowed_df\u001B[49m\u001B[43m(\u001B[49m\u001B[43mdf2\u001B[49m\u001B[43m,\u001B[49m\u001B[43m \u001B[49m\u001B[43mfirst_date_str\u001B[49m\u001B[43m,\u001B[49m\u001B[43m \u001B[49m\u001B[43mlast_date_str\u001B[49m\u001B[43m,\u001B[49m\u001B[43m \u001B[49m\u001B[43mincluded_columns\u001B[49m\u001B[43m,\u001B[49m\u001B[43m \u001B[49m\u001B[43mn\u001B[49m\u001B[43m)\u001B[49m\n",
      "Cell \u001B[0;32mIn [21], line 45\u001B[0m, in \u001B[0;36mcustom_df_to_windowed_df\u001B[0;34m(dataframe, first_date_str, last_date_str, included_columns, n)\u001B[0m\n\u001B[1;32m     42\u001B[0m     \u001B[38;5;28;01mreturn\u001B[39;00m column_names\n\u001B[1;32m     44\u001B[0m \u001B[38;5;28;01mwhile\u001B[39;00m target_date \u001B[38;5;241m<\u001B[39m\u001B[38;5;241m=\u001B[39m last_date:\n\u001B[0;32m---> 45\u001B[0m     df_subset \u001B[38;5;241m=\u001B[39m \u001B[43mdataframe\u001B[49m\u001B[38;5;241;43m.\u001B[39;49m\u001B[43mloc\u001B[49m\u001B[43m[\u001B[49m\u001B[43m:\u001B[49m\u001B[43mtarget_date\u001B[49m\u001B[43m,\u001B[49m\u001B[43m \u001B[49m\u001B[43mincluded_columns\u001B[49m\u001B[43m]\u001B[49m\u001B[38;5;241m.\u001B[39mtail(n \u001B[38;5;241m+\u001B[39m \u001B[38;5;241m1\u001B[39m)\n\u001B[1;32m     47\u001B[0m     \u001B[38;5;28;01mif\u001B[39;00m \u001B[38;5;28mlen\u001B[39m(df_subset) \u001B[38;5;241m<\u001B[39m n \u001B[38;5;241m+\u001B[39m \u001B[38;5;241m1\u001B[39m:\n\u001B[1;32m     48\u001B[0m         \u001B[38;5;28mprint\u001B[39m(\u001B[38;5;124mf\u001B[39m\u001B[38;5;124m'\u001B[39m\u001B[38;5;124mWarning: Window of size \u001B[39m\u001B[38;5;132;01m{\u001B[39;00mn\u001B[38;5;132;01m}\u001B[39;00m\u001B[38;5;124m is too large for date \u001B[39m\u001B[38;5;132;01m{\u001B[39;00mtarget_date\u001B[38;5;132;01m}\u001B[39;00m\u001B[38;5;124m. Skipping.\u001B[39m\u001B[38;5;124m'\u001B[39m)\n",
      "File \u001B[0;32m~/.pyenv/versions/3.10.6/envs/lewagon/lib/python3.10/site-packages/pandas/core/indexing.py:1067\u001B[0m, in \u001B[0;36m_LocationIndexer.__getitem__\u001B[0;34m(self, key)\u001B[0m\n\u001B[1;32m   1065\u001B[0m     \u001B[38;5;28;01mif\u001B[39;00m \u001B[38;5;28mself\u001B[39m\u001B[38;5;241m.\u001B[39m_is_scalar_access(key):\n\u001B[1;32m   1066\u001B[0m         \u001B[38;5;28;01mreturn\u001B[39;00m \u001B[38;5;28mself\u001B[39m\u001B[38;5;241m.\u001B[39mobj\u001B[38;5;241m.\u001B[39m_get_value(\u001B[38;5;241m*\u001B[39mkey, takeable\u001B[38;5;241m=\u001B[39m\u001B[38;5;28mself\u001B[39m\u001B[38;5;241m.\u001B[39m_takeable)\n\u001B[0;32m-> 1067\u001B[0m     \u001B[38;5;28;01mreturn\u001B[39;00m \u001B[38;5;28;43mself\u001B[39;49m\u001B[38;5;241;43m.\u001B[39;49m\u001B[43m_getitem_tuple\u001B[49m\u001B[43m(\u001B[49m\u001B[43mkey\u001B[49m\u001B[43m)\u001B[49m\n\u001B[1;32m   1068\u001B[0m \u001B[38;5;28;01melse\u001B[39;00m:\n\u001B[1;32m   1069\u001B[0m     \u001B[38;5;66;03m# we by definition only have the 0th axis\u001B[39;00m\n\u001B[1;32m   1070\u001B[0m     axis \u001B[38;5;241m=\u001B[39m \u001B[38;5;28mself\u001B[39m\u001B[38;5;241m.\u001B[39maxis \u001B[38;5;129;01mor\u001B[39;00m \u001B[38;5;241m0\u001B[39m\n",
      "File \u001B[0;32m~/.pyenv/versions/3.10.6/envs/lewagon/lib/python3.10/site-packages/pandas/core/indexing.py:1256\u001B[0m, in \u001B[0;36m_LocIndexer._getitem_tuple\u001B[0;34m(self, tup)\u001B[0m\n\u001B[1;32m   1253\u001B[0m \u001B[38;5;28;01mif\u001B[39;00m \u001B[38;5;28mself\u001B[39m\u001B[38;5;241m.\u001B[39m_multi_take_opportunity(tup):\n\u001B[1;32m   1254\u001B[0m     \u001B[38;5;28;01mreturn\u001B[39;00m \u001B[38;5;28mself\u001B[39m\u001B[38;5;241m.\u001B[39m_multi_take(tup)\n\u001B[0;32m-> 1256\u001B[0m \u001B[38;5;28;01mreturn\u001B[39;00m \u001B[38;5;28;43mself\u001B[39;49m\u001B[38;5;241;43m.\u001B[39;49m\u001B[43m_getitem_tuple_same_dim\u001B[49m\u001B[43m(\u001B[49m\u001B[43mtup\u001B[49m\u001B[43m)\u001B[49m\n",
      "File \u001B[0;32m~/.pyenv/versions/3.10.6/envs/lewagon/lib/python3.10/site-packages/pandas/core/indexing.py:924\u001B[0m, in \u001B[0;36m_LocationIndexer._getitem_tuple_same_dim\u001B[0;34m(self, tup)\u001B[0m\n\u001B[1;32m    921\u001B[0m \u001B[38;5;28;01mif\u001B[39;00m com\u001B[38;5;241m.\u001B[39mis_null_slice(key):\n\u001B[1;32m    922\u001B[0m     \u001B[38;5;28;01mcontinue\u001B[39;00m\n\u001B[0;32m--> 924\u001B[0m retval \u001B[38;5;241m=\u001B[39m \u001B[38;5;28;43mgetattr\u001B[39;49m\u001B[43m(\u001B[49m\u001B[43mretval\u001B[49m\u001B[43m,\u001B[49m\u001B[43m \u001B[49m\u001B[38;5;28;43mself\u001B[39;49m\u001B[38;5;241;43m.\u001B[39;49m\u001B[43mname\u001B[49m\u001B[43m)\u001B[49m\u001B[38;5;241;43m.\u001B[39;49m\u001B[43m_getitem_axis\u001B[49m\u001B[43m(\u001B[49m\u001B[43mkey\u001B[49m\u001B[43m,\u001B[49m\u001B[43m \u001B[49m\u001B[43maxis\u001B[49m\u001B[38;5;241;43m=\u001B[39;49m\u001B[43mi\u001B[49m\u001B[43m)\u001B[49m\n\u001B[1;32m    925\u001B[0m \u001B[38;5;66;03m# We should never have retval.ndim < self.ndim, as that should\u001B[39;00m\n\u001B[1;32m    926\u001B[0m \u001B[38;5;66;03m#  be handled by the _getitem_lowerdim call above.\u001B[39;00m\n\u001B[1;32m    927\u001B[0m \u001B[38;5;28;01massert\u001B[39;00m retval\u001B[38;5;241m.\u001B[39mndim \u001B[38;5;241m==\u001B[39m \u001B[38;5;28mself\u001B[39m\u001B[38;5;241m.\u001B[39mndim\n",
      "File \u001B[0;32m~/.pyenv/versions/3.10.6/envs/lewagon/lib/python3.10/site-packages/pandas/core/indexing.py:1301\u001B[0m, in \u001B[0;36m_LocIndexer._getitem_axis\u001B[0;34m(self, key, axis)\u001B[0m\n\u001B[1;32m   1298\u001B[0m     \u001B[38;5;28;01mif\u001B[39;00m \u001B[38;5;28mhasattr\u001B[39m(key, \u001B[38;5;124m\"\u001B[39m\u001B[38;5;124mndim\u001B[39m\u001B[38;5;124m\"\u001B[39m) \u001B[38;5;129;01mand\u001B[39;00m key\u001B[38;5;241m.\u001B[39mndim \u001B[38;5;241m>\u001B[39m \u001B[38;5;241m1\u001B[39m:\n\u001B[1;32m   1299\u001B[0m         \u001B[38;5;28;01mraise\u001B[39;00m \u001B[38;5;167;01mValueError\u001B[39;00m(\u001B[38;5;124m\"\u001B[39m\u001B[38;5;124mCannot index with multidimensional key\u001B[39m\u001B[38;5;124m\"\u001B[39m)\n\u001B[0;32m-> 1301\u001B[0m     \u001B[38;5;28;01mreturn\u001B[39;00m \u001B[38;5;28;43mself\u001B[39;49m\u001B[38;5;241;43m.\u001B[39;49m\u001B[43m_getitem_iterable\u001B[49m\u001B[43m(\u001B[49m\u001B[43mkey\u001B[49m\u001B[43m,\u001B[49m\u001B[43m \u001B[49m\u001B[43maxis\u001B[49m\u001B[38;5;241;43m=\u001B[39;49m\u001B[43maxis\u001B[49m\u001B[43m)\u001B[49m\n\u001B[1;32m   1303\u001B[0m \u001B[38;5;66;03m# nested tuple slicing\u001B[39;00m\n\u001B[1;32m   1304\u001B[0m \u001B[38;5;28;01mif\u001B[39;00m is_nested_tuple(key, labels):\n",
      "File \u001B[0;32m~/.pyenv/versions/3.10.6/envs/lewagon/lib/python3.10/site-packages/pandas/core/indexing.py:1240\u001B[0m, in \u001B[0;36m_LocIndexer._getitem_iterable\u001B[0;34m(self, key, axis)\u001B[0m\n\u001B[1;32m   1238\u001B[0m \u001B[38;5;66;03m# A collection of keys\u001B[39;00m\n\u001B[1;32m   1239\u001B[0m keyarr, indexer \u001B[38;5;241m=\u001B[39m \u001B[38;5;28mself\u001B[39m\u001B[38;5;241m.\u001B[39m_get_listlike_indexer(key, axis)\n\u001B[0;32m-> 1240\u001B[0m \u001B[38;5;28;01mreturn\u001B[39;00m \u001B[38;5;28;43mself\u001B[39;49m\u001B[38;5;241;43m.\u001B[39;49m\u001B[43mobj\u001B[49m\u001B[38;5;241;43m.\u001B[39;49m\u001B[43m_reindex_with_indexers\u001B[49m\u001B[43m(\u001B[49m\n\u001B[1;32m   1241\u001B[0m \u001B[43m    \u001B[49m\u001B[43m{\u001B[49m\u001B[43maxis\u001B[49m\u001B[43m:\u001B[49m\u001B[43m \u001B[49m\u001B[43m[\u001B[49m\u001B[43mkeyarr\u001B[49m\u001B[43m,\u001B[49m\u001B[43m \u001B[49m\u001B[43mindexer\u001B[49m\u001B[43m]\u001B[49m\u001B[43m}\u001B[49m\u001B[43m,\u001B[49m\u001B[43m \u001B[49m\u001B[43mcopy\u001B[49m\u001B[38;5;241;43m=\u001B[39;49m\u001B[38;5;28;43;01mTrue\u001B[39;49;00m\u001B[43m,\u001B[49m\u001B[43m \u001B[49m\u001B[43mallow_dups\u001B[49m\u001B[38;5;241;43m=\u001B[39;49m\u001B[38;5;28;43;01mTrue\u001B[39;49;00m\n\u001B[1;32m   1242\u001B[0m \u001B[43m\u001B[49m\u001B[43m)\u001B[49m\n",
      "File \u001B[0;32m~/.pyenv/versions/3.10.6/envs/lewagon/lib/python3.10/site-packages/pandas/core/generic.py:5355\u001B[0m, in \u001B[0;36mNDFrame._reindex_with_indexers\u001B[0;34m(self, reindexers, fill_value, copy, allow_dups)\u001B[0m\n\u001B[1;32m   5352\u001B[0m     indexer \u001B[38;5;241m=\u001B[39m ensure_platform_int(indexer)\n\u001B[1;32m   5354\u001B[0m \u001B[38;5;66;03m# TODO: speed up on homogeneous DataFrame objects (see _reindex_multi)\u001B[39;00m\n\u001B[0;32m-> 5355\u001B[0m new_data \u001B[38;5;241m=\u001B[39m \u001B[43mnew_data\u001B[49m\u001B[38;5;241;43m.\u001B[39;49m\u001B[43mreindex_indexer\u001B[49m\u001B[43m(\u001B[49m\n\u001B[1;32m   5356\u001B[0m \u001B[43m    \u001B[49m\u001B[43mindex\u001B[49m\u001B[43m,\u001B[49m\n\u001B[1;32m   5357\u001B[0m \u001B[43m    \u001B[49m\u001B[43mindexer\u001B[49m\u001B[43m,\u001B[49m\n\u001B[1;32m   5358\u001B[0m \u001B[43m    \u001B[49m\u001B[43maxis\u001B[49m\u001B[38;5;241;43m=\u001B[39;49m\u001B[43mbaxis\u001B[49m\u001B[43m,\u001B[49m\n\u001B[1;32m   5359\u001B[0m \u001B[43m    \u001B[49m\u001B[43mfill_value\u001B[49m\u001B[38;5;241;43m=\u001B[39;49m\u001B[43mfill_value\u001B[49m\u001B[43m,\u001B[49m\n\u001B[1;32m   5360\u001B[0m \u001B[43m    \u001B[49m\u001B[43mallow_dups\u001B[49m\u001B[38;5;241;43m=\u001B[39;49m\u001B[43mallow_dups\u001B[49m\u001B[43m,\u001B[49m\n\u001B[1;32m   5361\u001B[0m \u001B[43m    \u001B[49m\u001B[43mcopy\u001B[49m\u001B[38;5;241;43m=\u001B[39;49m\u001B[43mcopy\u001B[49m\u001B[43m,\u001B[49m\n\u001B[1;32m   5362\u001B[0m \u001B[43m\u001B[49m\u001B[43m)\u001B[49m\n\u001B[1;32m   5363\u001B[0m \u001B[38;5;66;03m# If we've made a copy once, no need to make another one\u001B[39;00m\n\u001B[1;32m   5364\u001B[0m copy \u001B[38;5;241m=\u001B[39m \u001B[38;5;28;01mFalse\u001B[39;00m\n",
      "File \u001B[0;32m~/.pyenv/versions/3.10.6/envs/lewagon/lib/python3.10/site-packages/pandas/core/internals/managers.py:743\u001B[0m, in \u001B[0;36mBaseBlockManager.reindex_indexer\u001B[0;34m(self, new_axis, indexer, axis, fill_value, allow_dups, copy, only_slice, use_na_proxy)\u001B[0m\n\u001B[1;32m    740\u001B[0m     \u001B[38;5;28;01mraise\u001B[39;00m \u001B[38;5;167;01mIndexError\u001B[39;00m(\u001B[38;5;124m\"\u001B[39m\u001B[38;5;124mRequested axis not found in manager\u001B[39m\u001B[38;5;124m\"\u001B[39m)\n\u001B[1;32m    742\u001B[0m \u001B[38;5;28;01mif\u001B[39;00m axis \u001B[38;5;241m==\u001B[39m \u001B[38;5;241m0\u001B[39m:\n\u001B[0;32m--> 743\u001B[0m     new_blocks, new_refs \u001B[38;5;241m=\u001B[39m \u001B[38;5;28;43mself\u001B[39;49m\u001B[38;5;241;43m.\u001B[39;49m\u001B[43m_slice_take_blocks_ax0\u001B[49m\u001B[43m(\u001B[49m\n\u001B[1;32m    744\u001B[0m \u001B[43m        \u001B[49m\u001B[43mindexer\u001B[49m\u001B[43m,\u001B[49m\n\u001B[1;32m    745\u001B[0m \u001B[43m        \u001B[49m\u001B[43mfill_value\u001B[49m\u001B[38;5;241;43m=\u001B[39;49m\u001B[43mfill_value\u001B[49m\u001B[43m,\u001B[49m\n\u001B[1;32m    746\u001B[0m \u001B[43m        \u001B[49m\u001B[43monly_slice\u001B[49m\u001B[38;5;241;43m=\u001B[39;49m\u001B[43monly_slice\u001B[49m\u001B[43m,\u001B[49m\n\u001B[1;32m    747\u001B[0m \u001B[43m        \u001B[49m\u001B[43muse_na_proxy\u001B[49m\u001B[38;5;241;43m=\u001B[39;49m\u001B[43muse_na_proxy\u001B[49m\u001B[43m,\u001B[49m\n\u001B[1;32m    748\u001B[0m \u001B[43m    \u001B[49m\u001B[43m)\u001B[49m\n\u001B[1;32m    749\u001B[0m     parent \u001B[38;5;241m=\u001B[39m \u001B[38;5;28;01mNone\u001B[39;00m \u001B[38;5;28;01mif\u001B[39;00m com\u001B[38;5;241m.\u001B[39mall_none(\u001B[38;5;241m*\u001B[39mnew_refs) \u001B[38;5;28;01melse\u001B[39;00m \u001B[38;5;28mself\u001B[39m\n\u001B[1;32m    750\u001B[0m \u001B[38;5;28;01melse\u001B[39;00m:\n",
      "File \u001B[0;32m~/.pyenv/versions/3.10.6/envs/lewagon/lib/python3.10/site-packages/pandas/core/internals/managers.py:912\u001B[0m, in \u001B[0;36mBaseBlockManager._slice_take_blocks_ax0\u001B[0;34m(self, slice_or_indexer, fill_value, only_slice, use_na_proxy)\u001B[0m\n\u001B[1;32m    910\u001B[0m         refs\u001B[38;5;241m.\u001B[39mappend(weakref\u001B[38;5;241m.\u001B[39mref(blk))\n\u001B[1;32m    911\u001B[0m \u001B[38;5;28;01melse\u001B[39;00m:\n\u001B[0;32m--> 912\u001B[0m     nb \u001B[38;5;241m=\u001B[39m \u001B[43mblk\u001B[49m\u001B[38;5;241;43m.\u001B[39;49m\u001B[43mtake_nd\u001B[49m\u001B[43m(\u001B[49m\u001B[43mtaker\u001B[49m\u001B[43m,\u001B[49m\u001B[43m \u001B[49m\u001B[43maxis\u001B[49m\u001B[38;5;241;43m=\u001B[39;49m\u001B[38;5;241;43m0\u001B[39;49m\u001B[43m,\u001B[49m\u001B[43m \u001B[49m\u001B[43mnew_mgr_locs\u001B[49m\u001B[38;5;241;43m=\u001B[39;49m\u001B[43mmgr_locs\u001B[49m\u001B[43m)\u001B[49m\n\u001B[1;32m    913\u001B[0m     blocks\u001B[38;5;241m.\u001B[39mappend(nb)\n\u001B[1;32m    914\u001B[0m     refs\u001B[38;5;241m.\u001B[39mappend(\u001B[38;5;28;01mNone\u001B[39;00m)\n",
      "File \u001B[0;32m~/.pyenv/versions/3.10.6/envs/lewagon/lib/python3.10/site-packages/pandas/core/internals/blocks.py:880\u001B[0m, in \u001B[0;36mBlock.take_nd\u001B[0;34m(self, indexer, axis, new_mgr_locs, fill_value)\u001B[0m\n\u001B[1;32m    877\u001B[0m     allow_fill \u001B[38;5;241m=\u001B[39m \u001B[38;5;28;01mTrue\u001B[39;00m\n\u001B[1;32m    879\u001B[0m \u001B[38;5;66;03m# Note: algos.take_nd has upcast logic similar to coerce_to_target_dtype\u001B[39;00m\n\u001B[0;32m--> 880\u001B[0m new_values \u001B[38;5;241m=\u001B[39m \u001B[43malgos\u001B[49m\u001B[38;5;241;43m.\u001B[39;49m\u001B[43mtake_nd\u001B[49m\u001B[43m(\u001B[49m\n\u001B[1;32m    881\u001B[0m \u001B[43m    \u001B[49m\u001B[43mvalues\u001B[49m\u001B[43m,\u001B[49m\u001B[43m \u001B[49m\u001B[43mindexer\u001B[49m\u001B[43m,\u001B[49m\u001B[43m \u001B[49m\u001B[43maxis\u001B[49m\u001B[38;5;241;43m=\u001B[39;49m\u001B[43maxis\u001B[49m\u001B[43m,\u001B[49m\u001B[43m \u001B[49m\u001B[43mallow_fill\u001B[49m\u001B[38;5;241;43m=\u001B[39;49m\u001B[43mallow_fill\u001B[49m\u001B[43m,\u001B[49m\u001B[43m \u001B[49m\u001B[43mfill_value\u001B[49m\u001B[38;5;241;43m=\u001B[39;49m\u001B[43mfill_value\u001B[49m\n\u001B[1;32m    882\u001B[0m \u001B[43m\u001B[49m\u001B[43m)\u001B[49m\n\u001B[1;32m    884\u001B[0m \u001B[38;5;66;03m# Called from three places in managers, all of which satisfy\u001B[39;00m\n\u001B[1;32m    885\u001B[0m \u001B[38;5;66;03m#  this assertion\u001B[39;00m\n\u001B[1;32m    886\u001B[0m \u001B[38;5;28;01massert\u001B[39;00m \u001B[38;5;129;01mnot\u001B[39;00m (axis \u001B[38;5;241m==\u001B[39m \u001B[38;5;241m0\u001B[39m \u001B[38;5;129;01mand\u001B[39;00m new_mgr_locs \u001B[38;5;129;01mis\u001B[39;00m \u001B[38;5;28;01mNone\u001B[39;00m)\n",
      "File \u001B[0;32m~/.pyenv/versions/3.10.6/envs/lewagon/lib/python3.10/site-packages/pandas/core/array_algos/take.py:117\u001B[0m, in \u001B[0;36mtake_nd\u001B[0;34m(arr, indexer, axis, fill_value, allow_fill)\u001B[0m\n\u001B[1;32m    114\u001B[0m     \u001B[38;5;28;01mreturn\u001B[39;00m arr\u001B[38;5;241m.\u001B[39mtake(indexer, fill_value\u001B[38;5;241m=\u001B[39mfill_value, allow_fill\u001B[38;5;241m=\u001B[39mallow_fill)\n\u001B[1;32m    116\u001B[0m arr \u001B[38;5;241m=\u001B[39m np\u001B[38;5;241m.\u001B[39masarray(arr)\n\u001B[0;32m--> 117\u001B[0m \u001B[38;5;28;01mreturn\u001B[39;00m \u001B[43m_take_nd_ndarray\u001B[49m\u001B[43m(\u001B[49m\u001B[43marr\u001B[49m\u001B[43m,\u001B[49m\u001B[43m \u001B[49m\u001B[43mindexer\u001B[49m\u001B[43m,\u001B[49m\u001B[43m \u001B[49m\u001B[43maxis\u001B[49m\u001B[43m,\u001B[49m\u001B[43m \u001B[49m\u001B[43mfill_value\u001B[49m\u001B[43m,\u001B[49m\u001B[43m \u001B[49m\u001B[43mallow_fill\u001B[49m\u001B[43m)\u001B[49m\n",
      "File \u001B[0;32m~/.pyenv/versions/3.10.6/envs/lewagon/lib/python3.10/site-packages/pandas/core/array_algos/take.py:163\u001B[0m, in \u001B[0;36m_take_nd_ndarray\u001B[0;34m(arr, indexer, axis, fill_value, allow_fill)\u001B[0m\n\u001B[1;32m    158\u001B[0m     out \u001B[38;5;241m=\u001B[39m np\u001B[38;5;241m.\u001B[39mempty(out_shape, dtype\u001B[38;5;241m=\u001B[39mdtype)\n\u001B[1;32m    160\u001B[0m func \u001B[38;5;241m=\u001B[39m _get_take_nd_function(\n\u001B[1;32m    161\u001B[0m     arr\u001B[38;5;241m.\u001B[39mndim, arr\u001B[38;5;241m.\u001B[39mdtype, out\u001B[38;5;241m.\u001B[39mdtype, axis\u001B[38;5;241m=\u001B[39maxis, mask_info\u001B[38;5;241m=\u001B[39mmask_info\n\u001B[1;32m    162\u001B[0m )\n\u001B[0;32m--> 163\u001B[0m \u001B[43mfunc\u001B[49m\u001B[43m(\u001B[49m\u001B[43marr\u001B[49m\u001B[43m,\u001B[49m\u001B[43m \u001B[49m\u001B[43mindexer\u001B[49m\u001B[43m,\u001B[49m\u001B[43m \u001B[49m\u001B[43mout\u001B[49m\u001B[43m,\u001B[49m\u001B[43m \u001B[49m\u001B[43mfill_value\u001B[49m\u001B[43m)\u001B[49m\n\u001B[1;32m    165\u001B[0m \u001B[38;5;28;01mif\u001B[39;00m flip_order:\n\u001B[1;32m    166\u001B[0m     out \u001B[38;5;241m=\u001B[39m out\u001B[38;5;241m.\u001B[39mT\n",
      "\u001B[0;31mKeyboardInterrupt\u001B[0m: "
     ]
    }
   ],
   "source": [
    "windowed_df = custom_df_to_windowed_df(df2, first_date_str, last_date_str, included_columns, n)"
   ],
   "metadata": {
    "collapsed": false,
    "ExecuteTime": {
     "end_time": "2024-03-21T16:07:16.617802Z",
     "start_time": "2024-03-21T16:07:10.128765Z"
    }
   },
   "id": "337334d2f961875e"
  },
  {
   "cell_type": "code",
   "execution_count": 69,
   "outputs": [
    {
     "data": {
      "text/plain": "                     close_T-3  close_T-2  close_T-1  close_Target  high_T-3  \\\nTarget Date                                                                    \n2022-01-02 00:00:00    1.13791    1.13792    1.13779       1.13819   1.13682   \n2022-01-02 00:05:00    1.13779    1.13819    1.13682       1.13779   1.12403   \n2022-01-02 00:10:00    1.13682    1.13779    1.12403       1.12422   1.12405   \n2022-01-02 00:15:00    1.12403    1.12422    1.12405       1.12411   1.12390   \n2022-01-02 00:20:00    1.12405    1.12411    1.12390       1.12405   1.12386   \n...                        ...        ...        ...           ...       ...   \n2023-01-02 23:40:00    1.10245    1.10250    1.10210       1.10245   1.10198   \n2023-01-02 23:45:00    1.10210    1.10245    1.10198       1.10217   1.10208   \n2023-01-02 23:50:00    1.10198    1.10217    1.10208       1.10209   1.10215   \n2023-01-02 23:55:00    1.10208    1.10209    1.10215       1.10218   1.10203   \n2023-01-03 00:00:00    1.10215    1.10218    1.10203       1.10239   1.10202   \n\n                     high_T-2  high_T-1  high_Target  \nTarget Date                                           \n2022-01-02 00:00:00   1.13779   1.12403      1.12422  \n2022-01-02 00:05:00   1.12422   1.12405      1.12411  \n2022-01-02 00:10:00   1.12411   1.12390      1.12405  \n2022-01-02 00:15:00   1.12405   1.12386      1.12392  \n2022-01-02 00:20:00   1.12392   1.12365      1.12387  \n...                       ...       ...          ...  \n2023-01-02 23:40:00   1.10217   1.10208      1.10209  \n2023-01-02 23:45:00   1.10209   1.10215      1.10218  \n2023-01-02 23:50:00   1.10218   1.10203      1.10239  \n2023-01-02 23:55:00   1.10239   1.10202      1.10210  \n2023-01-03 00:00:00   1.10210   1.05927      1.05932  \n\n[105409 rows x 8 columns]",
      "text/html": "<div>\n<style scoped>\n    .dataframe tbody tr th:only-of-type {\n        vertical-align: middle;\n    }\n\n    .dataframe tbody tr th {\n        vertical-align: top;\n    }\n\n    .dataframe thead th {\n        text-align: right;\n    }\n</style>\n<table border=\"1\" class=\"dataframe\">\n  <thead>\n    <tr style=\"text-align: right;\">\n      <th></th>\n      <th>close_T-3</th>\n      <th>close_T-2</th>\n      <th>close_T-1</th>\n      <th>close_Target</th>\n      <th>high_T-3</th>\n      <th>high_T-2</th>\n      <th>high_T-1</th>\n      <th>high_Target</th>\n    </tr>\n    <tr>\n      <th>Target Date</th>\n      <th></th>\n      <th></th>\n      <th></th>\n      <th></th>\n      <th></th>\n      <th></th>\n      <th></th>\n      <th></th>\n    </tr>\n  </thead>\n  <tbody>\n    <tr>\n      <th>2022-01-02 00:00:00</th>\n      <td>1.13791</td>\n      <td>1.13792</td>\n      <td>1.13779</td>\n      <td>1.13819</td>\n      <td>1.13682</td>\n      <td>1.13779</td>\n      <td>1.12403</td>\n      <td>1.12422</td>\n    </tr>\n    <tr>\n      <th>2022-01-02 00:05:00</th>\n      <td>1.13779</td>\n      <td>1.13819</td>\n      <td>1.13682</td>\n      <td>1.13779</td>\n      <td>1.12403</td>\n      <td>1.12422</td>\n      <td>1.12405</td>\n      <td>1.12411</td>\n    </tr>\n    <tr>\n      <th>2022-01-02 00:10:00</th>\n      <td>1.13682</td>\n      <td>1.13779</td>\n      <td>1.12403</td>\n      <td>1.12422</td>\n      <td>1.12405</td>\n      <td>1.12411</td>\n      <td>1.12390</td>\n      <td>1.12405</td>\n    </tr>\n    <tr>\n      <th>2022-01-02 00:15:00</th>\n      <td>1.12403</td>\n      <td>1.12422</td>\n      <td>1.12405</td>\n      <td>1.12411</td>\n      <td>1.12390</td>\n      <td>1.12405</td>\n      <td>1.12386</td>\n      <td>1.12392</td>\n    </tr>\n    <tr>\n      <th>2022-01-02 00:20:00</th>\n      <td>1.12405</td>\n      <td>1.12411</td>\n      <td>1.12390</td>\n      <td>1.12405</td>\n      <td>1.12386</td>\n      <td>1.12392</td>\n      <td>1.12365</td>\n      <td>1.12387</td>\n    </tr>\n    <tr>\n      <th>...</th>\n      <td>...</td>\n      <td>...</td>\n      <td>...</td>\n      <td>...</td>\n      <td>...</td>\n      <td>...</td>\n      <td>...</td>\n      <td>...</td>\n    </tr>\n    <tr>\n      <th>2023-01-02 23:40:00</th>\n      <td>1.10245</td>\n      <td>1.10250</td>\n      <td>1.10210</td>\n      <td>1.10245</td>\n      <td>1.10198</td>\n      <td>1.10217</td>\n      <td>1.10208</td>\n      <td>1.10209</td>\n    </tr>\n    <tr>\n      <th>2023-01-02 23:45:00</th>\n      <td>1.10210</td>\n      <td>1.10245</td>\n      <td>1.10198</td>\n      <td>1.10217</td>\n      <td>1.10208</td>\n      <td>1.10209</td>\n      <td>1.10215</td>\n      <td>1.10218</td>\n    </tr>\n    <tr>\n      <th>2023-01-02 23:50:00</th>\n      <td>1.10198</td>\n      <td>1.10217</td>\n      <td>1.10208</td>\n      <td>1.10209</td>\n      <td>1.10215</td>\n      <td>1.10218</td>\n      <td>1.10203</td>\n      <td>1.10239</td>\n    </tr>\n    <tr>\n      <th>2023-01-02 23:55:00</th>\n      <td>1.10208</td>\n      <td>1.10209</td>\n      <td>1.10215</td>\n      <td>1.10218</td>\n      <td>1.10203</td>\n      <td>1.10239</td>\n      <td>1.10202</td>\n      <td>1.10210</td>\n    </tr>\n    <tr>\n      <th>2023-01-03 00:00:00</th>\n      <td>1.10215</td>\n      <td>1.10218</td>\n      <td>1.10203</td>\n      <td>1.10239</td>\n      <td>1.10202</td>\n      <td>1.10210</td>\n      <td>1.05927</td>\n      <td>1.05932</td>\n    </tr>\n  </tbody>\n</table>\n<p>105409 rows × 8 columns</p>\n</div>"
     },
     "execution_count": 69,
     "metadata": {},
     "output_type": "execute_result"
    }
   ],
   "source": [
    "windowed_df"
   ],
   "metadata": {
    "collapsed": false,
    "ExecuteTime": {
     "end_time": "2024-03-21T00:38:30.522342Z",
     "start_time": "2024-03-21T00:38:30.517871Z"
    }
   },
   "id": "d2edfa352302ed70"
  },
  {
   "cell_type": "code",
   "execution_count": 18,
   "outputs": [
    {
     "data": {
      "text/plain": "                     close_T-3  close_T-2  close_T-1  high_T-3  high_T-2  \\\nTarget Date                                                                \n2023-01-02 00:00:00    1.06979    1.06990    1.06975   1.06973   1.06975   \n2023-01-02 00:05:00    1.06975    1.06991    1.06973   1.08738   1.08741   \n2023-01-02 00:10:00    1.06973    1.06975    1.08738   1.08727   1.08755   \n2023-01-02 00:15:00    1.08738    1.08741    1.08727   1.08728   1.08738   \n2023-01-02 00:20:00    1.08727    1.08755    1.08728   1.08727   1.08728   \n...                        ...        ...        ...       ...       ...   \n2023-01-02 23:40:00    1.10245    1.10250    1.10210   1.10198   1.10217   \n2023-01-02 23:45:00    1.10210    1.10245    1.10198   1.10208   1.10209   \n2023-01-02 23:50:00    1.10198    1.10217    1.10208   1.10215   1.10218   \n2023-01-02 23:55:00    1.10208    1.10209    1.10215   1.10203   1.10239   \n2023-01-03 00:00:00    1.10215    1.10218    1.10203   1.10202   1.10210   \n\n                     high_T-1  high_Target  \nTarget Date                                 \n2023-01-02 00:00:00   1.08738      1.08741  \n2023-01-02 00:05:00   1.08727      1.08755  \n2023-01-02 00:10:00   1.08728      1.08738  \n2023-01-02 00:15:00   1.08727      1.08728  \n2023-01-02 00:20:00   1.08735      1.08740  \n...                       ...          ...  \n2023-01-02 23:40:00   1.10208      1.10209  \n2023-01-02 23:45:00   1.10215      1.10218  \n2023-01-02 23:50:00   1.10203      1.10239  \n2023-01-02 23:55:00   1.10202      1.10210  \n2023-01-03 00:00:00   1.05927      1.05932  \n\n[289 rows x 7 columns]",
      "text/html": "<div>\n<style scoped>\n    .dataframe tbody tr th:only-of-type {\n        vertical-align: middle;\n    }\n\n    .dataframe tbody tr th {\n        vertical-align: top;\n    }\n\n    .dataframe thead th {\n        text-align: right;\n    }\n</style>\n<table border=\"1\" class=\"dataframe\">\n  <thead>\n    <tr style=\"text-align: right;\">\n      <th></th>\n      <th>close_T-3</th>\n      <th>close_T-2</th>\n      <th>close_T-1</th>\n      <th>high_T-3</th>\n      <th>high_T-2</th>\n      <th>high_T-1</th>\n      <th>high_Target</th>\n    </tr>\n    <tr>\n      <th>Target Date</th>\n      <th></th>\n      <th></th>\n      <th></th>\n      <th></th>\n      <th></th>\n      <th></th>\n      <th></th>\n    </tr>\n  </thead>\n  <tbody>\n    <tr>\n      <th>2023-01-02 00:00:00</th>\n      <td>1.06979</td>\n      <td>1.06990</td>\n      <td>1.06975</td>\n      <td>1.06973</td>\n      <td>1.06975</td>\n      <td>1.08738</td>\n      <td>1.08741</td>\n    </tr>\n    <tr>\n      <th>2023-01-02 00:05:00</th>\n      <td>1.06975</td>\n      <td>1.06991</td>\n      <td>1.06973</td>\n      <td>1.08738</td>\n      <td>1.08741</td>\n      <td>1.08727</td>\n      <td>1.08755</td>\n    </tr>\n    <tr>\n      <th>2023-01-02 00:10:00</th>\n      <td>1.06973</td>\n      <td>1.06975</td>\n      <td>1.08738</td>\n      <td>1.08727</td>\n      <td>1.08755</td>\n      <td>1.08728</td>\n      <td>1.08738</td>\n    </tr>\n    <tr>\n      <th>2023-01-02 00:15:00</th>\n      <td>1.08738</td>\n      <td>1.08741</td>\n      <td>1.08727</td>\n      <td>1.08728</td>\n      <td>1.08738</td>\n      <td>1.08727</td>\n      <td>1.08728</td>\n    </tr>\n    <tr>\n      <th>2023-01-02 00:20:00</th>\n      <td>1.08727</td>\n      <td>1.08755</td>\n      <td>1.08728</td>\n      <td>1.08727</td>\n      <td>1.08728</td>\n      <td>1.08735</td>\n      <td>1.08740</td>\n    </tr>\n    <tr>\n      <th>...</th>\n      <td>...</td>\n      <td>...</td>\n      <td>...</td>\n      <td>...</td>\n      <td>...</td>\n      <td>...</td>\n      <td>...</td>\n    </tr>\n    <tr>\n      <th>2023-01-02 23:40:00</th>\n      <td>1.10245</td>\n      <td>1.10250</td>\n      <td>1.10210</td>\n      <td>1.10198</td>\n      <td>1.10217</td>\n      <td>1.10208</td>\n      <td>1.10209</td>\n    </tr>\n    <tr>\n      <th>2023-01-02 23:45:00</th>\n      <td>1.10210</td>\n      <td>1.10245</td>\n      <td>1.10198</td>\n      <td>1.10208</td>\n      <td>1.10209</td>\n      <td>1.10215</td>\n      <td>1.10218</td>\n    </tr>\n    <tr>\n      <th>2023-01-02 23:50:00</th>\n      <td>1.10198</td>\n      <td>1.10217</td>\n      <td>1.10208</td>\n      <td>1.10215</td>\n      <td>1.10218</td>\n      <td>1.10203</td>\n      <td>1.10239</td>\n    </tr>\n    <tr>\n      <th>2023-01-02 23:55:00</th>\n      <td>1.10208</td>\n      <td>1.10209</td>\n      <td>1.10215</td>\n      <td>1.10203</td>\n      <td>1.10239</td>\n      <td>1.10202</td>\n      <td>1.10210</td>\n    </tr>\n    <tr>\n      <th>2023-01-03 00:00:00</th>\n      <td>1.10215</td>\n      <td>1.10218</td>\n      <td>1.10203</td>\n      <td>1.10202</td>\n      <td>1.10210</td>\n      <td>1.05927</td>\n      <td>1.05932</td>\n    </tr>\n  </tbody>\n</table>\n<p>289 rows × 7 columns</p>\n</div>"
     },
     "execution_count": 18,
     "metadata": {},
     "output_type": "execute_result"
    }
   ],
   "source": [
    "windowed_df.drop(columns=['close_Target'])"
   ],
   "metadata": {
    "collapsed": false,
    "ExecuteTime": {
     "end_time": "2024-03-21T00:12:16.441772Z",
     "start_time": "2024-03-21T00:12:16.437644Z"
    }
   },
   "id": "bd806368a543b548"
  },
  {
   "cell_type": "code",
   "execution_count": 22,
   "outputs": [
    {
     "name": "stderr",
     "output_type": "stream",
     "text": [
      "/Users/kassraniroumand/.pyenv/versions/3.10.6/envs/lewagon/lib/python3.10/site-packages/keras/src/layers/rnn/rnn.py:205: UserWarning: Do not pass an `input_shape`/`input_dim` argument to a layer. When using Sequential models, prefer using an `Input(shape)` object as the first layer in the model instead.\n",
      "  super().__init__(**kwargs)\n"
     ]
    }
   ],
   "source": [
    "from keras.src.layers import Dropout\n",
    "\n",
    "model = Sequential()\n",
    "model.add(LSTM(units=50, return_sequences=True, input_shape=(3, 1)))\n",
    "model.add(Dropout(0.2))\n",
    "model.add(LSTM(units=50, return_sequences=False))\n",
    "model.add(Dropout(0.2))\n",
    "model.add(Dense(units=1))  # Predicting a single value\n",
    "\n",
    "model.compile(optimizer='adam', loss='mean_squared_error', metrics=['accuracy'])"
   ],
   "metadata": {
    "collapsed": false,
    "ExecuteTime": {
     "end_time": "2024-03-21T01:12:46.575476Z",
     "start_time": "2024-03-21T01:12:46.534385Z"
    }
   },
   "id": "f7d926087c347686"
  },
  {
   "cell_type": "code",
   "execution_count": 23,
   "outputs": [],
   "source": [
    "dates_train, X_train, y_train, dates_val, X_val, y_val, dates_test, X_test, y_test = split_data(\n",
    "    windowed_df.index,\n",
    "    windowed_df.drop(columns=['close_Target']),\n",
    "    windowed_df['close_Target'],\n",
    ")"
   ],
   "metadata": {
    "collapsed": false,
    "ExecuteTime": {
     "end_time": "2024-03-21T01:12:48.850137Z",
     "start_time": "2024-03-21T01:12:48.846029Z"
    }
   },
   "id": "36916edf34e0cecc"
  },
  {
   "cell_type": "code",
   "execution_count": 24,
   "outputs": [
    {
     "name": "stdout",
     "output_type": "stream",
     "text": [
      "84327\n",
      "84327\n",
      "84327\n",
      "10540\n",
      "10540\n",
      "10540\n",
      "10542\n",
      "10542\n",
      "10542\n"
     ]
    }
   ],
   "source": [
    "print(len(dates_train))\n",
    "print(len(X_train))\n",
    "print(len(y_train))\n",
    "print(len(dates_val))\n",
    "print(len(X_val))\n",
    "print(len(y_val))\n",
    "print(len(dates_test))\n",
    "print(len(X_test))\n",
    "print(len(y_test))"
   ],
   "metadata": {
    "collapsed": false,
    "ExecuteTime": {
     "end_time": "2024-03-21T01:12:49.433Z",
     "start_time": "2024-03-21T01:12:49.428742Z"
    }
   },
   "id": "4d679d7bc80ef5b4"
  },
  {
   "cell_type": "code",
   "execution_count": 65,
   "outputs": [
    {
     "name": "stdout",
     "output_type": "stream",
     "text": [
      "Epoch 1/100\n",
      "\u001B[1m2636/2636\u001B[0m \u001B[32m━━━━━━━━━━━━━━━━━━━━\u001B[0m\u001B[37m\u001B[0m \u001B[1m6s\u001B[0m 2ms/step - accuracy: 9.0738e-05 - loss: 2.1960e-05 - val_accuracy: 0.0000e+00 - val_loss: 4.2063e-06\n",
      "Epoch 2/100\n",
      "\u001B[1m2636/2636\u001B[0m \u001B[32m━━━━━━━━━━━━━━━━━━━━\u001B[0m\u001B[37m\u001B[0m \u001B[1m6s\u001B[0m 2ms/step - accuracy: 6.4309e-05 - loss: 2.1812e-05 - val_accuracy: 0.0000e+00 - val_loss: 1.7226e-06\n",
      "Epoch 3/100\n",
      "\u001B[1m2636/2636\u001B[0m \u001B[32m━━━━━━━━━━━━━━━━━━━━\u001B[0m\u001B[37m\u001B[0m \u001B[1m6s\u001B[0m 2ms/step - accuracy: 1.0504e-04 - loss: 2.2020e-05 - val_accuracy: 0.0000e+00 - val_loss: 1.8272e-06\n",
      "Epoch 4/100\n",
      "\u001B[1m2636/2636\u001B[0m \u001B[32m━━━━━━━━━━━━━━━━━━━━\u001B[0m\u001B[37m\u001B[0m \u001B[1m6s\u001B[0m 2ms/step - accuracy: 9.9479e-05 - loss: 2.1605e-05 - val_accuracy: 0.0000e+00 - val_loss: 2.9690e-06\n",
      "Epoch 5/100\n",
      "\u001B[1m2636/2636\u001B[0m \u001B[32m━━━━━━━━━━━━━━━━━━━━\u001B[0m\u001B[37m\u001B[0m \u001B[1m6s\u001B[0m 2ms/step - accuracy: 8.7153e-05 - loss: 2.1134e-05 - val_accuracy: 0.0000e+00 - val_loss: 4.2605e-06\n",
      "Epoch 6/100\n",
      "\u001B[1m2636/2636\u001B[0m \u001B[32m━━━━━━━━━━━━━━━━━━━━\u001B[0m\u001B[37m\u001B[0m \u001B[1m5s\u001B[0m 2ms/step - accuracy: 7.7135e-05 - loss: 2.1557e-05 - val_accuracy: 0.0000e+00 - val_loss: 1.3594e-06\n",
      "Epoch 7/100\n",
      "\u001B[1m2636/2636\u001B[0m \u001B[32m━━━━━━━━━━━━━━━━━━━━\u001B[0m\u001B[37m\u001B[0m \u001B[1m6s\u001B[0m 2ms/step - accuracy: 9.8113e-05 - loss: 2.0678e-05 - val_accuracy: 0.0000e+00 - val_loss: 1.9775e-06\n",
      "Epoch 8/100\n",
      "\u001B[1m2636/2636\u001B[0m \u001B[32m━━━━━━━━━━━━━━━━━━━━\u001B[0m\u001B[37m\u001B[0m \u001B[1m6s\u001B[0m 2ms/step - accuracy: 7.2490e-05 - loss: 2.1801e-05 - val_accuracy: 0.0000e+00 - val_loss: 9.1061e-06\n",
      "Epoch 9/100\n",
      "\u001B[1m2636/2636\u001B[0m \u001B[32m━━━━━━━━━━━━━━━━━━━━\u001B[0m\u001B[37m\u001B[0m \u001B[1m5s\u001B[0m 2ms/step - accuracy: 8.5357e-05 - loss: 2.1503e-05 - val_accuracy: 0.0000e+00 - val_loss: 1.4452e-06\n",
      "Epoch 10/100\n",
      "\u001B[1m2636/2636\u001B[0m \u001B[32m━━━━━━━━━━━━━━━━━━━━\u001B[0m\u001B[37m\u001B[0m \u001B[1m6s\u001B[0m 2ms/step - accuracy: 4.7060e-05 - loss: 2.1277e-05 - val_accuracy: 0.0000e+00 - val_loss: 4.9154e-06\n",
      "Epoch 11/100\n",
      "\u001B[1m2636/2636\u001B[0m \u001B[32m━━━━━━━━━━━━━━━━━━━━\u001B[0m\u001B[37m\u001B[0m \u001B[1m6s\u001B[0m 2ms/step - accuracy: 1.3790e-04 - loss: 2.1435e-05 - val_accuracy: 0.0000e+00 - val_loss: 1.1358e-05\n",
      "Epoch 12/100\n",
      "\u001B[1m2636/2636\u001B[0m \u001B[32m━━━━━━━━━━━━━━━━━━━━\u001B[0m\u001B[37m\u001B[0m \u001B[1m6s\u001B[0m 2ms/step - accuracy: 6.9402e-05 - loss: 2.0752e-05 - val_accuracy: 0.0000e+00 - val_loss: 2.4004e-05\n",
      "Epoch 13/100\n",
      "\u001B[1m2636/2636\u001B[0m \u001B[32m━━━━━━━━━━━━━━━━━━━━\u001B[0m\u001B[37m\u001B[0m \u001B[1m5s\u001B[0m 2ms/step - accuracy: 7.7092e-05 - loss: 2.0676e-05 - val_accuracy: 0.0000e+00 - val_loss: 2.4740e-06\n",
      "Epoch 14/100\n",
      "\u001B[1m2636/2636\u001B[0m \u001B[32m━━━━━━━━━━━━━━━━━━━━\u001B[0m\u001B[37m\u001B[0m \u001B[1m6s\u001B[0m 2ms/step - accuracy: 1.5794e-04 - loss: 2.1061e-05 - val_accuracy: 0.0000e+00 - val_loss: 1.2436e-05\n",
      "Epoch 15/100\n",
      "\u001B[1m2636/2636\u001B[0m \u001B[32m━━━━━━━━━━━━━━━━━━━━\u001B[0m\u001B[37m\u001B[0m \u001B[1m5s\u001B[0m 2ms/step - accuracy: 1.1815e-04 - loss: 2.0659e-05 - val_accuracy: 0.0000e+00 - val_loss: 1.7652e-06\n",
      "Epoch 16/100\n",
      "\u001B[1m2636/2636\u001B[0m \u001B[32m━━━━━━━━━━━━━━━━━━━━\u001B[0m\u001B[37m\u001B[0m \u001B[1m5s\u001B[0m 2ms/step - accuracy: 9.8696e-05 - loss: 2.1198e-05 - val_accuracy: 0.0000e+00 - val_loss: 1.2306e-06\n",
      "Epoch 17/100\n",
      "\u001B[1m2636/2636\u001B[0m \u001B[32m━━━━━━━━━━━━━━━━━━━━\u001B[0m\u001B[37m\u001B[0m \u001B[1m6s\u001B[0m 2ms/step - accuracy: 6.2757e-05 - loss: 2.0616e-05 - val_accuracy: 0.0000e+00 - val_loss: 1.8916e-06\n",
      "Epoch 18/100\n",
      "\u001B[1m2636/2636\u001B[0m \u001B[32m━━━━━━━━━━━━━━━━━━━━\u001B[0m\u001B[37m\u001B[0m \u001B[1m5s\u001B[0m 2ms/step - accuracy: 1.4808e-04 - loss: 2.0711e-05 - val_accuracy: 0.0000e+00 - val_loss: 1.5635e-06\n",
      "Epoch 19/100\n",
      "\u001B[1m2636/2636\u001B[0m \u001B[32m━━━━━━━━━━━━━━━━━━━━\u001B[0m\u001B[37m\u001B[0m \u001B[1m6s\u001B[0m 2ms/step - accuracy: 5.8818e-05 - loss: 2.0054e-05 - val_accuracy: 0.0000e+00 - val_loss: 3.4951e-06\n",
      "Epoch 20/100\n",
      "\u001B[1m2636/2636\u001B[0m \u001B[32m━━━━━━━━━━━━━━━━━━━━\u001B[0m\u001B[37m\u001B[0m \u001B[1m5s\u001B[0m 2ms/step - accuracy: 7.7925e-05 - loss: 2.0676e-05 - val_accuracy: 0.0000e+00 - val_loss: 1.3137e-06\n",
      "Epoch 21/100\n",
      "\u001B[1m2636/2636\u001B[0m \u001B[32m━━━━━━━━━━━━━━━━━━━━\u001B[0m\u001B[37m\u001B[0m \u001B[1m6s\u001B[0m 2ms/step - accuracy: 8.2980e-05 - loss: 2.0655e-05 - val_accuracy: 0.0000e+00 - val_loss: 1.9440e-06\n",
      "Epoch 22/100\n",
      "\u001B[1m2636/2636\u001B[0m \u001B[32m━━━━━━━━━━━━━━━━━━━━\u001B[0m\u001B[37m\u001B[0m \u001B[1m6s\u001B[0m 2ms/step - accuracy: 1.0129e-04 - loss: 2.0717e-05 - val_accuracy: 0.0000e+00 - val_loss: 1.0560e-06\n",
      "Epoch 23/100\n",
      "\u001B[1m2636/2636\u001B[0m \u001B[32m━━━━━━━━━━━━━━━━━━━━\u001B[0m\u001B[37m\u001B[0m \u001B[1m6s\u001B[0m 2ms/step - accuracy: 1.1225e-04 - loss: 2.0607e-05 - val_accuracy: 0.0000e+00 - val_loss: 1.0880e-06\n",
      "Epoch 24/100\n",
      "\u001B[1m2636/2636\u001B[0m \u001B[32m━━━━━━━━━━━━━━━━━━━━\u001B[0m\u001B[37m\u001B[0m \u001B[1m6s\u001B[0m 2ms/step - accuracy: 5.6570e-05 - loss: 2.0355e-05 - val_accuracy: 0.0000e+00 - val_loss: 1.2294e-05\n",
      "Epoch 25/100\n",
      "\u001B[1m2572/2636\u001B[0m \u001B[32m━━━━━━━━━━━━━━━━━━━\u001B[0m\u001B[37m━\u001B[0m \u001B[1m0s\u001B[0m 2ms/step - accuracy: 9.9568e-05 - loss: 2.0462e-05"
     ]
    },
    {
     "ename": "KeyboardInterrupt",
     "evalue": "",
     "output_type": "error",
     "traceback": [
      "\u001B[0;31m---------------------------------------------------------------------------\u001B[0m",
      "\u001B[0;31mKeyboardInterrupt\u001B[0m                         Traceback (most recent call last)",
      "Cell \u001B[0;32mIn [65], line 3\u001B[0m\n\u001B[1;32m      1\u001B[0m early_stopping \u001B[38;5;241m=\u001B[39m EarlyStopping(monitor\u001B[38;5;241m=\u001B[39m\u001B[38;5;124m'\u001B[39m\u001B[38;5;124mval_loss\u001B[39m\u001B[38;5;124m'\u001B[39m, patience\u001B[38;5;241m=\u001B[39m\u001B[38;5;241m10\u001B[39m)\n\u001B[0;32m----> 3\u001B[0m history \u001B[38;5;241m=\u001B[39m \u001B[43mmodel\u001B[49m\u001B[38;5;241;43m.\u001B[39;49m\u001B[43mfit\u001B[49m\u001B[43m(\u001B[49m\u001B[43mX_train\u001B[49m\u001B[43m,\u001B[49m\u001B[43m \u001B[49m\u001B[43my_train\u001B[49m\u001B[43m,\u001B[49m\u001B[43m \u001B[49m\u001B[43mvalidation_data\u001B[49m\u001B[38;5;241;43m=\u001B[39;49m\u001B[43m(\u001B[49m\u001B[43mX_val\u001B[49m\u001B[43m,\u001B[49m\u001B[43m \u001B[49m\u001B[43my_val\u001B[49m\u001B[43m)\u001B[49m\u001B[43m,\u001B[49m\u001B[43m \u001B[49m\u001B[43mepochs\u001B[49m\u001B[38;5;241;43m=\u001B[39;49m\u001B[38;5;241;43m100\u001B[39;49m\u001B[43m,\u001B[49m\u001B[43m \u001B[49m\u001B[43mcallbacks\u001B[49m\u001B[38;5;241;43m=\u001B[39;49m\u001B[43m[\u001B[49m\u001B[43mearly_stopping\u001B[49m\u001B[43m]\u001B[49m\u001B[43m)\u001B[49m\n",
      "File \u001B[0;32m~/.pyenv/versions/3.10.6/envs/lewagon/lib/python3.10/site-packages/keras/src/utils/traceback_utils.py:118\u001B[0m, in \u001B[0;36mfilter_traceback.<locals>.error_handler\u001B[0;34m(*args, **kwargs)\u001B[0m\n\u001B[1;32m    116\u001B[0m filtered_tb \u001B[38;5;241m=\u001B[39m \u001B[38;5;28;01mNone\u001B[39;00m\n\u001B[1;32m    117\u001B[0m \u001B[38;5;28;01mtry\u001B[39;00m:\n\u001B[0;32m--> 118\u001B[0m     \u001B[38;5;28;01mreturn\u001B[39;00m \u001B[43mfn\u001B[49m\u001B[43m(\u001B[49m\u001B[38;5;241;43m*\u001B[39;49m\u001B[43margs\u001B[49m\u001B[43m,\u001B[49m\u001B[43m \u001B[49m\u001B[38;5;241;43m*\u001B[39;49m\u001B[38;5;241;43m*\u001B[39;49m\u001B[43mkwargs\u001B[49m\u001B[43m)\u001B[49m\n\u001B[1;32m    119\u001B[0m \u001B[38;5;28;01mexcept\u001B[39;00m \u001B[38;5;167;01mException\u001B[39;00m \u001B[38;5;28;01mas\u001B[39;00m e:\n\u001B[1;32m    120\u001B[0m     filtered_tb \u001B[38;5;241m=\u001B[39m _process_traceback_frames(e\u001B[38;5;241m.\u001B[39m__traceback__)\n",
      "File \u001B[0;32m~/.pyenv/versions/3.10.6/envs/lewagon/lib/python3.10/site-packages/keras/src/backend/tensorflow/trainer.py:323\u001B[0m, in \u001B[0;36mTensorFlowTrainer.fit\u001B[0;34m(self, x, y, batch_size, epochs, verbose, callbacks, validation_split, validation_data, shuffle, class_weight, sample_weight, initial_epoch, steps_per_epoch, validation_steps, validation_batch_size, validation_freq)\u001B[0m\n\u001B[1;32m    321\u001B[0m \u001B[38;5;28;01mfor\u001B[39;00m step, iterator \u001B[38;5;129;01min\u001B[39;00m epoch_iterator\u001B[38;5;241m.\u001B[39menumerate_epoch():\n\u001B[1;32m    322\u001B[0m     callbacks\u001B[38;5;241m.\u001B[39mon_train_batch_begin(step)\n\u001B[0;32m--> 323\u001B[0m     logs \u001B[38;5;241m=\u001B[39m \u001B[38;5;28;43mself\u001B[39;49m\u001B[38;5;241;43m.\u001B[39;49m\u001B[43mtrain_function\u001B[49m\u001B[43m(\u001B[49m\u001B[43miterator\u001B[49m\u001B[43m)\u001B[49m\n\u001B[1;32m    324\u001B[0m     callbacks\u001B[38;5;241m.\u001B[39mon_train_batch_end(\n\u001B[1;32m    325\u001B[0m         step, \u001B[38;5;28mself\u001B[39m\u001B[38;5;241m.\u001B[39m_pythonify_logs(logs)\n\u001B[1;32m    326\u001B[0m     )\n\u001B[1;32m    327\u001B[0m     \u001B[38;5;28;01mif\u001B[39;00m \u001B[38;5;28mself\u001B[39m\u001B[38;5;241m.\u001B[39mstop_training:\n",
      "File \u001B[0;32m~/.pyenv/versions/3.10.6/envs/lewagon/lib/python3.10/site-packages/tensorflow/python/util/traceback_utils.py:150\u001B[0m, in \u001B[0;36mfilter_traceback.<locals>.error_handler\u001B[0;34m(*args, **kwargs)\u001B[0m\n\u001B[1;32m    148\u001B[0m filtered_tb \u001B[38;5;241m=\u001B[39m \u001B[38;5;28;01mNone\u001B[39;00m\n\u001B[1;32m    149\u001B[0m \u001B[38;5;28;01mtry\u001B[39;00m:\n\u001B[0;32m--> 150\u001B[0m   \u001B[38;5;28;01mreturn\u001B[39;00m \u001B[43mfn\u001B[49m\u001B[43m(\u001B[49m\u001B[38;5;241;43m*\u001B[39;49m\u001B[43margs\u001B[49m\u001B[43m,\u001B[49m\u001B[43m \u001B[49m\u001B[38;5;241;43m*\u001B[39;49m\u001B[38;5;241;43m*\u001B[39;49m\u001B[43mkwargs\u001B[49m\u001B[43m)\u001B[49m\n\u001B[1;32m    151\u001B[0m \u001B[38;5;28;01mexcept\u001B[39;00m \u001B[38;5;167;01mException\u001B[39;00m \u001B[38;5;28;01mas\u001B[39;00m e:\n\u001B[1;32m    152\u001B[0m   filtered_tb \u001B[38;5;241m=\u001B[39m _process_traceback_frames(e\u001B[38;5;241m.\u001B[39m__traceback__)\n",
      "File \u001B[0;32m~/.pyenv/versions/3.10.6/envs/lewagon/lib/python3.10/site-packages/tensorflow/python/eager/polymorphic_function/polymorphic_function.py:833\u001B[0m, in \u001B[0;36mFunction.__call__\u001B[0;34m(self, *args, **kwds)\u001B[0m\n\u001B[1;32m    830\u001B[0m compiler \u001B[38;5;241m=\u001B[39m \u001B[38;5;124m\"\u001B[39m\u001B[38;5;124mxla\u001B[39m\u001B[38;5;124m\"\u001B[39m \u001B[38;5;28;01mif\u001B[39;00m \u001B[38;5;28mself\u001B[39m\u001B[38;5;241m.\u001B[39m_jit_compile \u001B[38;5;28;01melse\u001B[39;00m \u001B[38;5;124m\"\u001B[39m\u001B[38;5;124mnonXla\u001B[39m\u001B[38;5;124m\"\u001B[39m\n\u001B[1;32m    832\u001B[0m \u001B[38;5;28;01mwith\u001B[39;00m OptionalXlaContext(\u001B[38;5;28mself\u001B[39m\u001B[38;5;241m.\u001B[39m_jit_compile):\n\u001B[0;32m--> 833\u001B[0m   result \u001B[38;5;241m=\u001B[39m \u001B[38;5;28;43mself\u001B[39;49m\u001B[38;5;241;43m.\u001B[39;49m\u001B[43m_call\u001B[49m\u001B[43m(\u001B[49m\u001B[38;5;241;43m*\u001B[39;49m\u001B[43margs\u001B[49m\u001B[43m,\u001B[49m\u001B[43m \u001B[49m\u001B[38;5;241;43m*\u001B[39;49m\u001B[38;5;241;43m*\u001B[39;49m\u001B[43mkwds\u001B[49m\u001B[43m)\u001B[49m\n\u001B[1;32m    835\u001B[0m new_tracing_count \u001B[38;5;241m=\u001B[39m \u001B[38;5;28mself\u001B[39m\u001B[38;5;241m.\u001B[39mexperimental_get_tracing_count()\n\u001B[1;32m    836\u001B[0m without_tracing \u001B[38;5;241m=\u001B[39m (tracing_count \u001B[38;5;241m==\u001B[39m new_tracing_count)\n",
      "File \u001B[0;32m~/.pyenv/versions/3.10.6/envs/lewagon/lib/python3.10/site-packages/tensorflow/python/eager/polymorphic_function/polymorphic_function.py:878\u001B[0m, in \u001B[0;36mFunction._call\u001B[0;34m(self, *args, **kwds)\u001B[0m\n\u001B[1;32m    875\u001B[0m \u001B[38;5;28mself\u001B[39m\u001B[38;5;241m.\u001B[39m_lock\u001B[38;5;241m.\u001B[39mrelease()\n\u001B[1;32m    876\u001B[0m \u001B[38;5;66;03m# In this case we have not created variables on the first call. So we can\u001B[39;00m\n\u001B[1;32m    877\u001B[0m \u001B[38;5;66;03m# run the first trace but we should fail if variables are created.\u001B[39;00m\n\u001B[0;32m--> 878\u001B[0m results \u001B[38;5;241m=\u001B[39m \u001B[43mtracing_compilation\u001B[49m\u001B[38;5;241;43m.\u001B[39;49m\u001B[43mcall_function\u001B[49m\u001B[43m(\u001B[49m\n\u001B[1;32m    879\u001B[0m \u001B[43m    \u001B[49m\u001B[43margs\u001B[49m\u001B[43m,\u001B[49m\u001B[43m \u001B[49m\u001B[43mkwds\u001B[49m\u001B[43m,\u001B[49m\u001B[43m \u001B[49m\u001B[38;5;28;43mself\u001B[39;49m\u001B[38;5;241;43m.\u001B[39;49m\u001B[43m_variable_creation_config\u001B[49m\n\u001B[1;32m    880\u001B[0m \u001B[43m\u001B[49m\u001B[43m)\u001B[49m\n\u001B[1;32m    881\u001B[0m \u001B[38;5;28;01mif\u001B[39;00m \u001B[38;5;28mself\u001B[39m\u001B[38;5;241m.\u001B[39m_created_variables:\n\u001B[1;32m    882\u001B[0m   \u001B[38;5;28;01mraise\u001B[39;00m \u001B[38;5;167;01mValueError\u001B[39;00m(\u001B[38;5;124m\"\u001B[39m\u001B[38;5;124mCreating variables on a non-first call to a function\u001B[39m\u001B[38;5;124m\"\u001B[39m\n\u001B[1;32m    883\u001B[0m                    \u001B[38;5;124m\"\u001B[39m\u001B[38;5;124m decorated with tf.function.\u001B[39m\u001B[38;5;124m\"\u001B[39m)\n",
      "File \u001B[0;32m~/.pyenv/versions/3.10.6/envs/lewagon/lib/python3.10/site-packages/tensorflow/python/eager/polymorphic_function/tracing_compilation.py:139\u001B[0m, in \u001B[0;36mcall_function\u001B[0;34m(args, kwargs, tracing_options)\u001B[0m\n\u001B[1;32m    137\u001B[0m bound_args \u001B[38;5;241m=\u001B[39m function\u001B[38;5;241m.\u001B[39mfunction_type\u001B[38;5;241m.\u001B[39mbind(\u001B[38;5;241m*\u001B[39margs, \u001B[38;5;241m*\u001B[39m\u001B[38;5;241m*\u001B[39mkwargs)\n\u001B[1;32m    138\u001B[0m flat_inputs \u001B[38;5;241m=\u001B[39m function\u001B[38;5;241m.\u001B[39mfunction_type\u001B[38;5;241m.\u001B[39munpack_inputs(bound_args)\n\u001B[0;32m--> 139\u001B[0m \u001B[38;5;28;01mreturn\u001B[39;00m \u001B[43mfunction\u001B[49m\u001B[38;5;241;43m.\u001B[39;49m\u001B[43m_call_flat\u001B[49m\u001B[43m(\u001B[49m\u001B[43m  \u001B[49m\u001B[38;5;66;43;03m# pylint: disable=protected-access\u001B[39;49;00m\n\u001B[1;32m    140\u001B[0m \u001B[43m    \u001B[49m\u001B[43mflat_inputs\u001B[49m\u001B[43m,\u001B[49m\u001B[43m \u001B[49m\u001B[43mcaptured_inputs\u001B[49m\u001B[38;5;241;43m=\u001B[39;49m\u001B[43mfunction\u001B[49m\u001B[38;5;241;43m.\u001B[39;49m\u001B[43mcaptured_inputs\u001B[49m\n\u001B[1;32m    141\u001B[0m \u001B[43m\u001B[49m\u001B[43m)\u001B[49m\n",
      "File \u001B[0;32m~/.pyenv/versions/3.10.6/envs/lewagon/lib/python3.10/site-packages/tensorflow/python/eager/polymorphic_function/concrete_function.py:1322\u001B[0m, in \u001B[0;36mConcreteFunction._call_flat\u001B[0;34m(self, tensor_inputs, captured_inputs)\u001B[0m\n\u001B[1;32m   1318\u001B[0m possible_gradient_type \u001B[38;5;241m=\u001B[39m gradients_util\u001B[38;5;241m.\u001B[39mPossibleTapeGradientTypes(args)\n\u001B[1;32m   1319\u001B[0m \u001B[38;5;28;01mif\u001B[39;00m (possible_gradient_type \u001B[38;5;241m==\u001B[39m gradients_util\u001B[38;5;241m.\u001B[39mPOSSIBLE_GRADIENT_TYPES_NONE\n\u001B[1;32m   1320\u001B[0m     \u001B[38;5;129;01mand\u001B[39;00m executing_eagerly):\n\u001B[1;32m   1321\u001B[0m   \u001B[38;5;66;03m# No tape is watching; skip to running the function.\u001B[39;00m\n\u001B[0;32m-> 1322\u001B[0m   \u001B[38;5;28;01mreturn\u001B[39;00m \u001B[38;5;28;43mself\u001B[39;49m\u001B[38;5;241;43m.\u001B[39;49m\u001B[43m_inference_function\u001B[49m\u001B[38;5;241;43m.\u001B[39;49m\u001B[43mcall_preflattened\u001B[49m\u001B[43m(\u001B[49m\u001B[43margs\u001B[49m\u001B[43m)\u001B[49m\n\u001B[1;32m   1323\u001B[0m forward_backward \u001B[38;5;241m=\u001B[39m \u001B[38;5;28mself\u001B[39m\u001B[38;5;241m.\u001B[39m_select_forward_and_backward_functions(\n\u001B[1;32m   1324\u001B[0m     args,\n\u001B[1;32m   1325\u001B[0m     possible_gradient_type,\n\u001B[1;32m   1326\u001B[0m     executing_eagerly)\n\u001B[1;32m   1327\u001B[0m forward_function, args_with_tangents \u001B[38;5;241m=\u001B[39m forward_backward\u001B[38;5;241m.\u001B[39mforward()\n",
      "File \u001B[0;32m~/.pyenv/versions/3.10.6/envs/lewagon/lib/python3.10/site-packages/tensorflow/python/eager/polymorphic_function/atomic_function.py:216\u001B[0m, in \u001B[0;36mAtomicFunction.call_preflattened\u001B[0;34m(self, args)\u001B[0m\n\u001B[1;32m    214\u001B[0m \u001B[38;5;28;01mdef\u001B[39;00m \u001B[38;5;21mcall_preflattened\u001B[39m(\u001B[38;5;28mself\u001B[39m, args: Sequence[core\u001B[38;5;241m.\u001B[39mTensor]) \u001B[38;5;241m-\u001B[39m\u001B[38;5;241m>\u001B[39m Any:\n\u001B[1;32m    215\u001B[0m   \u001B[38;5;124;03m\"\"\"Calls with flattened tensor inputs and returns the structured output.\"\"\"\u001B[39;00m\n\u001B[0;32m--> 216\u001B[0m   flat_outputs \u001B[38;5;241m=\u001B[39m \u001B[38;5;28;43mself\u001B[39;49m\u001B[38;5;241;43m.\u001B[39;49m\u001B[43mcall_flat\u001B[49m\u001B[43m(\u001B[49m\u001B[38;5;241;43m*\u001B[39;49m\u001B[43margs\u001B[49m\u001B[43m)\u001B[49m\n\u001B[1;32m    217\u001B[0m   \u001B[38;5;28;01mreturn\u001B[39;00m \u001B[38;5;28mself\u001B[39m\u001B[38;5;241m.\u001B[39mfunction_type\u001B[38;5;241m.\u001B[39mpack_output(flat_outputs)\n",
      "File \u001B[0;32m~/.pyenv/versions/3.10.6/envs/lewagon/lib/python3.10/site-packages/tensorflow/python/eager/polymorphic_function/atomic_function.py:251\u001B[0m, in \u001B[0;36mAtomicFunction.call_flat\u001B[0;34m(self, *args)\u001B[0m\n\u001B[1;32m    249\u001B[0m \u001B[38;5;28;01mwith\u001B[39;00m record\u001B[38;5;241m.\u001B[39mstop_recording():\n\u001B[1;32m    250\u001B[0m   \u001B[38;5;28;01mif\u001B[39;00m \u001B[38;5;28mself\u001B[39m\u001B[38;5;241m.\u001B[39m_bound_context\u001B[38;5;241m.\u001B[39mexecuting_eagerly():\n\u001B[0;32m--> 251\u001B[0m     outputs \u001B[38;5;241m=\u001B[39m \u001B[38;5;28;43mself\u001B[39;49m\u001B[38;5;241;43m.\u001B[39;49m\u001B[43m_bound_context\u001B[49m\u001B[38;5;241;43m.\u001B[39;49m\u001B[43mcall_function\u001B[49m\u001B[43m(\u001B[49m\n\u001B[1;32m    252\u001B[0m \u001B[43m        \u001B[49m\u001B[38;5;28;43mself\u001B[39;49m\u001B[38;5;241;43m.\u001B[39;49m\u001B[43mname\u001B[49m\u001B[43m,\u001B[49m\n\u001B[1;32m    253\u001B[0m \u001B[43m        \u001B[49m\u001B[38;5;28;43mlist\u001B[39;49m\u001B[43m(\u001B[49m\u001B[43margs\u001B[49m\u001B[43m)\u001B[49m\u001B[43m,\u001B[49m\n\u001B[1;32m    254\u001B[0m \u001B[43m        \u001B[49m\u001B[38;5;28;43mlen\u001B[39;49m\u001B[43m(\u001B[49m\u001B[38;5;28;43mself\u001B[39;49m\u001B[38;5;241;43m.\u001B[39;49m\u001B[43mfunction_type\u001B[49m\u001B[38;5;241;43m.\u001B[39;49m\u001B[43mflat_outputs\u001B[49m\u001B[43m)\u001B[49m\u001B[43m,\u001B[49m\n\u001B[1;32m    255\u001B[0m \u001B[43m    \u001B[49m\u001B[43m)\u001B[49m\n\u001B[1;32m    256\u001B[0m   \u001B[38;5;28;01melse\u001B[39;00m:\n\u001B[1;32m    257\u001B[0m     outputs \u001B[38;5;241m=\u001B[39m make_call_op_in_graph(\n\u001B[1;32m    258\u001B[0m         \u001B[38;5;28mself\u001B[39m,\n\u001B[1;32m    259\u001B[0m         \u001B[38;5;28mlist\u001B[39m(args),\n\u001B[1;32m    260\u001B[0m         \u001B[38;5;28mself\u001B[39m\u001B[38;5;241m.\u001B[39m_bound_context\u001B[38;5;241m.\u001B[39mfunction_call_options\u001B[38;5;241m.\u001B[39mas_attrs(),\n\u001B[1;32m    261\u001B[0m     )\n",
      "File \u001B[0;32m~/.pyenv/versions/3.10.6/envs/lewagon/lib/python3.10/site-packages/tensorflow/python/eager/context.py:1500\u001B[0m, in \u001B[0;36mContext.call_function\u001B[0;34m(self, name, tensor_inputs, num_outputs)\u001B[0m\n\u001B[1;32m   1498\u001B[0m cancellation_context \u001B[38;5;241m=\u001B[39m cancellation\u001B[38;5;241m.\u001B[39mcontext()\n\u001B[1;32m   1499\u001B[0m \u001B[38;5;28;01mif\u001B[39;00m cancellation_context \u001B[38;5;129;01mis\u001B[39;00m \u001B[38;5;28;01mNone\u001B[39;00m:\n\u001B[0;32m-> 1500\u001B[0m   outputs \u001B[38;5;241m=\u001B[39m \u001B[43mexecute\u001B[49m\u001B[38;5;241;43m.\u001B[39;49m\u001B[43mexecute\u001B[49m\u001B[43m(\u001B[49m\n\u001B[1;32m   1501\u001B[0m \u001B[43m      \u001B[49m\u001B[43mname\u001B[49m\u001B[38;5;241;43m.\u001B[39;49m\u001B[43mdecode\u001B[49m\u001B[43m(\u001B[49m\u001B[38;5;124;43m\"\u001B[39;49m\u001B[38;5;124;43mutf-8\u001B[39;49m\u001B[38;5;124;43m\"\u001B[39;49m\u001B[43m)\u001B[49m\u001B[43m,\u001B[49m\n\u001B[1;32m   1502\u001B[0m \u001B[43m      \u001B[49m\u001B[43mnum_outputs\u001B[49m\u001B[38;5;241;43m=\u001B[39;49m\u001B[43mnum_outputs\u001B[49m\u001B[43m,\u001B[49m\n\u001B[1;32m   1503\u001B[0m \u001B[43m      \u001B[49m\u001B[43minputs\u001B[49m\u001B[38;5;241;43m=\u001B[39;49m\u001B[43mtensor_inputs\u001B[49m\u001B[43m,\u001B[49m\n\u001B[1;32m   1504\u001B[0m \u001B[43m      \u001B[49m\u001B[43mattrs\u001B[49m\u001B[38;5;241;43m=\u001B[39;49m\u001B[43mattrs\u001B[49m\u001B[43m,\u001B[49m\n\u001B[1;32m   1505\u001B[0m \u001B[43m      \u001B[49m\u001B[43mctx\u001B[49m\u001B[38;5;241;43m=\u001B[39;49m\u001B[38;5;28;43mself\u001B[39;49m\u001B[43m,\u001B[49m\n\u001B[1;32m   1506\u001B[0m \u001B[43m  \u001B[49m\u001B[43m)\u001B[49m\n\u001B[1;32m   1507\u001B[0m \u001B[38;5;28;01melse\u001B[39;00m:\n\u001B[1;32m   1508\u001B[0m   outputs \u001B[38;5;241m=\u001B[39m execute\u001B[38;5;241m.\u001B[39mexecute_with_cancellation(\n\u001B[1;32m   1509\u001B[0m       name\u001B[38;5;241m.\u001B[39mdecode(\u001B[38;5;124m\"\u001B[39m\u001B[38;5;124mutf-8\u001B[39m\u001B[38;5;124m\"\u001B[39m),\n\u001B[1;32m   1510\u001B[0m       num_outputs\u001B[38;5;241m=\u001B[39mnum_outputs,\n\u001B[0;32m   (...)\u001B[0m\n\u001B[1;32m   1514\u001B[0m       cancellation_manager\u001B[38;5;241m=\u001B[39mcancellation_context,\n\u001B[1;32m   1515\u001B[0m   )\n",
      "File \u001B[0;32m~/.pyenv/versions/3.10.6/envs/lewagon/lib/python3.10/site-packages/tensorflow/python/eager/execute.py:53\u001B[0m, in \u001B[0;36mquick_execute\u001B[0;34m(op_name, num_outputs, inputs, attrs, ctx, name)\u001B[0m\n\u001B[1;32m     51\u001B[0m \u001B[38;5;28;01mtry\u001B[39;00m:\n\u001B[1;32m     52\u001B[0m   ctx\u001B[38;5;241m.\u001B[39mensure_initialized()\n\u001B[0;32m---> 53\u001B[0m   tensors \u001B[38;5;241m=\u001B[39m \u001B[43mpywrap_tfe\u001B[49m\u001B[38;5;241;43m.\u001B[39;49m\u001B[43mTFE_Py_Execute\u001B[49m\u001B[43m(\u001B[49m\u001B[43mctx\u001B[49m\u001B[38;5;241;43m.\u001B[39;49m\u001B[43m_handle\u001B[49m\u001B[43m,\u001B[49m\u001B[43m \u001B[49m\u001B[43mdevice_name\u001B[49m\u001B[43m,\u001B[49m\u001B[43m \u001B[49m\u001B[43mop_name\u001B[49m\u001B[43m,\u001B[49m\n\u001B[1;32m     54\u001B[0m \u001B[43m                                      \u001B[49m\u001B[43minputs\u001B[49m\u001B[43m,\u001B[49m\u001B[43m \u001B[49m\u001B[43mattrs\u001B[49m\u001B[43m,\u001B[49m\u001B[43m \u001B[49m\u001B[43mnum_outputs\u001B[49m\u001B[43m)\u001B[49m\n\u001B[1;32m     55\u001B[0m \u001B[38;5;28;01mexcept\u001B[39;00m core\u001B[38;5;241m.\u001B[39m_NotOkStatusException \u001B[38;5;28;01mas\u001B[39;00m e:\n\u001B[1;32m     56\u001B[0m   \u001B[38;5;28;01mif\u001B[39;00m name \u001B[38;5;129;01mis\u001B[39;00m \u001B[38;5;129;01mnot\u001B[39;00m \u001B[38;5;28;01mNone\u001B[39;00m:\n",
      "\u001B[0;31mKeyboardInterrupt\u001B[0m: "
     ]
    }
   ],
   "source": [
    "# early_stopping = EarlyStopping(monitor='val_loss', patience=10)\n",
    "# \n",
    "# history = model.fit(X_train, y_train, validation_data=(X_val, y_val), epochs=100, callbacks=[early_stopping])"
   ],
   "metadata": {
    "collapsed": false,
    "ExecuteTime": {
     "end_time": "2024-03-21T00:31:07.384725Z",
     "start_time": "2024-03-21T00:28:45.953312Z"
    }
   },
   "id": "149a37ab8db9b08a"
  },
  {
   "cell_type": "code",
   "execution_count": 48,
   "outputs": [
    {
     "data": {
      "text/plain": "[<matplotlib.lines.Line2D at 0x325c3e2c0>]"
     },
     "execution_count": 48,
     "metadata": {},
     "output_type": "execute_result"
    },
    {
     "data": {
      "text/plain": "<Figure size 640x480 with 1 Axes>",
      "image/png": "[encoded data removed]"
     },
     "metadata": {},
     "output_type": "display_data"
    }
   ],
   "source": [
    "# plt.plot(history.history['loss'], label='loss')"
   ],
   "metadata": {
    "collapsed": false,
    "ExecuteTime": {
     "end_time": "2024-03-21T00:20:26.223306Z",
     "start_time": "2024-03-21T00:20:26.173043Z"
    }
   },
   "id": "731e7f8d02fb4269"
  },
  {
   "cell_type": "code",
   "execution_count": 49,
   "outputs": [
    {
     "data": {
      "text/plain": "[<matplotlib.lines.Line2D at 0x322accee0>]"
     },
     "execution_count": 49,
     "metadata": {},
     "output_type": "execute_result"
    },
    {
     "data": {
      "text/plain": "<Figure size 640x480 with 1 Axes>",
      "image/png": "[encoded data removed]"
     },
     "metadata": {},
     "output_type": "display_data"
    }
   ],
   "source": [
    "# plt.plot(history.history['val_loss'], label='val_loss')"
   ],
   "metadata": {
    "collapsed": false,
    "ExecuteTime": {
     "end_time": "2024-03-21T00:20:27.578247Z",
     "start_time": "2024-03-21T00:20:27.528247Z"
    }
   },
   "id": "75201f61a0db9ab9"
  },
  {
   "cell_type": "code",
   "execution_count": 50,
   "outputs": [
    {
     "name": "stdout",
     "output_type": "stream",
     "text": [
      "\u001B[1m1/1\u001B[0m \u001B[32m━━━━━━━━━━━━━━━━━━━━\u001B[0m\u001B[37m\u001B[0m \u001B[1m0s\u001B[0m 10ms/step - accuracy: 0.0000e+00 - loss: 3.3581e-05\n"
     ]
    },
    {
     "data": {
      "text/plain": "[3.3581316529307514e-05, 0.0]"
     },
     "execution_count": 50,
     "metadata": {},
     "output_type": "execute_result"
    }
   ],
   "source": [
    "# model.evaluate(X_test, y_test)"
   ],
   "metadata": {
    "collapsed": false,
    "ExecuteTime": {
     "end_time": "2024-03-21T00:20:30.041824Z",
     "start_time": "2024-03-21T00:20:29.999647Z"
    }
   },
   "id": "229586bd4fd7022d"
  },
  {
   "cell_type": "code",
   "execution_count": 13,
   "outputs": [],
   "source": [],
   "metadata": {
    "collapsed": false,
    "ExecuteTime": {
     "end_time": "2024-03-21T16:05:19.964647Z",
     "start_time": "2024-03-21T16:05:19.953059Z"
    }
   },
   "id": "2464af5521971870"
  },
  {
   "cell_type": "code",
   "execution_count": 14,
   "outputs": [],
   "source": [
    "trainer = ModelTrainer(df2)"
   ],
   "metadata": {
    "collapsed": false,
    "ExecuteTime": {
     "end_time": "2024-03-21T16:05:21.411738Z",
     "start_time": "2024-03-21T16:05:21.404708Z"
    }
   },
   "id": "fa434a76bce61a53"
  },
  {
   "cell_type": "code",
   "execution_count": 178,
   "outputs": [
    {
     "ename": "AttributeError",
     "evalue": "'ModelTrainer' object has no attribute 'model'",
     "output_type": "error",
     "traceback": [
      "\u001B[0;31m---------------------------------------------------------------------------\u001B[0m",
      "\u001B[0;31mAttributeError\u001B[0m                            Traceback (most recent call last)",
      "Cell \u001B[0;32mIn [178], line 1\u001B[0m\n\u001B[0;32m----> 1\u001B[0m \u001B[43mtrainer\u001B[49m\u001B[38;5;241;43m.\u001B[39;49m\u001B[43msave_model\u001B[49m\u001B[43m(\u001B[49m\u001B[43m)\u001B[49m\n",
      "Cell \u001B[0;32mIn [176], line 75\u001B[0m, in \u001B[0;36mModelTrainer.save_model\u001B[0;34m(self, file_path)\u001B[0m\n\u001B[1;32m     73\u001B[0m     file_path \u001B[38;5;241m=\u001B[39m Path(file_path)    \n\u001B[1;32m     74\u001B[0m \u001B[38;5;66;03m# saved_model.save(self.model, path)\u001B[39;00m\n\u001B[0;32m---> 75\u001B[0m \u001B[38;5;28;43mself\u001B[39;49m\u001B[38;5;241;43m.\u001B[39;49m\u001B[43mmodel\u001B[49m\u001B[38;5;241m.\u001B[39msave(file_path)\n",
      "\u001B[0;31mAttributeError\u001B[0m: 'ModelTrainer' object has no attribute 'model'"
     ]
    }
   ],
   "source": [
    "trainer.save_model()"
   ],
   "metadata": {
    "collapsed": false,
    "ExecuteTime": {
     "end_time": "2024-03-21T02:18:03.953676Z",
     "start_time": "2024-03-21T02:18:03.944367Z"
    }
   },
   "id": "6a3603c3fc9f423c"
  },
  {
   "cell_type": "code",
   "execution_count": 11,
   "outputs": [
    {
     "name": "stdout",
     "output_type": "stream",
     "text": [
      "[\"2023-01-03\", \"2023-01-05\", [\"close\", \"high\"]]\n",
      "Using cached data\n"
     ]
    }
   ],
   "source": [
    "trainer.prepare_data('2023-01-03', '2023-01-05', ['close', 'high'], 3)"
   ],
   "metadata": {
    "collapsed": false,
    "ExecuteTime": {
     "end_time": "2024-03-21T16:04:50.966956Z",
     "start_time": "2024-03-21T16:04:50.960245Z"
    }
   },
   "id": "3e4d775bdf22e6b9"
  },
  {
   "cell_type": "code",
   "execution_count": 12,
   "outputs": [
    {
     "ename": "NameError",
     "evalue": "name 'model' is not defined",
     "output_type": "error",
     "traceback": [
      "\u001B[0;31m---------------------------------------------------------------------------\u001B[0m",
      "\u001B[0;31mNameError\u001B[0m                                 Traceback (most recent call last)",
      "Cell \u001B[0;32mIn [12], line 1\u001B[0m\n\u001B[0;32m----> 1\u001B[0m trainer\u001B[38;5;241m.\u001B[39mtrain_model(\u001B[43mmodel\u001B[49m, \u001B[38;5;241m1\u001B[39m)\n",
      "\u001B[0;31mNameError\u001B[0m: name 'model' is not defined"
     ]
    }
   ],
   "source": [
    "trainer.train_model(model, 1)"
   ],
   "metadata": {
    "collapsed": false,
    "ExecuteTime": {
     "end_time": "2024-03-21T16:04:55.852879Z",
     "start_time": "2024-03-21T16:04:55.515848Z"
    }
   },
   "id": "85dd3d8098e25518"
  },
  {
   "cell_type": "code",
   "execution_count": 181,
   "outputs": [
    {
     "ename": "AttributeError",
     "evalue": "'ModelTrainer' object has no attribute 'model'",
     "output_type": "error",
     "traceback": [
      "\u001B[0;31m---------------------------------------------------------------------------\u001B[0m",
      "\u001B[0;31mAttributeError\u001B[0m                            Traceback (most recent call last)",
      "Cell \u001B[0;32mIn [181], line 1\u001B[0m\n\u001B[0;32m----> 1\u001B[0m \u001B[43mtrainer\u001B[49m\u001B[38;5;241;43m.\u001B[39;49m\u001B[43msave_model\u001B[49m\u001B[43m(\u001B[49m\u001B[43m)\u001B[49m\n",
      "Cell \u001B[0;32mIn [176], line 75\u001B[0m, in \u001B[0;36mModelTrainer.save_model\u001B[0;34m(self, file_path)\u001B[0m\n\u001B[1;32m     73\u001B[0m     file_path \u001B[38;5;241m=\u001B[39m Path(file_path)    \n\u001B[1;32m     74\u001B[0m \u001B[38;5;66;03m# saved_model.save(self.model, path)\u001B[39;00m\n\u001B[0;32m---> 75\u001B[0m \u001B[38;5;28;43mself\u001B[39;49m\u001B[38;5;241;43m.\u001B[39;49m\u001B[43mmodel\u001B[49m\u001B[38;5;241m.\u001B[39msave(file_path)\n",
      "\u001B[0;31mAttributeError\u001B[0m: 'ModelTrainer' object has no attribute 'model'"
     ]
    }
   ],
   "source": [
    "trainer.save_model()"
   ],
   "metadata": {
    "collapsed": false,
    "ExecuteTime": {
     "end_time": "2024-03-21T02:18:08.913610Z",
     "start_time": "2024-03-21T02:18:08.901075Z"
    }
   },
   "id": "69c102a1480094c9"
  },
  {
   "cell_type": "code",
   "execution_count": 155,
   "outputs": [],
   "source": [
    "\n",
    "\n",
    "\n",
    "\n"
   ],
   "metadata": {
    "collapsed": false,
    "ExecuteTime": {
     "end_time": "2024-03-21T02:11:04.952239Z",
     "start_time": "2024-03-21T02:11:04.948594Z"
    }
   },
   "id": "edd93bc4ba40f5a3"
  },
  {
   "cell_type": "code",
   "execution_count": 133,
   "outputs": [
    {
     "data": {
      "text/plain": "<Figure size 640x480 with 1 Axes>",
      "image/png": "[encoded data removed]"
     },
     "metadata": {},
     "output_type": "display_data"
    }
   ],
   "source": [
    "trainer.plot_loss()"
   ],
   "metadata": {
    "collapsed": false,
    "ExecuteTime": {
     "end_time": "2024-03-21T02:07:00.572426Z",
     "start_time": "2024-03-21T02:07:00.527486Z"
    }
   },
   "id": "1e11133978662cfc"
  },
  {
   "cell_type": "code",
   "execution_count": 174,
   "outputs": [
    {
     "name": "stderr",
     "output_type": "stream",
     "text": [
      "/Users/kassraniroumand/.pyenv/versions/3.10.6/envs/lewagon/lib/python3.10/site-packages/keras/src/layers/rnn/rnn.py:205: UserWarning: Do not pass an `input_shape`/`input_dim` argument to a layer. When using Sequential models, prefer using an `Input(shape)` object as the first layer in the model instead.\n",
      "  super().__init__(**kwargs)\n"
     ]
    }
   ],
   "source": [
    "model1 = Sequential()\n",
    "model1.add(LSTM(units=50, return_sequences=True, input_shape=(3, 1)))\n",
    "model1.add(Dropout(0.2))\n",
    "model1.add(LSTM(units=50, return_sequences=False))\n",
    "model1.add(Dropout(0.2))\n",
    "model1.add(Dense(units=1))  # Predicting a single value\n",
    "\n",
    "model1.compile(optimizer='adam', loss='mean_squared_error', metrics=['accuracy'])"
   ],
   "metadata": {
    "collapsed": false,
    "ExecuteTime": {
     "end_time": "2024-03-21T02:17:30.165631Z",
     "start_time": "2024-03-21T02:17:30.126034Z"
    }
   },
   "id": "adb85796fe9bfcc5"
  },
  {
   "cell_type": "code",
   "execution_count": 175,
   "outputs": [
    {
     "ename": "AttributeError",
     "evalue": "'ModelTrainer' object has no attribute 'X_train'",
     "output_type": "error",
     "traceback": [
      "\u001B[0;31m---------------------------------------------------------------------------\u001B[0m",
      "\u001B[0;31mAttributeError\u001B[0m                            Traceback (most recent call last)",
      "Cell \u001B[0;32mIn [175], line 1\u001B[0m\n\u001B[0;32m----> 1\u001B[0m \u001B[43mtrainer\u001B[49m\u001B[38;5;241;43m.\u001B[39;49m\u001B[43mtrain_model\u001B[49m\u001B[43m(\u001B[49m\u001B[43mmodel1\u001B[49m\u001B[43m,\u001B[49m\u001B[38;5;241;43m1\u001B[39;49m\u001B[43m)\u001B[49m\n",
      "Cell \u001B[0;32mIn [170], line 43\u001B[0m, in \u001B[0;36mModelTrainer.train_model\u001B[0;34m(self, model, epochs)\u001B[0m\n\u001B[1;32m     41\u001B[0m \u001B[38;5;28;01melse\u001B[39;00m:\n\u001B[1;32m     42\u001B[0m     early_stopping \u001B[38;5;241m=\u001B[39m EarlyStopping(monitor\u001B[38;5;241m=\u001B[39m\u001B[38;5;124m'\u001B[39m\u001B[38;5;124mval_loss\u001B[39m\u001B[38;5;124m'\u001B[39m, patience\u001B[38;5;241m=\u001B[39m\u001B[38;5;241m10\u001B[39m)\n\u001B[0;32m---> 43\u001B[0m     \u001B[38;5;28mself\u001B[39m\u001B[38;5;241m.\u001B[39mhistory \u001B[38;5;241m=\u001B[39m model\u001B[38;5;241m.\u001B[39mfit(\u001B[38;5;28;43mself\u001B[39;49m\u001B[38;5;241;43m.\u001B[39;49m\u001B[43mX_train\u001B[49m, \u001B[38;5;28mself\u001B[39m\u001B[38;5;241m.\u001B[39my_train, validation_data\u001B[38;5;241m=\u001B[39m(\u001B[38;5;28mself\u001B[39m\u001B[38;5;241m.\u001B[39mX_val, \u001B[38;5;28mself\u001B[39m\u001B[38;5;241m.\u001B[39my_val), epochs\u001B[38;5;241m=\u001B[39mepochs, callbacks\u001B[38;5;241m=\u001B[39m[early_stopping])\n\u001B[1;32m     44\u001B[0m     \u001B[38;5;28mself\u001B[39m\u001B[38;5;241m.\u001B[39mmodel \u001B[38;5;241m=\u001B[39m model\n\u001B[1;32m     45\u001B[0m     \u001B[38;5;28mself\u001B[39m\u001B[38;5;241m.\u001B[39mmodel_cache[model_key] \u001B[38;5;241m=\u001B[39m model\n",
      "\u001B[0;31mAttributeError\u001B[0m: 'ModelTrainer' object has no attribute 'X_train'"
     ]
    }
   ],
   "source": [
    "trainer.train_model(model1,1)"
   ],
   "metadata": {
    "collapsed": false,
    "ExecuteTime": {
     "end_time": "2024-03-21T02:17:35.145560Z",
     "start_time": "2024-03-21T02:17:35.141819Z"
    }
   },
   "id": "31b58ea5b63a68b4"
  },
  {
   "cell_type": "code",
   "execution_count": 137,
   "outputs": [
    {
     "ename": "ValueError",
     "evalue": "Invalid filepath extension for saving. Please add either a `.keras` extension for the native Keras format (recommended) or a `.h5` extension. Use `tf.saved_model.save()` if you want to export a SavedModel for use with TFLite/TFServing/etc. Received: filepath=None.",
     "output_type": "error",
     "traceback": [
      "\u001B[0;31m---------------------------------------------------------------------------\u001B[0m",
      "\u001B[0;31mValueError\u001B[0m                                Traceback (most recent call last)",
      "Cell \u001B[0;32mIn [137], line 1\u001B[0m\n\u001B[0;32m----> 1\u001B[0m \u001B[43mtrainer\u001B[49m\u001B[38;5;241;43m.\u001B[39;49m\u001B[43msave_model\u001B[49m\u001B[43m(\u001B[49m\u001B[43m)\u001B[49m\n",
      "Cell \u001B[0;32mIn [129], line 74\u001B[0m, in \u001B[0;36mModelTrainer.save_model\u001B[0;34m(self, file_path)\u001B[0m\n\u001B[1;32m     71\u001B[0m \u001B[38;5;28;01melse\u001B[39;00m:\n\u001B[1;32m     72\u001B[0m     file_path \u001B[38;5;241m=\u001B[39m Path(file_path)\n\u001B[0;32m---> 74\u001B[0m \u001B[38;5;28;43mself\u001B[39;49m\u001B[38;5;241;43m.\u001B[39;49m\u001B[43mmodel\u001B[49m\u001B[38;5;241;43m.\u001B[39;49m\u001B[43msave\u001B[49m\u001B[43m(\u001B[49m\u001B[43mfile_path\u001B[49m\u001B[43m)\u001B[49m\n",
      "File \u001B[0;32m~/.pyenv/versions/3.10.6/envs/lewagon/lib/python3.10/site-packages/keras/src/utils/traceback_utils.py:123\u001B[0m, in \u001B[0;36mfilter_traceback.<locals>.error_handler\u001B[0;34m(*args, **kwargs)\u001B[0m\n\u001B[1;32m    120\u001B[0m     filtered_tb \u001B[38;5;241m=\u001B[39m _process_traceback_frames(e\u001B[38;5;241m.\u001B[39m__traceback__)\n\u001B[1;32m    121\u001B[0m     \u001B[38;5;66;03m# To get the full stack trace, call:\u001B[39;00m\n\u001B[1;32m    122\u001B[0m     \u001B[38;5;66;03m# `keras.config.disable_traceback_filtering()`\u001B[39;00m\n\u001B[0;32m--> 123\u001B[0m     \u001B[38;5;28;01mraise\u001B[39;00m e\u001B[38;5;241m.\u001B[39mwith_traceback(filtered_tb) \u001B[38;5;28;01mfrom\u001B[39;00m \u001B[38;5;28mNone\u001B[39m\n\u001B[1;32m    124\u001B[0m \u001B[38;5;28;01mfinally\u001B[39;00m:\n\u001B[1;32m    125\u001B[0m     \u001B[38;5;28;01mdel\u001B[39;00m filtered_tb\n",
      "File \u001B[0;32m~/.pyenv/versions/3.10.6/envs/lewagon/lib/python3.10/site-packages/keras/src/saving/saving_api.py:106\u001B[0m, in \u001B[0;36msave_model\u001B[0;34m(model, filepath, overwrite, **kwargs)\u001B[0m\n\u001B[1;32m    102\u001B[0m     legacy_h5_format\u001B[38;5;241m.\u001B[39msave_model_to_hdf5(\n\u001B[1;32m    103\u001B[0m         model, filepath, overwrite, include_optimizer\n\u001B[1;32m    104\u001B[0m     )\n\u001B[1;32m    105\u001B[0m \u001B[38;5;28;01melse\u001B[39;00m:\n\u001B[0;32m--> 106\u001B[0m     \u001B[38;5;28;01mraise\u001B[39;00m \u001B[38;5;167;01mValueError\u001B[39;00m(\n\u001B[1;32m    107\u001B[0m         \u001B[38;5;124m\"\u001B[39m\u001B[38;5;124mInvalid filepath extension for saving. \u001B[39m\u001B[38;5;124m\"\u001B[39m\n\u001B[1;32m    108\u001B[0m         \u001B[38;5;124m\"\u001B[39m\u001B[38;5;124mPlease add either a `.keras` extension for the native Keras \u001B[39m\u001B[38;5;124m\"\u001B[39m\n\u001B[1;32m    109\u001B[0m         \u001B[38;5;124mf\u001B[39m\u001B[38;5;124m\"\u001B[39m\u001B[38;5;124mformat (recommended) or a `.h5` extension. \u001B[39m\u001B[38;5;124m\"\u001B[39m\n\u001B[1;32m    110\u001B[0m         \u001B[38;5;124m\"\u001B[39m\u001B[38;5;124mUse `tf.saved_model.save()` if you want to export a SavedModel \u001B[39m\u001B[38;5;124m\"\u001B[39m\n\u001B[1;32m    111\u001B[0m         \u001B[38;5;124m\"\u001B[39m\u001B[38;5;124mfor use with TFLite/TFServing/etc. \u001B[39m\u001B[38;5;124m\"\u001B[39m\n\u001B[1;32m    112\u001B[0m         \u001B[38;5;124mf\u001B[39m\u001B[38;5;124m\"\u001B[39m\u001B[38;5;124mReceived: filepath=\u001B[39m\u001B[38;5;132;01m{\u001B[39;00mfilepath\u001B[38;5;132;01m}\u001B[39;00m\u001B[38;5;124m.\u001B[39m\u001B[38;5;124m\"\u001B[39m\n\u001B[1;32m    113\u001B[0m     )\n",
      "\u001B[0;31mValueError\u001B[0m: Invalid filepath extension for saving. Please add either a `.keras` extension for the native Keras format (recommended) or a `.h5` extension. Use `tf.saved_model.save()` if you want to export a SavedModel for use with TFLite/TFServing/etc. Received: filepath=None."
     ]
    }
   ],
   "source": [
    "trainer.save_model()"
   ],
   "metadata": {
    "collapsed": false,
    "ExecuteTime": {
     "end_time": "2024-03-21T02:07:04.029813Z",
     "start_time": "2024-03-21T02:07:03.990203Z"
    }
   },
   "id": "9d2b016007b542b1"
  },
  {
   "cell_type": "code",
   "execution_count": 181,
   "outputs": [],
   "source": [],
   "metadata": {
    "collapsed": false,
    "ExecuteTime": {
     "end_time": "2024-03-21T15:57:42.106669Z",
     "start_time": "2024-03-21T15:57:42.097954Z"
    }
   },
   "id": "8a4e9d1baef884a6"
  },
  {
   "cell_type": "code",
   "execution_count": null,
   "outputs": [],
   "source": [],
   "metadata": {
    "collapsed": false
   },
   "id": "994b1631b7be5b55"
  }
 ],
 "metadata": {
  "kernelspec": {
   "display_name": "Python 3",
   "language": "python",
   "name": "python3"
  },
  "language_info": {
   "codemirror_mode": {
    "name": "ipython",
    "version": 2
   },
   "file_extension": ".py",
   "mimetype": "text/x-python",
   "name": "python",
   "nbconvert_exporter": "python",
   "pygments_lexer": "ipython2",
   "version": "2.7.6"
  }
 },
 "nbformat": 4,
 "nbformat_minor": 5
}
