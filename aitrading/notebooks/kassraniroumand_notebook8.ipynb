{
 "cells": [
  {
   "cell_type": "code",
   "execution_count": 1,
   "outputs": [],
   "source": [
    "import matplotlib.pyplot as plt\n",
    "import pandas as pd\n",
    "import numpy as np\n",
    "import requests\n",
    "df2 = pd.read_csv(\"/Users/kassraniroumand/code/aitrading/aitrading/data/eurousd_df_clean_2.csv\")"
   ],
   "metadata": {
    "collapsed": false,
    "ExecuteTime": {
     "end_time": "2024-04-03T15:10:50.916364Z",
     "start_time": "2024-04-03T15:10:49.735314Z"
    }
   },
   "id": "7344cbc0d4d92ad1"
  },
  {
   "cell_type": "code",
   "execution_count": 5,
   "outputs": [
    {
     "name": "stdout",
     "output_type": "stream",
     "text": [
      "The autoreload extension is already loaded. To reload it, use:\n",
      "  %reload_ext autoreload\n"
     ]
    }
   ],
   "source": [
    "# autoroald\n",
    "%load_ext autoreload\n",
    "%autoreload 2\n",
    "from aitrading.ml_logic2 import data_engineering, feature_engineering, features_preprocessing, model_engineering,utility, repository"
   ],
   "metadata": {
    "collapsed": false,
    "ExecuteTime": {
     "end_time": "2024-04-03T18:50:57.310577Z",
     "start_time": "2024-04-03T18:50:57.277999Z"
    }
   },
   "id": "4329e5e11694ed01"
  },
  {
   "cell_type": "code",
   "execution_count": 6,
   "outputs": [
    {
     "name": "stdout",
     "output_type": "stream",
     "text": [
      "✅ loading StandardScaler \n",
      "✅ StandardScaler loaded successfully.\n",
      "✅ loading OneHotEncoder \n",
      "✅ OneHotEncoder loaded successfully.\n"
     ]
    }
   ],
   "source": [
    "scaler = repository.load_scaler_or_encoder('scaler')\n",
    "encoder = repository.load_scaler_or_encoder('encoder')"
   ],
   "metadata": {
    "collapsed": false,
    "ExecuteTime": {
     "end_time": "2024-04-03T18:50:58.878223Z",
     "start_time": "2024-04-03T18:50:58.853952Z"
    }
   },
   "id": "57e78513531bf1d1"
  },
  {
   "cell_type": "code",
   "execution_count": 7,
   "outputs": [
    {
     "name": "stdout",
     "output_type": "stream",
     "text": [
      "start 2024-04-03-17:51, now 2024-04-03-18:51\n"
     ]
    }
   ],
   "source": [
    "quotes =utility.data_tradermade_source()"
   ],
   "metadata": {
    "collapsed": false,
    "ExecuteTime": {
     "end_time": "2024-04-03T18:51:01.652627Z",
     "start_time": "2024-04-03T18:51:01.494458Z"
    }
   },
   "id": "bed229230beb3ca3"
  },
  {
   "cell_type": "code",
   "execution_count": 9,
   "outputs": [
    {
     "name": "stdout",
     "output_type": "stream",
     "text": [
      "✅ loading StandardScaler \n",
      "✅ StandardScaler loaded successfully.\n",
      "✅ loading OneHotEncoder \n",
      "✅ OneHotEncoder loaded successfully.\n"
     ]
    }
   ],
   "source": [
    "x_pred = features_preprocessing.preprocess_predict_feature(quotes)"
   ],
   "metadata": {
    "collapsed": false,
    "ExecuteTime": {
     "end_time": "2024-04-03T18:51:10.133011Z",
     "start_time": "2024-04-03T18:51:10.102853Z"
    }
   },
   "id": "3f19f3299b3473a9"
  },
  {
   "cell_type": "code",
   "execution_count": 12,
   "outputs": [
    {
     "name": "stdout",
     "output_type": "stream",
     "text": [
      "✅ Loading latest model: /Users/kassraniroumand/code/aitrading/aitrading/models/model_2024-04-03-19-50-02.keras\n"
     ]
    }
   ],
   "source": [
    "model = repository.load_latest_model()"
   ],
   "metadata": {
    "collapsed": false,
    "ExecuteTime": {
     "end_time": "2024-04-03T18:51:55.087590Z",
     "start_time": "2024-04-03T18:51:54.982800Z"
    }
   },
   "id": "a0ddfae684c54227"
  },
  {
   "cell_type": "code",
   "execution_count": 13,
   "outputs": [
    {
     "name": "stdout",
     "output_type": "stream",
     "text": [
      "\u001B[1m1/1\u001B[0m \u001B[32m━━━━━━━━━━━━━━━━━━━━\u001B[0m\u001B[37m\u001B[0m \u001B[1m0s\u001B[0m 122ms/step\n"
     ]
    },
    {
     "data": {
      "text/plain": "array([[0.49166146]], dtype=float32)"
     },
     "execution_count": 13,
     "metadata": {},
     "output_type": "execute_result"
    }
   ],
   "source": [
    "model.predict(x_pred)"
   ],
   "metadata": {
    "collapsed": false,
    "ExecuteTime": {
     "end_time": "2024-04-03T18:51:59.788726Z",
     "start_time": "2024-04-03T18:51:59.611466Z"
    }
   },
   "id": "673c1519b54049a2"
  },
  {
   "cell_type": "code",
   "execution_count": null,
   "outputs": [],
   "source": [],
   "metadata": {
    "collapsed": false
   },
   "id": "182fdd54f2f3f744"
  }
 ],
 "metadata": {
  "kernelspec": {
   "display_name": "Python 3",
   "language": "python",
   "name": "python3"
  },
  "language_info": {
   "codemirror_mode": {
    "name": "ipython",
    "version": 2
   },
   "file_extension": ".py",
   "mimetype": "text/x-python",
   "name": "python",
   "nbconvert_exporter": "python",
   "pygments_lexer": "ipython2",
   "version": "2.7.6"
  }
 },
 "nbformat": 4,
 "nbformat_minor": 5
}
