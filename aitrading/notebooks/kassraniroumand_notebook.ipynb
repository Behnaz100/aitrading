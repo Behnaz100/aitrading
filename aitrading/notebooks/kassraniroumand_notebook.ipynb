{
 "cells": [
  {
   "cell_type": "code",
   "execution_count": 1,
   "id": "initial_id",
   "metadata": {
    "collapsed": true,
    "ExecuteTime": {
     "end_time": "2024-03-14T20:56:55.065497Z",
     "start_time": "2024-03-14T20:56:52.838135Z"
    }
   },
   "outputs": [
    {
     "name": "stdout",
     "output_type": "stream",
     "text": [
      "\u001B[34m\n",
      "Loading TensorFlow...\u001B[0m\n",
      "\n",
      "✅ TensorFlow loaded (0.0s)\n"
     ]
    }
   ],
   "source": [
    "# from aitrading.ml_logic.preprocessor import preprocess_date, split_data\n",
    "import pandas as pd\n",
    "from aitrading.ml_logic.preprocessor import split_data, preprocess_date\n",
    "from aitrading.ml_logic.model import initialize_model, train_model, compile_model"
   ]
  },
  {
   "cell_type": "code",
   "execution_count": 2,
   "outputs": [],
   "source": [
    "df = pd.read_csv('/Users/kassraniroumand/Documents/dataset/MSFT_6.csv')"
   ],
   "metadata": {
    "collapsed": false,
    "ExecuteTime": {
     "end_time": "2024-03-14T20:56:55.937994Z",
     "start_time": "2024-03-14T20:56:55.932138Z"
    }
   },
   "id": "628ef14c1d62cd1b"
  },
  {
   "cell_type": "code",
   "execution_count": 3,
   "outputs": [],
   "source": [
    "min_date = '2023-09-15'\n",
    "max_date = '2024-03-11'"
   ],
   "metadata": {
    "collapsed": false,
    "ExecuteTime": {
     "end_time": "2024-03-14T20:56:56.301290Z",
     "start_time": "2024-03-14T20:56:56.299570Z"
    }
   },
   "id": "ead2976a34aec69f"
  },
  {
   "cell_type": "code",
   "execution_count": 4,
   "outputs": [
    {
     "name": "stdout",
     "output_type": "stream",
     "text": [
      "<class 'str'>\n",
      "<class 'str'>\n",
      "Creating windowed dataframe from 2023-09-15 to 2024-03-11\n"
     ]
    },
    {
     "name": "stderr",
     "output_type": "stream",
     "text": [
      "/Users/kassraniroumand/code/aitrading/aitrading/ml_logic/preprocessor.py:22: SettingWithCopyWarning: \n",
      "A value is trying to be set on a copy of a slice from a DataFrame.\n",
      "Try using .loc[row_indexer,col_indexer] = value instead\n",
      "\n",
      "See the caveats in the documentation: https://pandas.pydata.org/pandas-docs/stable/user_guide/indexing.html#returning-a-view-versus-a-copy\n",
      "  df_selected['Date'] = df_selected['Date'].apply(str_to_datetime)\n",
      "/Users/kassraniroumand/code/aitrading/aitrading/ml_logic/preprocessor.py:24: SettingWithCopyWarning: \n",
      "A value is trying to be set on a copy of a slice from a DataFrame.\n",
      "Try using .loc[row_indexer,col_indexer] = value instead\n",
      "\n",
      "See the caveats in the documentation: https://pandas.pydata.org/pandas-docs/stable/user_guide/indexing.html#returning-a-view-versus-a-copy\n",
      "  df_selected['dir'] = np.where(df_selected['Close'].diff() >= 0, 1, 0)\n"
     ]
    }
   ],
   "source": [
    "date,x,y = preprocess_date(df, min_date, max_date)"
   ],
   "metadata": {
    "collapsed": false,
    "ExecuteTime": {
     "end_time": "2024-03-14T20:56:56.693884Z",
     "start_time": "2024-03-14T20:56:56.668009Z"
    }
   },
   "id": "6ab7adce9dfb9c7f"
  },
  {
   "cell_type": "code",
   "execution_count": 5,
   "outputs": [
    {
     "name": "stdout",
     "output_type": "stream",
     "text": [
      "(122,)\n",
      "(122, 6, 1)\n",
      "(122,)\n"
     ]
    }
   ],
   "source": [
    "print(date.shape)\n",
    "print(x.shape)\n",
    "print(y.shape)"
   ],
   "metadata": {
    "collapsed": false,
    "ExecuteTime": {
     "end_time": "2024-03-14T20:56:57.064791Z",
     "start_time": "2024-03-14T20:56:57.062133Z"
    }
   },
   "id": "7c3b5e5af392d729"
  },
  {
   "cell_type": "code",
   "execution_count": 6,
   "outputs": [],
   "source": [
    "dates_train, X_train, y_train, dates_val, X_val, y_val, dates_test, X_test, y_test = split_data(date, x, y)"
   ],
   "metadata": {
    "collapsed": false,
    "ExecuteTime": {
     "end_time": "2024-03-14T20:56:57.436650Z",
     "start_time": "2024-03-14T20:56:57.434890Z"
    }
   },
   "id": "fd1f8eee826749b1"
  },
  {
   "cell_type": "code",
   "execution_count": 7,
   "outputs": [
    {
     "name": "stdout",
     "output_type": "stream",
     "text": [
      "✅ Model initialized\n"
     ]
    },
    {
     "name": "stderr",
     "output_type": "stream",
     "text": [
      "/Users/kassraniroumand/.pyenv/versions/3.10.6/envs/lewagon/lib/python3.10/site-packages/keras/src/layers/core/wrapper.py:27: UserWarning: Do not pass an `input_shape`/`input_dim` argument to a layer. When using Sequential models, prefer using an `Input(shape)` object as the first layer in the model instead.\n",
      "  super().__init__(**kwargs)\n"
     ]
    }
   ],
   "source": [
    "input_shape = (3, 1)\n",
    "model = initialize_model(input_shape)"
   ],
   "metadata": {
    "collapsed": false,
    "ExecuteTime": {
     "end_time": "2024-03-14T20:56:57.806769Z",
     "start_time": "2024-03-14T20:56:57.769567Z"
    }
   },
   "id": "e2434f2fa4a7cb61"
  },
  {
   "cell_type": "code",
   "execution_count": 8,
   "outputs": [
    {
     "name": "stdout",
     "output_type": "stream",
     "text": [
      "✅ Model compiled\n"
     ]
    }
   ],
   "source": [
    "model = compile_model(model)"
   ],
   "metadata": {
    "collapsed": false,
    "ExecuteTime": {
     "end_time": "2024-03-14T20:56:58.287169Z",
     "start_time": "2024-03-14T20:56:58.282883Z"
    }
   },
   "id": "2257deb788dbc128"
  },
  {
   "cell_type": "code",
   "execution_count": 9,
   "outputs": [
    {
     "name": "stdout",
     "output_type": "stream",
     "text": [
      "\u001B[34m\n",
      "Training model...\u001B[0m\n",
      "Epoch 4: early stopping\n",
      "Restoring model weights from the end of the best epoch: 2.\n"
     ]
    }
   ],
   "source": [
    "model,history = train_model(model, X_train, y_train)"
   ],
   "metadata": {
    "collapsed": false,
    "ExecuteTime": {
     "end_time": "2024-03-14T20:57:00.425149Z",
     "start_time": "2024-03-14T20:56:58.849036Z"
    }
   },
   "id": "243a44dbfdc8d2d8"
  },
  {
   "cell_type": "code",
   "execution_count": 11,
   "outputs": [
    {
     "data": {
      "text/plain": "[0.5373134613037109, 0.447761207818985, 0.4776119291782379, 0.4776119291782379]"
     },
     "execution_count": 11,
     "metadata": {},
     "output_type": "execute_result"
    }
   ],
   "source": [
    "history.history['accuracy']"
   ],
   "metadata": {
    "collapsed": false,
    "ExecuteTime": {
     "end_time": "2024-03-14T20:57:18.335032Z",
     "start_time": "2024-03-14T20:57:18.330137Z"
    }
   },
   "id": "378895e3d8432d58"
  },
  {
   "cell_type": "code",
   "execution_count": null,
   "outputs": [],
   "source": [],
   "metadata": {
    "collapsed": false,
    "ExecuteTime": {
     "start_time": "2024-03-14T20:56:44.711305Z"
    }
   },
   "id": "9d4b13a2cc7159b5"
  },
  {
   "cell_type": "code",
   "execution_count": null,
   "outputs": [],
   "source": [],
   "metadata": {
    "collapsed": false
   },
   "id": "1f9dd0edd3f381c6"
  }
 ],
 "metadata": {
  "kernelspec": {
   "display_name": "Python 3",
   "language": "python",
   "name": "python3"
  },
  "language_info": {
   "codemirror_mode": {
    "name": "ipython",
    "version": 2
   },
   "file_extension": ".py",
   "mimetype": "text/x-python",
   "name": "python",
   "nbconvert_exporter": "python",
   "pygments_lexer": "ipython2",
   "version": "2.7.6"
  }
 },
 "nbformat": 4,
 "nbformat_minor": 5
}
