{
 "cells": [
  {
   "cell_type": "code",
   "execution_count": 1,
   "id": "initial_id",
   "metadata": {
    "ExecuteTime": {
     "end_time": "2024-03-16T10:35:03.402664Z",
     "start_time": "2024-03-16T10:35:03.375521Z"
    },
    "collapsed": true
   },
   "outputs": [
    {
     "ename": "ModuleNotFoundError",
     "evalue": "No module named 'aitrading'",
     "output_type": "error",
     "traceback": [
      "\u001b[0;31m---------------------------------------------------------------------------\u001b[0m",
      "\u001b[0;31mModuleNotFoundError\u001b[0m                       Traceback (most recent call last)",
      "Cell \u001b[0;32mIn[1], line 4\u001b[0m\n\u001b[1;32m      2\u001b[0m \u001b[38;5;66;03m# from aitrading.ml_logic.preprocessor import preprocess_date, split_data\u001b[39;00m\n\u001b[1;32m      3\u001b[0m \u001b[38;5;28;01mimport\u001b[39;00m \u001b[38;5;21;01mpandas\u001b[39;00m \u001b[38;5;28;01mas\u001b[39;00m \u001b[38;5;21;01mpd\u001b[39;00m\n\u001b[0;32m----> 4\u001b[0m \u001b[38;5;28;01mfrom\u001b[39;00m \u001b[38;5;21;01maitrading\u001b[39;00m\u001b[38;5;21;01m.\u001b[39;00m\u001b[38;5;21;01mml_logic\u001b[39;00m\u001b[38;5;21;01m.\u001b[39;00m\u001b[38;5;21;01mpreprocessor\u001b[39;00m \u001b[38;5;28;01mimport\u001b[39;00m split_data, preprocess_date\n\u001b[1;32m      5\u001b[0m \u001b[38;5;28;01mfrom\u001b[39;00m \u001b[38;5;21;01maitrading\u001b[39;00m\u001b[38;5;21;01m.\u001b[39;00m\u001b[38;5;21;01mml_logic\u001b[39;00m\u001b[38;5;21;01m.\u001b[39;00m\u001b[38;5;21;01mmodel\u001b[39;00m \u001b[38;5;28;01mimport\u001b[39;00m initialize_model, train_model, compile_model, evaluate_model\n\u001b[1;32m      6\u001b[0m \u001b[38;5;28;01mimport\u001b[39;00m \u001b[38;5;21;01maitrading\u001b[39;00m\u001b[38;5;21;01m.\u001b[39;00m\u001b[38;5;21;01mparams\u001b[39;00m \u001b[38;5;28;01mas\u001b[39;00m \u001b[38;5;21;01mparams\u001b[39;00m\n",
      "\u001b[0;31mModuleNotFoundError\u001b[0m: No module named 'aitrading'"
     ]
    }
   ],
   "source": [
    "import numpy as np\n",
    "# from aitrading.ml_logic.preprocessor import preprocess_date, split_data\n",
    "import pandas as pd\n",
    "from aitrading.ml_logic.preprocessor import split_data, preprocess_date\n",
    "from aitrading.ml_logic.model import initialize_model, train_model, compile_model, evaluate_model\n",
    "import aitrading.params as params"
   ]
  },
  {
   "cell_type": "code",
   "execution_count": null,
   "id": "628ef14c1d62cd1b",
   "metadata": {
    "ExecuteTime": {
     "end_time": "2024-03-16T10:35:04.789227Z",
     "start_time": "2024-03-16T10:35:04.767096Z"
    },
    "collapsed": false
   },
   "outputs": [],
   "source": [
    "df = pd.read_csv(os.path.join(os.getcwd(), \"..\", \"data\",'eurousd.csv'))"
   ]
  },
  {
   "cell_type": "code",
   "execution_count": null,
   "id": "ead2976a34aec69f",
   "metadata": {
    "ExecuteTime": {
     "end_time": "2024-03-16T10:35:05.149043Z",
     "start_time": "2024-03-16T10:35:05.123625Z"
    },
    "collapsed": false
   },
   "outputs": [],
   "source": [
    "min_date = '2023-09-15'\n",
    "max_date = '2024-03-11'"
   ]
  },
  {
   "cell_type": "code",
   "execution_count": null,
   "id": "6ab7adce9dfb9c7f",
   "metadata": {
    "ExecuteTime": {
     "end_time": "2024-03-16T10:35:05.375037Z",
     "start_time": "2024-03-16T10:35:05.348726Z"
    },
    "collapsed": false
   },
   "outputs": [
    {
     "name": "stdout",
     "output_type": "stream",
     "text": [
      "<class 'str'>\n",
      "<class 'str'>\n",
      "Creating windowed dataframe from 2023-09-15 to 2024-03-11\n"
     ]
    },
    {
     "name": "stderr",
     "output_type": "stream",
     "text": [
      "/Users/kassraniroumand/code/aitrading/aitrading/ml_logic/preprocessor.py:23: SettingWithCopyWarning: \n",
      "A value is trying to be set on a copy of a slice from a DataFrame.\n",
      "Try using .loc[row_indexer,col_indexer] = value instead\n",
      "\n",
      "See the caveats in the documentation: https://pandas.pydata.org/pandas-docs/stable/user_guide/indexing.html#returning-a-view-versus-a-copy\n",
      "  df_selected['Date'] = df_selected['Date'].apply(str_to_datetime)\n",
      "/Users/kassraniroumand/code/aitrading/aitrading/ml_logic/preprocessor.py:25: SettingWithCopyWarning: \n",
      "A value is trying to be set on a copy of a slice from a DataFrame.\n",
      "Try using .loc[row_indexer,col_indexer] = value instead\n",
      "\n",
      "See the caveats in the documentation: https://pandas.pydata.org/pandas-docs/stable/user_guide/indexing.html#returning-a-view-versus-a-copy\n",
      "  df_selected['dir'] = np.where(df_selected['Close'].diff() >= 0, 1, 0)\n"
     ]
    }
   ],
   "source": [
    "date,x,y = preprocess_date(df, min_date, max_date)"
   ]
  },
  {
   "cell_type": "code",
   "execution_count": null,
   "id": "7c3b5e5af392d729",
   "metadata": {
    "ExecuteTime": {
     "end_time": "2024-03-16T10:35:05.535793Z",
     "start_time": "2024-03-16T10:35:05.519573Z"
    },
    "collapsed": false
   },
   "outputs": [
    {
     "name": "stdout",
     "output_type": "stream",
     "text": [
      "(122,)\n",
      "(122, 6, 1)\n",
      "(122,)\n"
     ]
    }
   ],
   "source": [
    "print(date.shape)\n",
    "print(x.shape)\n",
    "print(y.shape)"
   ]
  },
  {
   "cell_type": "code",
   "execution_count": null,
   "id": "fd1f8eee826749b1",
   "metadata": {
    "ExecuteTime": {
     "end_time": "2024-03-16T10:06:26.500216Z",
     "start_time": "2024-03-16T10:06:26.492452Z"
    },
    "collapsed": false
   },
   "outputs": [],
   "source": [
    "dates_train, X_train, y_train, dates_val, X_val, y_val, dates_test, X_test, y_test = split_data(date, x, y)"
   ]
  },
  {
   "cell_type": "code",
   "execution_count": null,
   "id": "e2434f2fa4a7cb61",
   "metadata": {
    "ExecuteTime": {
     "end_time": "2024-03-16T10:06:27.154414Z",
     "start_time": "2024-03-16T10:06:27.102155Z"
    },
    "collapsed": false
   },
   "outputs": [
    {
     "name": "stdout",
     "output_type": "stream",
     "text": [
      "✅ Model initialized\n"
     ]
    },
    {
     "name": "stderr",
     "output_type": "stream",
     "text": [
      "/Users/kassraniroumand/.pyenv/versions/3.10.6/envs/lewagon/lib/python3.10/site-packages/keras/src/layers/core/wrapper.py:27: UserWarning: Do not pass an `input_shape`/`input_dim` argument to a layer. When using Sequential models, prefer using an `Input(shape)` object as the first layer in the model instead.\n",
      "  super().__init__(**kwargs)\n"
     ]
    }
   ],
   "source": [
    "input_shape = (3, 1)\n",
    "model = initialize_model(input_shape)"
   ]
  },
  {
   "cell_type": "code",
   "execution_count": null,
   "id": "2257deb788dbc128",
   "metadata": {
    "ExecuteTime": {
     "end_time": "2024-03-16T10:06:27.154846Z",
     "start_time": "2024-03-16T10:06:27.150857Z"
    },
    "collapsed": false
   },
   "outputs": [
    {
     "name": "stdout",
     "output_type": "stream",
     "text": [
      "✅ Model compiled\n"
     ]
    }
   ],
   "source": [
    "model = compile_model(model)"
   ]
  },
  {
   "cell_type": "code",
   "execution_count": null,
   "id": "243a44dbfdc8d2d8",
   "metadata": {
    "ExecuteTime": {
     "end_time": "2024-03-16T10:06:30.039553Z",
     "start_time": "2024-03-16T10:06:27.798152Z"
    },
    "collapsed": false
   },
   "outputs": [
    {
     "name": "stdout",
     "output_type": "stream",
     "text": [
      "\u001b[34m\n",
      "Training model...\u001b[0m\n",
      "Epoch 29: early stopping\n",
      "Restoring model weights from the end of the best epoch: 27.\n"
     ]
    }
   ],
   "source": [
    "model,history = train_model(model, X_train, y_train)"
   ]
  },
  {
   "cell_type": "code",
   "execution_count": null,
   "id": "378895e3d8432d58",
   "metadata": {
    "ExecuteTime": {
     "end_time": "2024-03-16T10:06:30.045668Z",
     "start_time": "2024-03-16T10:06:30.037265Z"
    },
    "collapsed": false
   },
   "outputs": [
    {
     "data": {
      "text/plain": [
       "0.532166753349633"
      ]
     },
     "execution_count": 21,
     "metadata": {},
     "output_type": "execute_result"
    }
   ],
   "source": [
    "np.mean(history.history['accuracy'])"
   ]
  },
  {
   "cell_type": "code",
   "execution_count": null,
   "id": "9d4b13a2cc7159b5",
   "metadata": {
    "ExecuteTime": {
     "end_time": "2024-03-16T10:06:30.046186Z",
     "start_time": "2024-03-16T10:06:30.040879Z"
    },
    "collapsed": false
   },
   "outputs": [
    {
     "data": {
      "text/plain": [
       "[0.5223880410194397,\n",
       " 0.447761207818985,\n",
       " 0.46268656849861145,\n",
       " 0.447761207818985,\n",
       " 0.5373134613037109,\n",
       " 0.49253731966018677,\n",
       " 0.5074626803398132,\n",
       " 0.5223880410194397,\n",
       " 0.5522388219833374,\n",
       " 0.46268656849861145,\n",
       " 0.6567164063453674,\n",
       " 0.4776119291782379,\n",
       " 0.49253731966018677,\n",
       " 0.41791045665740967,\n",
       " 0.5223880410194397,\n",
       " 0.5820895433425903,\n",
       " 0.5074626803398132,\n",
       " 0.611940324306488,\n",
       " 0.5671641826629639,\n",
       " 0.49253731966018677,\n",
       " 0.49253731966018677,\n",
       " 0.5820895433425903,\n",
       " 0.6567164063453674,\n",
       " 0.6567164063453674,\n",
       " 0.611940324306488,\n",
       " 0.5522388219833374,\n",
       " 0.5223880410194397,\n",
       " 0.5223880410194397,\n",
       " 0.5522388219833374]"
      ]
     },
     "execution_count": 22,
     "metadata": {},
     "output_type": "execute_result"
    }
   ],
   "source": [
    "history.history['accuracy']"
   ]
  },
  {
   "cell_type": "code",
   "execution_count": null,
   "id": "1f9dd0edd3f381c6",
   "metadata": {
    "ExecuteTime": {
     "end_time": "2024-03-16T10:06:30.103952Z",
     "start_time": "2024-03-16T10:06:30.044055Z"
    },
    "collapsed": false
   },
   "outputs": [
    {
     "name": "stdout",
     "output_type": "stream",
     "text": [
      "\u001b[34m\n",
      "Evaluating model on 13 rows...\u001b[0m\n",
      "✅ Model evaluated, Accuracy: 0.38\n"
     ]
    },
    {
     "data": {
      "text/plain": [
       "{'accuracy': 0.38461539149284363, 'loss': 1.00629723072052}"
      ]
     },
     "execution_count": 23,
     "metadata": {},
     "output_type": "execute_result"
    }
   ],
   "source": [
    "evaluate_model(model, X_test, y_test)"
   ]
  },
  {
   "cell_type": "code",
   "execution_count": null,
   "id": "af4c2f38be95b047",
   "metadata": {
    "ExecuteTime": {
     "end_time": "2024-03-16T10:08:08.591080Z",
     "start_time": "2024-03-16T10:08:08.581520Z"
    },
    "collapsed": false
   },
   "outputs": [],
   "source": [
    "import os\n",
    "from pathlib import Path"
   ]
  },
  {
   "cell_type": "code",
   "execution_count": null,
   "id": "ff3da79417ee7597",
   "metadata": {
    "ExecuteTime": {
     "end_time": "2024-03-16T10:36:46.232965Z",
     "start_time": "2024-03-16T10:36:46.216051Z"
    },
    "collapsed": false
   },
   "outputs": [
    {
     "name": "stdout",
     "output_type": "stream",
     "text": [
      "/Users/kassraniroumand/code/aitrading/aitrading/data\n",
      "/Users/kassraniroumand/code/aitrading/aitrading/training_outputs\n"
     ]
    }
   ],
   "source": [
    "print(str(params.LOCAL_DATA_PATH))\n",
    "print(str(params.LOCAL_REGISTRY_PATH))"
   ]
  },
  {
   "cell_type": "code",
   "execution_count": null,
   "id": "386072c6897154db",
   "metadata": {
    "collapsed": false
   },
   "outputs": [],
   "source": []
  }
 ],
 "metadata": {
  "kernelspec": {
   "display_name": "Python 3",
   "language": "python",
   "name": "python3"
  },
  "language_info": {
   "codemirror_mode": {
    "name": "ipython",
    "version": 3
   },
   "file_extension": ".py",
   "mimetype": "text/x-python",
   "name": "python",
   "nbconvert_exporter": "python",
   "pygments_lexer": "ipython3",
   "version": "3.10.5"
  }
 },
 "nbformat": 4,
 "nbformat_minor": 5
}
