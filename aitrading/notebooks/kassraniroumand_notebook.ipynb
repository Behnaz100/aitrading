{
 "cells": [
  {
   "cell_type": "code",
   "execution_count": 44,
   "id": "initial_id",
   "metadata": {
    "collapsed": true,
    "ExecuteTime": {
     "end_time": "2024-03-16T10:35:03.402664Z",
     "start_time": "2024-03-16T10:35:03.375521Z"
    }
   },
   "outputs": [],
   "source": [
    "import numpy as np\n",
    "# from aitrading.ml_logic.preprocessor import preprocess_date, split_data\n",
    "import pandas as pd\n",
    "from aitrading.ml_logic.preprocessor import split_data, preprocess_date\n",
    "from aitrading.ml_logic.model import initialize_model, train_model, compile_model, evaluate_model\n",
    "import aitrading.params as params"
   ]
  },
  {
   "cell_type": "code",
   "execution_count": 45,
   "outputs": [],
   "source": [
    "df = pd.read_csv('/Users/kassraniroumand/Documents/dataset/MSFT_6.csv')"
   ],
   "metadata": {
    "collapsed": false,
    "ExecuteTime": {
     "end_time": "2024-03-16T10:35:04.789227Z",
     "start_time": "2024-03-16T10:35:04.767096Z"
    }
   },
   "id": "628ef14c1d62cd1b"
  },
  {
   "cell_type": "code",
   "execution_count": 46,
   "outputs": [],
   "source": [
    "min_date = '2023-09-15'\n",
    "max_date = '2024-03-11'"
   ],
   "metadata": {
    "collapsed": false,
    "ExecuteTime": {
     "end_time": "2024-03-16T10:35:05.149043Z",
     "start_time": "2024-03-16T10:35:05.123625Z"
    }
   },
   "id": "ead2976a34aec69f"
  },
  {
   "cell_type": "code",
   "execution_count": 47,
   "outputs": [
    {
     "name": "stdout",
     "output_type": "stream",
     "text": [
      "<class 'str'>\n",
      "<class 'str'>\n",
      "Creating windowed dataframe from 2023-09-15 to 2024-03-11\n"
     ]
    },
    {
     "name": "stderr",
     "output_type": "stream",
     "text": [
      "/Users/kassraniroumand/code/aitrading/aitrading/ml_logic/preprocessor.py:23: SettingWithCopyWarning: \n",
      "A value is trying to be set on a copy of a slice from a DataFrame.\n",
      "Try using .loc[row_indexer,col_indexer] = value instead\n",
      "\n",
      "See the caveats in the documentation: https://pandas.pydata.org/pandas-docs/stable/user_guide/indexing.html#returning-a-view-versus-a-copy\n",
      "  df_selected['Date'] = df_selected['Date'].apply(str_to_datetime)\n",
      "/Users/kassraniroumand/code/aitrading/aitrading/ml_logic/preprocessor.py:25: SettingWithCopyWarning: \n",
      "A value is trying to be set on a copy of a slice from a DataFrame.\n",
      "Try using .loc[row_indexer,col_indexer] = value instead\n",
      "\n",
      "See the caveats in the documentation: https://pandas.pydata.org/pandas-docs/stable/user_guide/indexing.html#returning-a-view-versus-a-copy\n",
      "  df_selected['dir'] = np.where(df_selected['Close'].diff() >= 0, 1, 0)\n"
     ]
    }
   ],
   "source": [
    "date,x,y = preprocess_date(df, min_date, max_date)"
   ],
   "metadata": {
    "collapsed": false,
    "ExecuteTime": {
     "end_time": "2024-03-16T10:35:05.375037Z",
     "start_time": "2024-03-16T10:35:05.348726Z"
    }
   },
   "id": "6ab7adce9dfb9c7f"
  },
  {
   "cell_type": "code",
   "execution_count": 48,
   "outputs": [
    {
     "name": "stdout",
     "output_type": "stream",
     "text": [
      "(122,)\n",
      "(122, 6, 1)\n",
      "(122,)\n"
     ]
    }
   ],
   "source": [
    "print(date.shape)\n",
    "print(x.shape)\n",
    "print(y.shape)"
   ],
   "metadata": {
    "collapsed": false,
    "ExecuteTime": {
     "end_time": "2024-03-16T10:35:05.535793Z",
     "start_time": "2024-03-16T10:35:05.519573Z"
    }
   },
   "id": "7c3b5e5af392d729"
  },
  {
   "cell_type": "code",
   "execution_count": 17,
   "outputs": [],
   "source": [
    "dates_train, X_train, y_train, dates_val, X_val, y_val, dates_test, X_test, y_test = split_data(date, x, y)"
   ],
   "metadata": {
    "collapsed": false,
    "ExecuteTime": {
     "end_time": "2024-03-16T10:06:26.500216Z",
     "start_time": "2024-03-16T10:06:26.492452Z"
    }
   },
   "id": "fd1f8eee826749b1"
  },
  {
   "cell_type": "code",
   "execution_count": 18,
   "outputs": [
    {
     "name": "stdout",
     "output_type": "stream",
     "text": [
      "✅ Model initialized\n"
     ]
    },
    {
     "name": "stderr",
     "output_type": "stream",
     "text": [
      "/Users/kassraniroumand/.pyenv/versions/3.10.6/envs/lewagon/lib/python3.10/site-packages/keras/src/layers/core/wrapper.py:27: UserWarning: Do not pass an `input_shape`/`input_dim` argument to a layer. When using Sequential models, prefer using an `Input(shape)` object as the first layer in the model instead.\n",
      "  super().__init__(**kwargs)\n"
     ]
    }
   ],
   "source": [
    "input_shape = (3, 1)\n",
    "model = initialize_model(input_shape)"
   ],
   "metadata": {
    "collapsed": false,
    "ExecuteTime": {
     "end_time": "2024-03-16T10:06:27.154414Z",
     "start_time": "2024-03-16T10:06:27.102155Z"
    }
   },
   "id": "e2434f2fa4a7cb61"
  },
  {
   "cell_type": "code",
   "execution_count": 19,
   "outputs": [
    {
     "name": "stdout",
     "output_type": "stream",
     "text": [
      "✅ Model compiled\n"
     ]
    }
   ],
   "source": [
    "model = compile_model(model)"
   ],
   "metadata": {
    "collapsed": false,
    "ExecuteTime": {
     "end_time": "2024-03-16T10:06:27.154846Z",
     "start_time": "2024-03-16T10:06:27.150857Z"
    }
   },
   "id": "2257deb788dbc128"
  },
  {
   "cell_type": "code",
   "execution_count": 20,
   "outputs": [
    {
     "name": "stdout",
     "output_type": "stream",
     "text": [
      "\u001B[34m\n",
      "Training model...\u001B[0m\n",
      "Epoch 29: early stopping\n",
      "Restoring model weights from the end of the best epoch: 27.\n"
     ]
    }
   ],
   "source": [
    "model,history = train_model(model, X_train, y_train)"
   ],
   "metadata": {
    "collapsed": false,
    "ExecuteTime": {
     "end_time": "2024-03-16T10:06:30.039553Z",
     "start_time": "2024-03-16T10:06:27.798152Z"
    }
   },
   "id": "243a44dbfdc8d2d8"
  },
  {
   "cell_type": "code",
   "execution_count": 21,
   "outputs": [
    {
     "data": {
      "text/plain": "0.532166753349633"
     },
     "execution_count": 21,
     "metadata": {},
     "output_type": "execute_result"
    }
   ],
   "source": [
    "np.mean(history.history['accuracy'])"
   ],
   "metadata": {
    "collapsed": false,
    "ExecuteTime": {
     "end_time": "2024-03-16T10:06:30.045668Z",
     "start_time": "2024-03-16T10:06:30.037265Z"
    }
   },
   "id": "378895e3d8432d58"
  },
  {
   "cell_type": "code",
   "execution_count": 22,
   "outputs": [
    {
     "data": {
      "text/plain": "[0.5223880410194397,\n 0.447761207818985,\n 0.46268656849861145,\n 0.447761207818985,\n 0.5373134613037109,\n 0.49253731966018677,\n 0.5074626803398132,\n 0.5223880410194397,\n 0.5522388219833374,\n 0.46268656849861145,\n 0.6567164063453674,\n 0.4776119291782379,\n 0.49253731966018677,\n 0.41791045665740967,\n 0.5223880410194397,\n 0.5820895433425903,\n 0.5074626803398132,\n 0.611940324306488,\n 0.5671641826629639,\n 0.49253731966018677,\n 0.49253731966018677,\n 0.5820895433425903,\n 0.6567164063453674,\n 0.6567164063453674,\n 0.611940324306488,\n 0.5522388219833374,\n 0.5223880410194397,\n 0.5223880410194397,\n 0.5522388219833374]"
     },
     "execution_count": 22,
     "metadata": {},
     "output_type": "execute_result"
    }
   ],
   "source": [
    "history.history['accuracy']"
   ],
   "metadata": {
    "collapsed": false,
    "ExecuteTime": {
     "end_time": "2024-03-16T10:06:30.046186Z",
     "start_time": "2024-03-16T10:06:30.040879Z"
    }
   },
   "id": "9d4b13a2cc7159b5"
  },
  {
   "cell_type": "code",
   "execution_count": 23,
   "outputs": [
    {
     "name": "stdout",
     "output_type": "stream",
     "text": [
      "\u001B[34m\n",
      "Evaluating model on 13 rows...\u001B[0m\n",
      "✅ Model evaluated, Accuracy: 0.38\n"
     ]
    },
    {
     "data": {
      "text/plain": "{'accuracy': 0.38461539149284363, 'loss': 1.00629723072052}"
     },
     "execution_count": 23,
     "metadata": {},
     "output_type": "execute_result"
    }
   ],
   "source": [
    "evaluate_model(model, X_test, y_test)"
   ],
   "metadata": {
    "collapsed": false,
    "ExecuteTime": {
     "end_time": "2024-03-16T10:06:30.103952Z",
     "start_time": "2024-03-16T10:06:30.044055Z"
    }
   },
   "id": "1f9dd0edd3f381c6"
  },
  {
   "cell_type": "code",
   "execution_count": 33,
   "outputs": [],
   "source": [
    "import os\n",
    "from pathlib import Path"
   ],
   "metadata": {
    "collapsed": false,
    "ExecuteTime": {
     "end_time": "2024-03-16T10:08:08.591080Z",
     "start_time": "2024-03-16T10:08:08.581520Z"
    }
   },
   "id": "af4c2f38be95b047"
  },
  {
   "cell_type": "code",
   "execution_count": 54,
   "outputs": [
    {
     "name": "stdout",
     "output_type": "stream",
     "text": [
      "/Users/kassraniroumand/code/aitrading/aitrading/data\n",
      "/Users/kassraniroumand/code/aitrading/aitrading/training_outputs\n"
     ]
    }
   ],
   "source": [
    "print(str(params.LOCAL_DATA_PATH))\n",
    "print(str(params.LOCAL_REGISTRY_PATH))"
   ],
   "metadata": {
    "collapsed": false,
    "ExecuteTime": {
     "end_time": "2024-03-16T10:36:46.232965Z",
     "start_time": "2024-03-16T10:36:46.216051Z"
    }
   },
   "id": "ff3da79417ee7597"
  },
  {
   "cell_type": "code",
   "execution_count": null,
   "outputs": [],
   "source": [],
   "metadata": {
    "collapsed": false
   },
   "id": "386072c6897154db"
  }
 ],
 "metadata": {
  "kernelspec": {
   "display_name": "Python 3",
   "language": "python",
   "name": "python3"
  },
  "language_info": {
   "codemirror_mode": {
    "name": "ipython",
    "version": 2
   },
   "file_extension": ".py",
   "mimetype": "text/x-python",
   "name": "python",
   "nbconvert_exporter": "python",
   "pygments_lexer": "ipython2",
   "version": "2.7.6"
  }
 },
 "nbformat": 4,
 "nbformat_minor": 5
}
